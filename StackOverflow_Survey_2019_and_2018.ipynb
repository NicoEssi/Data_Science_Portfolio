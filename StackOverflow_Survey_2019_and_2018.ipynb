{
  "nbformat": 4,
  "nbformat_minor": 0,
  "metadata": {
    "colab": {
      "name": "StackOverflow_Survey_2019_and_2018.ipynb",
      "version": "0.3.2",
      "provenance": [],
      "include_colab_link": true
    },
    "kernelspec": {
      "name": "python3",
      "display_name": "Python 3"
    }
  },
  "cells": [
    {
      "cell_type": "markdown",
      "metadata": {
        "id": "view-in-github",
        "colab_type": "text"
      },
      "source": [
        "<a href=\"https://colab.research.google.com/github/NicoEssi/Data_Science_Portfolio/blob/master/StackOverflow_Survey_2019_and_2018.ipynb\" target=\"_parent\"><img src=\"https://colab.research.google.com/assets/colab-badge.svg\" alt=\"Open In Colab\"/></a>"
      ]
    },
    {
      "cell_type": "markdown",
      "metadata": {
        "id": "xrgH0oWyQ9Yq",
        "colab_type": "text"
      },
      "source": [
        "# 0. Setting up"
      ]
    },
    {
      "cell_type": "code",
      "metadata": {
        "id": "g93wlGxS7kHf",
        "colab_type": "code",
        "colab": {}
      },
      "source": [
        "import os\n",
        "import zipfile\n",
        "import numpy as np\n",
        "import pandas as pd\n",
        "import matplotlib.pyplot as plt"
      ],
      "execution_count": 0,
      "outputs": []
    },
    {
      "cell_type": "code",
      "metadata": {
        "id": "M_uBrHHK70Tt",
        "colab_type": "code",
        "colab": {}
      },
      "source": [
        "#@title Download, Unzip, and Append Datasets { output-height: 100, display-mode: \"form\" }\n",
        "# Downloading the Stack Overflow Survey Results for 2018\n",
        "!wget --no-check-certificate \\\n",
        "    \"https://drive.google.com/uc?export=download&id=1_9On2-nsBQIw3JiY43sWbrF8EjrqrR4U\" \\\n",
        "    -O \"/tmp/soi_2018.zip\"\n",
        "zip_ref = zipfile.ZipFile(\"/tmp/soi_2018.zip\", 'r')\n",
        "zip_ref.extractall(\"/tmp/soi_2018\")\n",
        "zip_ref.close()\n",
        "\n",
        "# Downloading the Stack Overflow Survey Results for 2019\n",
        "!wget --no-check-certificate \\\n",
        "    \"https://drive.google.com/uc?authuser=0&id=1QOmVDpd8hcVYqqUXDXf68UMDWQZP0wQV&export=download\" \\\n",
        "    -O \"/tmp/soi_2019.zip\"\n",
        "zip_ref = zipfile.ZipFile(\"/tmp/soi_2019.zip\", 'r')\n",
        "zip_ref.extractall(\"/tmp/soi_2019\")\n",
        "zip_ref.close()\n",
        "\n",
        "schemas = []\n",
        "for i in range(2):\n",
        "    schemas.append(pd.read_csv(\"/tmp/soi_201\" + str(9-i) +\"/survey_results_schema.csv\"))\n",
        "    \n",
        "schema_2019 = schemas[0] # Data from 2019\n",
        "schema_2018 = schemas[1] # Data from 2018"
      ],
      "execution_count": 0,
      "outputs": []
    },
    {
      "cell_type": "markdown",
      "metadata": {
        "id": "vlhV4-QEykjV",
        "colab_type": "text"
      },
      "source": [
        "# 1. Data Preprocessing"
      ]
    },
    {
      "cell_type": "code",
      "metadata": {
        "id": "ryrlXNXOr1XE",
        "colab_type": "code",
        "outputId": "a2eb5c4f-1a47-4b97-c881-76a3b8d53c7b",
        "colab": {
          "base_uri": "https://localhost:8080/",
          "height": 51
        }
      },
      "source": [
        "# First we check which schema has the least amount of questions,\n",
        "# then we find out how many of those questions match within the other schema.\n",
        "\n",
        "for i, s in enumerate(schemas, 0):\n",
        "    print(\"201\" + str(9-i) + \": \" + str(s.shape[0]) + \".\")"
      ],
      "execution_count": 80,
      "outputs": [
        {
          "output_type": "stream",
          "text": [
            "2019: 85.\n",
            "2018: 129.\n"
          ],
          "name": "stdout"
        }
      ]
    },
    {
      "cell_type": "code",
      "metadata": {
        "id": "edlj6CPXufXo",
        "colab_type": "code",
        "outputId": "a681df33-e987-4e73-b98e-17b0959d5b2a",
        "colab": {
          "base_uri": "https://localhost:8080/",
          "height": 51
        }
      },
      "source": [
        "# We will compare how many questions from 2019 match with 2018,\n",
        "# then how many of those matches match with 2017.\n",
        "\n",
        "# Let's first check whether most matches are in QuestionText or Column.\n",
        "# We take the one with most matches, to reduce the manual comparison later.\n",
        "\n",
        "\n",
        "schema_Column = []\n",
        "schema_QuestionText = []\n",
        "\n",
        "for column in schema_2019.Column:\n",
        "    schema_Column.append(column in list(schema_2018.Column))\n",
        "    \n",
        "for questiontext in schema_2019.QuestionText:\n",
        "    schema_QuestionText.append(questiontext in list(schema_2018.QuestionText))\n",
        "\n",
        "\n",
        "print(\"Column matches: \" + str(sum(schema_Column)) +\n",
        "      \".\\nQuestionText matches: \" + str(sum(schema_QuestionText)) + \".\")"
      ],
      "execution_count": 81,
      "outputs": [
        {
          "output_type": "stream",
          "text": [
            "Column matches: 17.\n",
            "QuestionText matches: 31.\n"
          ],
          "name": "stdout"
        }
      ]
    },
    {
      "cell_type": "code",
      "metadata": {
        "id": "guZGMBwL_8Qv",
        "colab_type": "code",
        "colab": {}
      },
      "source": [
        "schema = schema_2019[schema_QuestionText] # preparing the final schema\n",
        "schema_not = schema_2019[np.invert(schema_QuestionText)] # QuestionTexts that didn't match"
      ],
      "execution_count": 0,
      "outputs": []
    },
    {
      "cell_type": "code",
      "metadata": {
        "id": "SE0U1rzyJo-t",
        "colab_type": "code",
        "colab": {
          "base_uri": "https://localhost:8080/",
          "height": 204
        },
        "outputId": "d43ad8f2-d3cd-437d-c6dc-d4dbcef296cf"
      },
      "source": [
        "schema.head()"
      ],
      "execution_count": 83,
      "outputs": [
        {
          "output_type": "execute_result",
          "data": {
            "text/html": [
              "<div>\n",
              "<style scoped>\n",
              "    .dataframe tbody tr th:only-of-type {\n",
              "        vertical-align: middle;\n",
              "    }\n",
              "\n",
              "    .dataframe tbody tr th {\n",
              "        vertical-align: top;\n",
              "    }\n",
              "\n",
              "    .dataframe thead th {\n",
              "        text-align: right;\n",
              "    }\n",
              "</style>\n",
              "<table border=\"1\" class=\"dataframe\">\n",
              "  <thead>\n",
              "    <tr style=\"text-align: right;\">\n",
              "      <th></th>\n",
              "      <th>Column</th>\n",
              "      <th>QuestionText</th>\n",
              "    </tr>\n",
              "  </thead>\n",
              "  <tbody>\n",
              "    <tr>\n",
              "      <th>0</th>\n",
              "      <td>Respondent</td>\n",
              "      <td>Randomized respondent ID number (not in order ...</td>\n",
              "    </tr>\n",
              "    <tr>\n",
              "      <th>2</th>\n",
              "      <td>Hobbyist</td>\n",
              "      <td>Do you code as a hobby?</td>\n",
              "    </tr>\n",
              "    <tr>\n",
              "      <th>5</th>\n",
              "      <td>Employment</td>\n",
              "      <td>Which of the following best describes your cur...</td>\n",
              "    </tr>\n",
              "    <tr>\n",
              "      <th>6</th>\n",
              "      <td>Country</td>\n",
              "      <td>In which country do you currently reside?</td>\n",
              "    </tr>\n",
              "    <tr>\n",
              "      <th>7</th>\n",
              "      <td>Student</td>\n",
              "      <td>Are you currently enrolled in a formal, degree...</td>\n",
              "    </tr>\n",
              "  </tbody>\n",
              "</table>\n",
              "</div>"
            ],
            "text/plain": [
              "       Column                                       QuestionText\n",
              "0  Respondent  Randomized respondent ID number (not in order ...\n",
              "2    Hobbyist                            Do you code as a hobby?\n",
              "5  Employment  Which of the following best describes your cur...\n",
              "6     Country          In which country do you currently reside?\n",
              "7     Student  Are you currently enrolled in a formal, degree..."
            ]
          },
          "metadata": {
            "tags": []
          },
          "execution_count": 83
        }
      ]
    },
    {
      "cell_type": "code",
      "metadata": {
        "id": "P7A836m2utLq",
        "colab_type": "code",
        "colab": {
          "base_uri": "https://localhost:8080/",
          "height": 173
        },
        "outputId": "cde60c7b-9a09-41ee-c2a1-cfb84a1920d3"
      },
      "source": [
        "schema_leftover = []\n",
        "\n",
        "for column in schema_not.Column:\n",
        "    schema_leftover.append(column in list(schema_2018.Column))\n",
        "    \n",
        "schema_leftover = schema_not[schema_leftover] # Columns that matched with questiontexts that didn't\n",
        "schema_leftover = schema_leftover.reset_index(drop=True)\n",
        "\n",
        "schema_leftover"
      ],
      "execution_count": 84,
      "outputs": [
        {
          "output_type": "execute_result",
          "data": {
            "text/html": [
              "<div>\n",
              "<style scoped>\n",
              "    .dataframe tbody tr th:only-of-type {\n",
              "        vertical-align: middle;\n",
              "    }\n",
              "\n",
              "    .dataframe tbody tr th {\n",
              "        vertical-align: top;\n",
              "    }\n",
              "\n",
              "    .dataframe thead th {\n",
              "        text-align: right;\n",
              "    }\n",
              "</style>\n",
              "<table border=\"1\" class=\"dataframe\">\n",
              "  <thead>\n",
              "    <tr style=\"text-align: right;\">\n",
              "      <th></th>\n",
              "      <th>Column</th>\n",
              "      <th>QuestionText</th>\n",
              "    </tr>\n",
              "  </thead>\n",
              "  <tbody>\n",
              "    <tr>\n",
              "      <th>0</th>\n",
              "      <td>OpenSource</td>\n",
              "      <td>How do you feel about the quality of open sour...</td>\n",
              "    </tr>\n",
              "    <tr>\n",
              "      <th>1</th>\n",
              "      <td>UndergradMajor</td>\n",
              "      <td>What was your main or most important field of ...</td>\n",
              "    </tr>\n",
              "    <tr>\n",
              "      <th>2</th>\n",
              "      <td>Age</td>\n",
              "      <td>What is your age (in years)? If you prefer not...</td>\n",
              "    </tr>\n",
              "    <tr>\n",
              "      <th>3</th>\n",
              "      <td>Dependents</td>\n",
              "      <td>Do you have any dependents (e.g., children, el...</td>\n",
              "    </tr>\n",
              "  </tbody>\n",
              "</table>\n",
              "</div>"
            ],
            "text/plain": [
              "           Column                                       QuestionText\n",
              "0      OpenSource  How do you feel about the quality of open sour...\n",
              "1  UndergradMajor  What was your main or most important field of ...\n",
              "2             Age  What is your age (in years)? If you prefer not...\n",
              "3      Dependents  Do you have any dependents (e.g., children, el..."
            ]
          },
          "metadata": {
            "tags": []
          },
          "execution_count": 84
        }
      ]
    },
    {
      "cell_type": "code",
      "metadata": {
        "id": "wxR5McvXMHpL",
        "colab_type": "code",
        "colab": {
          "base_uri": "https://localhost:8080/",
          "height": 102
        },
        "outputId": "9c0c4fbf-0e0f-447b-d3bd-76cfdee7e534"
      },
      "source": [
        "schema_leftover.head"
      ],
      "execution_count": 85,
      "outputs": [
        {
          "output_type": "execute_result",
          "data": {
            "text/plain": [
              "<bound method NDFrame.head of            Column                                       QuestionText\n",
              "0      OpenSource  How do you feel about the quality of open sour...\n",
              "1  UndergradMajor  What was your main or most important field of ...\n",
              "2             Age  What is your age (in years)? If you prefer not...\n",
              "3      Dependents  Do you have any dependents (e.g., children, el...>"
            ]
          },
          "metadata": {
            "tags": []
          },
          "execution_count": 85
        }
      ]
    },
    {
      "cell_type": "code",
      "metadata": {
        "id": "HY9TrHW3HPmo",
        "colab_type": "code",
        "colab": {}
      },
      "source": [
        "questions19 = schema_leftover.loc[schema_leftover['Column'] == list(schema_leftover.Column)].QuestionText.reset_index(drop=True) # == used because lengths match\n",
        "questions18 = schema_2018.loc[schema_2018['Column'].isin(list(schema_leftover.Column))].QuestionText.reset_index(drop=True) # isin() used because lengths don't match\n",
        "\n",
        "questions = pd.concat([questions19, questions18], axis=1, sort=False)"
      ],
      "execution_count": 0,
      "outputs": []
    },
    {
      "cell_type": "code",
      "metadata": {
        "id": "z5XAbTLOXTj0",
        "colab_type": "code",
        "outputId": "df6b650a-1d5f-4958-9504-a4f0093f6022",
        "colab": {
          "base_uri": "https://localhost:8080/",
          "height": 221
        }
      },
      "source": [
        "for i in range(questions.QuestionText.shape[0]):\n",
        "    for j in questions.QuestionText.iloc[i]:\n",
        "        print(j)\n",
        "    print(\"-----------------------------------------------\")"
      ],
      "execution_count": 62,
      "outputs": [
        {
          "output_type": "stream",
          "text": [
            "How do you feel about the quality of open source software (OSS)?\n",
            "Do you contribute to open source projects?\n",
            "-----------------------------------------------\n",
            "What was your main or most important field of study?\n",
            "You previously indicated that you went to a college or university. Which of the following best describes your main field of study (aka 'major')\n",
            "-----------------------------------------------\n",
            "What is your age (in years)? If you prefer not to answer, you may leave this question blank.\n",
            "What is your age? If you prefer not to answer, you may leave this question blank.\n",
            "-----------------------------------------------\n",
            "Do you have any dependents (e.g., children, elders, or others) that you care for?\n",
            "Do you have any children or other dependents that you care for? If you prefer not to answer, you may leave this question blank.\n",
            "-----------------------------------------------\n"
          ],
          "name": "stdout"
        }
      ]
    },
    {
      "cell_type": "code",
      "metadata": {
        "id": "sndPZKVde3K6",
        "colab_type": "code",
        "colab": {
          "base_uri": "https://localhost:8080/",
          "height": 142
        },
        "outputId": "28f5046f-6b76-4fb8-ec30-39dad204e799"
      },
      "source": [
        "# 1: Not the same question\n",
        "# 2: Same question\n",
        "# 3: Same question\n",
        "# 4: Same question\n",
        "\n",
        "schema_leftover = schema_leftover.drop(schema_leftover.index[0])\n",
        "\n",
        "schema_leftover"
      ],
      "execution_count": 63,
      "outputs": [
        {
          "output_type": "execute_result",
          "data": {
            "text/html": [
              "<div>\n",
              "<style scoped>\n",
              "    .dataframe tbody tr th:only-of-type {\n",
              "        vertical-align: middle;\n",
              "    }\n",
              "\n",
              "    .dataframe tbody tr th {\n",
              "        vertical-align: top;\n",
              "    }\n",
              "\n",
              "    .dataframe thead th {\n",
              "        text-align: right;\n",
              "    }\n",
              "</style>\n",
              "<table border=\"1\" class=\"dataframe\">\n",
              "  <thead>\n",
              "    <tr style=\"text-align: right;\">\n",
              "      <th></th>\n",
              "      <th>Column</th>\n",
              "      <th>QuestionText</th>\n",
              "    </tr>\n",
              "  </thead>\n",
              "  <tbody>\n",
              "    <tr>\n",
              "      <th>1</th>\n",
              "      <td>UndergradMajor</td>\n",
              "      <td>What was your main or most important field of ...</td>\n",
              "    </tr>\n",
              "    <tr>\n",
              "      <th>2</th>\n",
              "      <td>Age</td>\n",
              "      <td>What is your age (in years)? If you prefer not...</td>\n",
              "    </tr>\n",
              "    <tr>\n",
              "      <th>3</th>\n",
              "      <td>Dependents</td>\n",
              "      <td>Do you have any dependents (e.g., children, el...</td>\n",
              "    </tr>\n",
              "  </tbody>\n",
              "</table>\n",
              "</div>"
            ],
            "text/plain": [
              "           Column                                       QuestionText\n",
              "1  UndergradMajor  What was your main or most important field of ...\n",
              "2             Age  What is your age (in years)? If you prefer not...\n",
              "3      Dependents  Do you have any dependents (e.g., children, el..."
            ]
          },
          "metadata": {
            "tags": []
          },
          "execution_count": 63
        }
      ]
    },
    {
      "cell_type": "code",
      "metadata": {
        "id": "rlUPEC2Dkfn9",
        "colab_type": "code",
        "colab": {}
      },
      "source": [
        "schema = schema.append(schema_leftover).reset_index(drop = True)"
      ],
      "execution_count": 0,
      "outputs": []
    },
    {
      "cell_type": "markdown",
      "metadata": {
        "id": "y3BnKIlkWeyL",
        "colab_type": "text"
      },
      "source": [
        "# 2. Exploration: Business- & Data Understanding"
      ]
    },
    {
      "cell_type": "code",
      "metadata": {
        "id": "6i3Fl69dtgiS",
        "colab_type": "code",
        "colab": {
          "base_uri": "https://localhost:8080/",
          "height": 1000
        },
        "outputId": "185a02cb-9e9f-4797-8dc8-5c1645eeb87d"
      },
      "source": [
        "for i in range(len(schemas[0])):\n",
        "    print(schemas[0].iloc[i].Column + \" : \" + schemas[0].iloc[i].QuestionText)"
      ],
      "execution_count": 108,
      "outputs": [
        {
          "output_type": "stream",
          "text": [
            "Respondent : Randomized respondent ID number (not in order of survey response time)\n",
            "MainBranch : Which of the following options best describes you today? Here, by \"developer\" we mean \"someone who writes code.\"\n",
            "Hobbyist : Do you code as a hobby?\n",
            "OpenSourcer : How often do you contribute to open source?\n",
            "OpenSource : How do you feel about the quality of open source software (OSS)?\n",
            "Employment : Which of the following best describes your current employment status?\n",
            "Country : In which country do you currently reside?\n",
            "Student : Are you currently enrolled in a formal, degree-granting college or university program?\n",
            "EdLevel : Which of the following best describes the highest level of formal education that you’ve completed?\n",
            "UndergradMajor : What was your main or most important field of study?\n",
            "EduOther : Which of the following types of non-degree education have you used or participated in? Please select all that apply.\n",
            "OrgSize : Approximately how many people are employed by the company or organization you work for?\n",
            "DevType : Which of the following describe you? Please select all that apply.\n",
            "YearsCode : Including any education, how many years have you been coding?\n",
            "Age1stCode : At what age did you write your first line of code or program? (E.g., webpage, Hello World, Scratch project)\n",
            "YearsCodePro : How many years have you coded professionally (as a part of your work)?\n",
            "CareerSat : Overall, how satisfied are you with your career thus far?\n",
            "JobSat : How satisfied are you with your current job? (If you work multiple jobs, answer for the one you spend the most hours on.)\n",
            "MgrIdiot : How confident are you that your manager knows what they’re doing?\n",
            "MgrMoney : Do you believe that you need to be a manager to make more money?\n",
            "MgrWant : Do you want to become a manager yourself in the future?\n",
            "JobSeek : Which of the following best describes your current job-seeking status?\n",
            "LastHireDate : When was the last time that you took a job with a new employer?\n",
            "LastInt : In your most recent successful job interview (resulting in a job offer), you were asked to... (check all that apply)\n",
            "FizzBuzz : Have you ever been asked to solve FizzBuzz in an interview?\n",
            "JobFactors : Imagine that you are deciding between two job offers with the same compensation, benefits, and location. Of the following factors, which 3 are MOST important to you?\n",
            "ResumeUpdate : Think back to the last time you updated your resumé, CV, or an online profile on a job site. What is the PRIMARY reason that you did so?\n",
            "CurrencySymbol : Which currency do you use day-to-day? If your answer is complicated, please pick the one you're most comfortable estimating in.\n",
            "CurrencyDesc : Which currency do you use day-to-day? If your answer is complicated, please pick the one you're most comfortable estimating in.\n",
            "CompTotal : What is your current total compensation (salary, bonuses, and perks, before taxes and deductions), in `CurrencySymbol`? Please enter a whole number in the box below, without any punctuation. If you are paid hourly, please estimate an equivalent weekly, monthly, or yearly salary. If you prefer not to answer, please leave the box empty.\n",
            "CompFreq : Is that compensation weekly, monthly, or yearly?\n",
            "ConvertedComp : Salary converted to annual USD salaries using the exchange rate on 2019-02-01, assuming 12 working months and 50 working weeks.\n",
            "WorkWeekHrs : On average, how many hours per week do you work?\n",
            "WorkPlan : How structured or planned is your work?\n",
            "WorkChallenge : Of these options, what are your greatest challenges to productivity as a developer? Select up to 3:\n",
            "WorkRemote : How often do you work remotely?\n",
            "WorkLoc : Where would you prefer to work?\n",
            "ImpSyn : For the specific work you do, and the years of experience you have, how do you rate your own level of competence?\n",
            "CodeRev : Do you review code as part of your work?\n",
            "CodeRevHrs : On average, how many hours per week do you spend on code review?\n",
            "UnitTests : Does your company regularly employ unit tests in the development of their products?\n",
            "PurchaseHow : How does your company make decisions about purchasing new technology (cloud, AI, IoT, databases)?\n",
            "PurchaseWhat : What level of influence do you, personally, have over new technology purchases at your organization?\n",
            "LanguageWorkedWith : Which of the following programming, scripting, and markup languages have you done extensive development work in over the past year, and which do you want to work in over the next year?  (If you both worked with the language and want to continue to do so, please check both boxes in that row.)\n",
            "LanguageDesireNextYear : Which of the following programming, scripting, and markup languages have you done extensive development work in over the past year, and which do you want to work in over the next year?  (If you both worked with the language and want to continue to do so, please check both boxes in that row.)\n",
            "DatabaseWorkedWith : Which of the following database environments have you done extensive development work in over the past year, and which do you want to work in over the next year?   (If you both worked with the database and want to continue to do so, please check both boxes in that row.)\n",
            "DatabaseDesireNextYear : Which of the following database environments have you done extensive development work in over the past year, and which do you want to work in over the next year?   (If you both worked with the database and want to continue to do so, please check both boxes in that row.)\n",
            "PlatformWorkedWith : Which of the following platforms have you done extensive development work for over the past year?   (If you both developed for the platform and want to continue to do so, please check both boxes in that row.)\n",
            "PlatformDesireNextYear : Which of the following platforms have you done extensive development work for over the past year?   (If you both developed for the platform and want to continue to do so, please check both boxes in that row.)\n",
            "WebFrameWorkedWith : Which of the following web frameworks have you done extensive development work in over the past year, and which do you want to work in over the next year? (If you both worked with the framework and want to continue to do so, please check both boxes in that row.)\n",
            "WebFrameDesireNextYear : Which of the following web frameworks have you done extensive development work in over the past year, and which do you want to work in over the next year? (If you both worked with the framework and want to continue to do so, please check both boxes in that row.)\n",
            "MiscTechWorkedWith : Which of the following other frameworks, libraries, and tools have you done extensive development work in over the past year, and which do you want to work in over the next year? (If you both worked with the technology and want to continue to do so, please check both boxes in that row.)\n",
            "MiscTechDesireNextYear : Which of the following other frameworks, libraries, and tools have you done extensive development work in over the past year, and which do you want to work in over the next year? (If you both worked with the technology and want to continue to do so, please check both boxes in that row.)\n",
            "DevEnviron : Which development environment(s) do you use regularly?  Please check all that apply.\n",
            "OpSys : What is the primary operating system in which you work?\n",
            "Containers : How do you use containers (Docker, Open Container Initiative (OCI), etc.)?\n",
            "BlockchainOrg : How is your organization thinking about or implementing blockchain technology?\n",
            "BlockchainIs : Blockchain / cryptocurrency technology is primarily:\n",
            "BetterLife : Do you think people born today will have a better life than their parents?\n",
            "ITperson : Are you the \"IT support person\" for your family?\n",
            "OffOn : Have you tried turning it off and on again?\n",
            "SocialMedia : What social media site do you use the most?\n",
            "Extraversion : Do you prefer online chat or IRL conversations?\n",
            "ScreenName : What do you call it?\n",
            "SOVisit1st : To the best of your memory, when did you first visit Stack Overflow?\n",
            "SOVisitFreq : How frequently would you say you visit Stack Overflow?\n",
            "SOVisitTo : I visit Stack Overflow to... (check all that apply)\n",
            "SOFindAnswer : On average, how many times a week do you find (and use) an answer on Stack Overflow?\n",
            "SOTimeSaved : Think back to the last time you solved a coding problem using Stack Overflow, as well as the last time you solved a problem using a different resource. Which was faster?\n",
            "SOHowMuchTime : About how much time did you save? If you're not sure, please use your best estimate.\n",
            "SOAccount : Do you have a Stack Overflow account?\n",
            "SOPartFreq : How frequently would you say you participate in Q&A on Stack Overflow? By participate we mean ask, answer, vote for, or comment on questions.\n",
            "SOJobs : Have you ever used or visited Stack Overflow Jobs?\n",
            "EntTeams : Have you ever used Stack Overflow for Enterprise or Stack Overflow for Teams?\n",
            "SOComm : Do you consider yourself a member of the Stack Overflow community?\n",
            "WelcomeChange : Compared to last year, how welcome do you feel on Stack Overflow?\n",
            "SONewContent : Would you like to see any of the following on Stack Overflow? Check all that apply.\n",
            "Age : What is your age (in years)? If you prefer not to answer, you may leave this question blank.\n",
            "Gender : Which of the following do you currently identify as? Please select all that apply. If you prefer not to answer, you may leave this question blank.\n",
            "Trans : Do you identify as transgender?\n",
            "Sexuality : Which of the following do you currently identify as? Please select all that apply. If you prefer not to answer, you may leave this question blank.\n",
            "Ethnicity : Which of the following do you identify as? Please check all that apply. If you prefer not to answer, you may leave this question blank.\n",
            "Dependents : Do you have any dependents (e.g., children, elders, or others) that you care for?\n",
            "SurveyLength : How do you feel about the length of the survey this year?\n",
            "SurveyEase : How easy or difficult was this survey to complete?\n"
          ],
          "name": "stdout"
        }
      ]
    },
    {
      "cell_type": "code",
      "metadata": {
        "id": "N6krxLI3g4hZ",
        "colab_type": "code",
        "colab": {}
      },
      "source": [
        ""
      ],
      "execution_count": 0,
      "outputs": []
    }
  ]
}