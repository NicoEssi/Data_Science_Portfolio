{
  "nbformat": 4,
  "nbformat_minor": 0,
  "metadata": {
    "colab": {
      "name": "Stackoverflow_2019.ipynb",
      "provenance": [],
      "collapsed_sections": [
        "DjXwiTKB5h6j",
        "7fqJb-WXvklX",
        "IS9EM6w6w16r",
        "cvrcLGp32Y4I"
      ],
      "toc_visible": true,
      "include_colab_link": true
    },
    "kernelspec": {
      "name": "python3",
      "display_name": "Python 3"
    }
  },
  "cells": [
    {
      "cell_type": "markdown",
      "metadata": {
        "id": "view-in-github",
        "colab_type": "text"
      },
      "source": [
        "<a href=\"https://colab.research.google.com/github/NicoEssi/Data_Science_Portfolio/blob/master/Stackoverflow_2019.ipynb\" target=\"_parent\"><img src=\"https://colab.research.google.com/assets/colab-badge.svg\" alt=\"Open In Colab\"/></a>"
      ]
    },
    {
      "cell_type": "markdown",
      "metadata": {
        "id": "TMWAEojCxNjF",
        "colab_type": "text"
      },
      "source": [
        "# 0. Setup"
      ]
    },
    {
      "cell_type": "markdown",
      "metadata": {
        "id": "EdFx8XRhFwvG",
        "colab_type": "text"
      },
      "source": [
        "### Dependencies and Data"
      ]
    },
    {
      "cell_type": "code",
      "metadata": {
        "id": "fGt7A4-VtPuA",
        "colab_type": "code",
        "colab": {}
      },
      "source": [
        "import os\n",
        "import zipfile\n",
        "import numpy as np\n",
        "import pandas as pd\n",
        "import matplotlib.pyplot as plt"
      ],
      "execution_count": 0,
      "outputs": []
    },
    {
      "cell_type": "code",
      "metadata": {
        "id": "KTiJphUYtRSp",
        "colab_type": "code",
        "outputId": "4138ee07-5895-4f98-c21c-5c740aff9a8e",
        "colab": {
          "base_uri": "https://localhost:8080/",
          "height": 394
        }
      },
      "source": [
        "# Downloading the Stack Overflow Survey Results for 2019\n",
        "!wget --no-check-certificate \\\n",
        "    \"https://drive.google.com/uc?authuser=0&id=1QOmVDpd8hcVYqqUXDXf68UMDWQZP0wQV&export=download\" \\\n",
        "    -O \"/tmp/soi_2019.zip\"\n",
        "\n",
        "zip_ref = zipfile.ZipFile(\"/tmp/soi_2019.zip\", 'r')\n",
        "zip_ref.extractall(\"/tmp/soi_2019\")\n",
        "zip_ref.close()"
      ],
      "execution_count": 2,
      "outputs": [
        {
          "output_type": "stream",
          "text": [
            "--2019-09-25 13:55:11--  https://drive.google.com/uc?authuser=0&id=1QOmVDpd8hcVYqqUXDXf68UMDWQZP0wQV&export=download\n",
            "Resolving drive.google.com (drive.google.com)... 172.217.203.139, 172.217.203.101, 172.217.203.102, ...\n",
            "Connecting to drive.google.com (drive.google.com)|172.217.203.139|:443... connected.\n",
            "HTTP request sent, awaiting response... 302 Moved Temporarily\n",
            "Location: https://drive.google.com/uc?id=1QOmVDpd8hcVYqqUXDXf68UMDWQZP0wQV&export=download [following]\n",
            "--2019-09-25 13:55:11--  https://drive.google.com/uc?id=1QOmVDpd8hcVYqqUXDXf68UMDWQZP0wQV&export=download\n",
            "Reusing existing connection to drive.google.com:443.\n",
            "HTTP request sent, awaiting response... 302 Moved Temporarily\n",
            "Location: https://doc-14-4c-docs.googleusercontent.com/docs/securesc/ha0ro937gcuc7l7deffksulhg5h7mbp1/gsj81i4dan8i0dg37enp8k9epnag3g68/1569412800000/06716978924947585995/*/1QOmVDpd8hcVYqqUXDXf68UMDWQZP0wQV?e=download [following]\n",
            "Warning: wildcards not supported in HTTP.\n",
            "--2019-09-25 13:55:12--  https://doc-14-4c-docs.googleusercontent.com/docs/securesc/ha0ro937gcuc7l7deffksulhg5h7mbp1/gsj81i4dan8i0dg37enp8k9epnag3g68/1569412800000/06716978924947585995/*/1QOmVDpd8hcVYqqUXDXf68UMDWQZP0wQV?e=download\n",
            "Resolving doc-14-4c-docs.googleusercontent.com (doc-14-4c-docs.googleusercontent.com)... 172.217.203.132, 2607:f8b0:400c:c07::84\n",
            "Connecting to doc-14-4c-docs.googleusercontent.com (doc-14-4c-docs.googleusercontent.com)|172.217.203.132|:443... connected.\n",
            "HTTP request sent, awaiting response... 200 OK\n",
            "Length: unspecified [application/zip]\n",
            "Saving to: ‘/tmp/soi_2019.zip’\n",
            "\n",
            "/tmp/soi_2019.zip       [  <=>               ]  17.82M  70.3MB/s    in 0.3s    \n",
            "\n",
            "2019-09-25 13:55:13 (70.3 MB/s) - ‘/tmp/soi_2019.zip’ saved [18681322]\n",
            "\n"
          ],
          "name": "stdout"
        }
      ]
    },
    {
      "cell_type": "markdown",
      "metadata": {
        "id": "Txn7-_km0Zsx",
        "colab_type": "text"
      },
      "source": [
        "## Custom Functions"
      ]
    },
    {
      "cell_type": "markdown",
      "metadata": {
        "id": "eQY8rDvfFYfZ",
        "colab_type": "text"
      },
      "source": [
        "### Encoding functions"
      ]
    },
    {
      "cell_type": "code",
      "metadata": {
        "id": "P0h5KA3I0t8f",
        "colab_type": "code",
        "colab": {}
      },
      "source": [
        "# Encode single label\n",
        "def encode(data):\n",
        "    return data.str.get_dummies()\n",
        "\n",
        "# Encode multiple labels\n",
        "def encodem(data):\n",
        "    return data.str.get_dummies(sep=\";\")"
      ],
      "execution_count": 0,
      "outputs": []
    },
    {
      "cell_type": "markdown",
      "metadata": {
        "id": "nrEno7F5FdJb",
        "colab_type": "text"
      },
      "source": [
        "### Parsing functions"
      ]
    },
    {
      "cell_type": "code",
      "metadata": {
        "id": "rGnojbe80ltW",
        "colab_type": "code",
        "colab": {}
      },
      "source": [
        "# Parse all types within a data into a list\n",
        "def parse_types(data):\n",
        "    types_temp = []\n",
        "    for i in range( len(data)):\n",
        "        types_temp.append([parsed.strip() for parsed in str(data.iloc[i]).split(';')])\n",
        "    \n",
        "    types = []\n",
        "    for i in types_temp:\n",
        "        for j in i:\n",
        "            if j not in types:\n",
        "                types.append(j)\n",
        "                \n",
        "    return types\n",
        "\n",
        "# Parse datarow of all text into a list\n",
        "def parse(data):\n",
        "    return [parsed.strip() for parsed in str(data).split(';')]\n",
        "\n",
        "# Check whether text exists in data\n",
        "def check(text, data):\n",
        "    if text in parse(data):\n",
        "        return 1\n",
        "    else:\n",
        "        return 0\n",
        "\n",
        "# Count occurences of text in data\n",
        "def countd(text, data):\n",
        "    counted = []\n",
        "    \n",
        "    for i in data:\n",
        "        counted.append(check(text, i))\n",
        "    \n",
        "    return sum(counted)\n",
        "\n",
        "\n",
        "def copypaste(text, column, data):\n",
        "    copypaste = []\n",
        "    \n",
        "    for i in range( len(data)):\n",
        "        if check(text, data[column].iloc[i]):\n",
        "            copypaste.append(data.iloc[i])\n",
        "    \n",
        "    return copypaste"
      ],
      "execution_count": 0,
      "outputs": []
    },
    {
      "cell_type": "markdown",
      "metadata": {
        "id": "Y2PVA5qYFj-F",
        "colab_type": "text"
      },
      "source": [
        "### Salary functions"
      ]
    },
    {
      "cell_type": "code",
      "metadata": {
        "id": "gvzPJh_k02O0",
        "colab_type": "code",
        "colab": {}
      },
      "source": [
        "# Check salary for specific category\n",
        "def check_average_salary(category, column, data):\n",
        "    salaries = []\n",
        "    for i in range( len(data) ):\n",
        "        if category in parse(data[column].iloc[i]):\n",
        "            salaries.append(data.CompTotal.iloc[i])\n",
        "    return sum(salaries)/len(salaries)\n",
        "\n",
        "\n",
        "# Check salary for specific column\n",
        "def print_average_salary_column(column, data):\n",
        "    for i in parse_types(data[column]):\n",
        "        print(str(i) + \": \" + str(check_average_salary(i, column, data)))\n",
        "        \n",
        "\n",
        "# Plot salary for specific column\n",
        "#plt.rcParams['figure.figsize'] = [15, 5] # Set figure size\n",
        "def average_salary_column(column, data, plot = False):\n",
        "    ybucket = []\n",
        "    xbucket = []\n",
        "    for i in parse_types(data[column]):\n",
        "        ybucket.append(check_average_salary(i, column, data))\n",
        "        xbucket.append(i)\n",
        "    bucket = pd.DataFrame(ybucket, xbucket)\n",
        "    if plot:\n",
        "        bucket.plot(kind = \"bar\")\n",
        "        plt.show()\n",
        "    else:\n",
        "        return bucket"
      ],
      "execution_count": 0,
      "outputs": []
    },
    {
      "cell_type": "markdown",
      "metadata": {
        "id": "X6YCIDgZFmPY",
        "colab_type": "text"
      },
      "source": [
        "### Receive function"
      ]
    },
    {
      "cell_type": "code",
      "metadata": {
        "id": "ujdpLriOPUtn",
        "colab_type": "code",
        "colab": {}
      },
      "source": [
        "# Receive the rows with specified category in column within data\n",
        "def receive(category, column, data):\n",
        "    bucket = []\n",
        "    for i in range( len(data) ):\n",
        "        if category in parse(data[column].iloc[i]):\n",
        "            bucket.append(data.iloc[i])\n",
        "    return bucket\n",
        "\n",
        "#len(pd.DataFrame(receive(\"Data scientist or machine learning specialist\", \"DevType\", data_eu)))"
      ],
      "execution_count": 0,
      "outputs": []
    },
    {
      "cell_type": "markdown",
      "metadata": {
        "id": "gKsGmQYKFq8q",
        "colab_type": "text"
      },
      "source": [
        "### Currency functions"
      ]
    },
    {
      "cell_type": "code",
      "metadata": {
        "id": "3BKO7hgR0QFA",
        "colab_type": "code",
        "colab": {}
      },
      "source": [
        "# currency rates as of 09/09/2019\n",
        "\"\"\"\n",
        "EUR = 1.10\n",
        "CHF = 1.00\n",
        "SEK = 0.10\n",
        "NOK = 0.11\n",
        "DKK = 0.15\n",
        "USD = 1.00\n",
        "GBP = 1.23\n",
        "INR = 0.014\n",
        "NZD = 0.64\n",
        "AUD = 0.69\n",
        "CAD = 0.76\n",
        "\"\"\"\n",
        "\n",
        "currencies = {\"EUR\" : 1.10\n",
        "             ,\"CHF\" : 1.00\n",
        "             ,\"SEK\" : 0.10\n",
        "             ,\"NOK\" : 0.11\n",
        "             ,\"DKK\" : 0.15\n",
        "             ,\"USD\" : 1.00\n",
        "             ,\"GBP\" : 1.23\n",
        "             ,\"INR\" : 0.014\n",
        "             ,\"NZD\" : 0.64\n",
        "             ,\"AUD\" : 0.69\n",
        "             ,\"CAD\" : 0.76}\n",
        "\n",
        "# Convert currency into USD\n",
        "def currency_usd(data):\n",
        "    if data in (currencies):\n",
        "        return currencies[data]\n",
        "    else:\n",
        "        return 0\n",
        "\n",
        "# Annualize total compensation\n",
        "def currency_annualize(data):\n",
        "    if data == 'Weekly':\n",
        "        return 52\n",
        "    elif data == 'Monthly':\n",
        "        return 12\n",
        "    elif data == 'Yearly':\n",
        "        return 1"
      ],
      "execution_count": 0,
      "outputs": []
    },
    {
      "cell_type": "markdown",
      "metadata": {
        "id": "SaczdZhrxRGQ",
        "colab_type": "text"
      },
      "source": [
        "# 1. Business- & Data Understanding"
      ]
    },
    {
      "cell_type": "markdown",
      "metadata": {
        "id": "-PtqG6iBR8Kg",
        "colab_type": "text"
      },
      "source": [
        "Read the data and initial exploration of questions to determine which features are important for further inquiry."
      ]
    },
    {
      "cell_type": "code",
      "metadata": {
        "id": "G1RYexwqxRjq",
        "colab_type": "code",
        "colab": {}
      },
      "source": [
        "data = pd.read_csv(\"/tmp/soi_2019/survey_results_public.csv\")\n",
        "schema = pd.read_csv(\"/tmp/soi_2019/survey_results_schema.csv\")"
      ],
      "execution_count": 0,
      "outputs": []
    },
    {
      "cell_type": "code",
      "metadata": {
        "id": "Y4qAvjt7yDpL",
        "colab_type": "code",
        "outputId": "6628975b-9a07-4b49-8e17-16217d2ac731",
        "colab": {
          "base_uri": "https://localhost:8080/",
          "height": 1000
        }
      },
      "source": [
        "for question in range(len(schema)):\n",
        "    print(schema.iloc[question].Column + \" : \" + schema.iloc[question].QuestionText)"
      ],
      "execution_count": 9,
      "outputs": [
        {
          "output_type": "stream",
          "text": [
            "Respondent : Randomized respondent ID number (not in order of survey response time)\n",
            "MainBranch : Which of the following options best describes you today? Here, by \"developer\" we mean \"someone who writes code.\"\n",
            "Hobbyist : Do you code as a hobby?\n",
            "OpenSourcer : How often do you contribute to open source?\n",
            "OpenSource : How do you feel about the quality of open source software (OSS)?\n",
            "Employment : Which of the following best describes your current employment status?\n",
            "Country : In which country do you currently reside?\n",
            "Student : Are you currently enrolled in a formal, degree-granting college or university program?\n",
            "EdLevel : Which of the following best describes the highest level of formal education that you’ve completed?\n",
            "UndergradMajor : What was your main or most important field of study?\n",
            "EduOther : Which of the following types of non-degree education have you used or participated in? Please select all that apply.\n",
            "OrgSize : Approximately how many people are employed by the company or organization you work for?\n",
            "DevType : Which of the following describe you? Please select all that apply.\n",
            "YearsCode : Including any education, how many years have you been coding?\n",
            "Age1stCode : At what age did you write your first line of code or program? (E.g., webpage, Hello World, Scratch project)\n",
            "YearsCodePro : How many years have you coded professionally (as a part of your work)?\n",
            "CareerSat : Overall, how satisfied are you with your career thus far?\n",
            "JobSat : How satisfied are you with your current job? (If you work multiple jobs, answer for the one you spend the most hours on.)\n",
            "MgrIdiot : How confident are you that your manager knows what they’re doing?\n",
            "MgrMoney : Do you believe that you need to be a manager to make more money?\n",
            "MgrWant : Do you want to become a manager yourself in the future?\n",
            "JobSeek : Which of the following best describes your current job-seeking status?\n",
            "LastHireDate : When was the last time that you took a job with a new employer?\n",
            "LastInt : In your most recent successful job interview (resulting in a job offer), you were asked to... (check all that apply)\n",
            "FizzBuzz : Have you ever been asked to solve FizzBuzz in an interview?\n",
            "JobFactors : Imagine that you are deciding between two job offers with the same compensation, benefits, and location. Of the following factors, which 3 are MOST important to you?\n",
            "ResumeUpdate : Think back to the last time you updated your resumé, CV, or an online profile on a job site. What is the PRIMARY reason that you did so?\n",
            "CurrencySymbol : Which currency do you use day-to-day? If your answer is complicated, please pick the one you're most comfortable estimating in.\n",
            "CurrencyDesc : Which currency do you use day-to-day? If your answer is complicated, please pick the one you're most comfortable estimating in.\n",
            "CompTotal : What is your current total compensation (salary, bonuses, and perks, before taxes and deductions), in `CurrencySymbol`? Please enter a whole number in the box below, without any punctuation. If you are paid hourly, please estimate an equivalent weekly, monthly, or yearly salary. If you prefer not to answer, please leave the box empty.\n",
            "CompFreq : Is that compensation weekly, monthly, or yearly?\n",
            "ConvertedComp : Salary converted to annual USD salaries using the exchange rate on 2019-02-01, assuming 12 working months and 50 working weeks.\n",
            "WorkWeekHrs : On average, how many hours per week do you work?\n",
            "WorkPlan : How structured or planned is your work?\n",
            "WorkChallenge : Of these options, what are your greatest challenges to productivity as a developer? Select up to 3:\n",
            "WorkRemote : How often do you work remotely?\n",
            "WorkLoc : Where would you prefer to work?\n",
            "ImpSyn : For the specific work you do, and the years of experience you have, how do you rate your own level of competence?\n",
            "CodeRev : Do you review code as part of your work?\n",
            "CodeRevHrs : On average, how many hours per week do you spend on code review?\n",
            "UnitTests : Does your company regularly employ unit tests in the development of their products?\n",
            "PurchaseHow : How does your company make decisions about purchasing new technology (cloud, AI, IoT, databases)?\n",
            "PurchaseWhat : What level of influence do you, personally, have over new technology purchases at your organization?\n",
            "LanguageWorkedWith : Which of the following programming, scripting, and markup languages have you done extensive development work in over the past year, and which do you want to work in over the next year?  (If you both worked with the language and want to continue to do so, please check both boxes in that row.)\n",
            "LanguageDesireNextYear : Which of the following programming, scripting, and markup languages have you done extensive development work in over the past year, and which do you want to work in over the next year?  (If you both worked with the language and want to continue to do so, please check both boxes in that row.)\n",
            "DatabaseWorkedWith : Which of the following database environments have you done extensive development work in over the past year, and which do you want to work in over the next year?   (If you both worked with the database and want to continue to do so, please check both boxes in that row.)\n",
            "DatabaseDesireNextYear : Which of the following database environments have you done extensive development work in over the past year, and which do you want to work in over the next year?   (If you both worked with the database and want to continue to do so, please check both boxes in that row.)\n",
            "PlatformWorkedWith : Which of the following platforms have you done extensive development work for over the past year?   (If you both developed for the platform and want to continue to do so, please check both boxes in that row.)\n",
            "PlatformDesireNextYear : Which of the following platforms have you done extensive development work for over the past year?   (If you both developed for the platform and want to continue to do so, please check both boxes in that row.)\n",
            "WebFrameWorkedWith : Which of the following web frameworks have you done extensive development work in over the past year, and which do you want to work in over the next year? (If you both worked with the framework and want to continue to do so, please check both boxes in that row.)\n",
            "WebFrameDesireNextYear : Which of the following web frameworks have you done extensive development work in over the past year, and which do you want to work in over the next year? (If you both worked with the framework and want to continue to do so, please check both boxes in that row.)\n",
            "MiscTechWorkedWith : Which of the following other frameworks, libraries, and tools have you done extensive development work in over the past year, and which do you want to work in over the next year? (If you both worked with the technology and want to continue to do so, please check both boxes in that row.)\n",
            "MiscTechDesireNextYear : Which of the following other frameworks, libraries, and tools have you done extensive development work in over the past year, and which do you want to work in over the next year? (If you both worked with the technology and want to continue to do so, please check both boxes in that row.)\n",
            "DevEnviron : Which development environment(s) do you use regularly?  Please check all that apply.\n",
            "OpSys : What is the primary operating system in which you work?\n",
            "Containers : How do you use containers (Docker, Open Container Initiative (OCI), etc.)?\n",
            "BlockchainOrg : How is your organization thinking about or implementing blockchain technology?\n",
            "BlockchainIs : Blockchain / cryptocurrency technology is primarily:\n",
            "BetterLife : Do you think people born today will have a better life than their parents?\n",
            "ITperson : Are you the \"IT support person\" for your family?\n",
            "OffOn : Have you tried turning it off and on again?\n",
            "SocialMedia : What social media site do you use the most?\n",
            "Extraversion : Do you prefer online chat or IRL conversations?\n",
            "ScreenName : What do you call it?\n",
            "SOVisit1st : To the best of your memory, when did you first visit Stack Overflow?\n",
            "SOVisitFreq : How frequently would you say you visit Stack Overflow?\n",
            "SOVisitTo : I visit Stack Overflow to... (check all that apply)\n",
            "SOFindAnswer : On average, how many times a week do you find (and use) an answer on Stack Overflow?\n",
            "SOTimeSaved : Think back to the last time you solved a coding problem using Stack Overflow, as well as the last time you solved a problem using a different resource. Which was faster?\n",
            "SOHowMuchTime : About how much time did you save? If you're not sure, please use your best estimate.\n",
            "SOAccount : Do you have a Stack Overflow account?\n",
            "SOPartFreq : How frequently would you say you participate in Q&A on Stack Overflow? By participate we mean ask, answer, vote for, or comment on questions.\n",
            "SOJobs : Have you ever used or visited Stack Overflow Jobs?\n",
            "EntTeams : Have you ever used Stack Overflow for Enterprise or Stack Overflow for Teams?\n",
            "SOComm : Do you consider yourself a member of the Stack Overflow community?\n",
            "WelcomeChange : Compared to last year, how welcome do you feel on Stack Overflow?\n",
            "SONewContent : Would you like to see any of the following on Stack Overflow? Check all that apply.\n",
            "Age : What is your age (in years)? If you prefer not to answer, you may leave this question blank.\n",
            "Gender : Which of the following do you currently identify as? Please select all that apply. If you prefer not to answer, you may leave this question blank.\n",
            "Trans : Do you identify as transgender?\n",
            "Sexuality : Which of the following do you currently identify as? Please select all that apply. If you prefer not to answer, you may leave this question blank.\n",
            "Ethnicity : Which of the following do you identify as? Please check all that apply. If you prefer not to answer, you may leave this question blank.\n",
            "Dependents : Do you have any dependents (e.g., children, elders, or others) that you care for?\n",
            "SurveyLength : How do you feel about the length of the survey this year?\n",
            "SurveyEase : How easy or difficult was this survey to complete?\n"
          ],
          "name": "stdout"
        }
      ]
    },
    {
      "cell_type": "markdown",
      "metadata": {
        "id": "yg3KmAkFSMGN",
        "colab_type": "text"
      },
      "source": [
        "Clean data of rows with missing salary information."
      ]
    },
    {
      "cell_type": "code",
      "metadata": {
        "id": "pIQ2SJURzk2t",
        "colab_type": "code",
        "outputId": "f6b43f00-38d1-4b51-8426-c1ee0a0b348a",
        "colab": {
          "base_uri": "https://localhost:8080/",
          "height": 68
        }
      },
      "source": [
        "print(\"NA Count: \" + str(np.sum(data.Country == \"United States\")\n",
        "                        + np.sum(data.Country == \"Canada\")))\n",
        "print(\"UK Count: \" + str(np.sum(data.Country == \"United Kingdom\")))\n",
        "print(\"EU Count: \" + str(np.sum(data.Country == \"France\")\n",
        "                        + np.sum(data.Country == \"Germany\")\n",
        "                        + np.sum(data.Country == \"Sweden\")\n",
        "                        + np.sum(data.Country == \"Denmark\")\n",
        "                        + np.sum(data.Country == \"Finland\")\n",
        "                        + np.sum(data.Country == \"Ireland\")\n",
        "                        + np.sum(data.Country == \"Netherlands\")\n",
        "                        + np.sum(data.Country == \"Austria\")\n",
        "                        + np.sum(data.Country == \"Belgium\")\n",
        "                        + np.sum(data.Country == \"Switzerland\")))"
      ],
      "execution_count": 10,
      "outputs": [
        {
          "output_type": "stream",
          "text": [
            "NA Count: 24344\n",
            "UK Count: 5737\n",
            "EU Count: 15591\n"
          ],
          "name": "stdout"
        }
      ]
    },
    {
      "cell_type": "code",
      "metadata": {
        "id": "3ax2Jg80G10y",
        "colab_type": "code",
        "outputId": "42ba0cf1-1ea0-4104-b6b7-02124aa4aff9",
        "colab": {
          "base_uri": "https://localhost:8080/",
          "height": 51
        }
      },
      "source": [
        "print(\"Before: \" + str(len(data.CompTotal)))\n",
        "\n",
        "data = data[pd.notnull(data['CompFreq'])]\n",
        "data = data[pd.notnull(data['CompTotal'])].reset_index(drop = True)\n",
        "\n",
        "print(\"After: \" + str(len(data.CompTotal)))"
      ],
      "execution_count": 11,
      "outputs": [
        {
          "output_type": "stream",
          "text": [
            "Before: 88883\n",
            "After: 55827\n"
          ],
          "name": "stdout"
        }
      ]
    },
    {
      "cell_type": "code",
      "metadata": {
        "id": "K17YpqGzJOsY",
        "colab_type": "code",
        "outputId": "aece9c51-dfea-45a8-be87-37f6bb06d91a",
        "colab": {
          "base_uri": "https://localhost:8080/",
          "height": 68
        }
      },
      "source": [
        "print(\"NA Count: \" + str(np.sum(data.Country == \"United States\")\n",
        "                        + np.sum(data.Country == \"Canada\")))\n",
        "print(\"UK Count: \" + str(np.sum(data.Country == \"United Kingdom\")))\n",
        "print(\"EU Count: \" + str(np.sum(data.Country == \"France\")\n",
        "                        + np.sum(data.Country == \"Germany\")\n",
        "                        + np.sum(data.Country == \"Sweden\")\n",
        "                        + np.sum(data.Country == \"Denmark\")\n",
        "                        + np.sum(data.Country == \"Finland\")\n",
        "                        + np.sum(data.Country == \"Ireland\")\n",
        "                        + np.sum(data.Country == \"Netherlands\")\n",
        "                        + np.sum(data.Country == \"Austria\")\n",
        "                        + np.sum(data.Country == \"Belgium\")\n",
        "                        + np.sum(data.Country == \"Switzerland\")\n",
        "                        + np.sum(data.Country == \"Norway\")))"
      ],
      "execution_count": 12,
      "outputs": [
        {
          "output_type": "stream",
          "text": [
            "NA Count: 17238\n",
            "UK Count: 4036\n",
            "EU Count: 10744\n"
          ],
          "name": "stdout"
        }
      ]
    },
    {
      "cell_type": "code",
      "metadata": {
        "id": "OTH2TFKpPyT1",
        "colab_type": "code",
        "outputId": "538a1e0e-4910-465c-fb7f-2b4441a5f871",
        "colab": {
          "base_uri": "https://localhost:8080/",
          "height": 156
        }
      },
      "source": [
        "devtypes = parse_types(data.DevType)\n",
        "eduother = parse_types(data.EduOther)\n",
        "languages = parse_types(data.LanguageWorkedWith)\n",
        "databases = parse_types(data.DatabaseWorkedWith)\n",
        "platforms = parse_types(data.PlatformWorkedWith)\n",
        "webframes = parse_types(data.WebFrameWorkedWith)\n",
        "misctechs = parse_types(data.MiscTechWorkedWith)\n",
        "\n",
        "print(devtypes)\n",
        "print(eduother)\n",
        "print(languages)\n",
        "print(databases)\n",
        "print(platforms)\n",
        "print(webframes)\n",
        "print(misctechs)"
      ],
      "execution_count": 13,
      "outputs": [
        {
          "output_type": "stream",
          "text": [
            "['Designer', 'Developer, back-end', 'Developer, front-end', 'Developer, full-stack', 'Data or business analyst', 'Data scientist or machine learning specialist', 'Database administrator', 'Engineer, data', 'Developer, QA or test', 'DevOps specialist', 'Developer, desktop or enterprise applications', 'Developer, game or graphics', 'Educator', 'Developer, mobile', 'Engineer, site reliability', 'Engineering manager', 'Senior executive/VP', 'System administrator', 'Student', 'Developer, embedded applications or devices', 'Product manager', 'Academic researcher', 'Scientist', 'nan', 'Marketing or sales professional']\n",
            "['Taught yourself a new language, framework, or tool without taking a formal course', 'Taken an online course in programming or software development (e.g. a MOOC)', 'Received on-the-job training in software development', 'Participated in a full-time developer training program or bootcamp', 'Taken a part-time in-person course in programming or software development', 'Participated in online coding competitions (e.g. HackerRank, CodeChef, TopCoder)', 'Contributed to open source software', 'nan', 'Participated in a hackathon', 'Completed an industry certification program (e.g. MCPD)']\n",
            "['HTML/CSS', 'C', 'C++', 'C#', 'Python', 'SQL', 'Java', 'R', 'Bash/Shell/PowerShell', 'JavaScript', 'Ruby', 'Rust', 'TypeScript', 'WebAssembly', 'Other(s):', 'Go', 'PHP', 'VBA', 'Swift', 'nan', 'Kotlin', 'Objective-C', 'Elixir', 'Erlang', 'Clojure', 'Assembly', 'Scala', 'Dart', 'F#']\n",
            "['PostgreSQL', 'MySQL', 'SQLite', 'MongoDB', 'DynamoDB', 'Elasticsearch', 'Microsoft SQL Server', 'Couchbase', 'Firebase', 'nan', 'MariaDB', 'Oracle', 'Redis', 'Other(s):', 'Cassandra']\n",
            "['nan', 'Linux', 'Windows', 'Android', 'Google Cloud Platform', 'AWS', 'Docker', 'Heroku', 'MacOS', 'Slack', 'IBM Cloud or Watson', 'iOS', 'Microsoft Azure', 'WordPress', 'Arduino', 'Raspberry Pi', 'Kubernetes', 'Other(s):']\n",
            "['nan', 'Express', 'Ruby on Rails', 'Other(s):', 'Angular/Angular.js', 'ASP.NET', 'Django', 'Flask', 'jQuery', 'Vue.js', 'Spring', 'React.js', 'Laravel', 'Drupal']\n",
            "['nan', '.NET', 'Hadoop', 'Node.js', 'Unity 3D', 'Pandas', 'Torch/PyTorch', 'Xamarin', '.NET Core', 'Ansible', 'Chef', 'Cordova', 'Puppet', 'React Native', 'Other(s):', 'TensorFlow', 'Apache Spark', 'Flutter', 'Unreal Engine', 'CryEngine']\n"
          ],
          "name": "stdout"
        }
      ]
    },
    {
      "cell_type": "markdown",
      "metadata": {
        "id": "M9wZEkJTzX4V",
        "colab_type": "text"
      },
      "source": [
        "## We are interested in creating a model that can accurately predict salaries based on numerous factors within each region.\n",
        "\n",
        "### Why do we group up many countries together into a single dataset for EU data?\n",
        "Professionals residing within the European Union have liberties granted to them by the Schengen agreement, which enables free movement of labor force and thus professionals can freely work wherever they wish.\n",
        "\n",
        "### Why are Norway and Switzerland included in the European dataset?\n",
        "While they are not part of the European Union, they have signed agreements in association with the Schengen agreement.\n",
        "\n",
        "### Why is the United Kingdom not included in the European dataset despite having signed an agreement in association with the Schengen agreement?\n",
        "Brexit. Despite the fact that the data has been gathered prior to the secession deadline, it would still be interesting to inquire on the UK data separately in case it would be of interest to compare changes in 2020 and onwards. And as of writing this, nothing has been officially said regarding future signed agreement in association with the Schengen agreement for UK.\n",
        "\n",
        "### Why are the countries in APT / RCEP not included?\n",
        "Unfortunately the data gathered for China, South Korea, and Japan are too small to make reliable inferences - and there are currently significant restrictions in freedom of movement for professionals between these countries, making it unreasonable to conduct an inquiry on these countries as a collective."
      ]
    },
    {
      "cell_type": "markdown",
      "metadata": {
        "id": "D0yy8Qg6jtFV",
        "colab_type": "text"
      },
      "source": [
        "# 2. Data Preparation"
      ]
    },
    {
      "cell_type": "code",
      "metadata": {
        "id": "lad8s4LvJhAM",
        "colab_type": "code",
        "outputId": "9dc9394c-f8cd-406c-c0eb-4d0499ed2d72",
        "colab": {
          "base_uri": "https://localhost:8080/",
          "height": 51
        }
      },
      "source": [
        "del data['Respondent']\n",
        "\n",
        "print(len(data))\n",
        "\n",
        "data = data[data[\"MainBranch\"] == 'I am a developer by profession']\n",
        "data = data[data[\"LastHireDate\"] != \"I've never had a job\"]\n",
        "\n",
        "print(len(data))"
      ],
      "execution_count": 14,
      "outputs": [
        {
          "output_type": "stream",
          "text": [
            "55827\n",
            "50397\n"
          ],
          "name": "stdout"
        }
      ]
    },
    {
      "cell_type": "markdown",
      "metadata": {
        "id": "pqlSx4cqSx4O",
        "colab_type": "text"
      },
      "source": [
        "Total compensation preprocessing and calibration."
      ]
    },
    {
      "cell_type": "code",
      "metadata": {
        "id": "cGlZJr5Y9VWk",
        "colab_type": "code",
        "colab": {}
      },
      "source": [
        "y_label = data.CompTotal * data.CompFreq.apply(currency_annualize)\n",
        "y_label = y_label * data.CurrencySymbol.apply(currency_usd)"
      ],
      "execution_count": 0,
      "outputs": []
    },
    {
      "cell_type": "code",
      "metadata": {
        "id": "qfjjbA7HAJfM",
        "colab_type": "code",
        "outputId": "eb780723-e0b7-4860-c120-87569db299d3",
        "colab": {
          "base_uri": "https://localhost:8080/",
          "height": 306
        }
      },
      "source": [
        "y = y_label.copy()\n",
        "\n",
        "y = y[y < 500000]\n",
        "y = y[y > 15000]\n",
        "\n",
        "pd.set_option('float_format', '{:f}'.format)\n",
        "y.describe(percentiles = [.01, .1, .2, .3, .4, .5, .6, .7, .8, .9, .99])"
      ],
      "execution_count": 0,
      "outputs": [
        {
          "output_type": "execute_result",
          "data": {
            "text/plain": [
              "count    32278.000000\n",
              "mean     86846.166500\n",
              "std      64512.145260\n",
              "min      15036.000000\n",
              "1%       16800.000000\n",
              "10%      30250.000000\n",
              "20%      40858.632000\n",
              "30%      50400.000000\n",
              "40%      60000.000000\n",
              "50%      70000.000000\n",
              "60%      82500.000000\n",
              "70%      99000.000000\n",
              "80%     120000.000000\n",
              "90%     156000.000000\n",
              "99%     376380.000000\n",
              "max     499200.000000\n",
              "dtype: float64"
            ]
          },
          "metadata": {
            "tags": []
          },
          "execution_count": 22
        }
      ]
    },
    {
      "cell_type": "code",
      "metadata": {
        "id": "BW12EBuwQvBy",
        "colab_type": "code",
        "outputId": "3f19055d-7ab4-47bf-d525-02fda87baaf8",
        "colab": {
          "base_uri": "https://localhost:8080/",
          "height": 68
        }
      },
      "source": [
        "relevant = [\"Hobbyist\", \"OpenSourcer\", \"Employment\", \"Country\",\n",
        "            \"Student\", \"EdLevel\", \"UndergradMajor\", \"EduOther\",\n",
        "            \"OrgSize\",\"DevType\", \"YearsCodePro\", \"JobSeek\",\n",
        "            \"LastHireDate\", \"FizzBuzz\", \"LanguageWorkedWith\",\n",
        "            \"DatabaseWorkedWith\", \"PlatformWorkedWith\",\n",
        "            \"WebFrameWorkedWith\", \"MiscTechWorkedWith\",\n",
        "           \"CompTotal\", \"CompFreq\", \"CurrencySymbol\"]\n",
        "\n",
        "\n",
        "# Handling the NA dataset\n",
        "data_na = data[data[\"Country\"].isin([\"United States\", \"Canada\"])]\n",
        "data_na = data_na[relevant]\n",
        "\n",
        "data_na[\"CompTotal\"] *= data_na.CompFreq.apply(currency_annualize)\n",
        "data_na[\"CompTotal\"] *= data_na.CurrencySymbol.apply(currency_usd)\n",
        "del data_na[\"CompFreq\"]\n",
        "del data_na[\"CurrencySymbol\"]\n",
        "data_na = data_na[data_na[\"CompTotal\"] < 500000]\n",
        "data_na = data_na[data_na[\"CompTotal\"] > 15000]\n",
        "print(\"data na size: \" + str(len(data_na)))\n",
        "\n",
        "\n",
        "# Handling the UK dataset\n",
        "data_uk = data[data[\"Country\"] == \"United Kingdom\"]\n",
        "data_uk = data_uk[relevant]\n",
        "\n",
        "data_uk[\"CompTotal\"] *= data_uk.CompFreq.apply(currency_annualize)\n",
        "data_uk[\"CompTotal\"] *= data_uk.CurrencySymbol.apply(currency_usd)\n",
        "del data_uk[\"CompFreq\"]\n",
        "del data_uk[\"CurrencySymbol\"]\n",
        "#del data_uk[\"Country\"] # Needs to remain for the custom functions to work\n",
        "data_uk = data_uk[data_uk[\"CompTotal\"] < 500000]\n",
        "data_uk = data_uk[data_uk[\"CompTotal\"] > 15000]\n",
        "print(\"data uk size: \" + str(len(data_uk)))\n",
        "\n",
        "\n",
        "# Handling the EU dataset\n",
        "data_eu = data[data[\"Country\"].isin([\"France\", \"Germany\", \"Sweden\",\n",
        "                                     \"Denmark\", \"Finland\", \"Norway\",\n",
        "                                     \"Ireland\", \"Netherlands\", \"Austria\",\n",
        "                                     \"Belgium\", \"Switzerland\", \"United Kingdom\"])]\n",
        "data_eu = data_eu[relevant]\n",
        "\n",
        "data_eu[\"CompTotal\"] *= data_eu.CompFreq.apply(currency_annualize)\n",
        "data_eu[\"CompTotal\"] *= data_eu.CurrencySymbol.apply(currency_usd)\n",
        "del data_eu[\"CompFreq\"]\n",
        "del data_eu[\"CurrencySymbol\"]\n",
        "data_eu = data_eu[data_eu[\"CompTotal\"] < 150000]\n",
        "data_eu = data_eu[data_eu[\"CompTotal\"] > 15000]\n",
        "print(\"data eu size: \" + str(len(data_eu)))"
      ],
      "execution_count": 15,
      "outputs": [
        {
          "output_type": "stream",
          "text": [
            "data na size: 13876\n",
            "data uk size: 3197\n",
            "data eu size: 11248\n"
          ],
          "name": "stdout"
        }
      ]
    },
    {
      "cell_type": "markdown",
      "metadata": {
        "id": "DjXwiTKB5h6j",
        "colab_type": "text"
      },
      "source": [
        "# 3. Data Exploration"
      ]
    },
    {
      "cell_type": "markdown",
      "metadata": {
        "colab_type": "text",
        "id": "6mc1K0F9ABdk"
      },
      "source": [
        "## 3.0. t-Test for Statistical Significance of FizzBuzz (!)"
      ]
    },
    {
      "cell_type": "code",
      "metadata": {
        "colab_type": "code",
        "outputId": "2f92bd7a-588d-4cef-87b1-9a2e356d130f",
        "id": "SNybb0JDABeg",
        "colab": {
          "base_uri": "https://localhost:8080/",
          "height": 85
        }
      },
      "source": [
        "bucket_yes = pd.DataFrame(receive(\"Yes\", \"FizzBuzz\", data_eu))\n",
        "bucket_no = pd.DataFrame(receive(\"No\", \"FizzBuzz\", data_eu))\n",
        "\n",
        "bucket_yes = bucket_yes[\"CompTotal\"].sample(800)\n",
        "bucket_no = bucket_no[\"CompTotal\"].sample(800)\n",
        "\n",
        "# t-Test on FizzBuzz\n",
        "from scipy.stats import ttest_ind\n",
        "\n",
        "print('Yes : mean = %.3f, stdv = %.3f' % (np.mean(bucket_yes), np.std(bucket_yes)))\n",
        "print('No : mean = %.3f, stdv = %.3f' % (np.mean(bucket_no), np.std(bucket_no)))\n",
        "\n",
        "# Fail to reject H0: Sample distributions are equal.\n",
        "# Reject H0: Sample distributions are not equal.\n",
        "\n",
        "stat, p = ttest_ind(bucket_yes, bucket_no)\n",
        "print('Statistics = %.3f, p = %.3f' % (stat, p))\n",
        "\n",
        "alpha = 0.05\n",
        "if p > alpha:\n",
        "\tprint('Same distributions (fail to reject H0)')\n",
        "else:\n",
        "\tprint('Different distributions (reject H0)')"
      ],
      "execution_count": 0,
      "outputs": [
        {
          "output_type": "stream",
          "text": [
            "Yes : mean = 64621.996, stdv = 25478.976\n",
            "No : mean = 58884.225, stdv = 25259.078\n",
            "Statistics = 4.521, p = 0.000\n",
            "Different distributions (reject H0)\n"
          ],
          "name": "stdout"
        }
      ]
    },
    {
      "cell_type": "code",
      "metadata": {
        "colab_type": "code",
        "outputId": "26b652f1-cf56-4cff-f58f-559e9c954db5",
        "id": "JoRVs5_wABeo",
        "colab": {
          "base_uri": "https://localhost:8080/",
          "height": 51
        }
      },
      "source": [
        "# Above test is subject to chance due to sampling randomness.\n",
        "# By taking the average of many tests, we eliminate some randomness\n",
        "\n",
        "results = []\n",
        "bucket_yes = pd.DataFrame(receive(\"Yes\", \"FizzBuzz\", data_eu))\n",
        "bucket_no = pd.DataFrame(receive(\"No\", \"FizzBuzz\", data_eu))\n",
        "\n",
        "for i in range(100000):\n",
        "    data1 = bucket_yes[\"CompTotal\"].sample(800)\n",
        "    data2 = bucket_no[\"CompTotal\"].sample(800)\n",
        "    stat, p = ttest_ind(data1, data2)\n",
        "    \n",
        "    results.append(p)\n",
        "    \n",
        "p = sum(results)/len(results)\n",
        "\n",
        "print(\"p : \" + str(p))\n",
        "\n",
        "alpha = 0.05\n",
        "if p > alpha:\n",
        "\tprint('Same distributions (fail to reject H0)')\n",
        "else:\n",
        "\tprint('Different distributions (reject H0)')\n",
        "    \n",
        "# 0.0385155190"
      ],
      "execution_count": 0,
      "outputs": [
        {
          "output_type": "stream",
          "text": [
            "p : 0.0379659368649407\n",
            "Different distributions (reject H0)\n"
          ],
          "name": "stdout"
        }
      ]
    },
    {
      "cell_type": "markdown",
      "metadata": {
        "id": "7fqJb-WXvklX",
        "colab_type": "text"
      },
      "source": [
        "## 3.1. t-Test for Statistical Significance of Hobbyist"
      ]
    },
    {
      "cell_type": "code",
      "metadata": {
        "id": "AbyUpcXpvo0w",
        "colab_type": "code",
        "outputId": "3491850b-13c2-41f3-f3e9-a097d6f42aa4",
        "colab": {
          "base_uri": "https://localhost:8080/"
        }
      },
      "source": [
        "bucket_yes = pd.DataFrame(receive(\"Yes\", \"Hobbyist\", data_eu))\n",
        "bucket_no = pd.DataFrame(receive(\"No\", \"Hobbyist\", data_eu))\n",
        "\n",
        "bucket_yes = bucket_yes[\"CompTotal\"].sample(1400)\n",
        "bucket_no = bucket_no[\"CompTotal\"].sample(1400)\n",
        "\n",
        "# t-Test on FizzBuzz\n",
        "from scipy.stats import ttest_ind\n",
        "\n",
        "print('Yes : mean = %.3f, stdv = %.3f' % (np.mean(bucket_yes), np.std(bucket_yes)))\n",
        "print('No : mean = %.3f, stdv = %.3f' % (np.mean(bucket_no), np.std(bucket_no)))\n",
        "\n",
        "# Fail to reject H0: Sample distributions are equal.\n",
        "# Reject H0: Sample distributions are not equal.\n",
        "\n",
        "stat, p = ttest_ind(bucket_yes, bucket_no)\n",
        "print('Statistics = %.3f, p = %.3f' % (stat, p))\n",
        "\n",
        "alpha = 0.05\n",
        "if p > alpha:\n",
        "\tprint('Same distributions (fail to reject H0)')\n",
        "else:\n",
        "\tprint('Different distributions (reject H0)')"
      ],
      "execution_count": 0,
      "outputs": [
        {
          "output_type": "stream",
          "text": [
            "Yes : mean = 66869.422, stdv = 48733.699\n",
            "No : mean = 66738.667, stdv = 51094.060\n",
            "Statistics = 0.069, p = 0.945\n",
            "Same distributions (fail to reject H0)\n"
          ],
          "name": "stdout"
        }
      ]
    },
    {
      "cell_type": "markdown",
      "metadata": {
        "id": "IS9EM6w6w16r",
        "colab_type": "text"
      },
      "source": [
        "## 3.2. Significance of OpenSourcer"
      ]
    },
    {
      "cell_type": "code",
      "metadata": {
        "id": "d4Gh5E-oxffT",
        "colab_type": "code",
        "outputId": "fe23d2fa-72d4-40b5-91e5-b77ab0fac1cf",
        "colab": {
          "base_uri": "https://localhost:8080/",
          "height": 241
        }
      },
      "source": [
        "opensourcer_salary = average_salary_column(\"OpenSourcer\", data_eu).sort_values(0)\n",
        "\n",
        "print(\"Never: \" + str(len(data_eu[data_eu[\"OpenSourcer\"] == \"Never\"]))\n",
        "     + \"\\n<1/year: \" + str(len(data_eu[data_eu[\"OpenSourcer\"] == \"Less than once per year\"]))\n",
        "      +\"\\n<1/month: \" + str(len(data_eu[data_eu[\"OpenSourcer\"] == \"Less than once a month but more than once per year\"]))\n",
        "      +\"\\n>=1/month: \" + str(len(data_eu[data_eu[\"OpenSourcer\"] == \"Once a month or more often\"])))\n",
        "\n",
        "opensourcer_salary"
      ],
      "execution_count": 0,
      "outputs": [
        {
          "output_type": "stream",
          "text": [
            "Never: 2515\n",
            "<1/year: 2612\n",
            "<1/month: 2369\n",
            ">=1/month: 1133\n"
          ],
          "name": "stdout"
        },
        {
          "output_type": "execute_result",
          "data": {
            "text/html": [
              "<div>\n",
              "<style scoped>\n",
              "    .dataframe tbody tr th:only-of-type {\n",
              "        vertical-align: middle;\n",
              "    }\n",
              "\n",
              "    .dataframe tbody tr th {\n",
              "        vertical-align: top;\n",
              "    }\n",
              "\n",
              "    .dataframe thead th {\n",
              "        text-align: right;\n",
              "    }\n",
              "</style>\n",
              "<table border=\"1\" class=\"dataframe\">\n",
              "  <thead>\n",
              "    <tr style=\"text-align: right;\">\n",
              "      <th></th>\n",
              "      <th>0</th>\n",
              "    </tr>\n",
              "  </thead>\n",
              "  <tbody>\n",
              "    <tr>\n",
              "      <th>Never</th>\n",
              "      <td>62722.573042</td>\n",
              "    </tr>\n",
              "    <tr>\n",
              "      <th>Less than once per year</th>\n",
              "      <td>65057.164587</td>\n",
              "    </tr>\n",
              "    <tr>\n",
              "      <th>Less than once a month but more than once per year</th>\n",
              "      <td>67282.168852</td>\n",
              "    </tr>\n",
              "    <tr>\n",
              "      <th>Once a month or more often</th>\n",
              "      <td>73081.324325</td>\n",
              "    </tr>\n",
              "  </tbody>\n",
              "</table>\n",
              "</div>"
            ],
            "text/plain": [
              "                                                              0\n",
              "Never                                              62722.573042\n",
              "Less than once per year                            65057.164587\n",
              "Less than once a month but more than once per year 67282.168852\n",
              "Once a month or more often                         73081.324325"
            ]
          },
          "metadata": {
            "tags": []
          },
          "execution_count": 22
        }
      ]
    },
    {
      "cell_type": "code",
      "metadata": {
        "id": "Iopl3PXAw79X",
        "colab_type": "code",
        "outputId": "47c4b3af-1ab0-4030-dc9b-6638d6fe1a64",
        "colab": {
          "base_uri": "https://localhost:8080/",
          "height": 580
        }
      },
      "source": [
        "plt.rcParams['figure.figsize'] = [7, 5]\n",
        "opensourcer_salary.plot(kind = \"bar\")\n",
        "plt.show()\n",
        "\n",
        "# We can clearly see an upward trend.\n",
        "# Salary tends to increase with involvement of opensource contribution."
      ],
      "execution_count": 0,
      "outputs": [
        {
          "output_type": "display_data",
          "data": {
            "image/png": "[encoded data removed]",
            "text/plain": [
              "<Figure size 504x360 with 1 Axes>"
            ]
          },
          "metadata": {
            "tags": []
          }
        }
      ]
    },
    {
      "cell_type": "markdown",
      "metadata": {
        "id": "1xwqtdMnzCbv",
        "colab_type": "text"
      },
      "source": [
        "## 3.3. Significance of Employment"
      ]
    },
    {
      "cell_type": "code",
      "metadata": {
        "id": "pfYDWrY2zFDy",
        "colab_type": "code",
        "outputId": "67a778d2-cf63-4f66-ba31-60009a9de089",
        "colab": {
          "base_uri": "https://localhost:8080/",
          "height": 173
        }
      },
      "source": [
        "employment_salary = average_salary_column(\"Employment\", data_eu).sort_values(0)\n",
        "\n",
        "employment_salary\n",
        "\n",
        "# I don't think I need to say anything here. Results are common sense.\n",
        "# We will exclude nan and contractor from model building/training."
      ],
      "execution_count": 0,
      "outputs": [
        {
          "output_type": "execute_result",
          "data": {
            "text/html": [
              "<div>\n",
              "<style scoped>\n",
              "    .dataframe tbody tr th:only-of-type {\n",
              "        vertical-align: middle;\n",
              "    }\n",
              "\n",
              "    .dataframe tbody tr th {\n",
              "        vertical-align: top;\n",
              "    }\n",
              "\n",
              "    .dataframe thead th {\n",
              "        text-align: right;\n",
              "    }\n",
              "</style>\n",
              "<table border=\"1\" class=\"dataframe\">\n",
              "  <thead>\n",
              "    <tr style=\"text-align: right;\">\n",
              "      <th></th>\n",
              "      <th>0</th>\n",
              "    </tr>\n",
              "  </thead>\n",
              "  <tbody>\n",
              "    <tr>\n",
              "      <th>Employed part-time</th>\n",
              "      <td>44265.861169</td>\n",
              "    </tr>\n",
              "    <tr>\n",
              "      <th>Employed full-time</th>\n",
              "      <td>61305.678724</td>\n",
              "    </tr>\n",
              "    <tr>\n",
              "      <th>nan</th>\n",
              "      <td>67180.000000</td>\n",
              "    </tr>\n",
              "    <tr>\n",
              "      <th>Independent contractor, freelancer, or self-employed</th>\n",
              "      <td>98796.955507</td>\n",
              "    </tr>\n",
              "  </tbody>\n",
              "</table>\n",
              "</div>"
            ],
            "text/plain": [
              "                                                              0\n",
              "Employed part-time                                 44265.861169\n",
              "Employed full-time                                 61305.678724\n",
              "nan                                                67180.000000\n",
              "Independent contractor, freelancer, or self-emp... 98796.955507"
            ]
          },
          "metadata": {
            "tags": []
          },
          "execution_count": 89
        }
      ]
    },
    {
      "cell_type": "markdown",
      "metadata": {
        "id": "cvrcLGp32Y4I",
        "colab_type": "text"
      },
      "source": [
        "## 3.4. Significance of Country"
      ]
    },
    {
      "cell_type": "code",
      "metadata": {
        "id": "y3WIW1PB2bDz",
        "colab_type": "code",
        "outputId": "ae1500f5-a65a-4786-84ab-1f6d27de4401",
        "colab": {
          "base_uri": "https://localhost:8080/",
          "height": 374
        }
      },
      "source": [
        "country_salary = average_salary_column(\"Country\", data_eu).sort_values(0).plot(kind = \"bar\")\n",
        "\n",
        "# We can very clearly see that there is a significance in country.\n",
        "# Further information can be found at Harnham's salary guide 2019.\n",
        "# link: https://www.harnham.com/salary-guide"
      ],
      "execution_count": 0,
      "outputs": [
        {
          "output_type": "display_data",
          "data": {
            "image/png": "[encoded data removed]",
            "text/plain": [
              "<Figure size 504x360 with 1 Axes>"
            ]
          },
          "metadata": {
            "tags": []
          }
        }
      ]
    },
    {
      "cell_type": "code",
      "metadata": {
        "id": "QBEqDDqE27t7",
        "colab_type": "code",
        "outputId": "f00a7590-7fb6-430b-ce36-4c9d2232b8a4",
        "colab": {
          "base_uri": "https://localhost:8080/",
          "height": 381
        }
      },
      "source": [
        "country_salary = average_salary_column(\"Country\", data_na).sort_values(0).plot(kind = \"bar\")"
      ],
      "execution_count": 0,
      "outputs": [
        {
          "output_type": "display_data",
          "data": {
            "image/png": "[encoded data removed]",
            "text/plain": [
              "<Figure size 504x360 with 1 Axes>"
            ]
          },
          "metadata": {
            "tags": []
          }
        }
      ]
    },
    {
      "cell_type": "markdown",
      "metadata": {
        "id": "diy6JXWy4LoV",
        "colab_type": "text"
      },
      "source": [
        "## 3.5. Does it matter if you study while working?"
      ]
    },
    {
      "cell_type": "code",
      "metadata": {
        "id": "K6pVptQ04XtE",
        "colab_type": "code",
        "cellView": "code",
        "outputId": "a7d3286e-9f2d-4341-a9a8-059880e2f17d",
        "colab": {
          "base_uri": "https://localhost:8080/",
          "height": 383
        }
      },
      "source": [
        "students_salary = average_salary_column(\"Student\", data_eu).sort_values(0).plot(kind = \"bar\")\n",
        "\n",
        "# We can see that it definitely matters whether you study (full-time or part-time) or not.\n",
        "# However, we need to ask ourselves whether it's because those studying are working\n",
        "# full- or part-time as well, which might impact the salary."
      ],
      "execution_count": 0,
      "outputs": [
        {
          "output_type": "display_data",
          "data": {
            "image/png": "[encoded data removed]",
            "text/plain": [
              "<Figure size 504x360 with 1 Axes>"
            ]
          },
          "metadata": {
            "tags": []
          }
        }
      ]
    },
    {
      "cell_type": "code",
      "metadata": {
        "id": "cfBFyZqW4o1c",
        "colab_type": "code",
        "outputId": "b5a37b33-0325-47b5-b2cf-58de3b8dfee6",
        "colab": {
          "base_uri": "https://localhost:8080/",
          "height": 51
        }
      },
      "source": [
        "print(data_eu[\"Student\"].isna().sum())\n",
        "\n",
        "print(len(data_eu[\"Student\"]))\n",
        "\n",
        "# The number of nan is so insignificantly small that we can either assume\n",
        "# that they are people who didn't bother answering \"No\", or just remove\n",
        "# those rows when training our model. We might try both, and check val results."
      ],
      "execution_count": 0,
      "outputs": [
        {
          "output_type": "stream",
          "text": [
            "37\n",
            "8629\n"
          ],
          "name": "stdout"
        }
      ]
    },
    {
      "cell_type": "markdown",
      "metadata": {
        "id": "T5GFTeDw6rAz",
        "colab_type": "text"
      },
      "source": [
        "## 3.6. Does it matter what you studied?"
      ]
    },
    {
      "cell_type": "code",
      "metadata": {
        "id": "2K3GwZXQ6txN",
        "colab_type": "code",
        "outputId": "599b1d9c-a027-4779-e52c-8c09cd0e3ea7",
        "colab": {
          "base_uri": "https://localhost:8080/",
          "height": 710
        }
      },
      "source": [
        "ed_salary = average_salary_column(\"EdLevel\", data_eu).sort_values(0)\n",
        "ed_salary.plot(kind = \"bar\")\n",
        "\n",
        "# We can see that there are definitely differences but it's not necessarily\n",
        "# in an intuitive order, as we can see PhD earning less than BSc and MSc,\n",
        "# and those who didn't complete formal education earn more than those with MSc.\n",
        "\n",
        "# However, we will still include EdLevel and measure through our validation\n",
        "# results of the model on whether they contribute or not to increased accuracy."
      ],
      "execution_count": 0,
      "outputs": [
        {
          "output_type": "execute_result",
          "data": {
            "text/plain": [
              "<matplotlib.axes._subplots.AxesSubplot at 0x7f87c0c75550>"
            ]
          },
          "metadata": {
            "tags": []
          },
          "execution_count": 27
        },
        {
          "output_type": "display_data",
          "data": {
            "image/png": "[encoded data removed]",
            "text/plain": [
              "<Figure size 432x288 with 1 Axes>"
            ]
          },
          "metadata": {
            "tags": []
          }
        }
      ]
    },
    {
      "cell_type": "code",
      "metadata": {
        "id": "xU2Vg46E7Q8J",
        "colab_type": "code",
        "outputId": "9fced749-8723-4eb7-c338-d364402aca07",
        "colab": {
          "base_uri": "https://localhost:8080/",
          "height": 359
        }
      },
      "source": [
        "ed_salary"
      ],
      "execution_count": 0,
      "outputs": [
        {
          "output_type": "execute_result",
          "data": {
            "text/html": [
              "<div>\n",
              "<style scoped>\n",
              "    .dataframe tbody tr th:only-of-type {\n",
              "        vertical-align: middle;\n",
              "    }\n",
              "\n",
              "    .dataframe tbody tr th {\n",
              "        vertical-align: top;\n",
              "    }\n",
              "\n",
              "    .dataframe thead th {\n",
              "        text-align: right;\n",
              "    }\n",
              "</style>\n",
              "<table border=\"1\" class=\"dataframe\">\n",
              "  <thead>\n",
              "    <tr style=\"text-align: right;\">\n",
              "      <th></th>\n",
              "      <th>0</th>\n",
              "    </tr>\n",
              "  </thead>\n",
              "  <tbody>\n",
              "    <tr>\n",
              "      <th>Secondary school (e.g. American high school, German Realschule or Gymnasium, etc.)</th>\n",
              "      <td>58859.865276</td>\n",
              "    </tr>\n",
              "    <tr>\n",
              "      <th>nan</th>\n",
              "      <td>59040.686294</td>\n",
              "    </tr>\n",
              "    <tr>\n",
              "      <th>Associate degree</th>\n",
              "      <td>59131.154487</td>\n",
              "    </tr>\n",
              "    <tr>\n",
              "      <th>Professional degree (JD, MD, etc.)</th>\n",
              "      <td>60094.771200</td>\n",
              "    </tr>\n",
              "    <tr>\n",
              "      <th>Some college/university study without earning a degree</th>\n",
              "      <td>60958.882334</td>\n",
              "    </tr>\n",
              "    <tr>\n",
              "      <th>Bachelor’s degree (BA, BS, B.Eng., etc.)</th>\n",
              "      <td>65681.247921</td>\n",
              "    </tr>\n",
              "    <tr>\n",
              "      <th>Master’s degree (MA, MS, M.Eng., MBA, etc.)</th>\n",
              "      <td>68873.508624</td>\n",
              "    </tr>\n",
              "    <tr>\n",
              "      <th>I never completed any formal education</th>\n",
              "      <td>70525.412500</td>\n",
              "    </tr>\n",
              "    <tr>\n",
              "      <th>Primary/elementary school</th>\n",
              "      <td>72268.832432</td>\n",
              "    </tr>\n",
              "    <tr>\n",
              "      <th>Other doctoral degree (Ph.D, Ed.D., etc.)</th>\n",
              "      <td>81371.727907</td>\n",
              "    </tr>\n",
              "  </tbody>\n",
              "</table>\n",
              "</div>"
            ],
            "text/plain": [
              "                                                              0\n",
              "Secondary school (e.g. American high school, Ge... 58859.865276\n",
              "nan                                                59040.686294\n",
              "Associate degree                                   59131.154487\n",
              "Professional degree (JD, MD, etc.)                 60094.771200\n",
              "Some college/university study without earning a... 60958.882334\n",
              "Bachelor’s degree (BA, BS, B.Eng., etc.)           65681.247921\n",
              "Master’s degree (MA, MS, M.Eng., MBA, etc.)        68873.508624\n",
              "I never completed any formal education             70525.412500\n",
              "Primary/elementary school                          72268.832432\n",
              "Other doctoral degree (Ph.D, Ed.D., etc.)          81371.727907"
            ]
          },
          "metadata": {
            "tags": []
          },
          "execution_count": 30
        }
      ]
    },
    {
      "cell_type": "markdown",
      "metadata": {
        "id": "U04-lhwu8ZoK",
        "colab_type": "text"
      },
      "source": [
        "## 3.7. What about other non-formal education?"
      ]
    },
    {
      "cell_type": "code",
      "metadata": {
        "id": "RdzY5Uxb-d_m",
        "colab_type": "code",
        "outputId": "37cc8615-1a42-4aad-fff9-3e49f494efb0",
        "colab": {
          "base_uri": "https://localhost:8080/",
          "height": 747
        }
      },
      "source": [
        "data_eu_test = data_eu[data_eu[\"CompTotal\"] < 90000]\n",
        "data_eu_test = data_eu[data_eu[\"CompTotal\"] > 15000]\n",
        "\n",
        "data_test = pd.concat([encodem(data_eu_test[\"EduOther\"]),\n",
        "                       data_eu_test[\"CompTotal\"]], axis = 1)\n",
        "\n",
        "data_test.CompTotal = (data_test.CompTotal - min(data_test.CompTotal)) / (max(data_test.CompTotal) - min(data_test.CompTotal))\n",
        "\n",
        "sns.heatmap(data_test.corr())\n",
        "\n",
        "# We can see that there's a significant correlation, even if it isn't very visible.\n",
        "# Let us take a look at the actual numbers."
      ],
      "execution_count": 0,
      "outputs": [
        {
          "output_type": "execute_result",
          "data": {
            "text/plain": [
              "<matplotlib.axes._subplots.AxesSubplot at 0x7f2f3597b9b0>"
            ]
          },
          "metadata": {
            "tags": []
          },
          "execution_count": 31
        },
        {
          "output_type": "display_data",
          "data": {
            "image/png": "[encoded data removed]",
            "text/plain": [
              "<Figure size 504x360 with 2 Axes>"
            ]
          },
          "metadata": {
            "tags": []
          }
        }
      ]
    },
    {
      "cell_type": "code",
      "metadata": {
        "id": "M-m7hhi3CuTP",
        "colab_type": "code",
        "outputId": "be33a023-a26b-40e4-fbcd-2b2179d7c2c9",
        "colab": {
          "base_uri": "https://localhost:8080/",
          "height": 204
        }
      },
      "source": [
        "data_test.corr().sort_values(\"CompTotal\").CompTotal\n",
        "# Yes, we can see that there's as much as 8% correlation with increased salary,\n",
        "# which is definitely significant as far as salaries go."
      ],
      "execution_count": 0,
      "outputs": [
        {
          "output_type": "execute_result",
          "data": {
            "text/plain": [
              "Participated in online coding competitions (e.g. HackerRank, CodeChef, TopCoder)    0.007894\n",
              "Taken an online course in programming or software development (e.g. a MOOC)         0.008089\n",
              "Taught yourself a new language, framework, or tool without taking a formal course   0.023928\n",
              "Received on-the-job training in software development                                0.027758\n",
              "Participated in a full-time developer training program or bootcamp                  0.042248\n",
              "Taken a part-time in-person course in programming or software development           0.047842\n",
              "Participated in a hackathon                                                         0.059957\n",
              "Completed an industry certification program (e.g. MCPD)                             0.077395\n",
              "Contributed to open source software                                                 0.080192\n",
              "CompTotal                                                                           1.000000\n",
              "Name: CompTotal, dtype: float64"
            ]
          },
          "metadata": {
            "tags": []
          },
          "execution_count": 32
        }
      ]
    },
    {
      "cell_type": "code",
      "metadata": {
        "id": "OoRDCyzo8kN0",
        "colab_type": "code",
        "outputId": "24f32fef-6396-44b7-c3b2-3389c8167ff9",
        "colab": {
          "base_uri": "https://localhost:8080/",
          "height": 746
        }
      },
      "source": [
        "oed_salary = average_salary_column(\"EduOther\", data_eu).sort_values(0)\n",
        "plt.rcParams['figure.figsize'] = [10, 5] # Set figure size\n",
        "oed_salary.plot(kind = \"bar\")"
      ],
      "execution_count": 0,
      "outputs": [
        {
          "output_type": "execute_result",
          "data": {
            "text/plain": [
              "<matplotlib.axes._subplots.AxesSubplot at 0x7f2f357f7860>"
            ]
          },
          "metadata": {
            "tags": []
          },
          "execution_count": 39
        },
        {
          "output_type": "display_data",
          "data": {
            "image/png": "[encoded data removed]",
            "text/plain": [
              "<Figure size 720x360 with 1 Axes>"
            ]
          },
          "metadata": {
            "tags": []
          }
        }
      ]
    },
    {
      "cell_type": "markdown",
      "metadata": {
        "id": "C1CroWB9yXeY",
        "colab_type": "text"
      },
      "source": [
        "## 3.8. How does organizational size impact salary?"
      ]
    },
    {
      "cell_type": "code",
      "metadata": {
        "id": "OBg6PDmmyY0w",
        "colab_type": "code",
        "outputId": "9129d8cc-0366-47b6-caee-b9ba8c1e1390",
        "colab": {
          "base_uri": "https://localhost:8080/",
          "height": 359
        }
      },
      "source": [
        "org_salary = average_salary_column(\"OrgSize\", data_eu).sort_values(0)\n",
        "org_salary\n",
        "\n",
        "# We can see that there's a significant climb, even if we disregard\n",
        "# the sole proprietors/freelancers."
      ],
      "execution_count": 0,
      "outputs": [
        {
          "output_type": "execute_result",
          "data": {
            "text/html": [
              "<div>\n",
              "<style scoped>\n",
              "    .dataframe tbody tr th:only-of-type {\n",
              "        vertical-align: middle;\n",
              "    }\n",
              "\n",
              "    .dataframe tbody tr th {\n",
              "        vertical-align: top;\n",
              "    }\n",
              "\n",
              "    .dataframe thead th {\n",
              "        text-align: right;\n",
              "    }\n",
              "</style>\n",
              "<table border=\"1\" class=\"dataframe\">\n",
              "  <thead>\n",
              "    <tr style=\"text-align: right;\">\n",
              "      <th></th>\n",
              "      <th>0</th>\n",
              "    </tr>\n",
              "  </thead>\n",
              "  <tbody>\n",
              "    <tr>\n",
              "      <th>nan</th>\n",
              "      <td>55889.805556</td>\n",
              "    </tr>\n",
              "    <tr>\n",
              "      <th>10 to 19 employees</th>\n",
              "      <td>58872.732735</td>\n",
              "    </tr>\n",
              "    <tr>\n",
              "      <th>2-9 employees</th>\n",
              "      <td>60808.717832</td>\n",
              "    </tr>\n",
              "    <tr>\n",
              "      <th>20 to 99 employees</th>\n",
              "      <td>61672.755349</td>\n",
              "    </tr>\n",
              "    <tr>\n",
              "      <th>100 to 499 employees</th>\n",
              "      <td>64440.230954</td>\n",
              "    </tr>\n",
              "    <tr>\n",
              "      <th>1,000 to 4,999 employees</th>\n",
              "      <td>65139.949760</td>\n",
              "    </tr>\n",
              "    <tr>\n",
              "      <th>500 to 999 employees</th>\n",
              "      <td>66992.048423</td>\n",
              "    </tr>\n",
              "    <tr>\n",
              "      <th>5,000 to 9,999 employees</th>\n",
              "      <td>69750.472474</td>\n",
              "    </tr>\n",
              "    <tr>\n",
              "      <th>10,000 or more employees</th>\n",
              "      <td>76807.673506</td>\n",
              "    </tr>\n",
              "    <tr>\n",
              "      <th>Just me - I am a freelancer, sole proprietor, etc.</th>\n",
              "      <td>99432.160401</td>\n",
              "    </tr>\n",
              "  </tbody>\n",
              "</table>\n",
              "</div>"
            ],
            "text/plain": [
              "                                                              0\n",
              "nan                                                55889.805556\n",
              "10 to 19 employees                                 58872.732735\n",
              "2-9 employees                                      60808.717832\n",
              "20 to 99 employees                                 61672.755349\n",
              "100 to 499 employees                               64440.230954\n",
              "1,000 to 4,999 employees                           65139.949760\n",
              "500 to 999 employees                               66992.048423\n",
              "5,000 to 9,999 employees                           69750.472474\n",
              "10,000 or more employees                           76807.673506\n",
              "Just me - I am a freelancer, sole proprietor, etc. 99432.160401"
            ]
          },
          "metadata": {
            "tags": []
          },
          "execution_count": 34
        }
      ]
    },
    {
      "cell_type": "code",
      "metadata": {
        "id": "4z_qkRHX3xzs",
        "colab_type": "code",
        "outputId": "e07259c6-6bca-4931-a952-df6a18f8656d",
        "colab": {
          "base_uri": "https://localhost:8080/",
          "height": 187
        }
      },
      "source": [
        "print(\"1: \" + str(len(data_eu[data_eu[\"OrgSize\"] == \"Just me - I am a freelancer, sole proprietor, etc.\"]))\n",
        "     +\"\\n2-9: \" + str(len(data_eu[data_eu[\"OrgSize\"] == \"2-9 employees\"]))\n",
        "     +\"\\n10-19: \" + str(len(data_eu[data_eu[\"OrgSize\"] == \"10 to 19 employees\"]))\n",
        "     +\"\\n20-99: \" + str(len(data_eu[data_eu[\"OrgSize\"] == \"20 to 99 employees\"]))\n",
        "     +\"\\n100-499: \" + str(len(data_eu[data_eu[\"OrgSize\"] == \"100 to 499 employees\"]))\n",
        "     +\"\\n500-999: \" + str(len(data_eu[data_eu[\"OrgSize\"] == \"500 to 999 employees\"]))\n",
        "     +\"\\n1000-4999: \" + str(len(data_eu[data_eu[\"OrgSize\"] == \"1,000 to 4,999 employees\"]))\n",
        "     +\"\\n5000-9999: \" + str(len(data_eu[data_eu[\"OrgSize\"] == \"5,000 to 9,999 employees\"]))\n",
        "     +\"\\n10000+: \" + str(len(data_eu[data_eu[\"OrgSize\"] == \"10,000 or more employees\"])))\n",
        "\n",
        "print(\"nan :\" + str(data_eu[\"OrgSize\"].isna().sum()))"
      ],
      "execution_count": 0,
      "outputs": [
        {
          "output_type": "stream",
          "text": [
            "1: 399\n",
            "2-9: 867\n",
            "10-19: 947\n",
            "20-99: 2176\n",
            "100-499: 1583\n",
            "500-999: 539\n",
            "1000-4999: 835\n",
            "5000-9999: 287\n",
            "10000+: 924\n",
            "nan :72\n"
          ],
          "name": "stdout"
        }
      ]
    },
    {
      "cell_type": "code",
      "metadata": {
        "id": "MQj0jD8F3tD_",
        "colab_type": "code",
        "outputId": "f6b6fed3-a168-497f-8b06-d84e8f750fe9",
        "colab": {
          "base_uri": "https://localhost:8080/",
          "height": 567
        }
      },
      "source": [
        "org_salary.plot(kind = \"bar\")"
      ],
      "execution_count": 0,
      "outputs": [
        {
          "output_type": "execute_result",
          "data": {
            "text/plain": [
              "<matplotlib.axes._subplots.AxesSubplot at 0x7f2f357ea5c0>"
            ]
          },
          "metadata": {
            "tags": []
          },
          "execution_count": 40
        },
        {
          "output_type": "display_data",
          "data": {
            "image/png": "[encoded data removed]",
            "text/plain": [
              "<Figure size 720x360 with 1 Axes>"
            ]
          },
          "metadata": {
            "tags": []
          }
        }
      ]
    },
    {
      "cell_type": "markdown",
      "metadata": {
        "id": "y-7D0dX-0Rv4",
        "colab_type": "text"
      },
      "source": [
        "## 3.9. Relationship between professional code experience and salary"
      ]
    },
    {
      "cell_type": "code",
      "metadata": {
        "id": "ftDLZCj70Sib",
        "colab_type": "code",
        "outputId": "4587c784-3683-4b13-991d-32c27c6a7e82",
        "colab": {
          "base_uri": "https://localhost:8080/",
          "height": 427
        }
      },
      "source": [
        "exp_salary = average_salary_column(\"YearsCodePro\", data_eu).sort_values(0)\n",
        "exp_salary.plot(kind = \"bar\")\n",
        "\n",
        "# Nothing unexpected apart from the extreme outlier with \"41\"."
      ],
      "execution_count": 0,
      "outputs": [
        {
          "output_type": "execute_result",
          "data": {
            "text/plain": [
              "<matplotlib.axes._subplots.AxesSubplot at 0x7f2f358a0e48>"
            ]
          },
          "metadata": {
            "tags": []
          },
          "execution_count": 41
        },
        {
          "output_type": "display_data",
          "data": {
            "image/png": "[encoded data removed]",
            "text/plain": [
              "<Figure size 720x360 with 1 Axes>"
            ]
          },
          "metadata": {
            "tags": []
          }
        }
      ]
    },
    {
      "cell_type": "code",
      "metadata": {
        "id": "MDLpc9rY6rDW",
        "colab_type": "code",
        "outputId": "25fb0dbd-f03c-45d2-fff2-743c8717cb49",
        "colab": {
          "base_uri": "https://localhost:8080/",
          "height": 34
        }
      },
      "source": [
        "print(\"41 sample size: \" + str(len(data_eu[data_eu[\"YearsCodePro\"].isna()])))\n",
        "\n",
        "# Because we only have one sample of it. That's why.\n",
        "# We will disregard it during training, as it doesn't fit well between 40 and 50."
      ],
      "execution_count": 0,
      "outputs": [
        {
          "output_type": "stream",
          "text": [
            "41 sample size: 13\n"
          ],
          "name": "stdout"
        }
      ]
    },
    {
      "cell_type": "markdown",
      "metadata": {
        "id": "fkCPiEyU0eFF",
        "colab_type": "text"
      },
      "source": [
        "## 3.10. Are those actively seeking a job receiving a greater salary?"
      ]
    },
    {
      "cell_type": "code",
      "metadata": {
        "id": "TfC1l8y90dvR",
        "colab_type": "code",
        "outputId": "59b2c610-d4da-47d3-cdc8-789b7c09607e",
        "colab": {
          "base_uri": "https://localhost:8080/",
          "height": 142
        }
      },
      "source": [
        "job_salary = average_salary_column(\"JobSeek\", data_eu).sort_values(0)\n",
        "job_salary\n",
        "#job_salary.plot(kind = \"bar\")\n",
        "\n",
        "# Even IF there is a statistical significance; it appears negligible."
      ],
      "execution_count": 0,
      "outputs": [
        {
          "output_type": "execute_result",
          "data": {
            "text/html": [
              "<div>\n",
              "<style scoped>\n",
              "    .dataframe tbody tr th:only-of-type {\n",
              "        vertical-align: middle;\n",
              "    }\n",
              "\n",
              "    .dataframe tbody tr th {\n",
              "        vertical-align: top;\n",
              "    }\n",
              "\n",
              "    .dataframe thead th {\n",
              "        text-align: right;\n",
              "    }\n",
              "</style>\n",
              "<table border=\"1\" class=\"dataframe\">\n",
              "  <thead>\n",
              "    <tr style=\"text-align: right;\">\n",
              "      <th></th>\n",
              "      <th>0</th>\n",
              "    </tr>\n",
              "  </thead>\n",
              "  <tbody>\n",
              "    <tr>\n",
              "      <th>I am actively looking for a job</th>\n",
              "      <td>65332.950497</td>\n",
              "    </tr>\n",
              "    <tr>\n",
              "      <th>I am not interested in new job opportunities</th>\n",
              "      <td>65932.448114</td>\n",
              "    </tr>\n",
              "    <tr>\n",
              "      <th>I’m not actively looking, but I am open to new opportunities</th>\n",
              "      <td>66202.981896</td>\n",
              "    </tr>\n",
              "  </tbody>\n",
              "</table>\n",
              "</div>"
            ],
            "text/plain": [
              "                                                              0\n",
              "I am actively looking for a job                    65332.950497\n",
              "I am not interested in new job opportunities       65932.448114\n",
              "I’m not actively looking, but I am open to new ... 66202.981896"
            ]
          },
          "metadata": {
            "tags": []
          },
          "execution_count": 44
        }
      ]
    },
    {
      "cell_type": "markdown",
      "metadata": {
        "id": "wZlKnPBJFD0q",
        "colab_type": "text"
      },
      "source": [
        "# 4. Data Validation & Imputation"
      ]
    },
    {
      "cell_type": "markdown",
      "metadata": {
        "id": "uetG7xo9uBIJ",
        "colab_type": "text"
      },
      "source": [
        "## 4.0. Analysis"
      ]
    },
    {
      "cell_type": "code",
      "metadata": {
        "id": "mI8C2xhjIo4N",
        "colab_type": "code",
        "colab": {}
      },
      "source": [
        "# Short summary of data exploration for validation purposes\n",
        "\n",
        "\"\"\"\n",
        "Hobbyist ///tested: not significant\n",
        "OpenSourcer ///tested: significant/\n",
        "Employment ///assumed significant/\n",
        "Country ///assumed significant/\n",
        "Student ///assumed significant/\n",
        "EdLevel ///see FAQ @readme/\n",
        "UndergradMajor ///see FAQ @readme\n",
        "EduOther ///see FAQ @readme/\n",
        "OrgSize ///assumed significant/\n",
        "DevType ///assumed significant/\n",
        "YearsCode ///disregarded; see FAQ @readme\n",
        "YearsCodePro ///assumed significant/\n",
        "JobSeek ///assumed insignificant\n",
        "LastHireDate /// will not be used, see FAQ @readme\n",
        "FizzBuzz ///tested: significant!, see FAQ @readme/\n",
        "CompTotal : y label\n",
        "Languages /// test through val/\n",
        "Database /// test through val/\n",
        "Platform /// test through val/\n",
        "Webframes /// test through val/\n",
        "MiscTech /// test through val/\n",
        "\"\"\""
      ],
      "execution_count": 0,
      "outputs": []
    },
    {
      "cell_type": "code",
      "metadata": {
        "id": "Q3BrPNEdDfHs",
        "colab_type": "code",
        "outputId": "a0107e98-b0bd-44f3-96e3-720a79ea4885",
        "colab": {
          "base_uri": "https://localhost:8080/",
          "height": 306
        }
      },
      "source": [
        "# We check how many rows have nan in specified category,\n",
        "# and how much percentage of the whole dataset.\n",
        "\n",
        "print(\"__Missing values__\" + \n",
        "      \"\\nOpenSourcer: \" + str(data_eu[\"OpenSourcer\"].isna().sum()) + \"\\n%: \" + str(data_eu[\"OpenSourcer\"].isna().sum()/len(data_eu))\n",
        "     +\"\\nEmployment: \" + str(data_eu[\"Employment\"].isna().sum()) + \"\\n%: \" + str(data_eu[\"Employment\"].isna().sum()/len(data_eu))\n",
        "     +\"\\nCountry: \" + str(data_eu[\"Country\"].isna().sum()) + \"\\n%: \" + str(data_eu[\"Country\"].isna().sum()/len(data_eu))\n",
        "     +\"\\nStudent: \" + str(data_eu[\"Student\"].isna().sum()) + \"\\n%: \" + str(data_eu[\"Student\"].isna().sum()/len(data_eu))\n",
        "     +\"\\nEdLevel: \" + str(data_eu[\"EdLevel\"].isna().sum()) + \"\\n%: \" + str(data_eu[\"EdLevel\"].isna().sum()/len(data_eu))\n",
        "     +\"\\nOrgSize: \" + str(data_eu[\"OrgSize\"].isna().sum()) + \"\\n%: \" + str(data_eu[\"OrgSize\"].isna().sum()/len(data_eu))\n",
        "     +\"\\nYearsCodePro: \" + str(data_eu[\"YearsCodePro\"].isna().sum()) + \"\\n%: \" + str(data_eu[\"YearsCodePro\"].isna().sum()/len(data_eu))\n",
        "     +\"\\nFizzBuzz: \" + str(data_eu[\"FizzBuzz\"].isna().sum()) + \"\\n%: \" + str(data_eu[\"FizzBuzz\"].isna().sum()/len(data_eu)))"
      ],
      "execution_count": 0,
      "outputs": [
        {
          "output_type": "stream",
          "text": [
            "__Missing values__\n",
            "OpenSourcer: 0\n",
            "%: 0.0\n",
            "Employment: 12\n",
            "%: 0.0013906594043342217\n",
            "Country: 0\n",
            "%: 0.0\n",
            "Student: 37\n",
            "%: 0.004287866496697184\n",
            "EdLevel: 197\n",
            "%: 0.02282999188782014\n",
            "OrgSize: 72\n",
            "%: 0.008343956426005331\n",
            "YearsCodePro: 13\n",
            "%: 0.0015065476880287403\n",
            "FizzBuzz: 62\n",
            "%: 0.007185073589060146\n"
          ],
          "name": "stdout"
        }
      ]
    },
    {
      "cell_type": "code",
      "metadata": {
        "id": "nxAuEMg8SooD",
        "colab_type": "code",
        "outputId": "9c292250-47dd-4760-cfcc-bad90771cb63",
        "colab": {
          "base_uri": "https://localhost:8080/",
          "height": 85
        }
      },
      "source": [
        "# We check how many end up dropping for validation purposes,\n",
        "# and how many of those rows contained multiple nan.\n",
        "\n",
        "print(len(data_eu))\n",
        "test = data_eu.dropna(subset=['Employment'], axis=0)\n",
        "test = test.dropna(subset=['Student'], axis=0)\n",
        "test = test.dropna(subset=['EdLevel'], axis=0)\n",
        "test = test.dropna(subset=['OrgSize'], axis=0)\n",
        "test = test.dropna(subset=['YearsCodePro'], axis=0)\n",
        "test = test.dropna(subset=['FizzBuzz'], axis=0)\n",
        "print(len(test) - len(data_eu))\n",
        "print(12+37+197+72+13+62)\n",
        "print(393-365)"
      ],
      "execution_count": 0,
      "outputs": [
        {
          "output_type": "stream",
          "text": [
            "8629\n",
            "-365\n",
            "393\n",
            "28\n"
          ],
          "name": "stdout"
        }
      ]
    },
    {
      "cell_type": "markdown",
      "metadata": {
        "id": "Ojqtnn-dtrK1",
        "colab_type": "text"
      },
      "source": [
        "## 4.1. Imputation functions"
      ]
    },
    {
      "cell_type": "code",
      "metadata": {
        "id": "53lOVurzo3JB",
        "colab_type": "code",
        "colab": {}
      },
      "source": [
        "# Impute Student to Yes/No\n",
        "def proc_student(student):\n",
        "    if student in (\"Yes, full-time\", \"Yes, part-time\"):\n",
        "        return \"Yes\"\n",
        "    else:\n",
        "        return \"No\"\n",
        "    \n",
        "#test = data_eu.copy()\n",
        "#test[\"Student\"] = test.Student.apply(proc_student)\n",
        "#test.Student"
      ],
      "execution_count": 0,
      "outputs": []
    },
    {
      "cell_type": "code",
      "metadata": {
        "id": "P7IcIBZ4p2jY",
        "colab_type": "code",
        "colab": {}
      },
      "source": [
        "# Transform str to int\n",
        "def proc_yearscodepro(yearscodepro):\n",
        "    if yearscodepro in (\"Less than 1 year\"):\n",
        "        return 0\n",
        "    if yearscodepro in (\"More than 50 years\"):\n",
        "        return 51\n",
        "    else:\n",
        "        return int(yearscodepro)\n",
        "    \n",
        "#test = data_eu.copy()\n",
        "#test = test.dropna(subset = [\"YearsCodePro\"], axis = 0)\n",
        "#test[\"YearsCodePro\"] = test.YearsCodePro.apply(proc_yearscodepro)\n",
        "#test.YearsCodePro"
      ],
      "execution_count": 0,
      "outputs": []
    },
    {
      "cell_type": "markdown",
      "metadata": {
        "id": "7jk-HhZut2YZ",
        "colab_type": "text"
      },
      "source": [
        "## 4.2. Final processing"
      ]
    },
    {
      "cell_type": "code",
      "metadata": {
        "id": "dekfhJCeA6-M",
        "colab_type": "code",
        "colab": {}
      },
      "source": [
        "data_eu0 = data_eu.dropna(subset=['Employment'], axis=0)\n",
        "data_eu0 = data_eu0.dropna(subset=['Student'], axis=0)\n",
        "data_eu0 = data_eu0.dropna(subset=['EdLevel'], axis=0)\n",
        "data_eu0 = data_eu0.dropna(subset=['OrgSize'], axis=0)\n",
        "data_eu0 = data_eu0.dropna(subset=['YearsCodePro'], axis=0)\n",
        "data_eu0 = data_eu0.dropna(subset=['FizzBuzz'], axis=0)\n",
        "\n",
        "data_eu0[\"Student\"] = data_eu0.Student.apply(proc_student)\n",
        "data_eu0[\"YearsCodePro\"] = data_eu0.YearsCodePro.apply(proc_yearscodepro)\n",
        "data_eu0.YearsCodePro = data_eu0.YearsCodePro / 51\n",
        "\n",
        "# Concatenate processed data with regards to dummy variable trap\n",
        "data_eu_model = pd.concat([encode(data_eu0[\"OpenSourcer\"]).iloc[:, :-1],\n",
        "                           encode(data_eu0[\"Employment\"]).iloc[:, :-1], #consider dropping rows with sole proprietor/freelancer\n",
        "                           encode(data_eu0[\"Country\"]).iloc[:, :-1],\n",
        "                           encode(data_eu0[\"Student\"]).iloc[:, :-1],\n",
        "                           encode(data_eu0[\"EdLevel\"]).iloc[:, :-1],\n",
        "                           encodem(data_eu0[\"EduOther\"]),\n",
        "                           encode(data_eu0[\"OrgSize\"]).iloc[:, :-1], #consider dropping rows with size = 1\n",
        "                           data_eu0[\"YearsCodePro\"],\n",
        "                           encode(data_eu0[\"FizzBuzz\"]).iloc[:, :-1],\n",
        "                           encodem(data_eu0[\"LanguageWorkedWith\"]),\n",
        "                           encodem(data_eu0[\"DatabaseWorkedWith\"]),\n",
        "                           encodem(data_eu0[\"PlatformWorkedWith\"]),\n",
        "                           encodem(data_eu0[\"WebFrameWorkedWith\"]),\n",
        "                           encodem(data_eu0[\"MiscTechWorkedWith\"]),\n",
        "                           encodem(data_eu0[\"DevType\"])], axis = 1)"
      ],
      "execution_count": 0,
      "outputs": []
    },
    {
      "cell_type": "code",
      "metadata": {
        "id": "PPAQbtEw9IOG",
        "colab_type": "code",
        "outputId": "9b580ab0-ca61-4fbe-891f-cd0535a08179",
        "colab": {
          "base_uri": "https://localhost:8080/",
          "height": 51
        }
      },
      "source": [
        "X = data_eu_model.values\n",
        "y = data_eu0.CompTotal.values\n",
        "#y = (y - min(y))/(max(y) - min(y))\n",
        "\n",
        "print(len(y))\n",
        "print(len(data_eu_model))"
      ],
      "execution_count": 19,
      "outputs": [
        {
          "output_type": "stream",
          "text": [
            "10789\n",
            "10789\n"
          ],
          "name": "stdout"
        }
      ]
    },
    {
      "cell_type": "markdown",
      "metadata": {
        "id": "wgZRMSZJBwub",
        "colab_type": "text"
      },
      "source": [
        "# 5. Model Building"
      ]
    },
    {
      "cell_type": "markdown",
      "metadata": {
        "id": "Rv324RD23XKG",
        "colab_type": "text"
      },
      "source": [
        "## 5.0. Dependencies"
      ]
    },
    {
      "cell_type": "code",
      "metadata": {
        "id": "3GuHHmcjFSMt",
        "colab_type": "code",
        "colab": {}
      },
      "source": [
        "from sklearn.model_selection import train_test_split\n",
        "from sklearn.linear_model import LinearRegression\n",
        "from sklearn.ensemble import RandomForestRegressor\n",
        "from xgboost import XGBRegressor\n",
        "import statsmodels.api as sm\n",
        "\n",
        "X_train, X_test, y_train, y_test = train_test_split(X, y, test_size = 0.2, random_state = 0)"
      ],
      "execution_count": 0,
      "outputs": []
    },
    {
      "cell_type": "code",
      "metadata": {
        "id": "4yHnpEHK-ldI",
        "colab_type": "code",
        "outputId": "cbb5bbdb-4507-4435-b508-e95f56bfa137",
        "colab": {
          "base_uri": "https://localhost:8080/",
          "height": 34
        }
      },
      "source": [
        "len(X_test)"
      ],
      "execution_count": 21,
      "outputs": [
        {
          "output_type": "execute_result",
          "data": {
            "text/plain": [
              "2158"
            ]
          },
          "metadata": {
            "tags": []
          },
          "execution_count": 21
        }
      ]
    },
    {
      "cell_type": "code",
      "metadata": {
        "id": "KNXfPoqAy-XN",
        "colab_type": "code",
        "colab": {}
      },
      "source": [
        "def avg_error(y_pred, y_test):\n",
        "    df1 = pd.DataFrame(y_test)\n",
        "    df2 = pd.DataFrame(y_pred)\n",
        "    df3 = pd.DataFrame(y_pred - y_test)\n",
        "    df4 = pd.DataFrame(abs(y_pred - y_test)/y_test)\n",
        "    result = pd.concat([df1, df2, df3, df4], axis=1)\n",
        "    return result"
      ],
      "execution_count": 0,
      "outputs": []
    },
    {
      "cell_type": "markdown",
      "metadata": {
        "id": "iwv19rhb3Zjp",
        "colab_type": "text"
      },
      "source": [
        "## 5.1. Regression"
      ]
    },
    {
      "cell_type": "markdown",
      "metadata": {
        "id": "nm9NQP8UBDv7",
        "colab_type": "text"
      },
      "source": [
        "### 5.1.1. Multiple Linear"
      ]
    },
    {
      "cell_type": "code",
      "metadata": {
        "id": "v08zVQDIB1Ir",
        "colab_type": "code",
        "outputId": "79085181-923c-478a-f5e0-d8741be68334",
        "colab": {
          "base_uri": "https://localhost:8080/",
          "height": 34
        }
      },
      "source": [
        "regressor = LinearRegression()\n",
        "regressor.fit(X_train, y_train)"
      ],
      "execution_count": 23,
      "outputs": [
        {
          "output_type": "execute_result",
          "data": {
            "text/plain": [
              "LinearRegression(copy_X=True, fit_intercept=True, n_jobs=None, normalize=False)"
            ]
          },
          "metadata": {
            "tags": []
          },
          "execution_count": 23
        }
      ]
    },
    {
      "cell_type": "code",
      "metadata": {
        "id": "lDiK5puS-OB1",
        "colab_type": "code",
        "outputId": "65cfd93f-e726-4c11-dc07-0756bd72ed8b",
        "colab": {
          "base_uri": "https://localhost:8080/",
          "height": 34
        }
      },
      "source": [
        "y_pred = regressor.predict(X_test)\n",
        "\n",
        "y_multireg = avg_error(y_pred, y_test)\n",
        "\n",
        "sum(y_multireg.iloc[:, 3])/len(y_multireg) # average error in percentage\n",
        "\n",
        "# 0.34 (500k cap)\n",
        "# 0.29 (200k cap)\n",
        "# 0.27 (150k cap)"
      ],
      "execution_count": 24,
      "outputs": [
        {
          "output_type": "execute_result",
          "data": {
            "text/plain": [
              "0.27507132881409735"
            ]
          },
          "metadata": {
            "tags": []
          },
          "execution_count": 24
        }
      ]
    },
    {
      "cell_type": "markdown",
      "metadata": {
        "id": "hlVMbtCKBCnD",
        "colab_type": "text"
      },
      "source": [
        "### 5.1.2. Decision Tree"
      ]
    },
    {
      "cell_type": "code",
      "metadata": {
        "id": "BGeNRNMb-a_D",
        "colab_type": "code",
        "outputId": "b66cc34f-ed30-471c-faed-dbf4acde0b5b",
        "colab": {
          "base_uri": "https://localhost:8080/",
          "height": 136
        }
      },
      "source": [
        "regressor = RandomForestRegressor(n_estimators = 3000)\n",
        "regressor.fit(X_train, y_train)"
      ],
      "execution_count": 25,
      "outputs": [
        {
          "output_type": "execute_result",
          "data": {
            "text/plain": [
              "RandomForestRegressor(bootstrap=True, criterion='mse', max_depth=None,\n",
              "                      max_features='auto', max_leaf_nodes=None,\n",
              "                      min_impurity_decrease=0.0, min_impurity_split=None,\n",
              "                      min_samples_leaf=1, min_samples_split=2,\n",
              "                      min_weight_fraction_leaf=0.0, n_estimators=3000,\n",
              "                      n_jobs=None, oob_score=False, random_state=None,\n",
              "                      verbose=0, warm_start=False)"
            ]
          },
          "metadata": {
            "tags": []
          },
          "execution_count": 25
        }
      ]
    },
    {
      "cell_type": "code",
      "metadata": {
        "id": "YOlDvSKo_slb",
        "colab_type": "code",
        "outputId": "8acb5b86-ad24-4e0b-d80d-5fa9fc1313f1",
        "colab": {
          "base_uri": "https://localhost:8080/",
          "height": 34
        }
      },
      "source": [
        "y_pred = regressor.predict(X_test)\n",
        "\n",
        "y_multireg = avg_error(y_pred, y_test)\n",
        "\n",
        "sum(y_multireg.iloc[:, 3])/len(y_multireg) # average error in percentage\n",
        "\n",
        "# 0.35 (500k cap)\n",
        "# 0.27 (200k cap)\n",
        "# 0.25 (150k cap)"
      ],
      "execution_count": 26,
      "outputs": [
        {
          "output_type": "execute_result",
          "data": {
            "text/plain": [
              "0.25389450439524136"
            ]
          },
          "metadata": {
            "tags": []
          },
          "execution_count": 26
        }
      ]
    },
    {
      "cell_type": "markdown",
      "metadata": {
        "id": "bkFJ-blH0PBH",
        "colab_type": "text"
      },
      "source": [
        "### 5.1.3. XGB / GBM"
      ]
    },
    {
      "cell_type": "code",
      "metadata": {
        "id": "czgFUYrF0Vyy",
        "colab_type": "code",
        "outputId": "eb7291fc-8c33-4974-c2a1-231b361f7e5a",
        "colab": {
          "base_uri": "https://localhost:8080/",
          "height": 153
        }
      },
      "source": [
        "regressor = XGBRegressor(max_depth = 4,\n",
        "                         learning_rate = 0.01,\n",
        "                         n_estimators = 1000,\n",
        "                         booster = \"gbtree\",\n",
        "                         n_jobs = -1,\n",
        "                         importance_type = \"total_gain\")\n",
        "\n",
        "regressor.fit(X_train, y_train)"
      ],
      "execution_count": 27,
      "outputs": [
        {
          "output_type": "stream",
          "text": [
            "[14:05:31] WARNING: /workspace/src/objective/regression_obj.cu:152: reg:linear is now deprecated in favor of reg:squarederror.\n"
          ],
          "name": "stdout"
        },
        {
          "output_type": "execute_result",
          "data": {
            "text/plain": [
              "XGBRegressor(base_score=0.5, booster='gbtree', colsample_bylevel=1,\n",
              "             colsample_bynode=1, colsample_bytree=1, gamma=0,\n",
              "             importance_type='total_gain', learning_rate=0.01, max_delta_step=0,\n",
              "             max_depth=4, min_child_weight=1, missing=None, n_estimators=1000,\n",
              "             n_jobs=-1, nthread=None, objective='reg:linear', random_state=0,\n",
              "             reg_alpha=0, reg_lambda=1, scale_pos_weight=1, seed=None,\n",
              "             silent=None, subsample=1, verbosity=1)"
            ]
          },
          "metadata": {
            "tags": []
          },
          "execution_count": 27
        }
      ]
    },
    {
      "cell_type": "code",
      "metadata": {
        "id": "0xS9cW1U0lkt",
        "colab_type": "code",
        "outputId": "751d191a-ddb7-4985-e4cf-6db64ee38c6a",
        "colab": {
          "base_uri": "https://localhost:8080/",
          "height": 34
        }
      },
      "source": [
        "y_pred = regressor.predict(X_test)\n",
        "\n",
        "y_multireg = avg_error(y_pred, y_test)\n",
        "\n",
        "sum(y_multireg.iloc[:, 3])/len(y_multireg) # average error in percentage\n",
        "\n",
        "# 0.322 (500k cap)\n",
        "# 0.265 (200k cap)\n",
        "# 0.247 (150k cap)"
      ],
      "execution_count": 28,
      "outputs": [
        {
          "output_type": "execute_result",
          "data": {
            "text/plain": [
              "0.24742168901132655"
            ]
          },
          "metadata": {
            "tags": []
          },
          "execution_count": 28
        }
      ]
    },
    {
      "cell_type": "markdown",
      "metadata": {
        "id": "KxyNWYk47Goj",
        "colab_type": "text"
      },
      "source": [
        "### 6.1.4. FCNN"
      ]
    },
    {
      "cell_type": "code",
      "metadata": {
        "colab_type": "code",
        "id": "bxgVGVHA5nyD",
        "colab": {}
      },
      "source": [
        "yt = y.copy()\n",
        "\n",
        "yt = (yt - min(yt))/(max(yt) - min(yt))\n",
        "\n",
        "X_train, X_test, y_train, y_test = train_test_split(X.astype('float16'), yt.astype('float16'), test_size = 0.2, random_state = 0)"
      ],
      "execution_count": 0,
      "outputs": []
    },
    {
      "cell_type": "code",
      "metadata": {
        "id": "ytSAgj-27GKD",
        "colab_type": "code",
        "outputId": "9e7c486b-562b-4a58-b61b-b86a3f3dcd45",
        "colab": {
          "base_uri": "https://localhost:8080/",
          "height": 765
        }
      },
      "source": [
        "#normalize yearscodepro & y-label\n",
        "#transform each row into an array, and hold them all in a tensor\n",
        "\n",
        "import tensorflow as tf\n",
        "print(tf.__version__)\n",
        "\n",
        "\n",
        "\n",
        "\n",
        "model = tf.keras.models.Sequential([tf.keras.layers.Flatten(),\n",
        "                                    tf.keras.layers.Dense(128, activation = tf.nn.relu),\n",
        "                                    tf.keras.layers.Dense(64, activation = tf.nn.relu),\n",
        "                                    tf.keras.layers.Dense(32, activation = tf.nn.relu),\n",
        "                                    tf.keras.layers.Dense(1, activation = tf.nn.relu)])\n",
        "\n",
        "model.compile(optimizer = tf.train.AdamOptimizer(),\n",
        "              learning_rate=0.001,\n",
        "              loss = 'mean_absolute_error')\n",
        "\n",
        "model.fit(X_train, y_train, validation_data=(X_test, y_test), epochs = 20)\n",
        "\n",
        "model.evaluate(X_test, y_test)"
      ],
      "execution_count": 56,
      "outputs": [
        {
          "output_type": "stream",
          "text": [
            "1.14.0\n",
            "Train on 8631 samples, validate on 2158 samples\n",
            "Epoch 1/20\n",
            "8631/8631 [==============================] - 2s 232us/sample - loss: 0.1382 - val_loss: 0.1148\n",
            "Epoch 2/20\n",
            "8631/8631 [==============================] - 1s 80us/sample - loss: 0.1149 - val_loss: 0.1109\n",
            "Epoch 3/20\n",
            "8631/8631 [==============================] - 1s 83us/sample - loss: 0.1071 - val_loss: 0.1140\n",
            "Epoch 4/20\n",
            "8631/8631 [==============================] - 1s 83us/sample - loss: 0.1019 - val_loss: 0.1110\n",
            "Epoch 5/20\n",
            "8631/8631 [==============================] - 1s 89us/sample - loss: 0.0971 - val_loss: 0.1101\n",
            "Epoch 6/20\n",
            "8631/8631 [==============================] - 1s 88us/sample - loss: 0.0910 - val_loss: 0.1101\n",
            "Epoch 7/20\n",
            "8631/8631 [==============================] - 1s 83us/sample - loss: 0.0863 - val_loss: 0.1134\n",
            "Epoch 8/20\n",
            "8631/8631 [==============================] - 1s 86us/sample - loss: 0.0822 - val_loss: 0.1139\n",
            "Epoch 9/20\n",
            "8631/8631 [==============================] - 1s 108us/sample - loss: 0.0782 - val_loss: 0.1128\n",
            "Epoch 10/20\n",
            "8631/8631 [==============================] - 1s 133us/sample - loss: 0.0751 - val_loss: 0.1124\n",
            "Epoch 11/20\n",
            "8631/8631 [==============================] - 1s 101us/sample - loss: 0.0710 - val_loss: 0.1112\n",
            "Epoch 12/20\n",
            "8631/8631 [==============================] - 1s 98us/sample - loss: 0.0677 - val_loss: 0.1128\n",
            "Epoch 13/20\n",
            "8631/8631 [==============================] - 1s 90us/sample - loss: 0.0652 - val_loss: 0.1150\n",
            "Epoch 14/20\n",
            "8631/8631 [==============================] - 1s 87us/sample - loss: 0.0617 - val_loss: 0.1125\n",
            "Epoch 15/20\n",
            "8631/8631 [==============================] - 1s 91us/sample - loss: 0.0599 - val_loss: 0.1132\n",
            "Epoch 16/20\n",
            "8631/8631 [==============================] - 1s 102us/sample - loss: 0.0576 - val_loss: 0.1146\n",
            "Epoch 17/20\n",
            "8631/8631 [==============================] - 1s 97us/sample - loss: 0.0554 - val_loss: 0.1153\n",
            "Epoch 18/20\n",
            "8631/8631 [==============================] - 1s 94us/sample - loss: 0.0535 - val_loss: 0.1136\n",
            "Epoch 19/20\n",
            "8631/8631 [==============================] - 1s 95us/sample - loss: 0.0525 - val_loss: 0.1124\n",
            "Epoch 20/20\n",
            "8631/8631 [==============================] - 1s 93us/sample - loss: 0.0495 - val_loss: 0.1136\n",
            "2158/2158 [==============================] - 0s 40us/sample - loss: 0.1136\n"
          ],
          "name": "stdout"
        },
        {
          "output_type": "execute_result",
          "data": {
            "text/plain": [
              "0.11356626988921152"
            ]
          },
          "metadata": {
            "tags": []
          },
          "execution_count": 56
        }
      ]
    },
    {
      "cell_type": "code",
      "metadata": {
        "id": "nRqqYXFuQ3DJ",
        "colab_type": "code",
        "outputId": "a122095d-f133-48b5-c502-9069c8d961a6",
        "colab": {
          "base_uri": "https://localhost:8080/",
          "height": 34
        }
      },
      "source": [
        "y_pred = model.predict(X_test, batch_size=None, verbose=0, steps=None, callbacks=None)\n",
        "\n",
        "y_pred = (y_pred * (max(y) - min(y))) + min(y)\n",
        "y_test = (y_test * (max(y) - min(y))) + min(y)\n",
        "\n",
        "y_multireg = avg_error(y_pred.ravel(), y_test)\n",
        "sum(y_multireg.iloc[:, 3])/len(y_multireg)"
      ],
      "execution_count": 57,
      "outputs": [
        {
          "output_type": "execute_result",
          "data": {
            "text/plain": [
              "0.2769195569533797"
            ]
          },
          "metadata": {
            "tags": []
          },
          "execution_count": 57
        }
      ]
    }
  ]
}
