{
  "nbformat": 4,
  "nbformat_minor": 0,
  "metadata": {
    "colab": {
      "name": "Stackoverflow_2019.ipynb",
      "version": "0.3.2",
      "provenance": [],
      "collapsed_sections": [],
      "toc_visible": true,
      "include_colab_link": true
    },
    "kernelspec": {
      "name": "python3",
      "display_name": "Python 3"
    }
  },
  "cells": [
    {
      "cell_type": "markdown",
      "metadata": {
        "id": "view-in-github",
        "colab_type": "text"
      },
      "source": [
        "<a href=\"https://colab.research.google.com/github/NicoEssi/Data_Science_Portfolio/blob/master/Stackoverflow_2019.ipynb\" target=\"_parent\"><img src=\"https://colab.research.google.com/assets/colab-badge.svg\" alt=\"Open In Colab\"/></a>"
      ]
    },
    {
      "cell_type": "markdown",
      "metadata": {
        "id": "TMWAEojCxNjF",
        "colab_type": "text"
      },
      "source": [
        "# 0. Setup"
      ]
    },
    {
      "cell_type": "code",
      "metadata": {
        "id": "fGt7A4-VtPuA",
        "colab_type": "code",
        "colab": {}
      },
      "source": [
        "import os\n",
        "import zipfile\n",
        "import numpy as np\n",
        "import pandas as pd\n",
        "import matplotlib.pyplot as plt"
      ],
      "execution_count": 0,
      "outputs": []
    },
    {
      "cell_type": "code",
      "metadata": {
        "id": "KTiJphUYtRSp",
        "colab_type": "code",
        "outputId": "2f954319-5919-4f2a-ee9b-82303924dd42",
        "colab": {
          "base_uri": "https://localhost:8080/",
          "height": 394
        }
      },
      "source": [
        "# Downloading the Stack Overflow Survey Results for 2019\n",
        "!wget --no-check-certificate \\\n",
        "    \"https://drive.google.com/uc?authuser=0&id=1QOmVDpd8hcVYqqUXDXf68UMDWQZP0wQV&export=download\" \\\n",
        "    -O \"/tmp/soi_2019.zip\"\n",
        "zip_ref = zipfile.ZipFile(\"/tmp/soi_2019.zip\", 'r')\n",
        "zip_ref.extractall(\"/tmp/soi_2019\")\n",
        "zip_ref.close()"
      ],
      "execution_count": 2,
      "outputs": [
        {
          "output_type": "stream",
          "text": [
            "--2019-09-11 20:50:26--  https://drive.google.com/uc?authuser=0&id=1QOmVDpd8hcVYqqUXDXf68UMDWQZP0wQV&export=download\n",
            "Resolving drive.google.com (drive.google.com)... 74.125.142.138, 74.125.142.113, 74.125.142.100, ...\n",
            "Connecting to drive.google.com (drive.google.com)|74.125.142.138|:443... connected.\n",
            "HTTP request sent, awaiting response... 302 Moved Temporarily\n",
            "Location: https://drive.google.com/uc?id=1QOmVDpd8hcVYqqUXDXf68UMDWQZP0wQV&export=download [following]\n",
            "--2019-09-11 20:50:26--  https://drive.google.com/uc?id=1QOmVDpd8hcVYqqUXDXf68UMDWQZP0wQV&export=download\n",
            "Reusing existing connection to drive.google.com:443.\n",
            "HTTP request sent, awaiting response... 302 Moved Temporarily\n",
            "Location: https://doc-14-4c-docs.googleusercontent.com/docs/securesc/ha0ro937gcuc7l7deffksulhg5h7mbp1/1nskha176ceftan47spe2dtkrishqror/1568232000000/06716978924947585995/*/1QOmVDpd8hcVYqqUXDXf68UMDWQZP0wQV?e=download [following]\n",
            "Warning: wildcards not supported in HTTP.\n",
            "--2019-09-11 20:50:28--  https://doc-14-4c-docs.googleusercontent.com/docs/securesc/ha0ro937gcuc7l7deffksulhg5h7mbp1/1nskha176ceftan47spe2dtkrishqror/1568232000000/06716978924947585995/*/1QOmVDpd8hcVYqqUXDXf68UMDWQZP0wQV?e=download\n",
            "Resolving doc-14-4c-docs.googleusercontent.com (doc-14-4c-docs.googleusercontent.com)... 74.125.20.132, 2607:f8b0:400e:c07::84\n",
            "Connecting to doc-14-4c-docs.googleusercontent.com (doc-14-4c-docs.googleusercontent.com)|74.125.20.132|:443... connected.\n",
            "HTTP request sent, awaiting response... 200 OK\n",
            "Length: unspecified [application/zip]\n",
            "Saving to: ‘/tmp/soi_2019.zip’\n",
            "\n",
            "/tmp/soi_2019.zip       [ <=>                ]  17.82M  95.5MB/s    in 0.2s    \n",
            "\n",
            "2019-09-11 20:50:29 (95.5 MB/s) - ‘/tmp/soi_2019.zip’ saved [18681322]\n",
            "\n"
          ],
          "name": "stdout"
        }
      ]
    },
    {
      "cell_type": "markdown",
      "metadata": {
        "id": "Txn7-_km0Zsx",
        "colab_type": "text"
      },
      "source": [
        "## Custom Functions"
      ]
    },
    {
      "cell_type": "code",
      "metadata": {
        "id": "P0h5KA3I0t8f",
        "colab_type": "code",
        "colab": {}
      },
      "source": [
        "# Encode single label\n",
        "def encode(data):\n",
        "    return data.str.get_dummies()\n",
        "\n",
        "# Encode multiple labels\n",
        "def encodem(data):\n",
        "    return data.str.get_dummies(sep=\";\")"
      ],
      "execution_count": 0,
      "outputs": []
    },
    {
      "cell_type": "code",
      "metadata": {
        "id": "rGnojbe80ltW",
        "colab_type": "code",
        "colab": {}
      },
      "source": [
        "# Parse all types within a data into a list\n",
        "def parse_types(data):\n",
        "    types_temp = []\n",
        "    for i in range( len(data)):\n",
        "        types_temp.append([parsed.strip() for parsed in str(data.iloc[i]).split(';')])\n",
        "    \n",
        "    types = []\n",
        "    for i in types_temp:\n",
        "        for j in i:\n",
        "            if j not in types:\n",
        "                types.append(j)\n",
        "                \n",
        "    return types\n",
        "\n",
        "# Parse datarow of all text into a list\n",
        "def parse(data):\n",
        "    return [parsed.strip() for parsed in str(data).split(';')]\n",
        "\n",
        "# Check whether text exists in data\n",
        "def check(text, data):\n",
        "    if text in parse(data):\n",
        "        return 1\n",
        "    else:\n",
        "        return 0\n",
        "\n",
        "# Count occurences of text in data\n",
        "def countd(text, data):\n",
        "    counted = []\n",
        "    \n",
        "    for i in data:\n",
        "        counted.append(check(text, i))\n",
        "    \n",
        "    return sum(counted)\n",
        "\n",
        "\n",
        "def copypaste(text, column, data):\n",
        "    copypaste = []\n",
        "    \n",
        "    for i in range( len(data)):\n",
        "        if check(text, data[column].iloc[i]):\n",
        "            copypaste.append(data.iloc[i])\n",
        "    \n",
        "    return copypaste"
      ],
      "execution_count": 0,
      "outputs": []
    },
    {
      "cell_type": "code",
      "metadata": {
        "id": "gvzPJh_k02O0",
        "colab_type": "code",
        "colab": {}
      },
      "source": [
        "# Check salary for specific category\n",
        "def check_average_salary(category, column, data):\n",
        "    salaries = []\n",
        "    for i in range( len(data) ):\n",
        "        if category in parse(data[column].iloc[i]):\n",
        "            salaries.append(data.CompTotal.iloc[i])\n",
        "    return sum(salaries)/len(salaries)\n",
        "\n",
        "\n",
        "# Check salary for specific column\n",
        "def print_average_salary_column(column, data):\n",
        "    for i in parse_types(data[column]):\n",
        "        print(str(i) + \": \" + str(check_average_salary(i, column, data)))\n",
        "        \n",
        "\n",
        "# Plot salary for specific column\n",
        "#plt.rcParams['figure.figsize'] = [15, 5] # Set figure size\n",
        "def average_salary_column(column, data, plot = False):\n",
        "    ybucket = []\n",
        "    xbucket = []\n",
        "    for i in parse_types(data[column]):\n",
        "        ybucket.append(check_average_salary(i, column, data))\n",
        "        xbucket.append(i)\n",
        "    bucket = pd.DataFrame(ybucket, xbucket)\n",
        "    if plot:\n",
        "        bucket.plot(kind = \"bar\")\n",
        "        plt.show()\n",
        "    else:\n",
        "        return bucket"
      ],
      "execution_count": 0,
      "outputs": []
    },
    {
      "cell_type": "code",
      "metadata": {
        "id": "ujdpLriOPUtn",
        "colab_type": "code",
        "colab": {}
      },
      "source": [
        "# Receive the rows with specified category in column within data\n",
        "def receive(category, column, data):\n",
        "    bucket = []\n",
        "    for i in range( len(data) ):\n",
        "        if category in parse(data[column].iloc[i]):\n",
        "            bucket.append(data.iloc[i])\n",
        "    return bucket\n",
        "\n",
        "#len(pd.DataFrame(receive(\"Data scientist or machine learning specialist\", \"DevType\", data_eu)))"
      ],
      "execution_count": 0,
      "outputs": []
    },
    {
      "cell_type": "code",
      "metadata": {
        "id": "3BKO7hgR0QFA",
        "colab_type": "code",
        "colab": {}
      },
      "source": [
        "# currency rates as of 09/09/2019\n",
        "\"\"\"\n",
        "EUR = 1.10\n",
        "CHF = 1.00\n",
        "SEK = 0.10\n",
        "NOK = 0.11\n",
        "DKK = 0.15\n",
        "USD = 1.00\n",
        "GBP = 1.23\n",
        "INR = 0.014\n",
        "NZD = 0.64\n",
        "AUD = 0.69\n",
        "CAD = 0.76\n",
        "\"\"\"\n",
        "\n",
        "currencies = {\"EUR\" : 1.10\n",
        "             ,\"CHF\" : 1.00\n",
        "             ,\"SEK\" : 0.10\n",
        "             ,\"NOK\" : 0.11\n",
        "             ,\"DKK\" : 0.15\n",
        "             ,\"USD\" : 1.00\n",
        "             ,\"GBP\" : 1.23\n",
        "             ,\"INR\" : 0.014\n",
        "             ,\"NZD\" : 0.64\n",
        "             ,\"AUD\" : 0.69\n",
        "             ,\"CAD\" : 0.76}\n",
        "\n",
        "# Convert currency into USD\n",
        "def currency_usd(data):\n",
        "    if data in (currencies):\n",
        "        return currencies[data]\n",
        "    else:\n",
        "        return 0\n",
        "\n",
        "# Annualize total compensation\n",
        "def currency_annualize(data):\n",
        "    if data == 'Weekly':\n",
        "        return 52\n",
        "    elif data == 'Monthly':\n",
        "        return 12\n",
        "    elif data == 'Yearly':\n",
        "        return 1"
      ],
      "execution_count": 0,
      "outputs": []
    },
    {
      "cell_type": "markdown",
      "metadata": {
        "id": "SaczdZhrxRGQ",
        "colab_type": "text"
      },
      "source": [
        "# 1. Business- & Data Understanding"
      ]
    },
    {
      "cell_type": "markdown",
      "metadata": {
        "id": "-PtqG6iBR8Kg",
        "colab_type": "text"
      },
      "source": [
        "Read the data and initial exploration of questions to determine which features are important for further inquiry."
      ]
    },
    {
      "cell_type": "code",
      "metadata": {
        "id": "G1RYexwqxRjq",
        "colab_type": "code",
        "colab": {}
      },
      "source": [
        "data = pd.read_csv(\"/tmp/soi_2019/survey_results_public.csv\")\n",
        "schema = pd.read_csv(\"/tmp/soi_2019/survey_results_schema.csv\")"
      ],
      "execution_count": 0,
      "outputs": []
    },
    {
      "cell_type": "code",
      "metadata": {
        "id": "Y4qAvjt7yDpL",
        "colab_type": "code",
        "colab": {}
      },
      "source": [
        "#for i in range(len(schema)):\n",
        "#    print(schema.iloc[i].Column + \" : \" + schema.iloc[i].QuestionText)"
      ],
      "execution_count": 0,
      "outputs": []
    },
    {
      "cell_type": "markdown",
      "metadata": {
        "id": "yg3KmAkFSMGN",
        "colab_type": "text"
      },
      "source": [
        "Clean data of rows with missing salary information."
      ]
    },
    {
      "cell_type": "code",
      "metadata": {
        "id": "pIQ2SJURzk2t",
        "colab_type": "code",
        "outputId": "75bf4a40-8d56-4ee0-d8f7-ca6fa87bf654",
        "colab": {
          "base_uri": "https://localhost:8080/",
          "height": 68
        }
      },
      "source": [
        "print(\"NA Count: \" + str(np.sum(data.Country == \"United States\")\n",
        "                        + np.sum(data.Country == \"Canada\")))\n",
        "print(\"UK Count: \" + str(np.sum(data.Country == \"United Kingdom\")))\n",
        "print(\"EU Count: \" + str(np.sum(data.Country == \"France\")\n",
        "                        + np.sum(data.Country == \"Germany\")\n",
        "                        + np.sum(data.Country == \"Sweden\")\n",
        "                        + np.sum(data.Country == \"Denmark\")\n",
        "                        + np.sum(data.Country == \"Finland\")\n",
        "                        + np.sum(data.Country == \"Ireland\")\n",
        "                        + np.sum(data.Country == \"Netherlands\")\n",
        "                        + np.sum(data.Country == \"Austria\")\n",
        "                        + np.sum(data.Country == \"Belgium\")\n",
        "                        + np.sum(data.Country == \"Switzerland\")))"
      ],
      "execution_count": 13,
      "outputs": [
        {
          "output_type": "stream",
          "text": [
            "NA Count: 24344\n",
            "UK Count: 5737\n",
            "EU Count: 15591\n"
          ],
          "name": "stdout"
        }
      ]
    },
    {
      "cell_type": "code",
      "metadata": {
        "id": "3ax2Jg80G10y",
        "colab_type": "code",
        "outputId": "a0fcc52d-930e-49bb-bd10-bec5c2db400c",
        "colab": {
          "base_uri": "https://localhost:8080/",
          "height": 51
        }
      },
      "source": [
        "print(\"Before: \" + str(len(data.CompTotal)))\n",
        "\n",
        "data = data[pd.notnull(data['CompFreq'])]\n",
        "data = data[pd.notnull(data['CompTotal'])].reset_index(drop = True)\n",
        "\n",
        "print(\"After: \" + str(len(data.CompTotal)))"
      ],
      "execution_count": 14,
      "outputs": [
        {
          "output_type": "stream",
          "text": [
            "Before: 88883\n",
            "After: 55827\n"
          ],
          "name": "stdout"
        }
      ]
    },
    {
      "cell_type": "code",
      "metadata": {
        "id": "K17YpqGzJOsY",
        "colab_type": "code",
        "outputId": "bf999534-0c9d-4007-bc97-0a6449de4f66",
        "colab": {
          "base_uri": "https://localhost:8080/",
          "height": 68
        }
      },
      "source": [
        "print(\"NA Count: \" + str(np.sum(data.Country == \"United States\")\n",
        "                        + np.sum(data.Country == \"Canada\")))\n",
        "print(\"UK Count: \" + str(np.sum(data.Country == \"United Kingdom\")))\n",
        "print(\"EU Count: \" + str(np.sum(data.Country == \"France\")\n",
        "                        + np.sum(data.Country == \"Germany\")\n",
        "                        + np.sum(data.Country == \"Sweden\")\n",
        "                        + np.sum(data.Country == \"Denmark\")\n",
        "                        + np.sum(data.Country == \"Finland\")\n",
        "                        + np.sum(data.Country == \"Ireland\")\n",
        "                        + np.sum(data.Country == \"Netherlands\")\n",
        "                        + np.sum(data.Country == \"Austria\")\n",
        "                        + np.sum(data.Country == \"Belgium\")\n",
        "                        + np.sum(data.Country == \"Switzerland\")\n",
        "                        + np.sum(data.Country == \"Norway\")))"
      ],
      "execution_count": 15,
      "outputs": [
        {
          "output_type": "stream",
          "text": [
            "NA Count: 17238\n",
            "UK Count: 4036\n",
            "EU Count: 10744\n"
          ],
          "name": "stdout"
        }
      ]
    },
    {
      "cell_type": "code",
      "metadata": {
        "id": "OTH2TFKpPyT1",
        "colab_type": "code",
        "colab": {
          "base_uri": "https://localhost:8080/",
          "height": 156
        },
        "outputId": "40d696d8-b11f-43a1-d236-eef9b110ae9c"
      },
      "source": [
        "devtypes = parse_types(data.DevType)\n",
        "eduother = parse_types(data.EduOther)\n",
        "languages = parse_types(data.LanguageWorkedWith)\n",
        "databases = parse_types(data.DatabaseWorkedWith)\n",
        "platforms = parse_types(data.PlatformWorkedWith)\n",
        "webframes = parse_types(data.WebFrameWorkedWith)\n",
        "misctechs = parse_types(data.MiscTechWorkedWith)\n",
        "\n",
        "print(devtypes)\n",
        "print(eduother)\n",
        "print(languages)\n",
        "print(databases)\n",
        "print(platforms)\n",
        "print(webframes)\n",
        "print(misctechs)"
      ],
      "execution_count": 64,
      "outputs": [
        {
          "output_type": "stream",
          "text": [
            "['Developer, full-stack', 'Database administrator', 'Developer, back-end', 'Developer, front-end', 'Developer, QA or test', 'DevOps specialist', 'Data or business analyst', 'Data scientist or machine learning specialist', 'Developer, desktop or enterprise applications', 'Developer, game or graphics', 'Educator', 'Developer, mobile', 'Engineer, data', 'Engineer, site reliability', 'Engineering manager', 'Senior executive/VP', 'System administrator', 'Student', 'Designer', 'Developer, embedded applications or devices', 'Product manager', 'Academic researcher', 'Scientist', 'Marketing or sales professional', 'nan']\n",
            "['Taken an online course in programming or software development (e.g. a MOOC)', 'Received on-the-job training in software development', 'Taught yourself a new language, framework, or tool without taking a formal course', 'Participated in a full-time developer training program or bootcamp', 'Taken a part-time in-person course in programming or software development', 'Participated in online coding competitions (e.g. HackerRank, CodeChef, TopCoder)', 'Contributed to open source software', 'nan', 'Participated in a hackathon', 'Completed an industry certification program (e.g. MCPD)']\n",
            "['C', 'C++', 'C#', 'Python', 'SQL', 'Bash/Shell/PowerShell', 'HTML/CSS', 'JavaScript', 'Ruby', 'Rust', 'TypeScript', 'WebAssembly', 'Other(s):', 'Go', 'R', 'PHP', 'VBA', 'Java', 'Swift', 'nan', 'Kotlin', 'Objective-C', 'Elixir', 'Erlang', 'Clojure', 'Assembly', 'Scala', 'Dart', 'F#']\n",
            "['MySQL', 'SQLite', 'DynamoDB', 'PostgreSQL', 'Elasticsearch', 'MongoDB', 'Microsoft SQL Server', 'Couchbase', 'Firebase', 'nan', 'Oracle', 'Redis', 'Other(s):', 'MariaDB', 'Cassandra']\n",
            "['Linux', 'Windows', 'AWS', 'Docker', 'Heroku', 'MacOS', 'Slack', 'Android', 'IBM Cloud or Watson', 'iOS', 'Microsoft Azure', 'WordPress', 'nan', 'Arduino', 'Raspberry Pi', 'Google Cloud Platform', 'Kubernetes', 'Other(s):']\n",
            "['nan', 'Express', 'Ruby on Rails', 'Other(s):', 'Angular/Angular.js', 'ASP.NET', 'Django', 'Flask', 'jQuery', 'Vue.js', 'Spring', 'React.js', 'Laravel', 'Drupal']\n",
            "['.NET', 'Node.js', 'Unity 3D', 'Pandas', 'Torch/PyTorch', 'Xamarin', 'nan', '.NET Core', 'Ansible', 'Chef', 'Cordova', 'Puppet', 'React Native', 'Other(s):', 'TensorFlow', 'Hadoop', 'Apache Spark', 'Flutter', 'Unreal Engine', 'CryEngine']\n"
          ],
          "name": "stdout"
        }
      ]
    },
    {
      "cell_type": "markdown",
      "metadata": {
        "id": "M9wZEkJTzX4V",
        "colab_type": "text"
      },
      "source": [
        "## We are interested in creating a model that can accurately predict salaries based on numerous factors within each region.\n",
        "\n",
        "### Why do we group up many countries together into a single dataset for EU data?\n",
        "Professionals residing within the European Union have liberties granted to them by the Schengen agreement, which enables free movement of labor force and thus professionals can freely work wherever they wish.\n",
        "\n",
        "### Why are Norway and Switzerland included in the European dataset?\n",
        "While they are not part of the European Union, they have signed agreements in association with the Schengen agreement.\n",
        "\n",
        "### Why is the United Kingdom not included in the European dataset despite having signed an agreement in association with the Schengen agreement?\n",
        "Brexit. Despite the fact that the data has been gathered prior to the secession deadline, it would still be interesting to inquire on the UK data separately in case it would be of interest to compare changes in 2020 and onwards. And as of writing this, nothing has been officially said regarding future signed agreement in association with the Schengen agreement for UK.\n",
        "\n",
        "### Why are the countries in APT / RCEP not included?\n",
        "Unfortunately the data gathered for China, South Korea, and Japan are too small to make reliable inferences - and there are currently significant restrictions in freedom of movement for professionals between these countries, making it unreasonable to conduct an inquiry on these countries as a collective."
      ]
    },
    {
      "cell_type": "markdown",
      "metadata": {
        "id": "D0yy8Qg6jtFV",
        "colab_type": "text"
      },
      "source": [
        "# 2. Data Preparation"
      ]
    },
    {
      "cell_type": "code",
      "metadata": {
        "id": "lad8s4LvJhAM",
        "colab_type": "code",
        "outputId": "b68ae394-90d7-40da-bbb3-3452c2db5f11",
        "colab": {
          "base_uri": "https://localhost:8080/",
          "height": 51
        }
      },
      "source": [
        "del data['Respondent']\n",
        "\n",
        "print(len(data))\n",
        "\n",
        "data = data[data[\"MainBranch\"] == 'I am a developer by profession']\n",
        "data = data[data[\"LastHireDate\"] != \"I've never had a job\"]\n",
        "\n",
        "print(len(data))"
      ],
      "execution_count": 16,
      "outputs": [
        {
          "output_type": "stream",
          "text": [
            "55827\n",
            "50397\n"
          ],
          "name": "stdout"
        }
      ]
    },
    {
      "cell_type": "markdown",
      "metadata": {
        "id": "pqlSx4cqSx4O",
        "colab_type": "text"
      },
      "source": [
        "Total compensation preprocessing and calibration."
      ]
    },
    {
      "cell_type": "code",
      "metadata": {
        "id": "cGlZJr5Y9VWk",
        "colab_type": "code",
        "colab": {}
      },
      "source": [
        "y_label = data.CompTotal * data.CompFreq.apply(currency_annualize)\n",
        "y_label = y_label * data.CurrencySymbol.apply(currency_usd)"
      ],
      "execution_count": 0,
      "outputs": []
    },
    {
      "cell_type": "code",
      "metadata": {
        "id": "qfjjbA7HAJfM",
        "colab_type": "code",
        "colab": {
          "base_uri": "https://localhost:8080/",
          "height": 306
        },
        "outputId": "2ea05b6b-dfc1-413b-b083-af9750060076"
      },
      "source": [
        "y = y_label.copy()\n",
        "\n",
        "y = y[y < 500000]\n",
        "y = y[y > 15000]\n",
        "\n",
        "pd.set_option('float_format', '{:f}'.format)\n",
        "y.describe(percentiles = [.01, .1, .2, .3, .4, .5, .6, .7, .8, .9, .99])"
      ],
      "execution_count": 43,
      "outputs": [
        {
          "output_type": "execute_result",
          "data": {
            "text/plain": [
              "count    32278.000000\n",
              "mean     86846.166500\n",
              "std      64512.145260\n",
              "min      15036.000000\n",
              "1%       16800.000000\n",
              "10%      30250.000000\n",
              "20%      40858.632000\n",
              "30%      50400.000000\n",
              "40%      60000.000000\n",
              "50%      70000.000000\n",
              "60%      82500.000000\n",
              "70%      99000.000000\n",
              "80%     120000.000000\n",
              "90%     156000.000000\n",
              "99%     376380.000000\n",
              "max     499200.000000\n",
              "dtype: float64"
            ]
          },
          "metadata": {
            "tags": []
          },
          "execution_count": 43
        }
      ]
    },
    {
      "cell_type": "code",
      "metadata": {
        "id": "BW12EBuwQvBy",
        "colab_type": "code",
        "colab": {}
      },
      "source": [
        "relevant = [\"Hobbyist\", \"OpenSourcer\", \"Employment\", \"Country\",\n",
        "            \"Student\", \"EdLevel\", \"UndergradMajor\", \"EduOther\",\n",
        "            \"OrgSize\",\"DevType\", \"YearsCodePro\", \"JobSeek\",\n",
        "            \"LastHireDate\", \"FizzBuzz\", \"LanguageWorkedWith\",\n",
        "            \"DatabaseWorkedWith\", \"PlatformWorkedWith\",\n",
        "            \"WebFrameWorkedWith\", \"MiscTechWorkedWith\",\n",
        "           \"CompTotal\", \"CompFreq\", \"CurrencySymbol\"]\n",
        "\n",
        "\n",
        "# Handling the NA dataset\n",
        "data_na = data[data[\"Country\"].isin([\"United States\", \"Canada\"])]\n",
        "data_na = data_na[relevant]\n",
        "\n",
        "data_na[\"CompTotal\"] *= data_na.CompFreq.apply(currency_annualize)\n",
        "data_na[\"CompTotal\"] *= data_na.CurrencySymbol.apply(currency_usd)\n",
        "del data_na[\"CompFreq\"]\n",
        "del data_na[\"CurrencySymbol\"]\n",
        "data_na = data_na[data_na[\"CompTotal\"] < 500000]\n",
        "data_na = data_na[data_na[\"CompTotal\"] > 15000]\n",
        "\n",
        "\n",
        "# Handling the UK dataset\n",
        "data_uk = data[data[\"Country\"] == \"United Kingdom\"]\n",
        "data_uk = data_uk[relevant]\n",
        "\n",
        "data_uk[\"CompTotal\"] *= data_uk.CompFreq.apply(currency_annualize)\n",
        "data_uk[\"CompTotal\"] *= data_uk.CurrencySymbol.apply(currency_usd)\n",
        "del data_uk[\"CompFreq\"]\n",
        "del data_uk[\"CurrencySymbol\"]\n",
        "#del data_uk[\"Country\"] # Needs to remain for the custom functions to work\n",
        "data_uk = data_uk[data_uk[\"CompTotal\"] < 500000]\n",
        "data_uk = data_uk[data_uk[\"CompTotal\"] > 15000]\n",
        "\n",
        "\n",
        "# Handling the EU dataset\n",
        "data_eu = data[data[\"Country\"].isin([\"France\", \"Germany\", \"Sweden\",\n",
        "                                     \"Denmark\", \"Finland\", \"Norway\",\n",
        "                                     \"Ireland\", \"Netherlands\", \"Austria\",\n",
        "                                     \"Belgium\", \"Switzerland\"])]\n",
        "data_eu = data_eu[relevant]\n",
        "\n",
        "data_eu[\"CompTotal\"] *= data_eu.CompFreq.apply(currency_annualize)\n",
        "data_eu[\"CompTotal\"] *= data_eu.CurrencySymbol.apply(currency_usd)\n",
        "del data_eu[\"CompFreq\"]\n",
        "del data_eu[\"CurrencySymbol\"]\n",
        "data_eu = data_eu[data_eu[\"CompTotal\"] < 500000]\n",
        "data_eu = data_eu[data_eu[\"CompTotal\"] > 15000]"
      ],
      "execution_count": 0,
      "outputs": []
    },
    {
      "cell_type": "markdown",
      "metadata": {
        "id": "DjXwiTKB5h6j",
        "colab_type": "text"
      },
      "source": [
        "# 3. Data Exploration"
      ]
    },
    {
      "cell_type": "code",
      "metadata": {
        "id": "0KCWGQgD52dj",
        "colab_type": "code",
        "colab": {}
      },
      "source": [
        "for i in relevant:\n",
        "    print(i + \": \")\n",
        "    print(data[i].unique())\n",
        "    \n",
        "\"\"\"\n",
        "Hobbyist: onehotencode   ///tested: not significant\n",
        "OpenSourcer: onehotencoding   ///tested: significant\n",
        "Employment: onehotencoding   ///assumed significant\n",
        "Country: onehotencoding   ///assumed significant\n",
        "Student: onehotencoding   ///\n",
        "EdLevel: onehotencoding   ///\n",
        "UndergradMajor: onehotencoding   ///\n",
        "EduOther: multilabelencoder   ///\n",
        "OrgSize: onehotencoding   ///\n",
        "DevType: multilabelencoder   ///\n",
        "YearsCode: numerical   ///\n",
        "YearsCodePro: numerical   ///\n",
        "JobSeek: onehotencoding   ///\n",
        "LastHireDate: onehotencoding   ///\n",
        "FizzBuzz: onehotencode   ///tested: significant\n",
        "CompTotal : y\n",
        "Languages: multilabel   ///test through reg\n",
        "Database: multilabel   ///test through reg\n",
        "Platform: multilabel   ///test through reg\n",
        "Webframes: multilabel   ///test through reg\n",
        "MiscTech: multilabel   ///test through reg\n",
        "\"\"\""
      ],
      "execution_count": 0,
      "outputs": []
    },
    {
      "cell_type": "code",
      "metadata": {
        "id": "-yE3NeN_6JZM",
        "colab_type": "code",
        "colab": {}
      },
      "source": [
        "#hob = encode(data[\"Hobbyist\"])\n",
        "#ope = encode(data[\"OpenSourcer\"])\n",
        "\n",
        "data_eu_model = pd.concat([encode(data[\"Hobbyist\"]),\n",
        "                           encode(data[\"OpenSourcer\"]),\n",
        "                           encodem(data[\"DevType\"])], axis = 1)\n",
        "#encodem(data[\"DevType\"])"
      ],
      "execution_count": 0,
      "outputs": []
    },
    {
      "cell_type": "markdown",
      "metadata": {
        "id": "7fqJb-WXvklX",
        "colab_type": "text"
      },
      "source": [
        "## t-Test for Statistical Significance of Hobbyist"
      ]
    },
    {
      "cell_type": "code",
      "metadata": {
        "id": "AbyUpcXpvo0w",
        "colab_type": "code",
        "colab": {
          "base_uri": "https://localhost:8080/",
          "height": 85
        },
        "outputId": "b99702a1-f71e-4889-e4d5-99b020841997"
      },
      "source": [
        "bucket_yes = pd.DataFrame(receive(\"Yes\", \"Hobbyist\", data_eu))\n",
        "bucket_no = pd.DataFrame(receive(\"No\", \"Hobbyist\", data_eu))\n",
        "\n",
        "bucket_yes = bucket_yes[\"CompTotal\"].sample(1400)\n",
        "bucket_no = bucket_no[\"CompTotal\"].sample(1400)\n",
        "\n",
        "# t-Test on FizzBuzz\n",
        "from scipy.stats import ttest_ind\n",
        "\n",
        "print('Yes : mean = %.3f, stdv = %.3f' % (np.mean(bucket_yes), np.std(bucket_yes)))\n",
        "print('No : mean = %.3f, stdv = %.3f' % (np.mean(bucket_no), np.std(bucket_no)))\n",
        "\n",
        "# Fail to reject H0: Sample distributions are equal.\n",
        "# Reject H0: Sample distributions are not equal.\n",
        "\n",
        "stat, p = ttest_ind(bucket_yes, bucket_no)\n",
        "print('Statistics = %.3f, p = %.3f' % (stat, p))\n",
        "\n",
        "alpha = 0.05\n",
        "if p > alpha:\n",
        "\tprint('Same distributions (fail to reject H0)')\n",
        "else:\n",
        "\tprint('Different distributions (reject H0)')"
      ],
      "execution_count": 247,
      "outputs": [
        {
          "output_type": "stream",
          "text": [
            "Yes : mean = 66397.886, stdv = 41751.091\n",
            "No : mean = 66765.449, stdv = 50267.795\n",
            "Statistics = -0.210, p = 0.833\n",
            "Same distributions (fail to reject H0)\n"
          ],
          "name": "stdout"
        }
      ]
    },
    {
      "cell_type": "markdown",
      "metadata": {
        "id": "IS9EM6w6w16r",
        "colab_type": "text"
      },
      "source": [
        "## Significance of OpenSourcer"
      ]
    },
    {
      "cell_type": "code",
      "metadata": {
        "id": "d4Gh5E-oxffT",
        "colab_type": "code",
        "colab": {
          "base_uri": "https://localhost:8080/",
          "height": 241
        },
        "outputId": "cd2479cb-947b-4816-ae6e-277265472f00"
      },
      "source": [
        "opensourcer_salary = average_salary_column(\"OpenSourcer\", data_eu).sort_values(0)\n",
        "\n",
        "print(\"Never: \" + str(len(data_eu[data_eu[\"OpenSourcer\"] == \"Never\"]))\n",
        "     + \"\\n<1/year: \" + str(len(data_eu[data_eu[\"OpenSourcer\"] == \"Less than once per year\"]))\n",
        "      +\"\\n<1/month: \" + str(len(data_eu[data_eu[\"OpenSourcer\"] == \"Less than once a month but more than once per year\"]))\n",
        "      +\"\\n>=1/month: \" + str(len(data_eu[data_eu[\"OpenSourcer\"] == \"Once a month or more often\"])))\n",
        "\n",
        "opensourcer_salary"
      ],
      "execution_count": 267,
      "outputs": [
        {
          "output_type": "stream",
          "text": [
            "Never: 2515\n",
            "<1/year: 2612\n",
            "<1/month: 2369\n",
            ">=1/month: 1133\n"
          ],
          "name": "stdout"
        },
        {
          "output_type": "execute_result",
          "data": {
            "text/html": [
              "<div>\n",
              "<style scoped>\n",
              "    .dataframe tbody tr th:only-of-type {\n",
              "        vertical-align: middle;\n",
              "    }\n",
              "\n",
              "    .dataframe tbody tr th {\n",
              "        vertical-align: top;\n",
              "    }\n",
              "\n",
              "    .dataframe thead th {\n",
              "        text-align: right;\n",
              "    }\n",
              "</style>\n",
              "<table border=\"1\" class=\"dataframe\">\n",
              "  <thead>\n",
              "    <tr style=\"text-align: right;\">\n",
              "      <th></th>\n",
              "      <th>0</th>\n",
              "    </tr>\n",
              "  </thead>\n",
              "  <tbody>\n",
              "    <tr>\n",
              "      <th>Never</th>\n",
              "      <td>62722.573042</td>\n",
              "    </tr>\n",
              "    <tr>\n",
              "      <th>Less than once per year</th>\n",
              "      <td>65057.164587</td>\n",
              "    </tr>\n",
              "    <tr>\n",
              "      <th>Less than once a month but more than once per year</th>\n",
              "      <td>67282.168852</td>\n",
              "    </tr>\n",
              "    <tr>\n",
              "      <th>Once a month or more often</th>\n",
              "      <td>73081.324325</td>\n",
              "    </tr>\n",
              "  </tbody>\n",
              "</table>\n",
              "</div>"
            ],
            "text/plain": [
              "                                                              0\n",
              "Never                                              62722.573042\n",
              "Less than once per year                            65057.164587\n",
              "Less than once a month but more than once per year 67282.168852\n",
              "Once a month or more often                         73081.324325"
            ]
          },
          "metadata": {
            "tags": []
          },
          "execution_count": 267
        }
      ]
    },
    {
      "cell_type": "code",
      "metadata": {
        "id": "Iopl3PXAw79X",
        "colab_type": "code",
        "colab": {
          "base_uri": "https://localhost:8080/",
          "height": 580
        },
        "outputId": "cd740d53-a29a-4ea6-9213-52076b660ca5"
      },
      "source": [
        "plt.rcParams['figure.figsize'] = [7, 5]\n",
        "opensourcer_salary.plot(kind = \"bar\")\n",
        "plt.show()\n",
        "\n",
        "# We can clearly see an upward trend.\n",
        "# Salary tends to increase with involvement of opensource contribution."
      ],
      "execution_count": 268,
      "outputs": [
        {
          "output_type": "display_data",
          "data": {
            "image/png": "[encoded data removed]",
            "text/plain": [
              "<Figure size 504x360 with 1 Axes>"
            ]
          },
          "metadata": {
            "tags": []
          }
        }
      ]
    },
    {
      "cell_type": "markdown",
      "metadata": {
        "id": "1xwqtdMnzCbv",
        "colab_type": "text"
      },
      "source": [
        "## Significance of Employment"
      ]
    },
    {
      "cell_type": "code",
      "metadata": {
        "id": "pfYDWrY2zFDy",
        "colab_type": "code",
        "colab": {
          "base_uri": "https://localhost:8080/",
          "height": 173
        },
        "outputId": "e1df8964-bdcd-4783-8001-e1655ed34c07"
      },
      "source": [
        "employment_salary = average_salary_column(\"Employment\", data_eu).sort_values(0)\n",
        "\n",
        "employment_salary\n",
        "\n",
        "# I don't think I need to say anything here. Results are common sense.\n",
        "# We will exclude nan and contractor from model building/training."
      ],
      "execution_count": 272,
      "outputs": [
        {
          "output_type": "execute_result",
          "data": {
            "text/html": [
              "<div>\n",
              "<style scoped>\n",
              "    .dataframe tbody tr th:only-of-type {\n",
              "        vertical-align: middle;\n",
              "    }\n",
              "\n",
              "    .dataframe tbody tr th {\n",
              "        vertical-align: top;\n",
              "    }\n",
              "\n",
              "    .dataframe thead th {\n",
              "        text-align: right;\n",
              "    }\n",
              "</style>\n",
              "<table border=\"1\" class=\"dataframe\">\n",
              "  <thead>\n",
              "    <tr style=\"text-align: right;\">\n",
              "      <th></th>\n",
              "      <th>0</th>\n",
              "    </tr>\n",
              "  </thead>\n",
              "  <tbody>\n",
              "    <tr>\n",
              "      <th>Employed part-time</th>\n",
              "      <td>46924.330228</td>\n",
              "    </tr>\n",
              "    <tr>\n",
              "      <th>Employed full-time</th>\n",
              "      <td>64097.025426</td>\n",
              "    </tr>\n",
              "    <tr>\n",
              "      <th>nan</th>\n",
              "      <td>67180.000000</td>\n",
              "    </tr>\n",
              "    <tr>\n",
              "      <th>Independent contractor, freelancer, or self-employed</th>\n",
              "      <td>100588.814431</td>\n",
              "    </tr>\n",
              "  </tbody>\n",
              "</table>\n",
              "</div>"
            ],
            "text/plain": [
              "                                                               0\n",
              "Employed part-time                                  46924.330228\n",
              "Employed full-time                                  64097.025426\n",
              "nan                                                 67180.000000\n",
              "Independent contractor, freelancer, or self-emp... 100588.814431"
            ]
          },
          "metadata": {
            "tags": []
          },
          "execution_count": 272
        }
      ]
    },
    {
      "cell_type": "markdown",
      "metadata": {
        "id": "cvrcLGp32Y4I",
        "colab_type": "text"
      },
      "source": [
        "## Significance of Country"
      ]
    },
    {
      "cell_type": "code",
      "metadata": {
        "id": "y3WIW1PB2bDz",
        "colab_type": "code",
        "colab": {
          "base_uri": "https://localhost:8080/",
          "height": 374
        },
        "outputId": "b4de0f08-0fa7-497d-9794-a934a273bea8"
      },
      "source": [
        "country_salary = average_salary_column(\"Country\", data_eu).sort_values(0).plot(kind = \"bar\")\n",
        "\n",
        "# We can very clearly see that there is a significance in country.\n",
        "# Further information can be found at Harnham's salary guide 2019.\n",
        "# link: https://www.harnham.com/salary-guide"
      ],
      "execution_count": 273,
      "outputs": [
        {
          "output_type": "display_data",
          "data": {
            "image/png": "[encoded data removed]",
            "text/plain": [
              "<Figure size 504x360 with 1 Axes>"
            ]
          },
          "metadata": {
            "tags": []
          }
        }
      ]
    },
    {
      "cell_type": "code",
      "metadata": {
        "id": "QBEqDDqE27t7",
        "colab_type": "code",
        "colab": {
          "base_uri": "https://localhost:8080/",
          "height": 381
        },
        "outputId": "1ae6a97a-161b-4f88-f912-3954c6a62a90"
      },
      "source": [
        "country_salary = average_salary_column(\"Country\", data_na).sort_values(0).plot(kind = \"bar\")"
      ],
      "execution_count": 274,
      "outputs": [
        {
          "output_type": "display_data",
          "data": {
            "image/png": "[encoded data removed]",
            "text/plain": [
              "<Figure size 504x360 with 1 Axes>"
            ]
          },
          "metadata": {
            "tags": []
          }
        }
      ]
    },
    {
      "cell_type": "markdown",
      "metadata": {
        "id": "wPeCftBUu_rH",
        "colab_type": "text"
      },
      "source": [
        "## t-Test for Statistical Significance of FizzBuzz"
      ]
    },
    {
      "cell_type": "code",
      "metadata": {
        "id": "yexo5OoNm_kR",
        "colab_type": "code",
        "colab": {
          "base_uri": "https://localhost:8080/",
          "height": 85
        },
        "outputId": "f8cd9c5f-a6cd-4c41-a6a9-f135abceebfc"
      },
      "source": [
        "bucket_yes = pd.DataFrame(receive(\"Yes\", \"FizzBuzz\", data_eu))\n",
        "bucket_no = pd.DataFrame(receive(\"No\", \"FizzBuzz\", data_eu))\n",
        "\n",
        "bucket_yes = bucket_yes[\"CompTotal\"].sample(800)\n",
        "bucket_no = bucket_no[\"CompTotal\"].sample(800)\n",
        "\n",
        "# t-Test on FizzBuzz\n",
        "from scipy.stats import ttest_ind\n",
        "\n",
        "print('Yes : mean = %.3f, stdv = %.3f' % (np.mean(bucket_yes), np.std(bucket_yes)))\n",
        "print('No : mean = %.3f, stdv = %.3f' % (np.mean(bucket_no), np.std(bucket_no)))\n",
        "\n",
        "# Fail to reject H0: Sample distributions are equal.\n",
        "# Reject H0: Sample distributions are not equal.\n",
        "\n",
        "stat, p = ttest_ind(bucket_yes, bucket_no)\n",
        "print('Statistics = %.3f, p = %.3f' % (stat, p))\n",
        "\n",
        "alpha = 0.05\n",
        "if p > alpha:\n",
        "\tprint('Same distributions (fail to reject H0)')\n",
        "else:\n",
        "\tprint('Different distributions (reject H0)')"
      ],
      "execution_count": 239,
      "outputs": [
        {
          "output_type": "stream",
          "text": [
            "Yes : mean = 71119.653, stdv = 48212.439\n",
            "No : mean = 64090.088, stdv = 43321.897\n",
            "Statistics = 3.066, p = 0.002\n",
            "Different distributions (reject H0)\n"
          ],
          "name": "stdout"
        }
      ]
    },
    {
      "cell_type": "code",
      "metadata": {
        "id": "BCC_0MW1sgjp",
        "colab_type": "code",
        "colab": {
          "base_uri": "https://localhost:8080/",
          "height": 51
        },
        "outputId": "d8e1e32a-75aa-4e36-85ed-e3c75fb87d53"
      },
      "source": [
        "# Above test is subject to chance due to sampling randomness.\n",
        "# By taking the average of many tests, we eliminate some randomness\n",
        "\n",
        "results = []\n",
        "bucket_yes = pd.DataFrame(receive(\"Yes\", \"FizzBuzz\", data_eu))\n",
        "bucket_no = pd.DataFrame(receive(\"No\", \"FizzBuzz\", data_eu))\n",
        "\n",
        "for i in range(10000):\n",
        "    data1 = bucket_yes[\"CompTotal\"].sample(800)\n",
        "    data2 = bucket_no[\"CompTotal\"].sample(800)\n",
        "    stat, p = ttest_ind(data1, data2)\n",
        "    \n",
        "    results.append(p)\n",
        "    \n",
        "p = sum(results)/len(results)\n",
        "\n",
        "print(\"p : \" + str(p))\n",
        "\n",
        "alpha = 0.05\n",
        "if p > alpha:\n",
        "\tprint('Same distributions (fail to reject H0)')\n",
        "else:\n",
        "\tprint('Different distributions (reject H0)')\n",
        "    "
      ],
      "execution_count": 227,
      "outputs": [
        {
          "output_type": "stream",
          "text": [
            "p : 0.03913977262707516\n",
            "Different distributions (reject H0)\n"
          ],
          "name": "stdout"
        }
      ]
    },
    {
      "cell_type": "markdown",
      "metadata": {
        "id": "HVvDdQisvGL2",
        "colab_type": "text"
      },
      "source": [
        "## Other exploration"
      ]
    },
    {
      "cell_type": "code",
      "metadata": {
        "id": "jvoHIkd1vUuz",
        "colab_type": "code",
        "colab": {
          "base_uri": "https://localhost:8080/",
          "height": 34
        },
        "outputId": "c1c3d8cb-9fbd-4ac1-e2d0-6154e16a1fbe"
      },
      "source": [
        "len(data_eu[data_eu[\"Hobbyist\"] == \"No\"])"
      ],
      "execution_count": 236,
      "outputs": [
        {
          "output_type": "execute_result",
          "data": {
            "text/plain": [
              "1473"
            ]
          },
          "metadata": {
            "tags": []
          },
          "execution_count": 236
        }
      ]
    },
    {
      "cell_type": "code",
      "metadata": {
        "id": "1ejewxBVQT8l",
        "colab_type": "code",
        "colab": {
          "base_uri": "https://localhost:8080/",
          "height": 580
        },
        "outputId": "eab9ba91-d7a2-448c-a1da-9c8a988d472e"
      },
      "source": [
        "plt.rcParams['figure.figsize'] = [10, 5]\n",
        "average_salary_column(\"OpenSourcer\", data_eu).sort_values(0).plot(kind = \"bar\")\n",
        "#plot_average_salary_column(\"DevType\", data_eu[data_eu[\"Country\"].isin([\"Sweden\"])])\n",
        "\n",
        "#n, bins, patches = plt.hist(data_na.CompTotal, 100, density = 1, facecolor = \"blue\", alpha = 0.5)\n",
        "\n",
        "plt.show()\n",
        "\n",
        "#check_average_salary_column(\"LanguageWorkedWith\", data_eu[data_eu[\"Country\"].isin([\"Sweden\"])])\n",
        "\n",
        "#check_average_salary(\"Data scientist or machine learning specialist\", \"DevType\", data_eu)"
      ],
      "execution_count": 251,
      "outputs": [
        {
          "output_type": "display_data",
          "data": {
            "image/png": "[encoded data removed]",
            "text/plain": [
              "<Figure size 720x360 with 1 Axes>"
            ]
          },
          "metadata": {
            "tags": []
          }
        }
      ]
    },
    {
      "cell_type": "code",
      "metadata": {
        "id": "7eAFz5s_Od2N",
        "colab_type": "code",
        "colab": {
          "base_uri": "https://localhost:8080/",
          "height": 221
        },
        "outputId": "76bfbd8a-5581-4682-f9f7-ffd13f88759d"
      },
      "source": [
        "data_eu.DevType.iloc[5]\n",
        "\n",
        "data_eu.CompTotal.iloc[5]\n",
        "\n",
        "data_eu.Country.iloc[5]\n",
        "\n",
        "parse(data_eu.DevType.iloc[5])"
      ],
      "execution_count": 70,
      "outputs": [
        {
          "output_type": "execute_result",
          "data": {
            "text/plain": [
              "['Data or business analyst',\n",
              " 'Data scientist or machine learning specialist',\n",
              " 'Database administrator',\n",
              " 'Designer',\n",
              " 'Developer, back-end',\n",
              " 'Developer, desktop or enterprise applications',\n",
              " 'Developer, front-end',\n",
              " 'Developer, full-stack',\n",
              " 'Educator',\n",
              " 'Marketing or sales professional',\n",
              " 'Student',\n",
              " 'System administrator']"
            ]
          },
          "metadata": {
            "tags": []
          },
          "execution_count": 70
        }
      ]
    },
    {
      "cell_type": "code",
      "metadata": {
        "id": "mI8C2xhjIo4N",
        "colab_type": "code",
        "colab": {}
      },
      "source": [
        ""
      ],
      "execution_count": 0,
      "outputs": []
    }
  ]
}