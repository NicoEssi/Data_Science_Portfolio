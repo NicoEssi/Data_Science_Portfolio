{
  "nbformat": 4,
  "nbformat_minor": 0,
  "metadata": {
    "colab": {
      "name": "Stackoverflow_2019.ipynb",
      "version": "0.3.2",
      "provenance": [],
      "collapsed_sections": [],
      "toc_visible": true,
      "include_colab_link": true
    },
    "kernelspec": {
      "name": "python3",
      "display_name": "Python 3"
    }
  },
  "cells": [
    {
      "cell_type": "markdown",
      "metadata": {
        "id": "view-in-github",
        "colab_type": "text"
      },
      "source": [
        "<a href=\"https://colab.research.google.com/github/NicoEssi/Data_Science_Portfolio/blob/master/Stackoverflow_2019.ipynb\" target=\"_parent\"><img src=\"https://colab.research.google.com/assets/colab-badge.svg\" alt=\"Open In Colab\"/></a>"
      ]
    },
    {
      "cell_type": "markdown",
      "metadata": {
        "id": "TMWAEojCxNjF",
        "colab_type": "text"
      },
      "source": [
        "# 0. Setup"
      ]
    },
    {
      "cell_type": "code",
      "metadata": {
        "id": "fGt7A4-VtPuA",
        "colab_type": "code",
        "colab": {}
      },
      "source": [
        "import os\n",
        "import zipfile\n",
        "import numpy as np\n",
        "import pandas as pd\n",
        "import matplotlib.pyplot as plt"
      ],
      "execution_count": 0,
      "outputs": []
    },
    {
      "cell_type": "code",
      "metadata": {
        "id": "KTiJphUYtRSp",
        "colab_type": "code",
        "outputId": "0dfb265c-0d47-43dc-c6f9-f82851aa32f5",
        "colab": {
          "base_uri": "https://localhost:8080/",
          "height": 394
        }
      },
      "source": [
        "# Downloading the Stack Overflow Survey Results for 2019\n",
        "!wget --no-check-certificate \\\n",
        "    \"https://drive.google.com/uc?authuser=0&id=1QOmVDpd8hcVYqqUXDXf68UMDWQZP0wQV&export=download\" \\\n",
        "    -O \"/tmp/soi_2019.zip\"\n",
        "zip_ref = zipfile.ZipFile(\"/tmp/soi_2019.zip\", 'r')\n",
        "zip_ref.extractall(\"/tmp/soi_2019\")\n",
        "zip_ref.close()"
      ],
      "execution_count": 2,
      "outputs": [
        {
          "output_type": "stream",
          "text": [
            "--2019-09-10 21:31:19--  https://drive.google.com/uc?authuser=0&id=1QOmVDpd8hcVYqqUXDXf68UMDWQZP0wQV&export=download\n",
            "Resolving drive.google.com (drive.google.com)... 172.217.214.113, 172.217.214.139, 172.217.214.102, ...\n",
            "Connecting to drive.google.com (drive.google.com)|172.217.214.113|:443... connected.\n",
            "HTTP request sent, awaiting response... 302 Moved Temporarily\n",
            "Location: https://drive.google.com/uc?id=1QOmVDpd8hcVYqqUXDXf68UMDWQZP0wQV&export=download [following]\n",
            "--2019-09-10 21:31:19--  https://drive.google.com/uc?id=1QOmVDpd8hcVYqqUXDXf68UMDWQZP0wQV&export=download\n",
            "Reusing existing connection to drive.google.com:443.\n",
            "HTTP request sent, awaiting response... 302 Moved Temporarily\n",
            "Location: https://doc-14-4c-docs.googleusercontent.com/docs/securesc/ha0ro937gcuc7l7deffksulhg5h7mbp1/c6ptpdau77qgve6fe7he9cpip1n5c473/1568145600000/06716978924947585995/*/1QOmVDpd8hcVYqqUXDXf68UMDWQZP0wQV?e=download [following]\n",
            "Warning: wildcards not supported in HTTP.\n",
            "--2019-09-10 21:31:22--  https://doc-14-4c-docs.googleusercontent.com/docs/securesc/ha0ro937gcuc7l7deffksulhg5h7mbp1/c6ptpdau77qgve6fe7he9cpip1n5c473/1568145600000/06716978924947585995/*/1QOmVDpd8hcVYqqUXDXf68UMDWQZP0wQV?e=download\n",
            "Resolving doc-14-4c-docs.googleusercontent.com (doc-14-4c-docs.googleusercontent.com)... 172.217.214.132, 2607:f8b0:4001:c05::84\n",
            "Connecting to doc-14-4c-docs.googleusercontent.com (doc-14-4c-docs.googleusercontent.com)|172.217.214.132|:443... connected.\n",
            "HTTP request sent, awaiting response... 200 OK\n",
            "Length: unspecified [application/zip]\n",
            "Saving to: ‘/tmp/soi_2019.zip’\n",
            "\n",
            "/tmp/soi_2019.zip       [ <=>                ]  17.82M   117MB/s    in 0.2s    \n",
            "\n",
            "2019-09-10 21:31:22 (117 MB/s) - ‘/tmp/soi_2019.zip’ saved [18681322]\n",
            "\n"
          ],
          "name": "stdout"
        }
      ]
    },
    {
      "cell_type": "markdown",
      "metadata": {
        "id": "SaczdZhrxRGQ",
        "colab_type": "text"
      },
      "source": [
        "# 1. Business- & Data Understanding"
      ]
    },
    {
      "cell_type": "code",
      "metadata": {
        "id": "G1RYexwqxRjq",
        "colab_type": "code",
        "colab": {}
      },
      "source": [
        "data = pd.read_csv(\"/tmp/soi_2019/survey_results_public.csv\")\n",
        "schema = pd.read_csv(\"/tmp/soi_2019/survey_results_schema.csv\")"
      ],
      "execution_count": 0,
      "outputs": []
    },
    {
      "cell_type": "code",
      "metadata": {
        "id": "Y4qAvjt7yDpL",
        "colab_type": "code",
        "colab": {}
      },
      "source": [
        "#for i in range(len(schema)):\n",
        "#    print(schema.iloc[i].Column + \" : \" + schema.iloc[i].QuestionText)"
      ],
      "execution_count": 0,
      "outputs": []
    },
    {
      "cell_type": "code",
      "metadata": {
        "id": "pIQ2SJURzk2t",
        "colab_type": "code",
        "outputId": "41c37418-86de-444e-f4ff-978bb5423b3f",
        "colab": {
          "base_uri": "https://localhost:8080/",
          "height": 68
        }
      },
      "source": [
        "print(\"US Count: \" + str(np.sum(data.Country == \"United States\")))\n",
        "print(\"UK Count: \" + str(np.sum(data.Country == \"United Kingdom\")))\n",
        "print(\"EU Count: \" + str(np.sum(data.Country == \"France\")\n",
        "                        + np.sum(data.Country == \"Germany\")\n",
        "                        + np.sum(data.Country == \"Sweden\")\n",
        "                        + np.sum(data.Country == \"Denmark\")\n",
        "                        + np.sum(data.Country == \"Finland\")\n",
        "                        + np.sum(data.Country == \"Ireland\")\n",
        "                        + np.sum(data.Country == \"Netherlands\")\n",
        "                        + np.sum(data.Country == \"Austria\")\n",
        "                        + np.sum(data.Country == \"Belgium\")\n",
        "                        + np.sum(data.Country == \"Switzerland\")))"
      ],
      "execution_count": 5,
      "outputs": [
        {
          "output_type": "stream",
          "text": [
            "US Count: 20949\n",
            "UK Count: 5737\n",
            "EU Count: 15591\n"
          ],
          "name": "stdout"
        }
      ]
    },
    {
      "cell_type": "code",
      "metadata": {
        "id": "3ax2Jg80G10y",
        "colab_type": "code",
        "outputId": "1ffa5e4d-0700-4205-b359-bdb2abf653fd",
        "colab": {
          "base_uri": "https://localhost:8080/",
          "height": 51
        }
      },
      "source": [
        "print(\"Before: \" + str(len(data.CompTotal)))\n",
        "\n",
        "data = data[pd.notnull(data['CompFreq'])]\n",
        "data = data[pd.notnull(data['CompTotal'])].reset_index(drop = True)\n",
        "\n",
        "print(\"After: \" + str(len(data.CompTotal)))"
      ],
      "execution_count": 33,
      "outputs": [
        {
          "output_type": "stream",
          "text": [
            "Before: 88883\n",
            "After: 55827\n"
          ],
          "name": "stdout"
        }
      ]
    },
    {
      "cell_type": "code",
      "metadata": {
        "id": "K17YpqGzJOsY",
        "colab_type": "code",
        "outputId": "cda4d26b-a3f7-45ee-9055-c8a9a901a8ad",
        "colab": {
          "base_uri": "https://localhost:8080/",
          "height": 68
        }
      },
      "source": [
        "print(\"US Count: \" + str(np.sum(data.Country == \"United States\")))\n",
        "print(\"UK Count: \" + str(np.sum(data.Country == \"United Kingdom\")))\n",
        "print(\"EU Count: \" + str(np.sum(data.Country == \"France\")\n",
        "                        + np.sum(data.Country == \"Germany\")\n",
        "                        + np.sum(data.Country == \"Sweden\")\n",
        "                        + np.sum(data.Country == \"Denmark\")\n",
        "                        + np.sum(data.Country == \"Finland\")\n",
        "                        + np.sum(data.Country == \"Ireland\")\n",
        "                        + np.sum(data.Country == \"Netherlands\")\n",
        "                        + np.sum(data.Country == \"Austria\")\n",
        "                        + np.sum(data.Country == \"Belgium\")\n",
        "                        + np.sum(data.Country == \"Switzerland\")\n",
        "                        + np.sum(data.Country == \"Norway\")))"
      ],
      "execution_count": 7,
      "outputs": [
        {
          "output_type": "stream",
          "text": [
            "US Count: 14981\n",
            "UK Count: 4036\n",
            "EU Count: 10744\n"
          ],
          "name": "stdout"
        }
      ]
    },
    {
      "cell_type": "markdown",
      "metadata": {
        "id": "M9wZEkJTzX4V",
        "colab_type": "text"
      },
      "source": [
        "## We are interested in identifying the profiles of the top earners in each region; United States, United Kingdom, and Europe. Thereafter, we'll build a model to predict salary.\n",
        "\n",
        "### Why do we conduct our inquiry on two countries, yet one is of a larger region consisting of numerous countries (Europe)?\n",
        "Professionals residing within the European Union have liberties granted to them by the Schengen agreement, which enables free movement of labor force and thus professionals can freely work wherever they wish.\n",
        "\n",
        "### Why are Norway and Switzerland included in the European dataset?\n",
        "While they are not part of the European Union, they have signed agreements in association with the Schengen agreement.\n",
        "\n",
        "### Why is the United Kingdom not included in the European dataset despite having signed an agreement in association with the Schengen agreement?\n",
        "Brexit. Despite the fact that the data has been gathered prior to the secession deadline, it would still be interesting to inquire on the UK data separately in case it would be of interest to compare changes in 2020 and onwards. And as of writing this, nothing has been officially said regarding future signed agreement in association with the Schengen agreement for UK.\n",
        "\n",
        "### Why are the countries in APT / RCEP not included?\n",
        "Unfortunately the data gathered for China, South Korea, and Japan are too small to make reliable inferences - and there are currently significant restrictions in freedom of movement for professionals between these countries, making it unreasonable to conduct an inquiry on these countries as a collective."
      ]
    },
    {
      "cell_type": "markdown",
      "metadata": {
        "id": "D0yy8Qg6jtFV",
        "colab_type": "text"
      },
      "source": [
        "# 2. Data Preparation"
      ]
    },
    {
      "cell_type": "code",
      "metadata": {
        "id": "lad8s4LvJhAM",
        "colab_type": "code",
        "outputId": "b78709b5-e7e9-457d-df30-46defaacaff5",
        "colab": {
          "base_uri": "https://localhost:8080/",
          "height": 34
        }
      },
      "source": [
        "#del data['Respondent']\n",
        "\n",
        "data = data[data[\"MainBranch\"] == 'I am a developer by profession']\n",
        "data = data[data[\"LastHireDate\"] != \"I've never had a job\"]\n",
        "\n",
        "len(data)"
      ],
      "execution_count": 36,
      "outputs": [
        {
          "output_type": "execute_result",
          "data": {
            "text/plain": [
              "50397"
            ]
          },
          "metadata": {
            "tags": []
          },
          "execution_count": 36
        }
      ]
    },
    {
      "cell_type": "code",
      "metadata": {
        "id": "i7xAOXDuHHB1",
        "colab_type": "code",
        "colab": {
          "base_uri": "https://localhost:8080/",
          "height": 153
        },
        "outputId": "0f7eae1a-53f0-4b29-d986-68757aa5cc99"
      },
      "source": [
        "data.EdLevel.unique()"
      ],
      "execution_count": 55,
      "outputs": [
        {
          "output_type": "execute_result",
          "data": {
            "text/plain": [
              "array(['Bachelor’s degree (BA, BS, B.Eng., etc.)',\n",
              "       'Some college/university study without earning a degree',\n",
              "       'Master’s degree (MA, MS, M.Eng., MBA, etc.)',\n",
              "       'Other doctoral degree (Ph.D, Ed.D., etc.)',\n",
              "       'Primary/elementary school', 'Associate degree',\n",
              "       'Secondary school (e.g. American high school, German Realschule or Gymnasium, etc.)',\n",
              "       nan, 'Professional degree (JD, MD, etc.)',\n",
              "       'I never completed any formal education'], dtype=object)"
            ]
          },
          "metadata": {
            "tags": []
          },
          "execution_count": 55
        }
      ]
    },
    {
      "cell_type": "code",
      "metadata": {
        "id": "BW12EBuwQvBy",
        "colab_type": "code",
        "colab": {}
      },
      "source": [
        "relevant = [\"Hobbyist\", \"OpenSourcer\", \"Employment\", \"Country\",\n",
        "\"Student\", \"EdLevel\", \"UndergradMajor\", \"EduOther\", \"OrgSize\",\n",
        "\"DevType\", \"YearsCode\", \"YearsCodePro\", \"JobSeek\", \"LastHireDate\",\n",
        "\"FizzBuzz\", \"CompTotal\", \"CompFreq\", \"CurrencySymbol\",\n",
        "\"LanguageWorkedWith\", \"DatabaseWorkedWith\", \"PlatformWorkedWith\", \"WebFrameWorkedWith\", \"MiscTechWorkedWith\"]\n",
        "\n",
        "data_us = data[data[\"Country\"] == \"United States\"]\n",
        "data_us = data_us[relevant]\n",
        "\n",
        "data_uk = data[data[\"Country\"] == \"United Kingdom\"]\n",
        "data_uk = data_uk[relevant]\n",
        "\n",
        "data_eu = data[data[\"Country\"].isin([\"France\", \"Germany\", \"Sweden\",\n",
        "                                     \"Denmark\", \"Finland\", \"Norway\",\n",
        "                                     \"Ireland\", \"Netherlands\", \"Austria\",\n",
        "                                     \"Belgium\", \"Switzerland\"])]\n",
        "data_eu = data_eu[relevant]\n",
        "\n",
        "data_test = data[data[\"Country\"] == \"Canada\"]\n",
        "data_test = data_test[relevant]"
      ],
      "execution_count": 0,
      "outputs": []
    },
    {
      "cell_type": "code",
      "metadata": {
        "id": "aIlYaEgIsjFX",
        "colab_type": "code",
        "colab": {}
      },
      "source": [
        "# currency rates as of 09/09/2019\n",
        "\"\"\"\n",
        "EUR = 1.10\n",
        "CHF = 1.00\n",
        "SEK = 0.10\n",
        "NOK = 0.11\n",
        "DKK = 0.15\n",
        "USD = 1.00\n",
        "GBP = 1.23\n",
        "INR = 0.014\n",
        "NZD = 0.64\n",
        "AUD = 0.69\n",
        "CAD = 0.76\n",
        "\"\"\"\n",
        "\n",
        "currencies = {\"EUR\" : 1.10\n",
        "             ,\"CHF\" : 1.00\n",
        "             ,\"SEK\" : 0.10\n",
        "             ,\"NOK\" : 0.11\n",
        "             ,\"DKK\" : 0.15\n",
        "             ,\"USD\" : 1.00\n",
        "             ,\"GBP\" : 1.23\n",
        "             ,\"INR\" : 0.014\n",
        "             ,\"NZD\" : 0.64\n",
        "             ,\"AUD\" : 0.69\n",
        "             ,\"CAD\" : 0.76}\n",
        "\n",
        "# Convert currency into USD\n",
        "def currency_usd(data):\n",
        "    if data in (currencies):\n",
        "        return currencies[data]\n",
        "    else:\n",
        "        return 0\n",
        "\n",
        "# Annualize total compensation\n",
        "def currency_annualize(data):\n",
        "    if data == 'Weekly':\n",
        "        return 52\n",
        "    elif data == 'Monthly':\n",
        "        return 12\n",
        "    elif data == 'Yearly':\n",
        "        return 1"
      ],
      "execution_count": 0,
      "outputs": []
    },
    {
      "cell_type": "code",
      "metadata": {
        "id": "SR4XuxkzUWi3",
        "colab_type": "code",
        "colab": {}
      },
      "source": [
        "# Parse all types within a data into a list\n",
        "def parse_types(data):\n",
        "    types_temp = []\n",
        "    for i in range( len(data)):\n",
        "        types_temp.append([parsed.strip() for parsed in str(data.iloc[i]).split(';')])\n",
        "    \n",
        "    types = []\n",
        "    for i in types_temp:\n",
        "        for j in i:\n",
        "            if j not in types:\n",
        "                types.append(j)\n",
        "                \n",
        "    return types"
      ],
      "execution_count": 0,
      "outputs": []
    },
    {
      "cell_type": "code",
      "metadata": {
        "id": "j2S9uhieq7uR",
        "colab_type": "code",
        "colab": {}
      },
      "source": [
        "# Parse datarow of all text into a list\n",
        "def parse(data):\n",
        "    return [parsed.strip() for parsed in str(data).split(';')]\n",
        "\n",
        "# Check whether text exists in data\n",
        "def check(text, data):\n",
        "    if text in parse(data):\n",
        "        return 1\n",
        "    else:\n",
        "        return 0\n",
        "\n",
        "# Count occurences of text in data\n",
        "def countd(text, data):\n",
        "    counted = []\n",
        "    \n",
        "    for i in data:\n",
        "        counted.append(check(text, i))\n",
        "    \n",
        "    return sum(counted)"
      ],
      "execution_count": 0,
      "outputs": []
    },
    {
      "cell_type": "code",
      "metadata": {
        "id": "wcaBVpAkXp5F",
        "colab_type": "code",
        "colab": {}
      },
      "source": [
        "devtypes = parse_types(data.DevType)\n",
        "eduother = parse_types(data.EduOther)\n",
        "languages = parse_types(data.LanguageWorkedWith)\n",
        "databases = parse_types(data.DatabaseWorkedWith)\n",
        "platforms = parse_types(data.PlatformWorkedWith)\n",
        "webframes = parse_types(data.WebFrameWorkedWith)\n",
        "misctechs = parse_types(data.MiscTechWorkedWith)"
      ],
      "execution_count": 0,
      "outputs": []
    },
    {
      "cell_type": "code",
      "metadata": {
        "id": "cgZzbKoreE0p",
        "colab_type": "code",
        "colab": {}
      },
      "source": [
        "data_us[\"CompTotal\"] *= data_us[\"CompFreq\"].apply(currency_annualize)\n",
        "data_us[\"CompTotal\"] *= data_us[\"CurrencySymbol\"].apply(currency_usd)\n",
        "data_us = data_us[data_us.CompTotal > 100]\n",
        "\n",
        "data_uk[\"CompTotal\"] *= data_uk[\"CompFreq\"].apply(currency_annualize)\n",
        "data_uk[\"CompTotal\"] *= data_uk[\"CurrencySymbol\"].apply(currency_usd)\n",
        "data_uk = data_uk[data_uk.CompTotal > 100]\n",
        "\n",
        "data_eu[\"CompTotal\"] *= data_eu[\"CompFreq\"].apply(currency_annualize)\n",
        "data_eu[\"CompTotal\"] *= data_eu[\"CurrencySymbol\"].apply(currency_usd)\n",
        "data_eu = data_eu[data_eu.CompTotal > 100]"
      ],
      "execution_count": 0,
      "outputs": []
    },
    {
      "cell_type": "markdown",
      "metadata": {
        "id": "x2S4hhlgyMo4",
        "colab_type": "text"
      },
      "source": [
        "## To do list:\n",
        "\n",
        "\n",
        "*   One hot encode categorical variables\n",
        "*   Validate data\n",
        "*   Model the data\n",
        "*   Results\n",
        "*   Deploy\n",
        "\n"
      ]
    },
    {
      "cell_type": "code",
      "metadata": {
        "id": "MhMZ1lRH0CMy",
        "colab_type": "code",
        "colab": {}
      },
      "source": [
        ""
      ],
      "execution_count": 0,
      "outputs": []
    }
  ]
}