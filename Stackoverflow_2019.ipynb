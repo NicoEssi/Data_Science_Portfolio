{
  "nbformat": 4,
  "nbformat_minor": 0,
  "metadata": {
    "colab": {
      "name": "Stackoverflow_2019.ipynb",
      "version": "0.3.2",
      "provenance": [],
      "collapsed_sections": [],
      "toc_visible": true,
      "include_colab_link": true
    },
    "kernelspec": {
      "name": "python3",
      "display_name": "Python 3"
    }
  },
  "cells": [
    {
      "cell_type": "markdown",
      "metadata": {
        "id": "view-in-github",
        "colab_type": "text"
      },
      "source": [
        "<a href=\"https://colab.research.google.com/github/NicoEssi/Data_Science_Portfolio/blob/master/Stackoverflow_2019.ipynb\" target=\"_parent\"><img src=\"https://colab.research.google.com/assets/colab-badge.svg\" alt=\"Open In Colab\"/></a>"
      ]
    },
    {
      "cell_type": "markdown",
      "metadata": {
        "id": "TMWAEojCxNjF",
        "colab_type": "text"
      },
      "source": [
        "# 0. Setup"
      ]
    },
    {
      "cell_type": "code",
      "metadata": {
        "id": "fGt7A4-VtPuA",
        "colab_type": "code",
        "colab": {}
      },
      "source": [
        "import os\n",
        "import zipfile\n",
        "import numpy as np\n",
        "import pandas as pd\n",
        "import matplotlib.pyplot as plt"
      ],
      "execution_count": 0,
      "outputs": []
    },
    {
      "cell_type": "code",
      "metadata": {
        "id": "KTiJphUYtRSp",
        "colab_type": "code",
        "outputId": "34fa1a8e-d8bd-4874-eedc-955f86840eeb",
        "colab": {
          "base_uri": "https://localhost:8080/",
          "height": 394
        }
      },
      "source": [
        "# Downloading the Stack Overflow Survey Results for 2019\n",
        "!wget --no-check-certificate \\\n",
        "    \"https://drive.google.com/uc?authuser=0&id=1QOmVDpd8hcVYqqUXDXf68UMDWQZP0wQV&export=download\" \\\n",
        "    -O \"/tmp/soi_2019.zip\"\n",
        "zip_ref = zipfile.ZipFile(\"/tmp/soi_2019.zip\", 'r')\n",
        "zip_ref.extractall(\"/tmp/soi_2019\")\n",
        "zip_ref.close()"
      ],
      "execution_count": 3,
      "outputs": [
        {
          "output_type": "stream",
          "text": [
            "--2019-09-10 18:26:39--  https://drive.google.com/uc?authuser=0&id=1QOmVDpd8hcVYqqUXDXf68UMDWQZP0wQV&export=download\n",
            "Resolving drive.google.com (drive.google.com)... 74.125.20.113, 74.125.20.102, 74.125.20.101, ...\n",
            "Connecting to drive.google.com (drive.google.com)|74.125.20.113|:443... connected.\n",
            "HTTP request sent, awaiting response... 302 Moved Temporarily\n",
            "Location: https://drive.google.com/uc?id=1QOmVDpd8hcVYqqUXDXf68UMDWQZP0wQV&export=download [following]\n",
            "--2019-09-10 18:26:39--  https://drive.google.com/uc?id=1QOmVDpd8hcVYqqUXDXf68UMDWQZP0wQV&export=download\n",
            "Reusing existing connection to drive.google.com:443.\n",
            "HTTP request sent, awaiting response... 302 Moved Temporarily\n",
            "Location: https://doc-14-4c-docs.googleusercontent.com/docs/securesc/ha0ro937gcuc7l7deffksulhg5h7mbp1/rt09if7md7v9rba5kgoam556228ho95b/1568138400000/06716978924947585995/*/1QOmVDpd8hcVYqqUXDXf68UMDWQZP0wQV?e=download [following]\n",
            "Warning: wildcards not supported in HTTP.\n",
            "--2019-09-10 18:26:42--  https://doc-14-4c-docs.googleusercontent.com/docs/securesc/ha0ro937gcuc7l7deffksulhg5h7mbp1/rt09if7md7v9rba5kgoam556228ho95b/1568138400000/06716978924947585995/*/1QOmVDpd8hcVYqqUXDXf68UMDWQZP0wQV?e=download\n",
            "Resolving doc-14-4c-docs.googleusercontent.com (doc-14-4c-docs.googleusercontent.com)... 74.125.142.132, 2607:f8b0:400e:c08::84\n",
            "Connecting to doc-14-4c-docs.googleusercontent.com (doc-14-4c-docs.googleusercontent.com)|74.125.142.132|:443... connected.\n",
            "HTTP request sent, awaiting response... 200 OK\n",
            "Length: unspecified [application/zip]\n",
            "Saving to: ‘/tmp/soi_2019.zip’\n",
            "\n",
            "/tmp/soi_2019.zip       [  <=>               ]  17.82M  54.8MB/s    in 0.3s    \n",
            "\n",
            "2019-09-10 18:26:42 (54.8 MB/s) - ‘/tmp/soi_2019.zip’ saved [18681322]\n",
            "\n"
          ],
          "name": "stdout"
        }
      ]
    },
    {
      "cell_type": "markdown",
      "metadata": {
        "id": "SaczdZhrxRGQ",
        "colab_type": "text"
      },
      "source": [
        "# 1. Business- & Data Understanding"
      ]
    },
    {
      "cell_type": "code",
      "metadata": {
        "id": "G1RYexwqxRjq",
        "colab_type": "code",
        "colab": {}
      },
      "source": [
        "data = pd.read_csv(\"/tmp/soi_2019/survey_results_public.csv\")\n",
        "schema = pd.read_csv(\"/tmp/soi_2019/survey_results_schema.csv\")"
      ],
      "execution_count": 0,
      "outputs": []
    },
    {
      "cell_type": "code",
      "metadata": {
        "id": "Y4qAvjt7yDpL",
        "colab_type": "code",
        "colab": {}
      },
      "source": [
        "#for i in range(len(schema)):\n",
        "#    print(schema.iloc[i].Column + \" : \" + schema.iloc[i].QuestionText)"
      ],
      "execution_count": 0,
      "outputs": []
    },
    {
      "cell_type": "code",
      "metadata": {
        "id": "pIQ2SJURzk2t",
        "colab_type": "code",
        "outputId": "41c37418-86de-444e-f4ff-978bb5423b3f",
        "colab": {
          "base_uri": "https://localhost:8080/",
          "height": 68
        }
      },
      "source": [
        "print(\"US Count: \" + str(np.sum(data.Country == \"United States\")))\n",
        "print(\"UK Count: \" + str(np.sum(data.Country == \"United Kingdom\")))\n",
        "print(\"EU Count: \" + str(np.sum(data.Country == \"France\")\n",
        "                        + np.sum(data.Country == \"Germany\")\n",
        "                        + np.sum(data.Country == \"Sweden\")\n",
        "                        + np.sum(data.Country == \"Denmark\")\n",
        "                        + np.sum(data.Country == \"Finland\")\n",
        "                        + np.sum(data.Country == \"Ireland\")\n",
        "                        + np.sum(data.Country == \"Netherlands\")\n",
        "                        + np.sum(data.Country == \"Austria\")\n",
        "                        + np.sum(data.Country == \"Belgium\")\n",
        "                        + np.sum(data.Country == \"Switzerland\")))"
      ],
      "execution_count": 5,
      "outputs": [
        {
          "output_type": "stream",
          "text": [
            "US Count: 20949\n",
            "UK Count: 5737\n",
            "EU Count: 15591\n"
          ],
          "name": "stdout"
        }
      ]
    },
    {
      "cell_type": "code",
      "metadata": {
        "id": "3ax2Jg80G10y",
        "colab_type": "code",
        "outputId": "68047922-ed33-4cca-bf76-f4386e99b261",
        "colab": {
          "base_uri": "https://localhost:8080/",
          "height": 51
        }
      },
      "source": [
        "print(\"Before: \" + str(len(data.CompTotal)))\n",
        "\n",
        "data = data[pd.notnull(data['CompFreq'])]\n",
        "data = data[pd.notnull(data['CompTotal'])].reset_index(drop = True)\n",
        "\n",
        "print(\"After: \" + str(len(data.CompTotal)))"
      ],
      "execution_count": 6,
      "outputs": [
        {
          "output_type": "stream",
          "text": [
            "Before: 88883\n",
            "After: 55827\n"
          ],
          "name": "stdout"
        }
      ]
    },
    {
      "cell_type": "code",
      "metadata": {
        "id": "K17YpqGzJOsY",
        "colab_type": "code",
        "outputId": "cda4d26b-a3f7-45ee-9055-c8a9a901a8ad",
        "colab": {
          "base_uri": "https://localhost:8080/",
          "height": 68
        }
      },
      "source": [
        "print(\"US Count: \" + str(np.sum(data.Country == \"United States\")))\n",
        "print(\"UK Count: \" + str(np.sum(data.Country == \"United Kingdom\")))\n",
        "print(\"EU Count: \" + str(np.sum(data.Country == \"France\")\n",
        "                        + np.sum(data.Country == \"Germany\")\n",
        "                        + np.sum(data.Country == \"Sweden\")\n",
        "                        + np.sum(data.Country == \"Denmark\")\n",
        "                        + np.sum(data.Country == \"Finland\")\n",
        "                        + np.sum(data.Country == \"Ireland\")\n",
        "                        + np.sum(data.Country == \"Netherlands\")\n",
        "                        + np.sum(data.Country == \"Austria\")\n",
        "                        + np.sum(data.Country == \"Belgium\")\n",
        "                        + np.sum(data.Country == \"Switzerland\")\n",
        "                        + np.sum(data.Country == \"Norway\")))"
      ],
      "execution_count": 7,
      "outputs": [
        {
          "output_type": "stream",
          "text": [
            "US Count: 14981\n",
            "UK Count: 4036\n",
            "EU Count: 10744\n"
          ],
          "name": "stdout"
        }
      ]
    },
    {
      "cell_type": "markdown",
      "metadata": {
        "id": "M9wZEkJTzX4V",
        "colab_type": "text"
      },
      "source": [
        "## We are interested in identifying the profiles of the top earners in each region; United States, United Kingdom, and Europe. Thereafter, we'll build a model to predict salary.\n",
        "\n",
        "### Why do we conduct our inquiry on two countries, yet one is of a larger region consisting of numerous countries (Europe)?\n",
        "Professionals residing within the European Union have liberties granted to them by the Schengen agreement, which enables free movement of labor force and thus professionals can freely work wherever they wish.\n",
        "\n",
        "### Why are Norway and Switzerland included in the European dataset?\n",
        "While they are not part of the European Union, they have signed agreements in association with the Schengen agreement.\n",
        "\n",
        "### Why is the United Kingdom not included in the European dataset despite having signed an agreement in association with the Schengen agreement?\n",
        "Brexit. Despite the fact that the data has been gathered prior to the secession deadline, it would still be interesting to inquire on the UK data separately in case it would be of interest to compare changes in 2020 and onwards. And as of writing this, nothing has been officially said regarding future signed agreement in association with the Schengen agreement for UK.\n",
        "\n",
        "### Why are the countries in APT / RCEP not included?\n",
        "Unfortunately the data gathered for China, South Korea, and Japan are too small to make reliable inferences - and there are currently significant restrictions in freedom of movement for professionals between these countries, making it unreasonable to conduct an inquiry on these countries as a collective."
      ]
    },
    {
      "cell_type": "markdown",
      "metadata": {
        "id": "D0yy8Qg6jtFV",
        "colab_type": "text"
      },
      "source": [
        "# 2. Data Preparation"
      ]
    },
    {
      "cell_type": "code",
      "metadata": {
        "id": "lad8s4LvJhAM",
        "colab_type": "code",
        "colab": {}
      },
      "source": [
        "del data['Respondent']"
      ],
      "execution_count": 0,
      "outputs": []
    },
    {
      "cell_type": "code",
      "metadata": {
        "id": "BW12EBuwQvBy",
        "colab_type": "code",
        "colab": {}
      },
      "source": [
        "data_us = data[data[\"Country\"] == \"United States\"]\n",
        "\n",
        "data_uk = data[data[\"Country\"] == \"United Kingdom\"]\n",
        "\n",
        "data_eu = data[data[\"Country\"].isin([\"France\", \"Germany\", \"Sweden\",\n",
        "                                     \"Denmark\", \"Finland\", \"Norway\",\n",
        "                                     \"Ireland\", \"Netherlands\", \"Austria\",\n",
        "                                     \"Belgium\", \"Switzerland\"])]"
      ],
      "execution_count": 0,
      "outputs": []
    },
    {
      "cell_type": "code",
      "metadata": {
        "id": "K836vIvgd9LP",
        "colab_type": "code",
        "colab": {}
      },
      "source": [
        "data_test = data[data[\"Country\"] == \"Canada\"]"
      ],
      "execution_count": 0,
      "outputs": []
    },
    {
      "cell_type": "code",
      "metadata": {
        "id": "BXfXd6iZcxYS",
        "colab_type": "code",
        "colab": {
          "base_uri": "https://localhost:8080/",
          "height": 34
        },
        "outputId": "50414de0-ad02-4db5-80b4-3da62a92be94"
      },
      "source": [
        "data_eu[\"CompFreq\"].unique()"
      ],
      "execution_count": 46,
      "outputs": [
        {
          "output_type": "execute_result",
          "data": {
            "text/plain": [
              "array(['Monthly', 'Yearly', 'Weekly'], dtype=object)"
            ]
          },
          "metadata": {
            "tags": []
          },
          "execution_count": 46
        }
      ]
    },
    {
      "cell_type": "code",
      "metadata": {
        "id": "aIlYaEgIsjFX",
        "colab_type": "code",
        "colab": {}
      },
      "source": [
        "# currency rates as of 09/09/2019\n",
        "\"\"\"\n",
        "EUR = 1.10\n",
        "CHF = 1.00\n",
        "SEK = 0.10\n",
        "NOK = 0.11\n",
        "DKK = 0.15\n",
        "USD = 1.00\n",
        "GBP = 1.23\n",
        "INR = 0.014\n",
        "NZD = 0.64\n",
        "AUD = 0.69\n",
        "CAD = 0.76\n",
        "\"\"\"\n",
        "\n",
        "currencies = {\"EUR\" : 1.10\n",
        "             ,\"CHF\" : 1.00\n",
        "             ,\"SEK\" : 0.10\n",
        "             ,\"NOK\" : 0.11\n",
        "             ,\"DKK\" : 0.15\n",
        "             ,\"USD\" : 1.00\n",
        "             ,\"GBP\" : 1.23\n",
        "             ,\"INR\" : 0.014\n",
        "             ,\"NZD\" : 0.64\n",
        "             ,\"AUD\" : 0.69\n",
        "             ,\"CAD\" : 0.76}\n",
        "\n",
        "def currency_usd(data):\n",
        "    if data in (currencies):\n",
        "        return currencies[data]\n",
        "    else:\n",
        "        return 0\n",
        "\n",
        "def currency_annualize(data):\n",
        "    if data == 'Weekly':\n",
        "        return 52\n",
        "    elif data == 'Monthly':\n",
        "        return 12\n",
        "    elif data == 'Yearly':\n",
        "        return 1\n",
        "\n",
        "def currency_drop(data):\n",
        "    if data in currencies:\n",
        "        return 1\n",
        "    else:\n",
        "        return 0"
      ],
      "execution_count": 0,
      "outputs": []
    },
    {
      "cell_type": "code",
      "metadata": {
        "id": "cgZzbKoreE0p",
        "colab_type": "code",
        "colab": {
          "base_uri": "https://localhost:8080/",
          "height": 119
        },
        "outputId": "67df3ad1-3278-4375-c875-73edfec5bdc4"
      },
      "source": [
        "data_test[\"CompTotal\"] *= data_test[\"CompFreq\"].apply(currency_standardize)"
      ],
      "execution_count": 29,
      "outputs": [
        {
          "output_type": "stream",
          "text": [
            "/usr/local/lib/python3.6/dist-packages/ipykernel_launcher.py:1: SettingWithCopyWarning: \n",
            "A value is trying to be set on a copy of a slice from a DataFrame.\n",
            "Try using .loc[row_indexer,col_indexer] = value instead\n",
            "\n",
            "See the caveats in the documentation: http://pandas.pydata.org/pandas-docs/stable/indexing.html#indexing-view-versus-copy\n",
            "  \"\"\"Entry point for launching an IPython kernel.\n"
          ],
          "name": "stderr"
        }
      ]
    },
    {
      "cell_type": "code",
      "metadata": {
        "id": "zHsu5KMVkKUp",
        "colab_type": "code",
        "colab": {
          "base_uri": "https://localhost:8080/",
          "height": 51
        },
        "outputId": "d3ed1709-0247-4170-b14e-20fcc6886ac6"
      },
      "source": [
        "data_us[\"CurrencySymbol\"].unique()"
      ],
      "execution_count": 41,
      "outputs": [
        {
          "output_type": "execute_result",
          "data": {
            "text/plain": [
              "array(['USD', 'GBP', 'IRR', 'SEK', 'GNF', 'CAD', 'VND', 'EUR', 'AUD',\n",
              "       'ARS', 'BSD', 'INR'], dtype=object)"
            ]
          },
          "metadata": {
            "tags": []
          },
          "execution_count": 41
        }
      ]
    },
    {
      "cell_type": "code",
      "metadata": {
        "id": "4U97F9S-mdmU",
        "colab_type": "code",
        "colab": {
          "base_uri": "https://localhost:8080/",
          "height": 1000
        },
        "outputId": "2455017e-b070-4d59-8f47-3d12525205ee"
      },
      "source": [
        "data_test[\"CurrencySymbol\"].apply(currency_usd)"
      ],
      "execution_count": 54,
      "outputs": [
        {
          "output_type": "execute_result",
          "data": {
            "text/plain": [
              "2        0.76\n",
              "66       0.76\n",
              "75       0.76\n",
              "140      0.76\n",
              "153      0.76\n",
              "164      0.76\n",
              "184      0.76\n",
              "185      1.00\n",
              "198      0.76\n",
              "302      0.76\n",
              "346      0.76\n",
              "350      0.76\n",
              "358      0.76\n",
              "360      0.76\n",
              "393      0.76\n",
              "452      0.76\n",
              "479      0.76\n",
              "500      0.76\n",
              "522      0.76\n",
              "574      0.76\n",
              "577      0.76\n",
              "587      0.76\n",
              "610      0.76\n",
              "624      0.76\n",
              "691      0.76\n",
              "694      0.76\n",
              "696      0.76\n",
              "713      0.76\n",
              "714      0.76\n",
              "724      0.76\n",
              "         ... \n",
              "55323    0.76\n",
              "55355    0.76\n",
              "55367    0.76\n",
              "55392    0.76\n",
              "55420    0.76\n",
              "55423    0.76\n",
              "55460    0.76\n",
              "55488    0.76\n",
              "55563    0.76\n",
              "55567    0.76\n",
              "55574    0.76\n",
              "55609    0.76\n",
              "55615    0.76\n",
              "55621    0.76\n",
              "55657    0.76\n",
              "55689    0.76\n",
              "55693    0.76\n",
              "55713    0.76\n",
              "55718    0.76\n",
              "55726    0.76\n",
              "55746    0.76\n",
              "55753    0.76\n",
              "55760    1.00\n",
              "55767    0.76\n",
              "55768    0.76\n",
              "55797    0.76\n",
              "55800    0.76\n",
              "55807    0.76\n",
              "55810    0.76\n",
              "55818    0.76\n",
              "Name: CurrencySymbol, Length: 2257, dtype: float64"
            ]
          },
          "metadata": {
            "tags": []
          },
          "execution_count": 54
        }
      ]
    },
    {
      "cell_type": "code",
      "metadata": {
        "id": "mr0pYzOQpC10",
        "colab_type": "code",
        "colab": {}
      },
      "source": [
        ""
      ],
      "execution_count": 0,
      "outputs": []
    }
  ]
}