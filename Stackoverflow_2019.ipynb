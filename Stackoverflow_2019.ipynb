{
  "nbformat": 4,
  "nbformat_minor": 0,
  "metadata": {
    "colab": {
      "name": "Stackoverflow_2019.ipynb",
      "version": "0.3.2",
      "provenance": [],
      "collapsed_sections": [
        "7fqJb-WXvklX",
        "IS9EM6w6w16r",
        "1xwqtdMnzCbv",
        "cvrcLGp32Y4I",
        "diy6JXWy4LoV",
        "T5GFTeDw6rAz",
        "fkCPiEyU0eFF",
        "wPeCftBUu_rH"
      ],
      "toc_visible": true,
      "include_colab_link": true
    },
    "kernelspec": {
      "name": "python3",
      "display_name": "Python 3"
    }
  },
  "cells": [
    {
      "cell_type": "markdown",
      "metadata": {
        "id": "view-in-github",
        "colab_type": "text"
      },
      "source": [
        "<a href=\"https://colab.research.google.com/github/NicoEssi/Data_Science_Portfolio/blob/master/Stackoverflow_2019.ipynb\" target=\"_parent\"><img src=\"https://colab.research.google.com/assets/colab-badge.svg\" alt=\"Open In Colab\"/></a>"
      ]
    },
    {
      "cell_type": "markdown",
      "metadata": {
        "id": "TMWAEojCxNjF",
        "colab_type": "text"
      },
      "source": [
        "# 0. Setup"
      ]
    },
    {
      "cell_type": "markdown",
      "metadata": {
        "id": "EdFx8XRhFwvG",
        "colab_type": "text"
      },
      "source": [
        "### Dependencies and Data"
      ]
    },
    {
      "cell_type": "code",
      "metadata": {
        "id": "fGt7A4-VtPuA",
        "colab_type": "code",
        "colab": {}
      },
      "source": [
        "import os\n",
        "import zipfile\n",
        "import numpy as np\n",
        "import pandas as pd\n",
        "import matplotlib.pyplot as plt\n",
        "import seaborn as sns"
      ],
      "execution_count": 0,
      "outputs": []
    },
    {
      "cell_type": "code",
      "metadata": {
        "id": "KTiJphUYtRSp",
        "colab_type": "code",
        "outputId": "41131795-35f1-4706-a923-d4b7a6285c2a",
        "colab": {
          "base_uri": "https://localhost:8080/",
          "height": 394
        }
      },
      "source": [
        "# Downloading the Stack Overflow Survey Results for 2019\n",
        "!wget --no-check-certificate \\\n",
        "    \"https://drive.google.com/uc?authuser=0&id=1QOmVDpd8hcVYqqUXDXf68UMDWQZP0wQV&export=download\" \\\n",
        "    -O \"/tmp/soi_2019.zip\"\n",
        "zip_ref = zipfile.ZipFile(\"/tmp/soi_2019.zip\", 'r')\n",
        "zip_ref.extractall(\"/tmp/soi_2019\")\n",
        "zip_ref.close()"
      ],
      "execution_count": 2,
      "outputs": [
        {
          "output_type": "stream",
          "text": [
            "--2019-09-12 13:37:27--  https://drive.google.com/uc?authuser=0&id=1QOmVDpd8hcVYqqUXDXf68UMDWQZP0wQV&export=download\n",
            "Resolving drive.google.com (drive.google.com)... 108.177.119.101, 108.177.119.138, 108.177.119.139, ...\n",
            "Connecting to drive.google.com (drive.google.com)|108.177.119.101|:443... connected.\n",
            "HTTP request sent, awaiting response... 302 Moved Temporarily\n",
            "Location: https://drive.google.com/uc?id=1QOmVDpd8hcVYqqUXDXf68UMDWQZP0wQV&export=download [following]\n",
            "--2019-09-12 13:37:27--  https://drive.google.com/uc?id=1QOmVDpd8hcVYqqUXDXf68UMDWQZP0wQV&export=download\n",
            "Reusing existing connection to drive.google.com:443.\n",
            "HTTP request sent, awaiting response... 302 Moved Temporarily\n",
            "Location: https://doc-14-4c-docs.googleusercontent.com/docs/securesc/ha0ro937gcuc7l7deffksulhg5h7mbp1/dc9r98kj6bifmuk6mm910agl4cul3asm/1568289600000/06716978924947585995/*/1QOmVDpd8hcVYqqUXDXf68UMDWQZP0wQV?e=download [following]\n",
            "Warning: wildcards not supported in HTTP.\n",
            "--2019-09-12 13:37:28--  https://doc-14-4c-docs.googleusercontent.com/docs/securesc/ha0ro937gcuc7l7deffksulhg5h7mbp1/dc9r98kj6bifmuk6mm910agl4cul3asm/1568289600000/06716978924947585995/*/1QOmVDpd8hcVYqqUXDXf68UMDWQZP0wQV?e=download\n",
            "Resolving doc-14-4c-docs.googleusercontent.com (doc-14-4c-docs.googleusercontent.com)... 108.177.127.132, 2a00:1450:4013:c07::84\n",
            "Connecting to doc-14-4c-docs.googleusercontent.com (doc-14-4c-docs.googleusercontent.com)|108.177.127.132|:443... connected.\n",
            "HTTP request sent, awaiting response... 200 OK\n",
            "Length: unspecified [application/zip]\n",
            "Saving to: ‘/tmp/soi_2019.zip’\n",
            "\n",
            "/tmp/soi_2019.zip       [  <=>               ]  17.82M  56.5MB/s    in 0.3s    \n",
            "\n",
            "2019-09-12 13:37:29 (56.5 MB/s) - ‘/tmp/soi_2019.zip’ saved [18681322]\n",
            "\n"
          ],
          "name": "stdout"
        }
      ]
    },
    {
      "cell_type": "markdown",
      "metadata": {
        "id": "Txn7-_km0Zsx",
        "colab_type": "text"
      },
      "source": [
        "## Custom Functions"
      ]
    },
    {
      "cell_type": "markdown",
      "metadata": {
        "id": "eQY8rDvfFYfZ",
        "colab_type": "text"
      },
      "source": [
        "### Encoding functions"
      ]
    },
    {
      "cell_type": "code",
      "metadata": {
        "id": "P0h5KA3I0t8f",
        "colab_type": "code",
        "colab": {}
      },
      "source": [
        "# Encode single label\n",
        "def encode(data):\n",
        "    return data.str.get_dummies()\n",
        "\n",
        "# Encode multiple labels\n",
        "def encodem(data):\n",
        "    return data.str.get_dummies(sep=\";\")"
      ],
      "execution_count": 0,
      "outputs": []
    },
    {
      "cell_type": "markdown",
      "metadata": {
        "id": "nrEno7F5FdJb",
        "colab_type": "text"
      },
      "source": [
        "### Parsing functions"
      ]
    },
    {
      "cell_type": "code",
      "metadata": {
        "id": "rGnojbe80ltW",
        "colab_type": "code",
        "colab": {}
      },
      "source": [
        "# Parse all types within a data into a list\n",
        "def parse_types(data):\n",
        "    types_temp = []\n",
        "    for i in range( len(data)):\n",
        "        types_temp.append([parsed.strip() for parsed in str(data.iloc[i]).split(';')])\n",
        "    \n",
        "    types = []\n",
        "    for i in types_temp:\n",
        "        for j in i:\n",
        "            if j not in types:\n",
        "                types.append(j)\n",
        "                \n",
        "    return types\n",
        "\n",
        "# Parse datarow of all text into a list\n",
        "def parse(data):\n",
        "    return [parsed.strip() for parsed in str(data).split(';')]\n",
        "\n",
        "# Check whether text exists in data\n",
        "def check(text, data):\n",
        "    if text in parse(data):\n",
        "        return 1\n",
        "    else:\n",
        "        return 0\n",
        "\n",
        "# Count occurences of text in data\n",
        "def countd(text, data):\n",
        "    counted = []\n",
        "    \n",
        "    for i in data:\n",
        "        counted.append(check(text, i))\n",
        "    \n",
        "    return sum(counted)\n",
        "\n",
        "\n",
        "def copypaste(text, column, data):\n",
        "    copypaste = []\n",
        "    \n",
        "    for i in range( len(data)):\n",
        "        if check(text, data[column].iloc[i]):\n",
        "            copypaste.append(data.iloc[i])\n",
        "    \n",
        "    return copypaste"
      ],
      "execution_count": 0,
      "outputs": []
    },
    {
      "cell_type": "markdown",
      "metadata": {
        "id": "Y2PVA5qYFj-F",
        "colab_type": "text"
      },
      "source": [
        "### Salary functions"
      ]
    },
    {
      "cell_type": "code",
      "metadata": {
        "id": "gvzPJh_k02O0",
        "colab_type": "code",
        "colab": {}
      },
      "source": [
        "# Check salary for specific category\n",
        "def check_average_salary(category, column, data):\n",
        "    salaries = []\n",
        "    for i in range( len(data) ):\n",
        "        if category in parse(data[column].iloc[i]):\n",
        "            salaries.append(data.CompTotal.iloc[i])\n",
        "    return sum(salaries)/len(salaries)\n",
        "\n",
        "\n",
        "# Check salary for specific column\n",
        "def print_average_salary_column(column, data):\n",
        "    for i in parse_types(data[column]):\n",
        "        print(str(i) + \": \" + str(check_average_salary(i, column, data)))\n",
        "        \n",
        "\n",
        "# Plot salary for specific column\n",
        "#plt.rcParams['figure.figsize'] = [15, 5] # Set figure size\n",
        "def average_salary_column(column, data, plot = False):\n",
        "    ybucket = []\n",
        "    xbucket = []\n",
        "    for i in parse_types(data[column]):\n",
        "        ybucket.append(check_average_salary(i, column, data))\n",
        "        xbucket.append(i)\n",
        "    bucket = pd.DataFrame(ybucket, xbucket)\n",
        "    if plot:\n",
        "        bucket.plot(kind = \"bar\")\n",
        "        plt.show()\n",
        "    else:\n",
        "        return bucket"
      ],
      "execution_count": 0,
      "outputs": []
    },
    {
      "cell_type": "markdown",
      "metadata": {
        "id": "X6YCIDgZFmPY",
        "colab_type": "text"
      },
      "source": [
        "### Receive function"
      ]
    },
    {
      "cell_type": "code",
      "metadata": {
        "id": "ujdpLriOPUtn",
        "colab_type": "code",
        "colab": {}
      },
      "source": [
        "# Receive the rows with specified category in column within data\n",
        "def receive(category, column, data):\n",
        "    bucket = []\n",
        "    for i in range( len(data) ):\n",
        "        if category in parse(data[column].iloc[i]):\n",
        "            bucket.append(data.iloc[i])\n",
        "    return bucket\n",
        "\n",
        "#len(pd.DataFrame(receive(\"Data scientist or machine learning specialist\", \"DevType\", data_eu)))"
      ],
      "execution_count": 0,
      "outputs": []
    },
    {
      "cell_type": "markdown",
      "metadata": {
        "id": "gKsGmQYKFq8q",
        "colab_type": "text"
      },
      "source": [
        "### Currency functions"
      ]
    },
    {
      "cell_type": "code",
      "metadata": {
        "id": "3BKO7hgR0QFA",
        "colab_type": "code",
        "colab": {}
      },
      "source": [
        "# currency rates as of 09/09/2019\n",
        "\"\"\"\n",
        "EUR = 1.10\n",
        "CHF = 1.00\n",
        "SEK = 0.10\n",
        "NOK = 0.11\n",
        "DKK = 0.15\n",
        "USD = 1.00\n",
        "GBP = 1.23\n",
        "INR = 0.014\n",
        "NZD = 0.64\n",
        "AUD = 0.69\n",
        "CAD = 0.76\n",
        "\"\"\"\n",
        "\n",
        "currencies = {\"EUR\" : 1.10\n",
        "             ,\"CHF\" : 1.00\n",
        "             ,\"SEK\" : 0.10\n",
        "             ,\"NOK\" : 0.11\n",
        "             ,\"DKK\" : 0.15\n",
        "             ,\"USD\" : 1.00\n",
        "             ,\"GBP\" : 1.23\n",
        "             ,\"INR\" : 0.014\n",
        "             ,\"NZD\" : 0.64\n",
        "             ,\"AUD\" : 0.69\n",
        "             ,\"CAD\" : 0.76}\n",
        "\n",
        "# Convert currency into USD\n",
        "def currency_usd(data):\n",
        "    if data in (currencies):\n",
        "        return currencies[data]\n",
        "    else:\n",
        "        return 0\n",
        "\n",
        "# Annualize total compensation\n",
        "def currency_annualize(data):\n",
        "    if data == 'Weekly':\n",
        "        return 52\n",
        "    elif data == 'Monthly':\n",
        "        return 12\n",
        "    elif data == 'Yearly':\n",
        "        return 1"
      ],
      "execution_count": 0,
      "outputs": []
    },
    {
      "cell_type": "markdown",
      "metadata": {
        "id": "SaczdZhrxRGQ",
        "colab_type": "text"
      },
      "source": [
        "# 1. Business- & Data Understanding"
      ]
    },
    {
      "cell_type": "markdown",
      "metadata": {
        "id": "-PtqG6iBR8Kg",
        "colab_type": "text"
      },
      "source": [
        "Read the data and initial exploration of questions to determine which features are important for further inquiry."
      ]
    },
    {
      "cell_type": "code",
      "metadata": {
        "id": "G1RYexwqxRjq",
        "colab_type": "code",
        "colab": {}
      },
      "source": [
        "data = pd.read_csv(\"/tmp/soi_2019/survey_results_public.csv\")\n",
        "schema = pd.read_csv(\"/tmp/soi_2019/survey_results_schema.csv\")"
      ],
      "execution_count": 0,
      "outputs": []
    },
    {
      "cell_type": "code",
      "metadata": {
        "id": "Y4qAvjt7yDpL",
        "colab_type": "code",
        "colab": {}
      },
      "source": [
        "#for i in range(len(schema)):\n",
        "#    print(schema.iloc[i].Column + \" : \" + schema.iloc[i].QuestionText)"
      ],
      "execution_count": 0,
      "outputs": []
    },
    {
      "cell_type": "markdown",
      "metadata": {
        "id": "yg3KmAkFSMGN",
        "colab_type": "text"
      },
      "source": [
        "Clean data of rows with missing salary information."
      ]
    },
    {
      "cell_type": "code",
      "metadata": {
        "id": "pIQ2SJURzk2t",
        "colab_type": "code",
        "outputId": "d5490516-6f39-42b2-efd7-1e77bc7d8c9e",
        "colab": {
          "base_uri": "https://localhost:8080/",
          "height": 68
        }
      },
      "source": [
        "print(\"NA Count: \" + str(np.sum(data.Country == \"United States\")\n",
        "                        + np.sum(data.Country == \"Canada\")))\n",
        "print(\"UK Count: \" + str(np.sum(data.Country == \"United Kingdom\")))\n",
        "print(\"EU Count: \" + str(np.sum(data.Country == \"France\")\n",
        "                        + np.sum(data.Country == \"Germany\")\n",
        "                        + np.sum(data.Country == \"Sweden\")\n",
        "                        + np.sum(data.Country == \"Denmark\")\n",
        "                        + np.sum(data.Country == \"Finland\")\n",
        "                        + np.sum(data.Country == \"Ireland\")\n",
        "                        + np.sum(data.Country == \"Netherlands\")\n",
        "                        + np.sum(data.Country == \"Austria\")\n",
        "                        + np.sum(data.Country == \"Belgium\")\n",
        "                        + np.sum(data.Country == \"Switzerland\")))"
      ],
      "execution_count": 9,
      "outputs": [
        {
          "output_type": "stream",
          "text": [
            "NA Count: 24344\n",
            "UK Count: 5737\n",
            "EU Count: 15591\n"
          ],
          "name": "stdout"
        }
      ]
    },
    {
      "cell_type": "code",
      "metadata": {
        "id": "3ax2Jg80G10y",
        "colab_type": "code",
        "outputId": "4cc3da57-b676-48a7-dbbb-1e8afb8b2e2f",
        "colab": {
          "base_uri": "https://localhost:8080/",
          "height": 51
        }
      },
      "source": [
        "print(\"Before: \" + str(len(data.CompTotal)))\n",
        "\n",
        "data = data[pd.notnull(data['CompFreq'])]\n",
        "data = data[pd.notnull(data['CompTotal'])].reset_index(drop = True)\n",
        "\n",
        "print(\"After: \" + str(len(data.CompTotal)))"
      ],
      "execution_count": 10,
      "outputs": [
        {
          "output_type": "stream",
          "text": [
            "Before: 88883\n",
            "After: 55827\n"
          ],
          "name": "stdout"
        }
      ]
    },
    {
      "cell_type": "code",
      "metadata": {
        "id": "K17YpqGzJOsY",
        "colab_type": "code",
        "outputId": "55102fa2-5330-431f-8951-aa126ce747f6",
        "colab": {
          "base_uri": "https://localhost:8080/",
          "height": 68
        }
      },
      "source": [
        "print(\"NA Count: \" + str(np.sum(data.Country == \"United States\")\n",
        "                        + np.sum(data.Country == \"Canada\")))\n",
        "print(\"UK Count: \" + str(np.sum(data.Country == \"United Kingdom\")))\n",
        "print(\"EU Count: \" + str(np.sum(data.Country == \"France\")\n",
        "                        + np.sum(data.Country == \"Germany\")\n",
        "                        + np.sum(data.Country == \"Sweden\")\n",
        "                        + np.sum(data.Country == \"Denmark\")\n",
        "                        + np.sum(data.Country == \"Finland\")\n",
        "                        + np.sum(data.Country == \"Ireland\")\n",
        "                        + np.sum(data.Country == \"Netherlands\")\n",
        "                        + np.sum(data.Country == \"Austria\")\n",
        "                        + np.sum(data.Country == \"Belgium\")\n",
        "                        + np.sum(data.Country == \"Switzerland\")\n",
        "                        + np.sum(data.Country == \"Norway\")))"
      ],
      "execution_count": 11,
      "outputs": [
        {
          "output_type": "stream",
          "text": [
            "NA Count: 17238\n",
            "UK Count: 4036\n",
            "EU Count: 10744\n"
          ],
          "name": "stdout"
        }
      ]
    },
    {
      "cell_type": "code",
      "metadata": {
        "id": "OTH2TFKpPyT1",
        "colab_type": "code",
        "outputId": "ad59a189-f83a-4dbb-e192-f0a7a888368b",
        "colab": {
          "base_uri": "https://localhost:8080/",
          "height": 156
        }
      },
      "source": [
        "devtypes = parse_types(data.DevType)\n",
        "eduother = parse_types(data.EduOther)\n",
        "languages = parse_types(data.LanguageWorkedWith)\n",
        "databases = parse_types(data.DatabaseWorkedWith)\n",
        "platforms = parse_types(data.PlatformWorkedWith)\n",
        "webframes = parse_types(data.WebFrameWorkedWith)\n",
        "misctechs = parse_types(data.MiscTechWorkedWith)\n",
        "\n",
        "print(devtypes)\n",
        "print(eduother)\n",
        "print(languages)\n",
        "print(databases)\n",
        "print(platforms)\n",
        "print(webframes)\n",
        "print(misctechs)"
      ],
      "execution_count": 12,
      "outputs": [
        {
          "output_type": "stream",
          "text": [
            "['Designer', 'Developer, back-end', 'Developer, front-end', 'Developer, full-stack', 'Data or business analyst', 'Data scientist or machine learning specialist', 'Database administrator', 'Engineer, data', 'Developer, QA or test', 'DevOps specialist', 'Developer, desktop or enterprise applications', 'Developer, game or graphics', 'Educator', 'Developer, mobile', 'Engineer, site reliability', 'Engineering manager', 'Senior executive/VP', 'System administrator', 'Student', 'Developer, embedded applications or devices', 'Product manager', 'Academic researcher', 'Scientist', 'nan', 'Marketing or sales professional']\n",
            "['Taught yourself a new language, framework, or tool without taking a formal course', 'Taken an online course in programming or software development (e.g. a MOOC)', 'Received on-the-job training in software development', 'Participated in a full-time developer training program or bootcamp', 'Taken a part-time in-person course in programming or software development', 'Participated in online coding competitions (e.g. HackerRank, CodeChef, TopCoder)', 'Contributed to open source software', 'nan', 'Participated in a hackathon', 'Completed an industry certification program (e.g. MCPD)']\n",
            "['HTML/CSS', 'C', 'C++', 'C#', 'Python', 'SQL', 'Java', 'R', 'Bash/Shell/PowerShell', 'JavaScript', 'Ruby', 'Rust', 'TypeScript', 'WebAssembly', 'Other(s):', 'Go', 'PHP', 'VBA', 'Swift', 'nan', 'Kotlin', 'Objective-C', 'Elixir', 'Erlang', 'Clojure', 'Assembly', 'Scala', 'Dart', 'F#']\n",
            "['PostgreSQL', 'MySQL', 'SQLite', 'MongoDB', 'DynamoDB', 'Elasticsearch', 'Microsoft SQL Server', 'Couchbase', 'Firebase', 'nan', 'MariaDB', 'Oracle', 'Redis', 'Other(s):', 'Cassandra']\n",
            "['nan', 'Linux', 'Windows', 'Android', 'Google Cloud Platform', 'AWS', 'Docker', 'Heroku', 'MacOS', 'Slack', 'IBM Cloud or Watson', 'iOS', 'Microsoft Azure', 'WordPress', 'Arduino', 'Raspberry Pi', 'Kubernetes', 'Other(s):']\n",
            "['nan', 'Express', 'Ruby on Rails', 'Other(s):', 'Angular/Angular.js', 'ASP.NET', 'Django', 'Flask', 'jQuery', 'Vue.js', 'Spring', 'React.js', 'Laravel', 'Drupal']\n",
            "['nan', '.NET', 'Hadoop', 'Node.js', 'Unity 3D', 'Pandas', 'Torch/PyTorch', 'Xamarin', '.NET Core', 'Ansible', 'Chef', 'Cordova', 'Puppet', 'React Native', 'Other(s):', 'TensorFlow', 'Apache Spark', 'Flutter', 'Unreal Engine', 'CryEngine']\n"
          ],
          "name": "stdout"
        }
      ]
    },
    {
      "cell_type": "markdown",
      "metadata": {
        "id": "M9wZEkJTzX4V",
        "colab_type": "text"
      },
      "source": [
        "## We are interested in creating a model that can accurately predict salaries based on numerous factors within each region.\n",
        "\n",
        "### Why do we group up many countries together into a single dataset for EU data?\n",
        "Professionals residing within the European Union have liberties granted to them by the Schengen agreement, which enables free movement of labor force and thus professionals can freely work wherever they wish.\n",
        "\n",
        "### Why are Norway and Switzerland included in the European dataset?\n",
        "While they are not part of the European Union, they have signed agreements in association with the Schengen agreement.\n",
        "\n",
        "### Why is the United Kingdom not included in the European dataset despite having signed an agreement in association with the Schengen agreement?\n",
        "Brexit. Despite the fact that the data has been gathered prior to the secession deadline, it would still be interesting to inquire on the UK data separately in case it would be of interest to compare changes in 2020 and onwards. And as of writing this, nothing has been officially said regarding future signed agreement in association with the Schengen agreement for UK.\n",
        "\n",
        "### Why are the countries in APT / RCEP not included?\n",
        "Unfortunately the data gathered for China, South Korea, and Japan are too small to make reliable inferences - and there are currently significant restrictions in freedom of movement for professionals between these countries, making it unreasonable to conduct an inquiry on these countries as a collective."
      ]
    },
    {
      "cell_type": "markdown",
      "metadata": {
        "id": "D0yy8Qg6jtFV",
        "colab_type": "text"
      },
      "source": [
        "# 2. Data Preparation"
      ]
    },
    {
      "cell_type": "code",
      "metadata": {
        "id": "lad8s4LvJhAM",
        "colab_type": "code",
        "outputId": "2eefb31b-969b-447d-850f-b5aa1cd0739d",
        "colab": {
          "base_uri": "https://localhost:8080/",
          "height": 51
        }
      },
      "source": [
        "del data['Respondent']\n",
        "\n",
        "print(len(data))\n",
        "\n",
        "data = data[data[\"MainBranch\"] == 'I am a developer by profession']\n",
        "data = data[data[\"LastHireDate\"] != \"I've never had a job\"]\n",
        "\n",
        "print(len(data))"
      ],
      "execution_count": 13,
      "outputs": [
        {
          "output_type": "stream",
          "text": [
            "55827\n",
            "50397\n"
          ],
          "name": "stdout"
        }
      ]
    },
    {
      "cell_type": "markdown",
      "metadata": {
        "id": "pqlSx4cqSx4O",
        "colab_type": "text"
      },
      "source": [
        "Total compensation preprocessing and calibration."
      ]
    },
    {
      "cell_type": "code",
      "metadata": {
        "id": "cGlZJr5Y9VWk",
        "colab_type": "code",
        "colab": {}
      },
      "source": [
        "y_label = data.CompTotal * data.CompFreq.apply(currency_annualize)\n",
        "y_label = y_label * data.CurrencySymbol.apply(currency_usd)"
      ],
      "execution_count": 0,
      "outputs": []
    },
    {
      "cell_type": "code",
      "metadata": {
        "id": "qfjjbA7HAJfM",
        "colab_type": "code",
        "outputId": "96c3776d-9aed-4f76-b8eb-b6cb85ad6589",
        "colab": {
          "base_uri": "https://localhost:8080/",
          "height": 306
        }
      },
      "source": [
        "y = y_label.copy()\n",
        "\n",
        "y = y[y < 500000]\n",
        "y = y[y > 15000]\n",
        "\n",
        "pd.set_option('float_format', '{:f}'.format)\n",
        "y.describe(percentiles = [.01, .1, .2, .3, .4, .5, .6, .7, .8, .9, .99])"
      ],
      "execution_count": 15,
      "outputs": [
        {
          "output_type": "execute_result",
          "data": {
            "text/plain": [
              "count    32278.000000\n",
              "mean     86846.166500\n",
              "std      64512.145260\n",
              "min      15036.000000\n",
              "1%       16800.000000\n",
              "10%      30250.000000\n",
              "20%      40858.632000\n",
              "30%      50400.000000\n",
              "40%      60000.000000\n",
              "50%      70000.000000\n",
              "60%      82500.000000\n",
              "70%      99000.000000\n",
              "80%     120000.000000\n",
              "90%     156000.000000\n",
              "99%     376380.000000\n",
              "max     499200.000000\n",
              "dtype: float64"
            ]
          },
          "metadata": {
            "tags": []
          },
          "execution_count": 15
        }
      ]
    },
    {
      "cell_type": "code",
      "metadata": {
        "id": "BW12EBuwQvBy",
        "colab_type": "code",
        "colab": {}
      },
      "source": [
        "relevant = [\"Hobbyist\", \"OpenSourcer\", \"Employment\", \"Country\",\n",
        "            \"Student\", \"EdLevel\", \"UndergradMajor\", \"EduOther\",\n",
        "            \"OrgSize\",\"DevType\", \"YearsCodePro\", \"JobSeek\",\n",
        "            \"LastHireDate\", \"FizzBuzz\", \"LanguageWorkedWith\",\n",
        "            \"DatabaseWorkedWith\", \"PlatformWorkedWith\",\n",
        "            \"WebFrameWorkedWith\", \"MiscTechWorkedWith\",\n",
        "           \"CompTotal\", \"CompFreq\", \"CurrencySymbol\"]\n",
        "\n",
        "\n",
        "# Handling the NA dataset\n",
        "data_na = data[data[\"Country\"].isin([\"United States\", \"Canada\"])]\n",
        "data_na = data_na[relevant]\n",
        "\n",
        "data_na[\"CompTotal\"] *= data_na.CompFreq.apply(currency_annualize)\n",
        "data_na[\"CompTotal\"] *= data_na.CurrencySymbol.apply(currency_usd)\n",
        "del data_na[\"CompFreq\"]\n",
        "del data_na[\"CurrencySymbol\"]\n",
        "data_na = data_na[data_na[\"CompTotal\"] < 500000]\n",
        "data_na = data_na[data_na[\"CompTotal\"] > 15000]\n",
        "\n",
        "\n",
        "# Handling the UK dataset\n",
        "data_uk = data[data[\"Country\"] == \"United Kingdom\"]\n",
        "data_uk = data_uk[relevant]\n",
        "\n",
        "data_uk[\"CompTotal\"] *= data_uk.CompFreq.apply(currency_annualize)\n",
        "data_uk[\"CompTotal\"] *= data_uk.CurrencySymbol.apply(currency_usd)\n",
        "del data_uk[\"CompFreq\"]\n",
        "del data_uk[\"CurrencySymbol\"]\n",
        "#del data_uk[\"Country\"] # Needs to remain for the custom functions to work\n",
        "data_uk = data_uk[data_uk[\"CompTotal\"] < 500000]\n",
        "data_uk = data_uk[data_uk[\"CompTotal\"] > 15000]\n",
        "\n",
        "\n",
        "# Handling the EU dataset\n",
        "data_eu = data[data[\"Country\"].isin([\"France\", \"Germany\", \"Sweden\",\n",
        "                                     \"Denmark\", \"Finland\", \"Norway\",\n",
        "                                     \"Ireland\", \"Netherlands\", \"Austria\",\n",
        "                                     \"Belgium\", \"Switzerland\"])]\n",
        "data_eu = data_eu[relevant]\n",
        "\n",
        "data_eu[\"CompTotal\"] *= data_eu.CompFreq.apply(currency_annualize)\n",
        "data_eu[\"CompTotal\"] *= data_eu.CurrencySymbol.apply(currency_usd)\n",
        "del data_eu[\"CompFreq\"]\n",
        "del data_eu[\"CurrencySymbol\"]\n",
        "data_eu = data_eu[data_eu[\"CompTotal\"] < 500000]\n",
        "data_eu = data_eu[data_eu[\"CompTotal\"] > 15000]"
      ],
      "execution_count": 0,
      "outputs": []
    },
    {
      "cell_type": "markdown",
      "metadata": {
        "id": "DjXwiTKB5h6j",
        "colab_type": "text"
      },
      "source": [
        "# 3. Data Exploration"
      ]
    },
    {
      "cell_type": "code",
      "metadata": {
        "id": "0KCWGQgD52dj",
        "colab_type": "code",
        "colab": {
          "base_uri": "https://localhost:8080/",
          "height": 1000
        },
        "outputId": "7beafed2-e0dd-4065-ebf3-11e287746266"
      },
      "source": [
        "for i in relevant:\n",
        "    print(i + \": \")\n",
        "    print(data[i].unique())\n",
        "    \n",
        "\"\"\"\n",
        "Hobbyist: onehotencode   ///tested: not significant\n",
        "OpenSourcer: onehotencoding   ///tested: significant\n",
        "Employment: onehotencoding   ///assumed significant\n",
        "Country: onehotencoding   ///assumed significant\n",
        "Student: onehotencoding   ///assumed significant\n",
        "EdLevel: onehotencoding   ///see FAQ @readme\n",
        "UndergradMajor: onehotencoding   ///see FAQ @readme\n",
        "EduOther: multilabelencoder   ///see FAQ @readme\n",
        "OrgSize: onehotencoding   ///\n",
        "DevType: multilabelencoder   ///assumed significant\n",
        "YearsCode: numerical   ///\n",
        "YearsCodePro: numerical   ///\n",
        "JobSeek: onehotencoding   ///\n",
        "LastHireDate: onehotencoding   /// will not be used as data for salary increase necessary\n",
        "FizzBuzz: onehotencode   ///tested: significant\n",
        "CompTotal : y\n",
        "Languages: multilabel   ///test through reg\n",
        "Database: multilabel   ///test through reg\n",
        "Platform: multilabel   ///test through reg\n",
        "Webframes: multilabel   ///test through reg\n",
        "MiscTech: multilabel   ///test through reg\n",
        "\"\"\""
      ],
      "execution_count": 37,
      "outputs": [
        {
          "output_type": "stream",
          "text": [
            "Hobbyist: \n",
            "['No' 'Yes']\n",
            "OpenSourcer: \n",
            "['Never' 'Once a month or more often'\n",
            " 'Less than once a month but more than once per year'\n",
            " 'Less than once per year']\n",
            "Employment: \n",
            "['Employed full-time'\n",
            " 'Independent contractor, freelancer, or self-employed'\n",
            " 'Employed part-time' nan]\n",
            "Country: \n",
            "['United States' 'New Zealand' 'India' 'Germany' 'United Kingdom'\n",
            " 'Australia' 'Brazil' 'Israel' 'South Africa' 'Switzerland' 'Argentina'\n",
            " 'Czech Republic' 'Spain' 'Serbia' 'Poland' 'Sweden' 'China' 'Netherlands'\n",
            " 'Philippines' 'Ireland' 'Pakistan' 'Austria' 'Canada' 'Croatia'\n",
            " 'Russian Federation' 'Italy' 'Estonia' 'Turkey' 'Romania' 'Finland'\n",
            " 'Viet Nam' 'Slovenia' 'Iran' 'Hungary' 'Latvia' 'Hong Kong (S.A.R.)'\n",
            " 'United Arab Emirates' 'France' 'Bulgaria' 'Nicaragua' 'Denmark' 'Japan'\n",
            " 'Bangladesh' 'Ukraine' 'Mexico' 'Ecuador' 'Singapore' 'South Korea'\n",
            " 'Egypt' 'Norway' 'Portugal' 'Belgium' 'Nigeria' 'Afghanistan' 'Mongolia'\n",
            " 'Chile' 'Malaysia' 'Luxembourg' 'Dominican Republic' 'Cape Verde' 'Peru'\n",
            " 'Nepal' 'Greece' 'Colombia' 'Guatemala' 'Taiwan' 'Yemen' 'Morocco'\n",
            " 'Sri Lanka' 'Slovakia' 'Indonesia' 'Kenya'\n",
            " 'Venezuela, Bolivarian Republic of...' 'Belarus' 'Panama' 'Lebanon'\n",
            " 'Kuwait' 'Republic of Moldova' 'Algeria' 'Bosnia and Herzegovina'\n",
            " 'Syrian Arab Republic' 'Thailand' 'Lithuania' 'Cameroon' 'Turkmenistan'\n",
            " 'Brunei Darussalam' 'Other Country (Not Listed Above)' 'Costa Rica'\n",
            " 'Jordan' 'Zimbabwe' 'Trinidad and Tobago' 'Albania' 'Azerbaijan'\n",
            " 'Georgia' 'Armenia' 'Uzbekistan'\n",
            " 'The former Yugoslav Republic of Macedonia' 'Ghana' 'Paraguay' 'Uganda'\n",
            " 'Rwanda' 'Kazakhstan' 'Uruguay' 'Tunisia' 'Bolivia' 'Honduras'\n",
            " 'Mauritius' 'Liechtenstein' 'El Salvador' 'United Republic of Tanzania'\n",
            " 'Kyrgyzstan' 'Libyan Arab Jamahiriya' 'Guinea' 'Ethiopia'\n",
            " 'Republic of Korea' 'Cuba' 'Montenegro' 'Malta' 'Monaco' 'Senegal'\n",
            " 'Angola' 'Iceland' 'Saudi Arabia' \"Côte d'Ivoire\" 'Swaziland' 'Cyprus'\n",
            " 'Congo, Republic of the...' 'Zambia' 'Bahrain' 'Timor-Leste' 'Jamaica'\n",
            " 'Myanmar' 'Djibouti' 'Togo' 'Cambodia' 'Iraq' 'Sudan' 'Burundi'\n",
            " 'Barbados' 'Lesotho' 'Qatar' 'Tajikistan' 'Botswana' 'Madagascar'\n",
            " 'Burkina Faso' 'Somalia' 'Fiji' 'Oman' 'Andorra' 'Haiti' 'Mozambique'\n",
            " 'Maldives' 'Saint Vincent and the Grenadines' 'San Marino'\n",
            " 'Democratic Republic of the Congo' \"Lao People's Democratic Republic\"\n",
            " 'Malawi' \"Democratic People's Republic of Korea\" 'Chad' 'Mali']\n",
            "Student: \n",
            "['No' 'Yes, full-time' 'Yes, part-time' nan]\n",
            "EdLevel: \n",
            "['Bachelor’s degree (BA, BS, B.Eng., etc.)'\n",
            " 'Some college/university study without earning a degree'\n",
            " 'Master’s degree (MA, MS, M.Eng., MBA, etc.)'\n",
            " 'Other doctoral degree (Ph.D, Ed.D., etc.)' 'Primary/elementary school'\n",
            " 'Associate degree'\n",
            " 'Secondary school (e.g. American high school, German Realschule or Gymnasium, etc.)'\n",
            " nan 'Professional degree (JD, MD, etc.)'\n",
            " 'I never completed any formal education']\n",
            "UndergradMajor: \n",
            "['Computer science, computer engineering, or software engineering' nan\n",
            " 'Information systems, information technology, or system administration'\n",
            " 'A natural science (ex. biology, chemistry, physics)'\n",
            " 'A humanities discipline (ex. literature, history, philosophy)'\n",
            " 'Another engineering discipline (ex. civil, electrical, mechanical)'\n",
            " 'Web development or web design'\n",
            " 'A business discipline (ex. accounting, finance, marketing)'\n",
            " 'Mathematics or statistics'\n",
            " 'Fine arts or performing arts (ex. graphic design, music, studio art)'\n",
            " 'A social science (ex. anthropology, psychology, political science)'\n",
            " 'I never declared a major'\n",
            " 'A health science (ex. nursing, pharmacy, radiology)']\n",
            "EduOther: \n",
            "['Taken an online course in programming or software development (e.g. a MOOC);Received on-the-job training in software development;Taught yourself a new language, framework, or tool without taking a formal course'\n",
            " 'Taken an online course in programming or software development (e.g. a MOOC);Participated in a full-time developer training program or bootcamp;Taken a part-time in-person course in programming or software development;Received on-the-job training in software development;Taught yourself a new language, framework, or tool without taking a formal course;Participated in online coding competitions (e.g. HackerRank, CodeChef, TopCoder);Contributed to open source software'\n",
            " nan\n",
            " 'Taken an online course in programming or software development (e.g. a MOOC);Received on-the-job training in software development;Taught yourself a new language, framework, or tool without taking a formal course;Participated in online coding competitions (e.g. HackerRank, CodeChef, TopCoder);Participated in a hackathon;Contributed to open source software'\n",
            " 'Completed an industry certification program (e.g. MCPD);Taught yourself a new language, framework, or tool without taking a formal course;Contributed to open source software'\n",
            " 'Taken an online course in programming or software development (e.g. a MOOC);Taught yourself a new language, framework, or tool without taking a formal course'\n",
            " 'Taken an online course in programming or software development (e.g. a MOOC);Received on-the-job training in software development;Taught yourself a new language, framework, or tool without taking a formal course;Participated in online coding competitions (e.g. HackerRank, CodeChef, TopCoder)'\n",
            " 'Received on-the-job training in software development'\n",
            " 'Taken an online course in programming or software development (e.g. a MOOC);Taught yourself a new language, framework, or tool without taking a formal course;Participated in a hackathon;Contributed to open source software'\n",
            " 'Taken an online course in programming or software development (e.g. a MOOC);Taken a part-time in-person course in programming or software development;Taught yourself a new language, framework, or tool without taking a formal course;Participated in a hackathon'\n",
            " 'Taken an online course in programming or software development (e.g. a MOOC);Completed an industry certification program (e.g. MCPD);Received on-the-job training in software development'\n",
            " 'Taught yourself a new language, framework, or tool without taking a formal course;Contributed to open source software'\n",
            " 'Taken an online course in programming or software development (e.g. a MOOC);Participated in a full-time developer training program or bootcamp;Taught yourself a new language, framework, or tool without taking a formal course'\n",
            " 'Taught yourself a new language, framework, or tool without taking a formal course;Participated in online coding competitions (e.g. HackerRank, CodeChef, TopCoder);Participated in a hackathon;Contributed to open source software'\n",
            " 'Completed an industry certification program (e.g. MCPD);Taught yourself a new language, framework, or tool without taking a formal course'\n",
            " 'Taken an online course in programming or software development (e.g. a MOOC);Taken a part-time in-person course in programming or software development;Taught yourself a new language, framework, or tool without taking a formal course;Contributed to open source software'\n",
            " 'Taken a part-time in-person course in programming or software development'\n",
            " 'Taken an online course in programming or software development (e.g. a MOOC);Taken a part-time in-person course in programming or software development;Taught yourself a new language, framework, or tool without taking a formal course;Participated in online coding competitions (e.g. HackerRank, CodeChef, TopCoder);Participated in a hackathon;Contributed to open source software'\n",
            " 'Participated in a full-time developer training program or bootcamp;Received on-the-job training in software development;Taught yourself a new language, framework, or tool without taking a formal course'\n",
            " 'Taken an online course in programming or software development (e.g. a MOOC);Participated in a full-time developer training program or bootcamp;Taken a part-time in-person course in programming or software development;Completed an industry certification program (e.g. MCPD);Received on-the-job training in software development;Taught yourself a new language, framework, or tool without taking a formal course;Contributed to open source software'\n",
            " 'Taken an online course in programming or software development (e.g. a MOOC);Participated in a full-time developer training program or bootcamp;Taken a part-time in-person course in programming or software development;Received on-the-job training in software development;Taught yourself a new language, framework, or tool without taking a formal course;Participated in online coding competitions (e.g. HackerRank, CodeChef, TopCoder);Participated in a hackathon;Contributed to open source software'\n",
            " 'Received on-the-job training in software development;Taught yourself a new language, framework, or tool without taking a formal course;Participated in online coding competitions (e.g. HackerRank, CodeChef, TopCoder)'\n",
            " 'Taught yourself a new language, framework, or tool without taking a formal course;Participated in online coding competitions (e.g. HackerRank, CodeChef, TopCoder);Contributed to open source software'\n",
            " 'Received on-the-job training in software development;Taught yourself a new language, framework, or tool without taking a formal course'\n",
            " 'Taken an online course in programming or software development (e.g. a MOOC);Taken a part-time in-person course in programming or software development;Received on-the-job training in software development;Taught yourself a new language, framework, or tool without taking a formal course'\n",
            " 'Taught yourself a new language, framework, or tool without taking a formal course;Participated in a hackathon;Contributed to open source software'\n",
            " 'Taken an online course in programming or software development (e.g. a MOOC);Taken a part-time in-person course in programming or software development;Received on-the-job training in software development;Taught yourself a new language, framework, or tool without taking a formal course;Contributed to open source software'\n",
            " 'Taken an online course in programming or software development (e.g. a MOOC);Participated in a full-time developer training program or bootcamp;Taken a part-time in-person course in programming or software development;Completed an industry certification program (e.g. MCPD);Received on-the-job training in software development;Taught yourself a new language, framework, or tool without taking a formal course;Participated in online coding competitions (e.g. HackerRank, CodeChef, TopCoder);Contributed to open source software'\n",
            " 'Taken an online course in programming or software development (e.g. a MOOC);Completed an industry certification program (e.g. MCPD);Received on-the-job training in software development;Taught yourself a new language, framework, or tool without taking a formal course;Participated in online coding competitions (e.g. HackerRank, CodeChef, TopCoder);Contributed to open source software'\n",
            " 'Taken an online course in programming or software development (e.g. a MOOC);Taught yourself a new language, framework, or tool without taking a formal course;Participated in online coding competitions (e.g. HackerRank, CodeChef, TopCoder);Participated in a hackathon'\n",
            " 'Participated in a hackathon'\n",
            " 'Taken an online course in programming or software development (e.g. a MOOC);Participated in a full-time developer training program or bootcamp;Taken a part-time in-person course in programming or software development;Received on-the-job training in software development;Taught yourself a new language, framework, or tool without taking a formal course;Participated in online coding competitions (e.g. HackerRank, CodeChef, TopCoder);Participated in a hackathon'\n",
            " 'Taken an online course in programming or software development (e.g. a MOOC);Participated in a full-time developer training program or bootcamp;Completed an industry certification program (e.g. MCPD);Received on-the-job training in software development;Taught yourself a new language, framework, or tool without taking a formal course;Participated in online coding competitions (e.g. HackerRank, CodeChef, TopCoder);Participated in a hackathon;Contributed to open source software'\n",
            " 'Taken an online course in programming or software development (e.g. a MOOC);Received on-the-job training in software development'\n",
            " 'Completed an industry certification program (e.g. MCPD);Taught yourself a new language, framework, or tool without taking a formal course;Participated in online coding competitions (e.g. HackerRank, CodeChef, TopCoder)'\n",
            " 'Received on-the-job training in software development;Taught yourself a new language, framework, or tool without taking a formal course;Contributed to open source software'\n",
            " 'Taken an online course in programming or software development (e.g. a MOOC);Participated in a full-time developer training program or bootcamp;Taught yourself a new language, framework, or tool without taking a formal course;Contributed to open source software'\n",
            " 'Taken an online course in programming or software development (e.g. a MOOC);Participated in a full-time developer training program or bootcamp;Received on-the-job training in software development;Taught yourself a new language, framework, or tool without taking a formal course;Participated in online coding competitions (e.g. HackerRank, CodeChef, TopCoder);Participated in a hackathon'\n",
            " 'Taught yourself a new language, framework, or tool without taking a formal course'\n",
            " 'Taken an online course in programming or software development (e.g. a MOOC);Participated in a full-time developer training program or bootcamp;Completed an industry certification program (e.g. MCPD);Received on-the-job training in software development;Taught yourself a new language, framework, or tool without taking a formal course'\n",
            " 'Taken a part-time in-person course in programming or software development;Completed an industry certification program (e.g. MCPD);Received on-the-job training in software development;Taught yourself a new language, framework, or tool without taking a formal course;Participated in a hackathon;Contributed to open source software'\n",
            " 'Taken an online course in programming or software development (e.g. a MOOC);Completed an industry certification program (e.g. MCPD);Taught yourself a new language, framework, or tool without taking a formal course'\n",
            " 'Taken an online course in programming or software development (e.g. a MOOC);Taught yourself a new language, framework, or tool without taking a formal course;Contributed to open source software'\n",
            " 'Received on-the-job training in software development;Taught yourself a new language, framework, or tool without taking a formal course;Participated in online coding competitions (e.g. HackerRank, CodeChef, TopCoder);Participated in a hackathon'\n",
            " 'Taken an online course in programming or software development (e.g. a MOOC);Participated in a full-time developer training program or bootcamp;Completed an industry certification program (e.g. MCPD);Received on-the-job training in software development;Taught yourself a new language, framework, or tool without taking a formal course;Participated in online coding competitions (e.g. HackerRank, CodeChef, TopCoder);Contributed to open source software'\n",
            " 'Received on-the-job training in software development;Taught yourself a new language, framework, or tool without taking a formal course;Participated in a hackathon;Contributed to open source software'\n",
            " 'Taken an online course in programming or software development (e.g. a MOOC);Participated in a full-time developer training program or bootcamp;Participated in online coding competitions (e.g. HackerRank, CodeChef, TopCoder)'\n",
            " 'Received on-the-job training in software development;Taught yourself a new language, framework, or tool without taking a formal course;Participated in online coding competitions (e.g. HackerRank, CodeChef, TopCoder);Participated in a hackathon;Contributed to open source software'\n",
            " 'Taken an online course in programming or software development (e.g. a MOOC)'\n",
            " 'Received on-the-job training in software development;Taught yourself a new language, framework, or tool without taking a formal course;Participated in a hackathon'\n",
            " 'Received on-the-job training in software development;Contributed to open source software'\n",
            " 'Taken a part-time in-person course in programming or software development;Received on-the-job training in software development'\n",
            " 'Taken an online course in programming or software development (e.g. a MOOC);Participated in a full-time developer training program or bootcamp;Taken a part-time in-person course in programming or software development;Completed an industry certification program (e.g. MCPD);Taught yourself a new language, framework, or tool without taking a formal course;Participated in online coding competitions (e.g. HackerRank, CodeChef, TopCoder);Participated in a hackathon;Contributed to open source software'\n",
            " 'Taken an online course in programming or software development (e.g. a MOOC);Taught yourself a new language, framework, or tool without taking a formal course;Participated in a hackathon'\n",
            " 'Taken an online course in programming or software development (e.g. a MOOC);Taught yourself a new language, framework, or tool without taking a formal course;Participated in online coding competitions (e.g. HackerRank, CodeChef, TopCoder)'\n",
            " 'Participated in a full-time developer training program or bootcamp;Received on-the-job training in software development;Participated in a hackathon;Contributed to open source software'\n",
            " 'Contributed to open source software'\n",
            " 'Taken an online course in programming or software development (e.g. a MOOC);Participated in a full-time developer training program or bootcamp;Taken a part-time in-person course in programming or software development;Received on-the-job training in software development;Taught yourself a new language, framework, or tool without taking a formal course'\n",
            " 'Taken an online course in programming or software development (e.g. a MOOC);Taken a part-time in-person course in programming or software development;Received on-the-job training in software development;Taught yourself a new language, framework, or tool without taking a formal course;Participated in online coding competitions (e.g. HackerRank, CodeChef, TopCoder)'\n",
            " 'Taken an online course in programming or software development (e.g. a MOOC);Taken a part-time in-person course in programming or software development;Taught yourself a new language, framework, or tool without taking a formal course'\n",
            " 'Taken an online course in programming or software development (e.g. a MOOC);Received on-the-job training in software development;Taught yourself a new language, framework, or tool without taking a formal course;Participated in online coding competitions (e.g. HackerRank, CodeChef, TopCoder);Contributed to open source software'\n",
            " 'Taken an online course in programming or software development (e.g. a MOOC);Completed an industry certification program (e.g. MCPD);Taught yourself a new language, framework, or tool without taking a formal course;Participated in online coding competitions (e.g. HackerRank, CodeChef, TopCoder)'\n",
            " 'Taken an online course in programming or software development (e.g. a MOOC);Taught yourself a new language, framework, or tool without taking a formal course;Participated in online coding competitions (e.g. HackerRank, CodeChef, TopCoder);Contributed to open source software'\n",
            " 'Completed an industry certification program (e.g. MCPD);Taught yourself a new language, framework, or tool without taking a formal course;Participated in online coding competitions (e.g. HackerRank, CodeChef, TopCoder);Contributed to open source software'\n",
            " 'Taken an online course in programming or software development (e.g. a MOOC);Completed an industry certification program (e.g. MCPD);Taught yourself a new language, framework, or tool without taking a formal course;Contributed to open source software'\n",
            " 'Taught yourself a new language, framework, or tool without taking a formal course;Participated in online coding competitions (e.g. HackerRank, CodeChef, TopCoder);Participated in a hackathon'\n",
            " 'Participated in a hackathon;Contributed to open source software'\n",
            " 'Received on-the-job training in software development;Participated in a hackathon'\n",
            " 'Completed an industry certification program (e.g. MCPD);Received on-the-job training in software development;Taught yourself a new language, framework, or tool without taking a formal course;Participated in a hackathon;Contributed to open source software'\n",
            " 'Taken an online course in programming or software development (e.g. a MOOC);Participated in a full-time developer training program or bootcamp;Received on-the-job training in software development;Taught yourself a new language, framework, or tool without taking a formal course;Participated in online coding competitions (e.g. HackerRank, CodeChef, TopCoder);Contributed to open source software'\n",
            " 'Taken an online course in programming or software development (e.g. a MOOC);Participated in a full-time developer training program or bootcamp;Taken a part-time in-person course in programming or software development;Completed an industry certification program (e.g. MCPD);Received on-the-job training in software development;Taught yourself a new language, framework, or tool without taking a formal course;Participated in online coding competitions (e.g. HackerRank, CodeChef, TopCoder);Participated in a hackathon;Contributed to open source software'\n",
            " 'Taken an online course in programming or software development (e.g. a MOOC);Participated in a hackathon'\n",
            " 'Taken an online course in programming or software development (e.g. a MOOC);Participated in a full-time developer training program or bootcamp;Received on-the-job training in software development;Taught yourself a new language, framework, or tool without taking a formal course'\n",
            " 'Taught yourself a new language, framework, or tool without taking a formal course;Participated in a hackathon'\n",
            " 'Taken an online course in programming or software development (e.g. a MOOC);Received on-the-job training in software development;Taught yourself a new language, framework, or tool without taking a formal course;Contributed to open source software'\n",
            " 'Taken an online course in programming or software development (e.g. a MOOC);Taken a part-time in-person course in programming or software development;Completed an industry certification program (e.g. MCPD);Received on-the-job training in software development;Taught yourself a new language, framework, or tool without taking a formal course'\n",
            " 'Taken an online course in programming or software development (e.g. a MOOC);Taken a part-time in-person course in programming or software development;Received on-the-job training in software development;Taught yourself a new language, framework, or tool without taking a formal course;Participated in online coding competitions (e.g. HackerRank, CodeChef, TopCoder);Participated in a hackathon;Contributed to open source software'\n",
            " 'Participated in a full-time developer training program or bootcamp;Taught yourself a new language, framework, or tool without taking a formal course;Participated in a hackathon;Contributed to open source software'\n",
            " 'Taken an online course in programming or software development (e.g. a MOOC);Taken a part-time in-person course in programming or software development;Received on-the-job training in software development;Taught yourself a new language, framework, or tool without taking a formal course;Participated in a hackathon;Contributed to open source software'\n",
            " 'Participated in a full-time developer training program or bootcamp;Taken a part-time in-person course in programming or software development;Taught yourself a new language, framework, or tool without taking a formal course'\n",
            " 'Taken an online course in programming or software development (e.g. a MOOC);Received on-the-job training in software development;Taught yourself a new language, framework, or tool without taking a formal course;Participated in a hackathon;Contributed to open source software'\n",
            " 'Taken an online course in programming or software development (e.g. a MOOC);Taken a part-time in-person course in programming or software development'\n",
            " 'Participated in a full-time developer training program or bootcamp;Received on-the-job training in software development'\n",
            " 'Taken an online course in programming or software development (e.g. a MOOC);Received on-the-job training in software development;Taught yourself a new language, framework, or tool without taking a formal course;Participated in online coding competitions (e.g. HackerRank, CodeChef, TopCoder);Participated in a hackathon'\n",
            " 'Taken an online course in programming or software development (e.g. a MOOC);Participated in a full-time developer training program or bootcamp;Taken a part-time in-person course in programming or software development;Completed an industry certification program (e.g. MCPD);Received on-the-job training in software development;Taught yourself a new language, framework, or tool without taking a formal course'\n",
            " 'Taken an online course in programming or software development (e.g. a MOOC);Taught yourself a new language, framework, or tool without taking a formal course;Participated in online coding competitions (e.g. HackerRank, CodeChef, TopCoder);Participated in a hackathon;Contributed to open source software'\n",
            " 'Taken an online course in programming or software development (e.g. a MOOC);Taken a part-time in-person course in programming or software development;Completed an industry certification program (e.g. MCPD);Received on-the-job training in software development;Taught yourself a new language, framework, or tool without taking a formal course;Participated in online coding competitions (e.g. HackerRank, CodeChef, TopCoder);Participated in a hackathon;Contributed to open source software'\n",
            " 'Participated in online coding competitions (e.g. HackerRank, CodeChef, TopCoder)'\n",
            " 'Taken an online course in programming or software development (e.g. a MOOC);Participated in a full-time developer training program or bootcamp;Taken a part-time in-person course in programming or software development;Received on-the-job training in software development;Taught yourself a new language, framework, or tool without taking a formal course;Contributed to open source software'\n",
            " 'Taken an online course in programming or software development (e.g. a MOOC);Completed an industry certification program (e.g. MCPD);Taught yourself a new language, framework, or tool without taking a formal course;Participated in online coding competitions (e.g. HackerRank, CodeChef, TopCoder);Participated in a hackathon;Contributed to open source software'\n",
            " 'Taken an online course in programming or software development (e.g. a MOOC);Participated in a full-time developer training program or bootcamp;Completed an industry certification program (e.g. MCPD);Received on-the-job training in software development;Taught yourself a new language, framework, or tool without taking a formal course;Participated in online coding competitions (e.g. HackerRank, CodeChef, TopCoder)'\n",
            " 'Taken an online course in programming or software development (e.g. a MOOC);Completed an industry certification program (e.g. MCPD);Received on-the-job training in software development;Taught yourself a new language, framework, or tool without taking a formal course;Participated in online coding competitions (e.g. HackerRank, CodeChef, TopCoder)'\n",
            " 'Taken an online course in programming or software development (e.g. a MOOC);Participated in a full-time developer training program or bootcamp;Taken a part-time in-person course in programming or software development;Received on-the-job training in software development;Taught yourself a new language, framework, or tool without taking a formal course;Participated in a hackathon;Contributed to open source software'\n",
            " 'Completed an industry certification program (e.g. MCPD);Received on-the-job training in software development;Taught yourself a new language, framework, or tool without taking a formal course;Contributed to open source software'\n",
            " 'Taken an online course in programming or software development (e.g. a MOOC);Participated in a full-time developer training program or bootcamp;Taken a part-time in-person course in programming or software development;Completed an industry certification program (e.g. MCPD);Received on-the-job training in software development;Participated in a hackathon'\n",
            " 'Taken an online course in programming or software development (e.g. a MOOC);Completed an industry certification program (e.g. MCPD);Received on-the-job training in software development;Taught yourself a new language, framework, or tool without taking a formal course;Participated in online coding competitions (e.g. HackerRank, CodeChef, TopCoder);Participated in a hackathon'\n",
            " 'Taken a part-time in-person course in programming or software development;Received on-the-job training in software development;Taught yourself a new language, framework, or tool without taking a formal course'\n",
            " 'Taken an online course in programming or software development (e.g. a MOOC);Participated in a full-time developer training program or bootcamp;Taught yourself a new language, framework, or tool without taking a formal course;Participated in online coding competitions (e.g. HackerRank, CodeChef, TopCoder);Participated in a hackathon;Contributed to open source software'\n",
            " 'Taken an online course in programming or software development (e.g. a MOOC);Taken a part-time in-person course in programming or software development;Received on-the-job training in software development;Taught yourself a new language, framework, or tool without taking a formal course;Participated in a hackathon'\n",
            " 'Taken an online course in programming or software development (e.g. a MOOC);Taken a part-time in-person course in programming or software development;Taught yourself a new language, framework, or tool without taking a formal course;Participated in online coding competitions (e.g. HackerRank, CodeChef, TopCoder)'\n",
            " 'Taken an online course in programming or software development (e.g. a MOOC);Participated in a full-time developer training program or bootcamp;Completed an industry certification program (e.g. MCPD);Received on-the-job training in software development;Taught yourself a new language, framework, or tool without taking a formal course;Contributed to open source software'\n",
            " 'Taken an online course in programming or software development (e.g. a MOOC);Participated in a full-time developer training program or bootcamp;Taught yourself a new language, framework, or tool without taking a formal course;Participated in online coding competitions (e.g. HackerRank, CodeChef, TopCoder);Contributed to open source software'\n",
            " 'Taken an online course in programming or software development (e.g. a MOOC);Completed an industry certification program (e.g. MCPD)'\n",
            " 'Taken an online course in programming or software development (e.g. a MOOC);Completed an industry certification program (e.g. MCPD);Taught yourself a new language, framework, or tool without taking a formal course;Participated in a hackathon;Contributed to open source software'\n",
            " 'Taken an online course in programming or software development (e.g. a MOOC);Completed an industry certification program (e.g. MCPD);Received on-the-job training in software development;Taught yourself a new language, framework, or tool without taking a formal course;Participated in online coding competitions (e.g. HackerRank, CodeChef, TopCoder);Participated in a hackathon;Contributed to open source software'\n",
            " 'Taken a part-time in-person course in programming or software development;Completed an industry certification program (e.g. MCPD);Received on-the-job training in software development;Taught yourself a new language, framework, or tool without taking a formal course;Participated in a hackathon'\n",
            " 'Completed an industry certification program (e.g. MCPD)'\n",
            " 'Taken an online course in programming or software development (e.g. a MOOC);Participated in online coding competitions (e.g. HackerRank, CodeChef, TopCoder)'\n",
            " 'Taken an online course in programming or software development (e.g. a MOOC);Participated in a full-time developer training program or bootcamp;Received on-the-job training in software development;Taught yourself a new language, framework, or tool without taking a formal course;Contributed to open source software'\n",
            " 'Taken an online course in programming or software development (e.g. a MOOC);Received on-the-job training in software development;Contributed to open source software'\n",
            " 'Taken an online course in programming or software development (e.g. a MOOC);Participated in online coding competitions (e.g. HackerRank, CodeChef, TopCoder);Participated in a hackathon'\n",
            " 'Completed an industry certification program (e.g. MCPD);Contributed to open source software'\n",
            " 'Participated in a full-time developer training program or bootcamp;Taught yourself a new language, framework, or tool without taking a formal course'\n",
            " 'Taken an online course in programming or software development (e.g. a MOOC);Taken a part-time in-person course in programming or software development;Participated in online coding competitions (e.g. HackerRank, CodeChef, TopCoder)'\n",
            " 'Taken an online course in programming or software development (e.g. a MOOC);Completed an industry certification program (e.g. MCPD);Received on-the-job training in software development;Taught yourself a new language, framework, or tool without taking a formal course'\n",
            " 'Taken an online course in programming or software development (e.g. a MOOC);Received on-the-job training in software development;Participated in a hackathon'\n",
            " 'Taken an online course in programming or software development (e.g. a MOOC);Taken a part-time in-person course in programming or software development;Taught yourself a new language, framework, or tool without taking a formal course;Participated in online coding competitions (e.g. HackerRank, CodeChef, TopCoder);Contributed to open source software'\n",
            " 'Participated in a full-time developer training program or bootcamp'\n",
            " 'Taken a part-time in-person course in programming or software development;Taught yourself a new language, framework, or tool without taking a formal course;Participated in online coding competitions (e.g. HackerRank, CodeChef, TopCoder)'\n",
            " 'Received on-the-job training in software development;Participated in online coding competitions (e.g. HackerRank, CodeChef, TopCoder)'\n",
            " 'Taken an online course in programming or software development (e.g. a MOOC);Participated in a full-time developer training program or bootcamp;Taken a part-time in-person course in programming or software development;Completed an industry certification program (e.g. MCPD)'\n",
            " 'Taken an online course in programming or software development (e.g. a MOOC);Received on-the-job training in software development;Taught yourself a new language, framework, or tool without taking a formal course;Participated in a hackathon'\n",
            " 'Participated in a full-time developer training program or bootcamp;Taught yourself a new language, framework, or tool without taking a formal course;Participated in online coding competitions (e.g. HackerRank, CodeChef, TopCoder);Participated in a hackathon'\n",
            " 'Taken an online course in programming or software development (e.g. a MOOC);Taken a part-time in-person course in programming or software development;Received on-the-job training in software development;Taught yourself a new language, framework, or tool without taking a formal course;Participated in online coding competitions (e.g. HackerRank, CodeChef, TopCoder);Participated in a hackathon'\n",
            " 'Taken a part-time in-person course in programming or software development;Taught yourself a new language, framework, or tool without taking a formal course'\n",
            " 'Taken an online course in programming or software development (e.g. a MOOC);Completed an industry certification program (e.g. MCPD);Received on-the-job training in software development;Taught yourself a new language, framework, or tool without taking a formal course;Contributed to open source software'\n",
            " 'Taken a part-time in-person course in programming or software development;Completed an industry certification program (e.g. MCPD);Received on-the-job training in software development;Taught yourself a new language, framework, or tool without taking a formal course;Participated in online coding competitions (e.g. HackerRank, CodeChef, TopCoder)'\n",
            " 'Taken an online course in programming or software development (e.g. a MOOC);Participated in a full-time developer training program or bootcamp;Received on-the-job training in software development;Taught yourself a new language, framework, or tool without taking a formal course;Participated in a hackathon'\n",
            " 'Taken an online course in programming or software development (e.g. a MOOC);Participated in a full-time developer training program or bootcamp;Taken a part-time in-person course in programming or software development;Taught yourself a new language, framework, or tool without taking a formal course;Participated in online coding competitions (e.g. HackerRank, CodeChef, TopCoder);Participated in a hackathon'\n",
            " 'Taken an online course in programming or software development (e.g. a MOOC);Participated in a full-time developer training program or bootcamp'\n",
            " 'Taken an online course in programming or software development (e.g. a MOOC);Participated in a full-time developer training program or bootcamp;Taken a part-time in-person course in programming or software development;Completed an industry certification program (e.g. MCPD);Received on-the-job training in software development;Taught yourself a new language, framework, or tool without taking a formal course;Participated in a hackathon;Contributed to open source software'\n",
            " 'Taken an online course in programming or software development (e.g. a MOOC);Completed an industry certification program (e.g. MCPD);Taught yourself a new language, framework, or tool without taking a formal course;Participated in a hackathon'\n",
            " 'Received on-the-job training in software development;Taught yourself a new language, framework, or tool without taking a formal course;Participated in online coding competitions (e.g. HackerRank, CodeChef, TopCoder);Contributed to open source software'\n",
            " 'Taken an online course in programming or software development (e.g. a MOOC);Taken a part-time in-person course in programming or software development;Completed an industry certification program (e.g. MCPD);Received on-the-job training in software development;Taught yourself a new language, framework, or tool without taking a formal course;Contributed to open source software'\n",
            " 'Taken an online course in programming or software development (e.g. a MOOC);Participated in a full-time developer training program or bootcamp;Taken a part-time in-person course in programming or software development;Received on-the-job training in software development;Taught yourself a new language, framework, or tool without taking a formal course;Participated in a hackathon'\n",
            " 'Taken an online course in programming or software development (e.g. a MOOC);Taken a part-time in-person course in programming or software development;Completed an industry certification program (e.g. MCPD);Taught yourself a new language, framework, or tool without taking a formal course;Contributed to open source software'\n",
            " 'Taken a part-time in-person course in programming or software development;Received on-the-job training in software development;Taught yourself a new language, framework, or tool without taking a formal course;Contributed to open source software'\n",
            " 'Completed an industry certification program (e.g. MCPD);Received on-the-job training in software development;Taught yourself a new language, framework, or tool without taking a formal course'\n",
            " 'Taught yourself a new language, framework, or tool without taking a formal course;Participated in online coding competitions (e.g. HackerRank, CodeChef, TopCoder)'\n",
            " 'Taken an online course in programming or software development (e.g. a MOOC);Taken a part-time in-person course in programming or software development;Completed an industry certification program (e.g. MCPD);Received on-the-job training in software development;Taught yourself a new language, framework, or tool without taking a formal course;Participated in online coding competitions (e.g. HackerRank, CodeChef, TopCoder);Contributed to open source software'\n",
            " 'Taken an online course in programming or software development (e.g. a MOOC);Participated in a full-time developer training program or bootcamp;Taken a part-time in-person course in programming or software development;Received on-the-job training in software development;Participated in online coding competitions (e.g. HackerRank, CodeChef, TopCoder);Participated in a hackathon;Contributed to open source software'\n",
            " 'Taken an online course in programming or software development (e.g. a MOOC);Taken a part-time in-person course in programming or software development;Taught yourself a new language, framework, or tool without taking a formal course;Participated in online coding competitions (e.g. HackerRank, CodeChef, TopCoder);Participated in a hackathon'\n",
            " 'Taken an online course in programming or software development (e.g. a MOOC);Taken a part-time in-person course in programming or software development;Received on-the-job training in software development;Taught yourself a new language, framework, or tool without taking a formal course;Participated in online coding competitions (e.g. HackerRank, CodeChef, TopCoder);Contributed to open source software'\n",
            " 'Taken a part-time in-person course in programming or software development;Received on-the-job training in software development;Taught yourself a new language, framework, or tool without taking a formal course;Participated in online coding competitions (e.g. HackerRank, CodeChef, TopCoder);Participated in a hackathon'\n",
            " 'Completed an industry certification program (e.g. MCPD);Taught yourself a new language, framework, or tool without taking a formal course;Participated in a hackathon'\n",
            " 'Participated in a full-time developer training program or bootcamp;Taught yourself a new language, framework, or tool without taking a formal course;Contributed to open source software'\n",
            " 'Taken an online course in programming or software development (e.g. a MOOC);Completed an industry certification program (e.g. MCPD);Received on-the-job training in software development;Taught yourself a new language, framework, or tool without taking a formal course;Participated in a hackathon;Contributed to open source software'\n",
            " 'Completed an industry certification program (e.g. MCPD);Received on-the-job training in software development;Taught yourself a new language, framework, or tool without taking a formal course;Participated in a hackathon'\n",
            " 'Participated in a full-time developer training program or bootcamp;Taken a part-time in-person course in programming or software development;Completed an industry certification program (e.g. MCPD);Received on-the-job training in software development;Taught yourself a new language, framework, or tool without taking a formal course'\n",
            " 'Taken an online course in programming or software development (e.g. a MOOC);Participated in a full-time developer training program or bootcamp;Taken a part-time in-person course in programming or software development;Taught yourself a new language, framework, or tool without taking a formal course;Participated in online coding competitions (e.g. HackerRank, CodeChef, TopCoder);Participated in a hackathon;Contributed to open source software'\n",
            " 'Taken an online course in programming or software development (e.g. a MOOC);Completed an industry certification program (e.g. MCPD);Taught yourself a new language, framework, or tool without taking a formal course;Participated in online coding competitions (e.g. HackerRank, CodeChef, TopCoder);Participated in a hackathon'\n",
            " 'Taken an online course in programming or software development (e.g. a MOOC);Participated in a full-time developer training program or bootcamp;Taken a part-time in-person course in programming or software development;Taught yourself a new language, framework, or tool without taking a formal course;Participated in online coding competitions (e.g. HackerRank, CodeChef, TopCoder)'\n",
            " 'Taken an online course in programming or software development (e.g. a MOOC);Participated in a full-time developer training program or bootcamp;Taught yourself a new language, framework, or tool without taking a formal course;Participated in online coding competitions (e.g. HackerRank, CodeChef, TopCoder)'\n",
            " 'Participated in a full-time developer training program or bootcamp;Taken a part-time in-person course in programming or software development;Completed an industry certification program (e.g. MCPD);Received on-the-job training in software development;Taught yourself a new language, framework, or tool without taking a formal course;Contributed to open source software'\n",
            " 'Taken a part-time in-person course in programming or software development;Participated in online coding competitions (e.g. HackerRank, CodeChef, TopCoder)'\n",
            " 'Taken an online course in programming or software development (e.g. a MOOC);Completed an industry certification program (e.g. MCPD);Taught yourself a new language, framework, or tool without taking a formal course;Participated in online coding competitions (e.g. HackerRank, CodeChef, TopCoder);Contributed to open source software'\n",
            " 'Taken an online course in programming or software development (e.g. a MOOC);Participated in a full-time developer training program or bootcamp;Received on-the-job training in software development;Contributed to open source software'\n",
            " 'Taken a part-time in-person course in programming or software development;Completed an industry certification program (e.g. MCPD);Received on-the-job training in software development;Taught yourself a new language, framework, or tool without taking a formal course'\n",
            " 'Taken an online course in programming or software development (e.g. a MOOC);Participated in a full-time developer training program or bootcamp;Completed an industry certification program (e.g. MCPD);Taught yourself a new language, framework, or tool without taking a formal course;Contributed to open source software'\n",
            " 'Taken a part-time in-person course in programming or software development;Taught yourself a new language, framework, or tool without taking a formal course;Contributed to open source software'\n",
            " 'Taken an online course in programming or software development (e.g. a MOOC);Participated in a full-time developer training program or bootcamp;Taken a part-time in-person course in programming or software development;Completed an industry certification program (e.g. MCPD);Taught yourself a new language, framework, or tool without taking a formal course;Contributed to open source software'\n",
            " 'Taken an online course in programming or software development (e.g. a MOOC);Participated in a full-time developer training program or bootcamp;Completed an industry certification program (e.g. MCPD);Participated in online coding competitions (e.g. HackerRank, CodeChef, TopCoder);Contributed to open source software'\n",
            " 'Taken an online course in programming or software development (e.g. a MOOC);Taken a part-time in-person course in programming or software development;Taught yourself a new language, framework, or tool without taking a formal course;Participated in a hackathon;Contributed to open source software'\n",
            " 'Taken an online course in programming or software development (e.g. a MOOC);Participated in a full-time developer training program or bootcamp;Received on-the-job training in software development;Taught yourself a new language, framework, or tool without taking a formal course;Participated in online coding competitions (e.g. HackerRank, CodeChef, TopCoder);Participated in a hackathon;Contributed to open source software'\n",
            " 'Participated in a full-time developer training program or bootcamp;Taken a part-time in-person course in programming or software development;Taught yourself a new language, framework, or tool without taking a formal course;Participated in a hackathon;Contributed to open source software'\n",
            " 'Taken a part-time in-person course in programming or software development;Received on-the-job training in software development;Taught yourself a new language, framework, or tool without taking a formal course;Participated in a hackathon;Contributed to open source software'\n",
            " 'Participated in a full-time developer training program or bootcamp;Taught yourself a new language, framework, or tool without taking a formal course;Participated in online coding competitions (e.g. HackerRank, CodeChef, TopCoder);Participated in a hackathon;Contributed to open source software'\n",
            " 'Taken an online course in programming or software development (e.g. a MOOC);Taken a part-time in-person course in programming or software development;Completed an industry certification program (e.g. MCPD);Received on-the-job training in software development;Taught yourself a new language, framework, or tool without taking a formal course;Participated in a hackathon;Contributed to open source software'\n",
            " 'Completed an industry certification program (e.g. MCPD);Received on-the-job training in software development;Taught yourself a new language, framework, or tool without taking a formal course;Participated in online coding competitions (e.g. HackerRank, CodeChef, TopCoder);Participated in a hackathon;Contributed to open source software'\n",
            " 'Taken an online course in programming or software development (e.g. a MOOC);Participated in a full-time developer training program or bootcamp;Taken a part-time in-person course in programming or software development;Completed an industry certification program (e.g. MCPD);Taught yourself a new language, framework, or tool without taking a formal course;Participated in online coding competitions (e.g. HackerRank, CodeChef, TopCoder);Participated in a hackathon'\n",
            " 'Taken an online course in programming or software development (e.g. a MOOC);Taken a part-time in-person course in programming or software development;Completed an industry certification program (e.g. MCPD);Taught yourself a new language, framework, or tool without taking a formal course;Participated in a hackathon;Contributed to open source software'\n",
            " 'Participated in a full-time developer training program or bootcamp;Taken a part-time in-person course in programming or software development'\n",
            " 'Taken an online course in programming or software development (e.g. a MOOC);Received on-the-job training in software development;Participated in a hackathon;Contributed to open source software'\n",
            " 'Taken an online course in programming or software development (e.g. a MOOC);Participated in a full-time developer training program or bootcamp;Completed an industry certification program (e.g. MCPD);Received on-the-job training in software development;Taught yourself a new language, framework, or tool without taking a formal course;Participated in a hackathon;Contributed to open source software'\n",
            " 'Taken an online course in programming or software development (e.g. a MOOC);Participated in a full-time developer training program or bootcamp;Received on-the-job training in software development'\n",
            " 'Participated in a full-time developer training program or bootcamp;Taken a part-time in-person course in programming or software development;Completed an industry certification program (e.g. MCPD);Received on-the-job training in software development;Taught yourself a new language, framework, or tool without taking a formal course;Participated in online coding competitions (e.g. HackerRank, CodeChef, TopCoder);Contributed to open source software'\n",
            " 'Completed an industry certification program (e.g. MCPD);Taught yourself a new language, framework, or tool without taking a formal course;Participated in a hackathon;Contributed to open source software'\n",
            " 'Taken an online course in programming or software development (e.g. a MOOC);Participated in a full-time developer training program or bootcamp;Taken a part-time in-person course in programming or software development;Taught yourself a new language, framework, or tool without taking a formal course'\n",
            " 'Taken an online course in programming or software development (e.g. a MOOC);Participated in a full-time developer training program or bootcamp;Taken a part-time in-person course in programming or software development;Taught yourself a new language, framework, or tool without taking a formal course;Participated in online coding competitions (e.g. HackerRank, CodeChef, TopCoder);Contributed to open source software'\n",
            " 'Taken an online course in programming or software development (e.g. a MOOC);Contributed to open source software'\n",
            " 'Taken an online course in programming or software development (e.g. a MOOC);Participated in a full-time developer training program or bootcamp;Completed an industry certification program (e.g. MCPD);Taught yourself a new language, framework, or tool without taking a formal course'\n",
            " 'Participated in a full-time developer training program or bootcamp;Received on-the-job training in software development;Participated in online coding competitions (e.g. HackerRank, CodeChef, TopCoder);Participated in a hackathon;Contributed to open source software'\n",
            " 'Taken a part-time in-person course in programming or software development;Received on-the-job training in software development;Taught yourself a new language, framework, or tool without taking a formal course;Participated in online coding competitions (e.g. HackerRank, CodeChef, TopCoder);Participated in a hackathon;Contributed to open source software'\n",
            " 'Taken an online course in programming or software development (e.g. a MOOC);Participated in online coding competitions (e.g. HackerRank, CodeChef, TopCoder);Contributed to open source software'\n",
            " 'Taken an online course in programming or software development (e.g. a MOOC);Completed an industry certification program (e.g. MCPD);Participated in online coding competitions (e.g. HackerRank, CodeChef, TopCoder)'\n",
            " 'Completed an industry certification program (e.g. MCPD);Received on-the-job training in software development'\n",
            " 'Taken an online course in programming or software development (e.g. a MOOC);Participated in a full-time developer training program or bootcamp;Taken a part-time in-person course in programming or software development;Completed an industry certification program (e.g. MCPD);Received on-the-job training in software development;Taught yourself a new language, framework, or tool without taking a formal course;Participated in a hackathon'\n",
            " 'Taken an online course in programming or software development (e.g. a MOOC);Completed an industry certification program (e.g. MCPD);Received on-the-job training in software development;Taught yourself a new language, framework, or tool without taking a formal course;Participated in a hackathon'\n",
            " 'Participated in a full-time developer training program or bootcamp;Taken a part-time in-person course in programming or software development;Received on-the-job training in software development'\n",
            " 'Participated in a full-time developer training program or bootcamp;Completed an industry certification program (e.g. MCPD);Received on-the-job training in software development;Taught yourself a new language, framework, or tool without taking a formal course'\n",
            " 'Participated in a full-time developer training program or bootcamp;Received on-the-job training in software development;Taught yourself a new language, framework, or tool without taking a formal course;Contributed to open source software'\n",
            " 'Taken an online course in programming or software development (e.g. a MOOC);Participated in a full-time developer training program or bootcamp;Completed an industry certification program (e.g. MCPD);Received on-the-job training in software development'\n",
            " 'Taken an online course in programming or software development (e.g. a MOOC);Completed an industry certification program (e.g. MCPD);Participated in online coding competitions (e.g. HackerRank, CodeChef, TopCoder);Participated in a hackathon'\n",
            " 'Participated in a full-time developer training program or bootcamp;Taken a part-time in-person course in programming or software development;Received on-the-job training in software development;Taught yourself a new language, framework, or tool without taking a formal course;Participated in online coding competitions (e.g. HackerRank, CodeChef, TopCoder)'\n",
            " 'Taken an online course in programming or software development (e.g. a MOOC);Participated in a full-time developer training program or bootcamp;Taken a part-time in-person course in programming or software development;Taught yourself a new language, framework, or tool without taking a formal course;Contributed to open source software'\n",
            " 'Participated in a full-time developer training program or bootcamp;Received on-the-job training in software development;Taught yourself a new language, framework, or tool without taking a formal course;Participated in online coding competitions (e.g. HackerRank, CodeChef, TopCoder);Contributed to open source software'\n",
            " 'Taken an online course in programming or software development (e.g. a MOOC);Participated in a full-time developer training program or bootcamp;Received on-the-job training in software development;Taught yourself a new language, framework, or tool without taking a formal course;Participated in a hackathon;Contributed to open source software'\n",
            " 'Taken an online course in programming or software development (e.g. a MOOC);Participated in a full-time developer training program or bootcamp;Taught yourself a new language, framework, or tool without taking a formal course;Participated in online coding competitions (e.g. HackerRank, CodeChef, TopCoder);Participated in a hackathon'\n",
            " 'Taken an online course in programming or software development (e.g. a MOOC);Participated in a full-time developer training program or bootcamp;Received on-the-job training in software development;Taught yourself a new language, framework, or tool without taking a formal course;Participated in online coding competitions (e.g. HackerRank, CodeChef, TopCoder)'\n",
            " 'Taken an online course in programming or software development (e.g. a MOOC);Participated in a full-time developer training program or bootcamp;Completed an industry certification program (e.g. MCPD);Received on-the-job training in software development;Taught yourself a new language, framework, or tool without taking a formal course;Participated in online coding competitions (e.g. HackerRank, CodeChef, TopCoder);Participated in a hackathon'\n",
            " 'Participated in a full-time developer training program or bootcamp;Received on-the-job training in software development;Taught yourself a new language, framework, or tool without taking a formal course;Participated in a hackathon;Contributed to open source software'\n",
            " 'Participated in a full-time developer training program or bootcamp;Received on-the-job training in software development;Taught yourself a new language, framework, or tool without taking a formal course;Participated in online coding competitions (e.g. HackerRank, CodeChef, TopCoder)'\n",
            " 'Completed an industry certification program (e.g. MCPD);Participated in online coding competitions (e.g. HackerRank, CodeChef, TopCoder);Contributed to open source software'\n",
            " 'Participated in a full-time developer training program or bootcamp;Received on-the-job training in software development;Participated in online coding competitions (e.g. HackerRank, CodeChef, TopCoder)'\n",
            " 'Taken a part-time in-person course in programming or software development;Completed an industry certification program (e.g. MCPD);Taught yourself a new language, framework, or tool without taking a formal course;Contributed to open source software'\n",
            " 'Taken a part-time in-person course in programming or software development;Completed an industry certification program (e.g. MCPD);Taught yourself a new language, framework, or tool without taking a formal course'\n",
            " 'Taken an online course in programming or software development (e.g. a MOOC);Taken a part-time in-person course in programming or software development;Completed an industry certification program (e.g. MCPD);Taught yourself a new language, framework, or tool without taking a formal course;Participated in online coding competitions (e.g. HackerRank, CodeChef, TopCoder)'\n",
            " 'Taken an online course in programming or software development (e.g. a MOOC);Received on-the-job training in software development;Participated in online coding competitions (e.g. HackerRank, CodeChef, TopCoder)'\n",
            " 'Taken a part-time in-person course in programming or software development;Received on-the-job training in software development;Taught yourself a new language, framework, or tool without taking a formal course;Participated in online coding competitions (e.g. HackerRank, CodeChef, TopCoder);Contributed to open source software'\n",
            " 'Taken a part-time in-person course in programming or software development;Taught yourself a new language, framework, or tool without taking a formal course;Participated in a hackathon;Contributed to open source software'\n",
            " 'Taken an online course in programming or software development (e.g. a MOOC);Taken a part-time in-person course in programming or software development;Completed an industry certification program (e.g. MCPD);Taught yourself a new language, framework, or tool without taking a formal course'\n",
            " 'Taken an online course in programming or software development (e.g. a MOOC);Taken a part-time in-person course in programming or software development;Completed an industry certification program (e.g. MCPD);Received on-the-job training in software development;Taught yourself a new language, framework, or tool without taking a formal course;Participated in a hackathon'\n",
            " 'Taken an online course in programming or software development (e.g. a MOOC);Participated in a full-time developer training program or bootcamp;Participated in a hackathon;Contributed to open source software'\n",
            " 'Taken an online course in programming or software development (e.g. a MOOC);Participated in a full-time developer training program or bootcamp;Completed an industry certification program (e.g. MCPD);Participated in online coding competitions (e.g. HackerRank, CodeChef, TopCoder);Participated in a hackathon'\n",
            " 'Participated in a full-time developer training program or bootcamp;Taught yourself a new language, framework, or tool without taking a formal course;Participated in a hackathon'\n",
            " 'Taken an online course in programming or software development (e.g. a MOOC);Participated in a full-time developer training program or bootcamp;Completed an industry certification program (e.g. MCPD);Taught yourself a new language, framework, or tool without taking a formal course;Participated in a hackathon'\n",
            " 'Taken an online course in programming or software development (e.g. a MOOC);Taken a part-time in-person course in programming or software development;Participated in a hackathon'\n",
            " 'Participated in a full-time developer training program or bootcamp;Completed an industry certification program (e.g. MCPD);Received on-the-job training in software development;Taught yourself a new language, framework, or tool without taking a formal course;Participated in online coding competitions (e.g. HackerRank, CodeChef, TopCoder);Contributed to open source software'\n",
            " 'Received on-the-job training in software development;Participated in a hackathon;Contributed to open source software'\n",
            " 'Taken an online course in programming or software development (e.g. a MOOC);Completed an industry certification program (e.g. MCPD);Contributed to open source software'\n",
            " 'Taken an online course in programming or software development (e.g. a MOOC);Taken a part-time in-person course in programming or software development;Completed an industry certification program (e.g. MCPD);Received on-the-job training in software development;Taught yourself a new language, framework, or tool without taking a formal course;Participated in online coding competitions (e.g. HackerRank, CodeChef, TopCoder)'\n",
            " 'Received on-the-job training in software development;Participated in online coding competitions (e.g. HackerRank, CodeChef, TopCoder);Participated in a hackathon'\n",
            " 'Taken an online course in programming or software development (e.g. a MOOC);Taken a part-time in-person course in programming or software development;Completed an industry certification program (e.g. MCPD);Taught yourself a new language, framework, or tool without taking a formal course;Participated in online coding competitions (e.g. HackerRank, CodeChef, TopCoder);Contributed to open source software'\n",
            " 'Taken a part-time in-person course in programming or software development;Completed an industry certification program (e.g. MCPD);Received on-the-job training in software development;Taught yourself a new language, framework, or tool without taking a formal course;Participated in online coding competitions (e.g. HackerRank, CodeChef, TopCoder);Participated in a hackathon;Contributed to open source software'\n",
            " 'Taken a part-time in-person course in programming or software development;Received on-the-job training in software development;Taught yourself a new language, framework, or tool without taking a formal course;Participated in online coding competitions (e.g. HackerRank, CodeChef, TopCoder)'\n",
            " 'Taken an online course in programming or software development (e.g. a MOOC);Participated in a hackathon;Contributed to open source software'\n",
            " 'Taken an online course in programming or software development (e.g. a MOOC);Participated in a full-time developer training program or bootcamp;Taught yourself a new language, framework, or tool without taking a formal course;Participated in a hackathon'\n",
            " 'Participated in a full-time developer training program or bootcamp;Completed an industry certification program (e.g. MCPD);Received on-the-job training in software development;Taught yourself a new language, framework, or tool without taking a formal course;Contributed to open source software'\n",
            " 'Taken a part-time in-person course in programming or software development;Received on-the-job training in software development;Taught yourself a new language, framework, or tool without taking a formal course;Participated in a hackathon'\n",
            " 'Completed an industry certification program (e.g. MCPD);Participated in a hackathon'\n",
            " 'Participated in a full-time developer training program or bootcamp;Completed an industry certification program (e.g. MCPD);Taught yourself a new language, framework, or tool without taking a formal course'\n",
            " 'Taken an online course in programming or software development (e.g. a MOOC);Participated in a full-time developer training program or bootcamp;Taught yourself a new language, framework, or tool without taking a formal course;Participated in a hackathon;Contributed to open source software'\n",
            " 'Taken an online course in programming or software development (e.g. a MOOC);Participated in a full-time developer training program or bootcamp;Taken a part-time in-person course in programming or software development;Received on-the-job training in software development;Taught yourself a new language, framework, or tool without taking a formal course;Participated in online coding competitions (e.g. HackerRank, CodeChef, TopCoder)'\n",
            " 'Received on-the-job training in software development;Participated in online coding competitions (e.g. HackerRank, CodeChef, TopCoder);Participated in a hackathon;Contributed to open source software'\n",
            " 'Participated in a full-time developer training program or bootcamp;Participated in a hackathon;Contributed to open source software'\n",
            " 'Taken an online course in programming or software development (e.g. a MOOC);Participated in a full-time developer training program or bootcamp;Completed an industry certification program (e.g. MCPD);Received on-the-job training in software development;Taught yourself a new language, framework, or tool without taking a formal course;Participated in a hackathon'\n",
            " 'Taken a part-time in-person course in programming or software development;Taught yourself a new language, framework, or tool without taking a formal course;Participated in online coding competitions (e.g. HackerRank, CodeChef, TopCoder);Contributed to open source software'\n",
            " 'Taken an online course in programming or software development (e.g. a MOOC);Taken a part-time in-person course in programming or software development;Completed an industry certification program (e.g. MCPD);Taught yourself a new language, framework, or tool without taking a formal course;Participated in online coding competitions (e.g. HackerRank, CodeChef, TopCoder);Participated in a hackathon;Contributed to open source software'\n",
            " 'Taken an online course in programming or software development (e.g. a MOOC);Taken a part-time in-person course in programming or software development;Received on-the-job training in software development;Participated in a hackathon'\n",
            " 'Participated in a full-time developer training program or bootcamp;Received on-the-job training in software development;Taught yourself a new language, framework, or tool without taking a formal course;Participated in a hackathon'\n",
            " 'Participated in a full-time developer training program or bootcamp;Completed an industry certification program (e.g. MCPD);Taught yourself a new language, framework, or tool without taking a formal course;Participated in online coding competitions (e.g. HackerRank, CodeChef, TopCoder);Participated in a hackathon;Contributed to open source software'\n",
            " 'Taken an online course in programming or software development (e.g. a MOOC);Participated in a full-time developer training program or bootcamp;Received on-the-job training in software development;Participated in online coding competitions (e.g. HackerRank, CodeChef, TopCoder);Contributed to open source software'\n",
            " 'Taken an online course in programming or software development (e.g. a MOOC);Taken a part-time in-person course in programming or software development;Received on-the-job training in software development;Contributed to open source software'\n",
            " 'Participated in a full-time developer training program or bootcamp;Completed an industry certification program (e.g. MCPD);Received on-the-job training in software development;Taught yourself a new language, framework, or tool without taking a formal course;Participated in a hackathon'\n",
            " 'Participated in a full-time developer training program or bootcamp;Contributed to open source software'\n",
            " 'Participated in online coding competitions (e.g. HackerRank, CodeChef, TopCoder);Contributed to open source software'\n",
            " 'Taken an online course in programming or software development (e.g. a MOOC);Completed an industry certification program (e.g. MCPD);Participated in online coding competitions (e.g. HackerRank, CodeChef, TopCoder);Participated in a hackathon;Contributed to open source software'\n",
            " 'Participated in a full-time developer training program or bootcamp;Taken a part-time in-person course in programming or software development;Participated in online coding competitions (e.g. HackerRank, CodeChef, TopCoder)'\n",
            " 'Taken an online course in programming or software development (e.g. a MOOC);Participated in a full-time developer training program or bootcamp;Completed an industry certification program (e.g. MCPD);Taught yourself a new language, framework, or tool without taking a formal course;Participated in online coding competitions (e.g. HackerRank, CodeChef, TopCoder);Participated in a hackathon'\n",
            " 'Taken an online course in programming or software development (e.g. a MOOC);Participated in a full-time developer training program or bootcamp;Taken a part-time in-person course in programming or software development'\n",
            " 'Taken an online course in programming or software development (e.g. a MOOC);Taken a part-time in-person course in programming or software development;Contributed to open source software'\n",
            " 'Taken an online course in programming or software development (e.g. a MOOC);Completed an industry certification program (e.g. MCPD);Participated in a hackathon'\n",
            " 'Taken an online course in programming or software development (e.g. a MOOC);Participated in a full-time developer training program or bootcamp;Taken a part-time in-person course in programming or software development;Received on-the-job training in software development;Participated in online coding competitions (e.g. HackerRank, CodeChef, TopCoder)'\n",
            " 'Taken a part-time in-person course in programming or software development;Contributed to open source software'\n",
            " 'Taken an online course in programming or software development (e.g. a MOOC);Completed an industry certification program (e.g. MCPD);Received on-the-job training in software development;Participated in online coding competitions (e.g. HackerRank, CodeChef, TopCoder);Participated in a hackathon;Contributed to open source software'\n",
            " 'Participated in a full-time developer training program or bootcamp;Completed an industry certification program (e.g. MCPD);Received on-the-job training in software development'\n",
            " 'Taken a part-time in-person course in programming or software development;Taught yourself a new language, framework, or tool without taking a formal course;Participated in a hackathon'\n",
            " 'Completed an industry certification program (e.g. MCPD);Received on-the-job training in software development;Taught yourself a new language, framework, or tool without taking a formal course;Participated in online coding competitions (e.g. HackerRank, CodeChef, TopCoder);Participated in a hackathon'\n",
            " 'Completed an industry certification program (e.g. MCPD);Received on-the-job training in software development;Contributed to open source software'\n",
            " 'Taken a part-time in-person course in programming or software development;Participated in online coding competitions (e.g. HackerRank, CodeChef, TopCoder);Participated in a hackathon'\n",
            " 'Completed an industry certification program (e.g. MCPD);Taught yourself a new language, framework, or tool without taking a formal course;Participated in online coding competitions (e.g. HackerRank, CodeChef, TopCoder);Participated in a hackathon;Contributed to open source software'\n",
            " 'Taken an online course in programming or software development (e.g. a MOOC);Participated in a full-time developer training program or bootcamp;Taken a part-time in-person course in programming or software development;Completed an industry certification program (e.g. MCPD);Received on-the-job training in software development;Contributed to open source software'\n",
            " 'Taken an online course in programming or software development (e.g. a MOOC);Participated in a full-time developer training program or bootcamp;Completed an industry certification program (e.g. MCPD)'\n",
            " 'Participated in a full-time developer training program or bootcamp;Participated in a hackathon'\n",
            " 'Taken a part-time in-person course in programming or software development;Completed an industry certification program (e.g. MCPD);Taught yourself a new language, framework, or tool without taking a formal course;Participated in a hackathon'\n",
            " 'Taken an online course in programming or software development (e.g. a MOOC);Participated in a full-time developer training program or bootcamp;Completed an industry certification program (e.g. MCPD);Taught yourself a new language, framework, or tool without taking a formal course;Participated in online coding competitions (e.g. HackerRank, CodeChef, TopCoder);Participated in a hackathon;Contributed to open source software'\n",
            " 'Taken an online course in programming or software development (e.g. a MOOC);Participated in a full-time developer training program or bootcamp;Taken a part-time in-person course in programming or software development;Completed an industry certification program (e.g. MCPD);Taught yourself a new language, framework, or tool without taking a formal course;Participated in online coding competitions (e.g. HackerRank, CodeChef, TopCoder);Contributed to open source software'\n",
            " 'Taken an online course in programming or software development (e.g. a MOOC);Participated in a full-time developer training program or bootcamp;Taken a part-time in-person course in programming or software development;Completed an industry certification program (e.g. MCPD);Taught yourself a new language, framework, or tool without taking a formal course;Participated in online coding competitions (e.g. HackerRank, CodeChef, TopCoder)'\n",
            " 'Participated in a full-time developer training program or bootcamp;Completed an industry certification program (e.g. MCPD)'\n",
            " 'Taken an online course in programming or software development (e.g. a MOOC);Participated in a full-time developer training program or bootcamp;Taken a part-time in-person course in programming or software development;Completed an industry certification program (e.g. MCPD);Received on-the-job training in software development;Taught yourself a new language, framework, or tool without taking a formal course;Participated in online coding competitions (e.g. HackerRank, CodeChef, TopCoder);Participated in a hackathon'\n",
            " 'Participated in a full-time developer training program or bootcamp;Taken a part-time in-person course in programming or software development;Completed an industry certification program (e.g. MCPD);Received on-the-job training in software development;Taught yourself a new language, framework, or tool without taking a formal course;Participated in online coding competitions (e.g. HackerRank, CodeChef, TopCoder)'\n",
            " 'Taken an online course in programming or software development (e.g. a MOOC);Completed an industry certification program (e.g. MCPD);Received on-the-job training in software development;Participated in online coding competitions (e.g. HackerRank, CodeChef, TopCoder);Participated in a hackathon'\n",
            " 'Taken an online course in programming or software development (e.g. a MOOC);Participated in a full-time developer training program or bootcamp;Taken a part-time in-person course in programming or software development;Completed an industry certification program (e.g. MCPD);Taught yourself a new language, framework, or tool without taking a formal course'\n",
            " 'Taken an online course in programming or software development (e.g. a MOOC);Taken a part-time in-person course in programming or software development;Completed an industry certification program (e.g. MCPD);Received on-the-job training in software development'\n",
            " 'Participated in a full-time developer training program or bootcamp;Taken a part-time in-person course in programming or software development;Taught yourself a new language, framework, or tool without taking a formal course;Participated in online coding competitions (e.g. HackerRank, CodeChef, TopCoder);Participated in a hackathon;Contributed to open source software'\n",
            " 'Taken an online course in programming or software development (e.g. a MOOC);Taken a part-time in-person course in programming or software development;Participated in a hackathon;Contributed to open source software'\n",
            " 'Participated in a full-time developer training program or bootcamp;Completed an industry certification program (e.g. MCPD);Taught yourself a new language, framework, or tool without taking a formal course;Participated in online coding competitions (e.g. HackerRank, CodeChef, TopCoder);Participated in a hackathon'\n",
            " 'Taken a part-time in-person course in programming or software development;Received on-the-job training in software development;Participated in a hackathon;Contributed to open source software'\n",
            " 'Taken a part-time in-person course in programming or software development;Taught yourself a new language, framework, or tool without taking a formal course;Participated in online coding competitions (e.g. HackerRank, CodeChef, TopCoder);Participated in a hackathon;Contributed to open source software'\n",
            " 'Taken an online course in programming or software development (e.g. a MOOC);Participated in a full-time developer training program or bootcamp;Participated in a hackathon'\n",
            " 'Participated in online coding competitions (e.g. HackerRank, CodeChef, TopCoder);Participated in a hackathon;Contributed to open source software'\n",
            " 'Participated in a full-time developer training program or bootcamp;Received on-the-job training in software development;Taught yourself a new language, framework, or tool without taking a formal course;Participated in online coding competitions (e.g. HackerRank, CodeChef, TopCoder);Participated in a hackathon'\n",
            " 'Participated in a full-time developer training program or bootcamp;Completed an industry certification program (e.g. MCPD);Taught yourself a new language, framework, or tool without taking a formal course;Participated in online coding competitions (e.g. HackerRank, CodeChef, TopCoder)'\n",
            " 'Taken an online course in programming or software development (e.g. a MOOC);Participated in a full-time developer training program or bootcamp;Completed an industry certification program (e.g. MCPD);Taught yourself a new language, framework, or tool without taking a formal course;Participated in a hackathon;Contributed to open source software'\n",
            " 'Participated in a full-time developer training program or bootcamp;Taken a part-time in-person course in programming or software development;Completed an industry certification program (e.g. MCPD);Received on-the-job training in software development'\n",
            " 'Completed an industry certification program (e.g. MCPD);Received on-the-job training in software development;Taught yourself a new language, framework, or tool without taking a formal course;Participated in online coding competitions (e.g. HackerRank, CodeChef, TopCoder);Contributed to open source software'\n",
            " 'Taken an online course in programming or software development (e.g. a MOOC);Taken a part-time in-person course in programming or software development;Participated in online coding competitions (e.g. HackerRank, CodeChef, TopCoder);Participated in a hackathon'\n",
            " 'Taken a part-time in-person course in programming or software development;Completed an industry certification program (e.g. MCPD);Taught yourself a new language, framework, or tool without taking a formal course;Participated in a hackathon;Contributed to open source software'\n",
            " 'Participated in online coding competitions (e.g. HackerRank, CodeChef, TopCoder);Participated in a hackathon'\n",
            " 'Participated in a full-time developer training program or bootcamp;Received on-the-job training in software development;Taught yourself a new language, framework, or tool without taking a formal course;Participated in online coding competitions (e.g. HackerRank, CodeChef, TopCoder);Participated in a hackathon;Contributed to open source software'\n",
            " 'Participated in a full-time developer training program or bootcamp;Taken a part-time in-person course in programming or software development;Completed an industry certification program (e.g. MCPD);Taught yourself a new language, framework, or tool without taking a formal course;Participated in online coding competitions (e.g. HackerRank, CodeChef, TopCoder);Contributed to open source software'\n",
            " 'Completed an industry certification program (e.g. MCPD);Taught yourself a new language, framework, or tool without taking a formal course;Participated in online coding competitions (e.g. HackerRank, CodeChef, TopCoder);Participated in a hackathon'\n",
            " 'Participated in a full-time developer training program or bootcamp;Taken a part-time in-person course in programming or software development;Taught yourself a new language, framework, or tool without taking a formal course;Participated in online coding competitions (e.g. HackerRank, CodeChef, TopCoder);Contributed to open source software'\n",
            " 'Participated in a full-time developer training program or bootcamp;Taught yourself a new language, framework, or tool without taking a formal course;Participated in online coding competitions (e.g. HackerRank, CodeChef, TopCoder);Contributed to open source software'\n",
            " 'Participated in a full-time developer training program or bootcamp;Completed an industry certification program (e.g. MCPD);Received on-the-job training in software development;Taught yourself a new language, framework, or tool without taking a formal course;Participated in online coding competitions (e.g. HackerRank, CodeChef, TopCoder)'\n",
            " 'Participated in a full-time developer training program or bootcamp;Taken a part-time in-person course in programming or software development;Taught yourself a new language, framework, or tool without taking a formal course;Contributed to open source software'\n",
            " 'Participated in a full-time developer training program or bootcamp;Taken a part-time in-person course in programming or software development;Completed an industry certification program (e.g. MCPD)'\n",
            " 'Participated in a full-time developer training program or bootcamp;Completed an industry certification program (e.g. MCPD);Received on-the-job training in software development;Taught yourself a new language, framework, or tool without taking a formal course;Participated in online coding competitions (e.g. HackerRank, CodeChef, TopCoder);Participated in a hackathon;Contributed to open source software'\n",
            " 'Completed an industry certification program (e.g. MCPD);Received on-the-job training in software development;Taught yourself a new language, framework, or tool without taking a formal course;Participated in online coding competitions (e.g. HackerRank, CodeChef, TopCoder)'\n",
            " 'Taken an online course in programming or software development (e.g. a MOOC);Received on-the-job training in software development;Participated in online coding competitions (e.g. HackerRank, CodeChef, TopCoder);Participated in a hackathon'\n",
            " 'Participated in a full-time developer training program or bootcamp;Taken a part-time in-person course in programming or software development;Received on-the-job training in software development;Taught yourself a new language, framework, or tool without taking a formal course;Contributed to open source software'\n",
            " 'Taken an online course in programming or software development (e.g. a MOOC);Taken a part-time in-person course in programming or software development;Received on-the-job training in software development'\n",
            " 'Taken an online course in programming or software development (e.g. a MOOC);Completed an industry certification program (e.g. MCPD);Participated in online coding competitions (e.g. HackerRank, CodeChef, TopCoder);Contributed to open source software'\n",
            " 'Taken an online course in programming or software development (e.g. a MOOC);Participated in a full-time developer training program or bootcamp;Completed an industry certification program (e.g. MCPD);Participated in online coding competitions (e.g. HackerRank, CodeChef, TopCoder)'\n",
            " 'Taken a part-time in-person course in programming or software development;Completed an industry certification program (e.g. MCPD);Received on-the-job training in software development;Taught yourself a new language, framework, or tool without taking a formal course;Participated in online coding competitions (e.g. HackerRank, CodeChef, TopCoder);Contributed to open source software'\n",
            " 'Taken an online course in programming or software development (e.g. a MOOC);Completed an industry certification program (e.g. MCPD);Received on-the-job training in software development;Participated in a hackathon'\n",
            " 'Taken an online course in programming or software development (e.g. a MOOC);Participated in a full-time developer training program or bootcamp;Received on-the-job training in software development;Participated in a hackathon'\n",
            " 'Taken an online course in programming or software development (e.g. a MOOC);Participated in online coding competitions (e.g. HackerRank, CodeChef, TopCoder);Participated in a hackathon;Contributed to open source software'\n",
            " 'Participated in a full-time developer training program or bootcamp;Participated in online coding competitions (e.g. HackerRank, CodeChef, TopCoder)'\n",
            " 'Participated in a full-time developer training program or bootcamp;Taken a part-time in-person course in programming or software development;Completed an industry certification program (e.g. MCPD);Taught yourself a new language, framework, or tool without taking a formal course;Participated in online coding competitions (e.g. HackerRank, CodeChef, TopCoder);Participated in a hackathon'\n",
            " 'Participated in a full-time developer training program or bootcamp;Taken a part-time in-person course in programming or software development;Completed an industry certification program (e.g. MCPD);Taught yourself a new language, framework, or tool without taking a formal course'\n",
            " 'Taken an online course in programming or software development (e.g. a MOOC);Completed an industry certification program (e.g. MCPD);Received on-the-job training in software development;Contributed to open source software'\n",
            " 'Participated in a full-time developer training program or bootcamp;Taken a part-time in-person course in programming or software development;Received on-the-job training in software development;Taught yourself a new language, framework, or tool without taking a formal course;Participated in a hackathon;Contributed to open source software'\n",
            " 'Taken an online course in programming or software development (e.g. a MOOC);Received on-the-job training in software development;Participated in online coding competitions (e.g. HackerRank, CodeChef, TopCoder);Contributed to open source software'\n",
            " 'Taken an online course in programming or software development (e.g. a MOOC);Participated in a full-time developer training program or bootcamp;Taken a part-time in-person course in programming or software development;Completed an industry certification program (e.g. MCPD);Received on-the-job training in software development;Taught yourself a new language, framework, or tool without taking a formal course;Participated in online coding competitions (e.g. HackerRank, CodeChef, TopCoder)'\n",
            " 'Taken an online course in programming or software development (e.g. a MOOC);Participated in a full-time developer training program or bootcamp;Taken a part-time in-person course in programming or software development;Taught yourself a new language, framework, or tool without taking a formal course;Participated in a hackathon'\n",
            " 'Taken a part-time in-person course in programming or software development;Completed an industry certification program (e.g. MCPD);Received on-the-job training in software development;Contributed to open source software'\n",
            " 'Taken an online course in programming or software development (e.g. a MOOC);Participated in a full-time developer training program or bootcamp;Taken a part-time in-person course in programming or software development;Participated in online coding competitions (e.g. HackerRank, CodeChef, TopCoder);Participated in a hackathon;Contributed to open source software'\n",
            " 'Participated in a full-time developer training program or bootcamp;Completed an industry certification program (e.g. MCPD);Taught yourself a new language, framework, or tool without taking a formal course;Contributed to open source software'\n",
            " 'Participated in a full-time developer training program or bootcamp;Participated in online coding competitions (e.g. HackerRank, CodeChef, TopCoder);Participated in a hackathon;Contributed to open source software'\n",
            " 'Taken a part-time in-person course in programming or software development;Completed an industry certification program (e.g. MCPD);Received on-the-job training in software development;Participated in a hackathon'\n",
            " 'Participated in a full-time developer training program or bootcamp;Taken a part-time in-person course in programming or software development;Received on-the-job training in software development;Taught yourself a new language, framework, or tool without taking a formal course'\n",
            " 'Taken an online course in programming or software development (e.g. a MOOC);Participated in a full-time developer training program or bootcamp;Taken a part-time in-person course in programming or software development;Participated in a hackathon'\n",
            " 'Participated in a full-time developer training program or bootcamp;Taught yourself a new language, framework, or tool without taking a formal course;Participated in online coding competitions (e.g. HackerRank, CodeChef, TopCoder)'\n",
            " 'Participated in a full-time developer training program or bootcamp;Received on-the-job training in software development;Participated in a hackathon'\n",
            " 'Taken an online course in programming or software development (e.g. a MOOC);Participated in a full-time developer training program or bootcamp;Completed an industry certification program (e.g. MCPD);Participated in a hackathon;Contributed to open source software'\n",
            " 'Taken an online course in programming or software development (e.g. a MOOC);Participated in a full-time developer training program or bootcamp;Taken a part-time in-person course in programming or software development;Completed an industry certification program (e.g. MCPD);Received on-the-job training in software development'\n",
            " 'Taken an online course in programming or software development (e.g. a MOOC);Participated in a full-time developer training program or bootcamp;Taken a part-time in-person course in programming or software development;Received on-the-job training in software development'\n",
            " 'Taken a part-time in-person course in programming or software development;Completed an industry certification program (e.g. MCPD);Taught yourself a new language, framework, or tool without taking a formal course;Participated in online coding competitions (e.g. HackerRank, CodeChef, TopCoder);Contributed to open source software'\n",
            " 'Taken an online course in programming or software development (e.g. a MOOC);Participated in a full-time developer training program or bootcamp;Completed an industry certification program (e.g. MCPD);Taught yourself a new language, framework, or tool without taking a formal course;Participated in online coding competitions (e.g. HackerRank, CodeChef, TopCoder);Contributed to open source software'\n",
            " 'Taken a part-time in-person course in programming or software development;Completed an industry certification program (e.g. MCPD);Received on-the-job training in software development;Taught yourself a new language, framework, or tool without taking a formal course;Participated in online coding competitions (e.g. HackerRank, CodeChef, TopCoder);Participated in a hackathon'\n",
            " 'Taken an online course in programming or software development (e.g. a MOOC);Participated in a full-time developer training program or bootcamp;Received on-the-job training in software development;Participated in online coding competitions (e.g. HackerRank, CodeChef, TopCoder)'\n",
            " 'Taken an online course in programming or software development (e.g. a MOOC);Participated in a full-time developer training program or bootcamp;Completed an industry certification program (e.g. MCPD);Contributed to open source software'\n",
            " 'Taken an online course in programming or software development (e.g. a MOOC);Completed an industry certification program (e.g. MCPD);Received on-the-job training in software development;Participated in online coding competitions (e.g. HackerRank, CodeChef, TopCoder)'\n",
            " 'Participated in a full-time developer training program or bootcamp;Taken a part-time in-person course in programming or software development;Received on-the-job training in software development;Taught yourself a new language, framework, or tool without taking a formal course;Participated in online coding competitions (e.g. HackerRank, CodeChef, TopCoder);Contributed to open source software'\n",
            " 'Taken an online course in programming or software development (e.g. a MOOC);Taken a part-time in-person course in programming or software development;Completed an industry certification program (e.g. MCPD);Received on-the-job training in software development;Participated in a hackathon;Contributed to open source software'\n",
            " 'Taken a part-time in-person course in programming or software development;Completed an industry certification program (e.g. MCPD)'\n",
            " 'Taken an online course in programming or software development (e.g. a MOOC);Taken a part-time in-person course in programming or software development;Completed an industry certification program (e.g. MCPD);Received on-the-job training in software development;Participated in a hackathon'\n",
            " 'Taken an online course in programming or software development (e.g. a MOOC);Participated in a full-time developer training program or bootcamp;Received on-the-job training in software development;Participated in a hackathon;Contributed to open source software'\n",
            " 'Taken a part-time in-person course in programming or software development;Participated in a hackathon'\n",
            " 'Participated in a full-time developer training program or bootcamp;Participated in online coding competitions (e.g. HackerRank, CodeChef, TopCoder);Participated in a hackathon'\n",
            " 'Taken an online course in programming or software development (e.g. a MOOC);Taken a part-time in-person course in programming or software development;Completed an industry certification program (e.g. MCPD);Taught yourself a new language, framework, or tool without taking a formal course;Participated in a hackathon'\n",
            " 'Participated in a full-time developer training program or bootcamp;Completed an industry certification program (e.g. MCPD);Taught yourself a new language, framework, or tool without taking a formal course;Participated in a hackathon;Contributed to open source software'\n",
            " 'Taken an online course in programming or software development (e.g. a MOOC);Participated in a full-time developer training program or bootcamp;Completed an industry certification program (e.g. MCPD);Participated in a hackathon'\n",
            " 'Taken an online course in programming or software development (e.g. a MOOC);Participated in a full-time developer training program or bootcamp;Taken a part-time in-person course in programming or software development;Contributed to open source software'\n",
            " 'Taken a part-time in-person course in programming or software development;Received on-the-job training in software development;Participated in a hackathon'\n",
            " 'Taken an online course in programming or software development (e.g. a MOOC);Taken a part-time in-person course in programming or software development;Completed an industry certification program (e.g. MCPD)'\n",
            " 'Taken a part-time in-person course in programming or software development;Completed an industry certification program (e.g. MCPD);Taught yourself a new language, framework, or tool without taking a formal course;Participated in online coding competitions (e.g. HackerRank, CodeChef, TopCoder);Participated in a hackathon'\n",
            " 'Participated in a full-time developer training program or bootcamp;Completed an industry certification program (e.g. MCPD);Received on-the-job training in software development;Taught yourself a new language, framework, or tool without taking a formal course;Participated in a hackathon;Contributed to open source software'\n",
            " 'Taken an online course in programming or software development (e.g. a MOOC);Participated in a full-time developer training program or bootcamp;Taken a part-time in-person course in programming or software development;Completed an industry certification program (e.g. MCPD);Taught yourself a new language, framework, or tool without taking a formal course;Participated in a hackathon'\n",
            " 'Completed an industry certification program (e.g. MCPD);Participated in online coding competitions (e.g. HackerRank, CodeChef, TopCoder);Participated in a hackathon'\n",
            " 'Taken a part-time in-person course in programming or software development;Taught yourself a new language, framework, or tool without taking a formal course;Participated in online coding competitions (e.g. HackerRank, CodeChef, TopCoder);Participated in a hackathon'\n",
            " 'Taken an online course in programming or software development (e.g. a MOOC);Participated in a full-time developer training program or bootcamp;Participated in online coding competitions (e.g. HackerRank, CodeChef, TopCoder);Participated in a hackathon'\n",
            " 'Taken a part-time in-person course in programming or software development;Completed an industry certification program (e.g. MCPD);Received on-the-job training in software development;Taught yourself a new language, framework, or tool without taking a formal course;Contributed to open source software'\n",
            " 'Participated in a full-time developer training program or bootcamp;Taken a part-time in-person course in programming or software development;Completed an industry certification program (e.g. MCPD);Received on-the-job training in software development;Taught yourself a new language, framework, or tool without taking a formal course;Participated in online coding competitions (e.g. HackerRank, CodeChef, TopCoder);Participated in a hackathon;Contributed to open source software'\n",
            " 'Taken an online course in programming or software development (e.g. a MOOC);Participated in a full-time developer training program or bootcamp;Completed an industry certification program (e.g. MCPD);Received on-the-job training in software development;Contributed to open source software'\n",
            " 'Taken an online course in programming or software development (e.g. a MOOC);Taken a part-time in-person course in programming or software development;Received on-the-job training in software development;Participated in online coding competitions (e.g. HackerRank, CodeChef, TopCoder);Participated in a hackathon;Contributed to open source software'\n",
            " 'Completed an industry certification program (e.g. MCPD);Participated in a hackathon;Contributed to open source software'\n",
            " 'Participated in a full-time developer training program or bootcamp;Taken a part-time in-person course in programming or software development;Received on-the-job training in software development;Taught yourself a new language, framework, or tool without taking a formal course;Participated in online coding competitions (e.g. HackerRank, CodeChef, TopCoder);Participated in a hackathon;Contributed to open source software'\n",
            " 'Taken an online course in programming or software development (e.g. a MOOC);Taken a part-time in-person course in programming or software development;Received on-the-job training in software development;Participated in online coding competitions (e.g. HackerRank, CodeChef, TopCoder)'\n",
            " 'Completed an industry certification program (e.g. MCPD);Participated in online coding competitions (e.g. HackerRank, CodeChef, TopCoder)'\n",
            " 'Participated in a full-time developer training program or bootcamp;Participated in online coding competitions (e.g. HackerRank, CodeChef, TopCoder);Contributed to open source software'\n",
            " 'Participated in a full-time developer training program or bootcamp;Taken a part-time in-person course in programming or software development;Completed an industry certification program (e.g. MCPD);Participated in a hackathon'\n",
            " 'Taken an online course in programming or software development (e.g. a MOOC);Participated in a full-time developer training program or bootcamp;Taken a part-time in-person course in programming or software development;Completed an industry certification program (e.g. MCPD);Participated in a hackathon;Contributed to open source software'\n",
            " 'Participated in a full-time developer training program or bootcamp;Taken a part-time in-person course in programming or software development;Completed an industry certification program (e.g. MCPD);Received on-the-job training in software development;Participated in online coding competitions (e.g. HackerRank, CodeChef, TopCoder);Participated in a hackathon'\n",
            " 'Taken an online course in programming or software development (e.g. a MOOC);Completed an industry certification program (e.g. MCPD);Received on-the-job training in software development;Participated in online coding competitions (e.g. HackerRank, CodeChef, TopCoder);Contributed to open source software'\n",
            " 'Taken an online course in programming or software development (e.g. a MOOC);Participated in a full-time developer training program or bootcamp;Received on-the-job training in software development;Participated in online coding competitions (e.g. HackerRank, CodeChef, TopCoder);Participated in a hackathon'\n",
            " 'Taken an online course in programming or software development (e.g. a MOOC);Participated in a full-time developer training program or bootcamp;Participated in online coding competitions (e.g. HackerRank, CodeChef, TopCoder);Participated in a hackathon;Contributed to open source software'\n",
            " 'Participated in a full-time developer training program or bootcamp;Completed an industry certification program (e.g. MCPD);Participated in online coding competitions (e.g. HackerRank, CodeChef, TopCoder);Participated in a hackathon;Contributed to open source software'\n",
            " 'Taken a part-time in-person course in programming or software development;Completed an industry certification program (e.g. MCPD);Received on-the-job training in software development'\n",
            " 'Taken an online course in programming or software development (e.g. a MOOC);Received on-the-job training in software development;Participated in online coding competitions (e.g. HackerRank, CodeChef, TopCoder);Participated in a hackathon;Contributed to open source software'\n",
            " 'Taken an online course in programming or software development (e.g. a MOOC);Taken a part-time in-person course in programming or software development;Received on-the-job training in software development;Participated in online coding competitions (e.g. HackerRank, CodeChef, TopCoder);Contributed to open source software'\n",
            " 'Participated in a full-time developer training program or bootcamp;Completed an industry certification program (e.g. MCPD);Received on-the-job training in software development;Contributed to open source software'\n",
            " 'Participated in a full-time developer training program or bootcamp;Taken a part-time in-person course in programming or software development;Contributed to open source software'\n",
            " 'Participated in a full-time developer training program or bootcamp;Completed an industry certification program (e.g. MCPD);Contributed to open source software'\n",
            " 'Participated in a full-time developer training program or bootcamp;Taken a part-time in-person course in programming or software development;Taught yourself a new language, framework, or tool without taking a formal course;Participated in online coding competitions (e.g. HackerRank, CodeChef, TopCoder);Participated in a hackathon'\n",
            " 'Taken a part-time in-person course in programming or software development;Received on-the-job training in software development;Participated in online coding competitions (e.g. HackerRank, CodeChef, TopCoder)'\n",
            " 'Taken an online course in programming or software development (e.g. a MOOC);Participated in a full-time developer training program or bootcamp;Taken a part-time in-person course in programming or software development;Taught yourself a new language, framework, or tool without taking a formal course;Participated in a hackathon;Contributed to open source software'\n",
            " 'Taken an online course in programming or software development (e.g. a MOOC);Taken a part-time in-person course in programming or software development;Completed an industry certification program (e.g. MCPD);Contributed to open source software'\n",
            " 'Taken an online course in programming or software development (e.g. a MOOC);Taken a part-time in-person course in programming or software development;Participated in online coding competitions (e.g. HackerRank, CodeChef, TopCoder);Participated in a hackathon;Contributed to open source software'\n",
            " 'Taken an online course in programming or software development (e.g. a MOOC);Participated in a full-time developer training program or bootcamp;Participated in online coding competitions (e.g. HackerRank, CodeChef, TopCoder);Contributed to open source software'\n",
            " 'Participated in a full-time developer training program or bootcamp;Received on-the-job training in software development;Contributed to open source software'\n",
            " 'Taken an online course in programming or software development (e.g. a MOOC);Participated in a full-time developer training program or bootcamp;Contributed to open source software'\n",
            " 'Participated in a full-time developer training program or bootcamp;Taken a part-time in-person course in programming or software development;Received on-the-job training in software development;Taught yourself a new language, framework, or tool without taking a formal course;Participated in a hackathon'\n",
            " 'Taken a part-time in-person course in programming or software development;Received on-the-job training in software development;Contributed to open source software'\n",
            " 'Taken an online course in programming or software development (e.g. a MOOC);Participated in a full-time developer training program or bootcamp;Completed an industry certification program (e.g. MCPD);Received on-the-job training in software development;Participated in online coding competitions (e.g. HackerRank, CodeChef, TopCoder)'\n",
            " 'Participated in a full-time developer training program or bootcamp;Completed an industry certification program (e.g. MCPD);Participated in online coding competitions (e.g. HackerRank, CodeChef, TopCoder);Contributed to open source software'\n",
            " 'Participated in a full-time developer training program or bootcamp;Taken a part-time in-person course in programming or software development;Received on-the-job training in software development;Taught yourself a new language, framework, or tool without taking a formal course;Participated in online coding competitions (e.g. HackerRank, CodeChef, TopCoder);Participated in a hackathon'\n",
            " 'Taken a part-time in-person course in programming or software development;Participated in online coding competitions (e.g. HackerRank, CodeChef, TopCoder);Participated in a hackathon;Contributed to open source software'\n",
            " 'Taken an online course in programming or software development (e.g. a MOOC);Taken a part-time in-person course in programming or software development;Received on-the-job training in software development;Participated in a hackathon;Contributed to open source software'\n",
            " 'Taken an online course in programming or software development (e.g. a MOOC);Participated in a full-time developer training program or bootcamp;Taken a part-time in-person course in programming or software development;Received on-the-job training in software development;Participated in a hackathon'\n",
            " 'Taken an online course in programming or software development (e.g. a MOOC);Taken a part-time in-person course in programming or software development;Completed an industry certification program (e.g. MCPD);Received on-the-job training in software development;Taught yourself a new language, framework, or tool without taking a formal course;Participated in online coding competitions (e.g. HackerRank, CodeChef, TopCoder);Participated in a hackathon'\n",
            " 'Taken an online course in programming or software development (e.g. a MOOC);Completed an industry certification program (e.g. MCPD);Received on-the-job training in software development;Participated in a hackathon;Contributed to open source software'\n",
            " 'Taken an online course in programming or software development (e.g. a MOOC);Participated in a full-time developer training program or bootcamp;Taken a part-time in-person course in programming or software development;Received on-the-job training in software development;Contributed to open source software'\n",
            " 'Taken an online course in programming or software development (e.g. a MOOC);Completed an industry certification program (e.g. MCPD);Participated in a hackathon;Contributed to open source software'\n",
            " 'Taken an online course in programming or software development (e.g. a MOOC);Participated in a full-time developer training program or bootcamp;Taken a part-time in-person course in programming or software development;Completed an industry certification program (e.g. MCPD);Participated in a hackathon'\n",
            " 'Participated in a full-time developer training program or bootcamp;Taken a part-time in-person course in programming or software development;Completed an industry certification program (e.g. MCPD);Taught yourself a new language, framework, or tool without taking a formal course;Contributed to open source software'\n",
            " 'Taken an online course in programming or software development (e.g. a MOOC);Participated in a full-time developer training program or bootcamp;Received on-the-job training in software development;Participated in online coding competitions (e.g. HackerRank, CodeChef, TopCoder);Participated in a hackathon;Contributed to open source software'\n",
            " 'Taken an online course in programming or software development (e.g. a MOOC);Participated in a full-time developer training program or bootcamp;Completed an industry certification program (e.g. MCPD);Received on-the-job training in software development;Participated in a hackathon'\n",
            " 'Taken an online course in programming or software development (e.g. a MOOC);Participated in a full-time developer training program or bootcamp;Taken a part-time in-person course in programming or software development;Participated in online coding competitions (e.g. HackerRank, CodeChef, TopCoder)'\n",
            " 'Participated in a full-time developer training program or bootcamp;Taken a part-time in-person course in programming or software development;Completed an industry certification program (e.g. MCPD);Received on-the-job training in software development;Taught yourself a new language, framework, or tool without taking a formal course;Participated in a hackathon;Contributed to open source software'\n",
            " 'Received on-the-job training in software development;Participated in online coding competitions (e.g. HackerRank, CodeChef, TopCoder);Contributed to open source software'\n",
            " 'Participated in a full-time developer training program or bootcamp;Taken a part-time in-person course in programming or software development;Received on-the-job training in software development;Participated in online coding competitions (e.g. HackerRank, CodeChef, TopCoder)'\n",
            " 'Taken an online course in programming or software development (e.g. a MOOC);Participated in a full-time developer training program or bootcamp;Taken a part-time in-person course in programming or software development;Participated in online coding competitions (e.g. HackerRank, CodeChef, TopCoder);Contributed to open source software'\n",
            " 'Taken an online course in programming or software development (e.g. a MOOC);Participated in a full-time developer training program or bootcamp;Taken a part-time in-person course in programming or software development;Completed an industry certification program (e.g. MCPD);Participated in online coding competitions (e.g. HackerRank, CodeChef, TopCoder);Participated in a hackathon'\n",
            " 'Taken a part-time in-person course in programming or software development;Participated in a hackathon;Contributed to open source software'\n",
            " 'Participated in a full-time developer training program or bootcamp;Taken a part-time in-person course in programming or software development;Received on-the-job training in software development;Contributed to open source software'\n",
            " 'Completed an industry certification program (e.g. MCPD);Received on-the-job training in software development;Participated in online coding competitions (e.g. HackerRank, CodeChef, TopCoder)'\n",
            " 'Completed an industry certification program (e.g. MCPD);Received on-the-job training in software development;Participated in a hackathon'\n",
            " 'Participated in a full-time developer training program or bootcamp;Taken a part-time in-person course in programming or software development;Received on-the-job training in software development;Participated in online coding competitions (e.g. HackerRank, CodeChef, TopCoder);Participated in a hackathon'\n",
            " 'Taken a part-time in-person course in programming or software development;Completed an industry certification program (e.g. MCPD);Contributed to open source software'\n",
            " 'Participated in a full-time developer training program or bootcamp;Completed an industry certification program (e.g. MCPD);Taught yourself a new language, framework, or tool without taking a formal course;Participated in a hackathon'\n",
            " 'Taken a part-time in-person course in programming or software development;Completed an industry certification program (e.g. MCPD);Participated in online coding competitions (e.g. HackerRank, CodeChef, TopCoder)'\n",
            " 'Taken a part-time in-person course in programming or software development;Participated in online coding competitions (e.g. HackerRank, CodeChef, TopCoder);Contributed to open source software'\n",
            " 'Taken an online course in programming or software development (e.g. a MOOC);Taken a part-time in-person course in programming or software development;Completed an industry certification program (e.g. MCPD);Participated in online coding competitions (e.g. HackerRank, CodeChef, TopCoder)'\n",
            " 'Participated in a full-time developer training program or bootcamp;Taken a part-time in-person course in programming or software development;Completed an industry certification program (e.g. MCPD);Taught yourself a new language, framework, or tool without taking a formal course;Participated in a hackathon'\n",
            " 'Taken an online course in programming or software development (e.g. a MOOC);Participated in a full-time developer training program or bootcamp;Taken a part-time in-person course in programming or software development;Completed an industry certification program (e.g. MCPD);Taught yourself a new language, framework, or tool without taking a formal course;Participated in a hackathon;Contributed to open source software'\n",
            " 'Taken an online course in programming or software development (e.g. a MOOC);Participated in a full-time developer training program or bootcamp;Taken a part-time in-person course in programming or software development;Participated in online coding competitions (e.g. HackerRank, CodeChef, TopCoder);Participated in a hackathon'\n",
            " 'Participated in a full-time developer training program or bootcamp;Completed an industry certification program (e.g. MCPD);Taught yourself a new language, framework, or tool without taking a formal course;Participated in online coding competitions (e.g. HackerRank, CodeChef, TopCoder);Contributed to open source software'\n",
            " 'Taken an online course in programming or software development (e.g. a MOOC);Taken a part-time in-person course in programming or software development;Completed an industry certification program (e.g. MCPD);Participated in a hackathon;Contributed to open source software'\n",
            " 'Taken a part-time in-person course in programming or software development;Completed an industry certification program (e.g. MCPD);Taught yourself a new language, framework, or tool without taking a formal course;Participated in online coding competitions (e.g. HackerRank, CodeChef, TopCoder)'\n",
            " 'Taken an online course in programming or software development (e.g. a MOOC);Participated in a full-time developer training program or bootcamp;Taken a part-time in-person course in programming or software development;Completed an industry certification program (e.g. MCPD);Received on-the-job training in software development;Participated in online coding competitions (e.g. HackerRank, CodeChef, TopCoder);Participated in a hackathon'\n",
            " 'Taken an online course in programming or software development (e.g. a MOOC);Participated in a full-time developer training program or bootcamp;Taken a part-time in-person course in programming or software development;Completed an industry certification program (e.g. MCPD);Received on-the-job training in software development;Participated in online coding competitions (e.g. HackerRank, CodeChef, TopCoder);Participated in a hackathon;Contributed to open source software'\n",
            " 'Taken an online course in programming or software development (e.g. a MOOC);Participated in a full-time developer training program or bootcamp;Taken a part-time in-person course in programming or software development;Completed an industry certification program (e.g. MCPD);Received on-the-job training in software development;Participated in online coding competitions (e.g. HackerRank, CodeChef, TopCoder);Contributed to open source software'\n",
            " 'Taken an online course in programming or software development (e.g. a MOOC);Taken a part-time in-person course in programming or software development;Completed an industry certification program (e.g. MCPD);Taught yourself a new language, framework, or tool without taking a formal course;Participated in online coding competitions (e.g. HackerRank, CodeChef, TopCoder);Participated in a hackathon'\n",
            " 'Participated in a full-time developer training program or bootcamp;Taken a part-time in-person course in programming or software development;Taught yourself a new language, framework, or tool without taking a formal course;Participated in a hackathon'\n",
            " 'Taken an online course in programming or software development (e.g. a MOOC);Taken a part-time in-person course in programming or software development;Participated in online coding competitions (e.g. HackerRank, CodeChef, TopCoder);Contributed to open source software'\n",
            " 'Completed an industry certification program (e.g. MCPD);Received on-the-job training in software development;Participated in online coding competitions (e.g. HackerRank, CodeChef, TopCoder);Contributed to open source software'\n",
            " 'Taken an online course in programming or software development (e.g. a MOOC);Participated in a full-time developer training program or bootcamp;Taken a part-time in-person course in programming or software development;Received on-the-job training in software development;Participated in online coding competitions (e.g. HackerRank, CodeChef, TopCoder);Participated in a hackathon'\n",
            " 'Participated in a full-time developer training program or bootcamp;Taken a part-time in-person course in programming or software development;Participated in a hackathon'\n",
            " 'Taken an online course in programming or software development (e.g. a MOOC);Taken a part-time in-person course in programming or software development;Completed an industry certification program (e.g. MCPD);Received on-the-job training in software development;Participated in online coding competitions (e.g. HackerRank, CodeChef, TopCoder)'\n",
            " 'Participated in a full-time developer training program or bootcamp;Taken a part-time in-person course in programming or software development;Completed an industry certification program (e.g. MCPD);Taught yourself a new language, framework, or tool without taking a formal course;Participated in online coding competitions (e.g. HackerRank, CodeChef, TopCoder);Participated in a hackathon;Contributed to open source software'\n",
            " 'Participated in a full-time developer training program or bootcamp;Completed an industry certification program (e.g. MCPD);Participated in a hackathon'\n",
            " 'Taken a part-time in-person course in programming or software development;Completed an industry certification program (e.g. MCPD);Participated in a hackathon'\n",
            " 'Participated in a full-time developer training program or bootcamp;Taken a part-time in-person course in programming or software development;Received on-the-job training in software development;Participated in a hackathon;Contributed to open source software'\n",
            " 'Taken an online course in programming or software development (e.g. a MOOC);Taken a part-time in-person course in programming or software development;Completed an industry certification program (e.g. MCPD);Received on-the-job training in software development;Participated in online coding competitions (e.g. HackerRank, CodeChef, TopCoder);Contributed to open source software'\n",
            " 'Participated in a full-time developer training program or bootcamp;Completed an industry certification program (e.g. MCPD);Participated in online coding competitions (e.g. HackerRank, CodeChef, TopCoder)'\n",
            " 'Participated in a full-time developer training program or bootcamp;Taken a part-time in-person course in programming or software development;Completed an industry certification program (e.g. MCPD);Received on-the-job training in software development;Contributed to open source software'\n",
            " 'Taken an online course in programming or software development (e.g. a MOOC);Participated in a full-time developer training program or bootcamp;Taken a part-time in-person course in programming or software development;Received on-the-job training in software development;Participated in a hackathon;Contributed to open source software'\n",
            " 'Taken an online course in programming or software development (e.g. a MOOC);Taken a part-time in-person course in programming or software development;Completed an industry certification program (e.g. MCPD);Received on-the-job training in software development;Contributed to open source software'\n",
            " 'Participated in a full-time developer training program or bootcamp;Taken a part-time in-person course in programming or software development;Completed an industry certification program (e.g. MCPD);Participated in a hackathon;Contributed to open source software'\n",
            " 'Participated in a full-time developer training program or bootcamp;Completed an industry certification program (e.g. MCPD);Received on-the-job training in software development;Participated in a hackathon'\n",
            " 'Participated in a full-time developer training program or bootcamp;Taken a part-time in-person course in programming or software development;Taught yourself a new language, framework, or tool without taking a formal course;Participated in online coding competitions (e.g. HackerRank, CodeChef, TopCoder)'\n",
            " 'Taken an online course in programming or software development (e.g. a MOOC);Participated in a full-time developer training program or bootcamp;Taken a part-time in-person course in programming or software development;Completed an industry certification program (e.g. MCPD);Received on-the-job training in software development;Participated in online coding competitions (e.g. HackerRank, CodeChef, TopCoder)'\n",
            " 'Taken an online course in programming or software development (e.g. a MOOC);Participated in a full-time developer training program or bootcamp;Taken a part-time in-person course in programming or software development;Completed an industry certification program (e.g. MCPD);Received on-the-job training in software development;Participated in a hackathon;Contributed to open source software'\n",
            " 'Taken a part-time in-person course in programming or software development;Received on-the-job training in software development;Participated in online coding competitions (e.g. HackerRank, CodeChef, TopCoder);Participated in a hackathon;Contributed to open source software'\n",
            " 'Taken an online course in programming or software development (e.g. a MOOC);Participated in a full-time developer training program or bootcamp;Taken a part-time in-person course in programming or software development;Participated in a hackathon;Contributed to open source software'\n",
            " 'Taken an online course in programming or software development (e.g. a MOOC);Participated in a full-time developer training program or bootcamp;Completed an industry certification program (e.g. MCPD);Received on-the-job training in software development;Participated in a hackathon;Contributed to open source software'\n",
            " 'Participated in a full-time developer training program or bootcamp;Taken a part-time in-person course in programming or software development;Received on-the-job training in software development;Participated in a hackathon'\n",
            " 'Taken a part-time in-person course in programming or software development;Completed an industry certification program (e.g. MCPD);Participated in online coding competitions (e.g. HackerRank, CodeChef, TopCoder);Contributed to open source software'\n",
            " 'Participated in a full-time developer training program or bootcamp;Taken a part-time in-person course in programming or software development;Completed an industry certification program (e.g. MCPD);Received on-the-job training in software development;Taught yourself a new language, framework, or tool without taking a formal course;Participated in a hackathon'\n",
            " 'Taken a part-time in-person course in programming or software development;Completed an industry certification program (e.g. MCPD);Taught yourself a new language, framework, or tool without taking a formal course;Participated in online coding competitions (e.g. HackerRank, CodeChef, TopCoder);Participated in a hackathon;Contributed to open source software'\n",
            " 'Taken an online course in programming or software development (e.g. a MOOC);Participated in a full-time developer training program or bootcamp;Completed an industry certification program (e.g. MCPD);Received on-the-job training in software development;Participated in online coding competitions (e.g. HackerRank, CodeChef, TopCoder);Participated in a hackathon;Contributed to open source software'\n",
            " 'Completed an industry certification program (e.g. MCPD);Received on-the-job training in software development;Participated in a hackathon;Contributed to open source software'\n",
            " 'Participated in a full-time developer training program or bootcamp;Taken a part-time in-person course in programming or software development;Participated in online coding competitions (e.g. HackerRank, CodeChef, TopCoder);Participated in a hackathon;Contributed to open source software'\n",
            " 'Taken an online course in programming or software development (e.g. a MOOC);Taken a part-time in-person course in programming or software development;Completed an industry certification program (e.g. MCPD);Participated in online coding competitions (e.g. HackerRank, CodeChef, TopCoder);Participated in a hackathon;Contributed to open source software'\n",
            " 'Participated in a full-time developer training program or bootcamp;Taken a part-time in-person course in programming or software development;Completed an industry certification program (e.g. MCPD);Taught yourself a new language, framework, or tool without taking a formal course;Participated in a hackathon;Contributed to open source software'\n",
            " 'Taken an online course in programming or software development (e.g. a MOOC);Taken a part-time in-person course in programming or software development;Received on-the-job training in software development;Participated in online coding competitions (e.g. HackerRank, CodeChef, TopCoder);Participated in a hackathon'\n",
            " 'Taken an online course in programming or software development (e.g. a MOOC);Participated in a full-time developer training program or bootcamp;Completed an industry certification program (e.g. MCPD);Taught yourself a new language, framework, or tool without taking a formal course;Participated in online coding competitions (e.g. HackerRank, CodeChef, TopCoder)'\n",
            " 'Participated in a full-time developer training program or bootcamp;Completed an industry certification program (e.g. MCPD);Received on-the-job training in software development;Taught yourself a new language, framework, or tool without taking a formal course;Participated in online coding competitions (e.g. HackerRank, CodeChef, TopCoder);Participated in a hackathon'\n",
            " 'Taken a part-time in-person course in programming or software development;Received on-the-job training in software development;Participated in online coding competitions (e.g. HackerRank, CodeChef, TopCoder);Participated in a hackathon'\n",
            " 'Taken a part-time in-person course in programming or software development;Completed an industry certification program (e.g. MCPD);Received on-the-job training in software development;Participated in online coding competitions (e.g. HackerRank, CodeChef, TopCoder);Participated in a hackathon;Contributed to open source software'\n",
            " 'Taken an online course in programming or software development (e.g. a MOOC);Participated in a full-time developer training program or bootcamp;Completed an industry certification program (e.g. MCPD);Participated in online coding competitions (e.g. HackerRank, CodeChef, TopCoder);Participated in a hackathon;Contributed to open source software'\n",
            " 'Completed an industry certification program (e.g. MCPD);Received on-the-job training in software development;Participated in online coding competitions (e.g. HackerRank, CodeChef, TopCoder);Participated in a hackathon'\n",
            " 'Taken an online course in programming or software development (e.g. a MOOC);Participated in a full-time developer training program or bootcamp;Taken a part-time in-person course in programming or software development;Completed an industry certification program (e.g. MCPD);Contributed to open source software'\n",
            " 'Participated in a full-time developer training program or bootcamp;Received on-the-job training in software development;Participated in online coding competitions (e.g. HackerRank, CodeChef, TopCoder);Participated in a hackathon'\n",
            " 'Participated in a full-time developer training program or bootcamp;Taken a part-time in-person course in programming or software development;Completed an industry certification program (e.g. MCPD);Taught yourself a new language, framework, or tool without taking a formal course;Participated in online coding competitions (e.g. HackerRank, CodeChef, TopCoder)'\n",
            " 'Taken an online course in programming or software development (e.g. a MOOC);Taken a part-time in-person course in programming or software development;Completed an industry certification program (e.g. MCPD);Participated in online coding competitions (e.g. HackerRank, CodeChef, TopCoder);Contributed to open source software']\n",
            "OrgSize: \n",
            "['100 to 499 employees' '10 to 19 employees' '10,000 or more employees'\n",
            " '20 to 99 employees' '2-9 employees' '1,000 to 4,999 employees' nan\n",
            " '500 to 999 employees'\n",
            " 'Just me - I am a freelancer, sole proprietor, etc.'\n",
            " '5,000 to 9,999 employees']\n",
            "DevType: \n",
            "['Developer, full-stack'\n",
            " 'Database administrator;Developer, back-end;Developer, front-end;Developer, full-stack;Developer, QA or test;DevOps specialist'\n",
            " 'Data or business analyst;Data scientist or machine learning specialist;Database administrator;Developer, back-end;Developer, desktop or enterprise applications;Developer, front-end;Developer, full-stack;Developer, game or graphics;Educator'\n",
            " ...\n",
            " 'Data scientist or machine learning specialist;Engineer, data;Engineering manager;Product manager'\n",
            " 'Data scientist or machine learning specialist;Developer, desktop or enterprise applications;Developer, full-stack;DevOps specialist'\n",
            " 'Academic researcher;Database administrator;Developer, back-end;Developer, desktop or enterprise applications;Developer, embedded applications or devices;Developer, front-end;Developer, full-stack;Developer, game or graphics;Developer, mobile;Educator;Marketing or sales professional;Product manager;Scientist;System administrator']\n",
            "YearsCodePro: \n",
            "['Less than 1 year' '4' '10' '8' '2' '3' '13' '18' '1' '14' '22' '23' '19'\n",
            " '20' '9' '25' '7' '5' '27' '48' '12' '31' '11' '6' '17' '15' '16' '21'\n",
            " '26' '30' '33' '35' nan '37' '29' '28' '34' '24' '39' '40' '32' '45' '38'\n",
            " '44' '36' '43' '41' '42' '50' 'More than 50 years' '47' '46' '49']\n",
            "JobSeek: \n",
            "['I am not interested in new job opportunities'\n",
            " 'I’m not actively looking, but I am open to new opportunities'\n",
            " 'I am actively looking for a job']\n",
            "LastHireDate: \n",
            "['Less than a year ago' '3-4 years ago' '1-2 years ago'\n",
            " 'More than 4 years ago'\n",
            " 'NA - I am an independent contractor or self employed' nan]\n",
            "FizzBuzz: \n",
            "['No' 'Yes' nan]\n",
            "LanguageWorkedWith: \n",
            "['C;C++;C#;Python;SQL'\n",
            " 'Bash/Shell/PowerShell;C#;HTML/CSS;JavaScript;Python;Ruby;Rust;SQL;TypeScript;WebAssembly;Other(s):'\n",
            " 'C#;Go;JavaScript;Python;R;SQL' ...\n",
            " 'Bash/Shell/PowerShell;C#;HTML/CSS;Java;Python;R;Scala'\n",
            " 'Bash/Shell/PowerShell;C;Clojure;HTML/CSS;Java;Scala;Swift;Other(s):'\n",
            " 'Go;HTML/CSS;Java;JavaScript;Other(s):']\n",
            "DatabaseWorkedWith: \n",
            "['MySQL;SQLite' 'DynamoDB;PostgreSQL;SQLite'\n",
            " 'Elasticsearch;MongoDB;Microsoft SQL Server;MySQL;SQLite' ...\n",
            " 'MariaDB;MongoDB;Oracle;Other(s):'\n",
            " 'Firebase;MariaDB;MongoDB;Microsoft SQL Server;Redis;SQLite'\n",
            " 'DynamoDB;Elasticsearch;MariaDB;Microsoft SQL Server;MySQL;PostgreSQL;SQLite;Other(s):']\n",
            "PlatformWorkedWith: \n",
            "['Linux;Windows' 'AWS;Docker;Heroku;Linux;MacOS;Slack'\n",
            " 'Android;AWS;Docker;IBM Cloud or Watson;iOS;Linux;MacOS;Microsoft Azure;Slack;Windows;WordPress'\n",
            " ...\n",
            " 'IBM Cloud or Watson;Linux;MacOS;Microsoft Azure;Raspberry Pi;Windows'\n",
            " 'Docker;Google Cloud Platform;IBM Cloud or Watson;WordPress'\n",
            " 'Docker;iOS;Kubernetes;Linux;Slack;Windows;Other(s):']\n",
            "WebFrameWorkedWith: \n",
            "[nan 'Express;Ruby on Rails;Other(s):'\n",
            " 'Angular/Angular.js;ASP.NET;Django;Express;Flask;jQuery' ...\n",
            " 'Django;Express;jQuery;Laravel;React.js;Vue.js;Other(s):'\n",
            " 'Angular/Angular.js;ASP.NET;Django;jQuery;Laravel;Ruby on Rails;Vue.js'\n",
            " 'ASP.NET;Express;Laravel;Vue.js']\n",
            "MiscTechWorkedWith: \n",
            "['.NET' 'Node.js;Unity 3D' '.NET;Node.js;Pandas;Torch/PyTorch' ...\n",
            " 'Apache Spark;Node.js;Pandas;React Native;TensorFlow;Torch/PyTorch'\n",
            " 'Apache Spark;Hadoop;.NET;.NET Core;Node.js;Pandas;TensorFlow;Torch/PyTorch'\n",
            " 'Apache Spark;Hadoop;.NET Core;Unity 3D']\n",
            "CompTotal: \n",
            "[ 61000. 138000. 950000. ...   4752.   4050.  42768.]\n",
            "CompFreq: \n",
            "['Yearly' 'Monthly' 'Weekly']\n",
            "CurrencySymbol: \n",
            "['USD' 'NZD' 'INR' 'EUR' 'GBP' 'AUD' 'BRL' 'ILS' 'ZAR' 'CHF' 'CZK' 'PLN'\n",
            " 'SEK' 'CNY' 'ARS' 'PHP' 'PKR' 'CAD' 'HRK' 'RUB' 'TRY' 'VND' 'IRR' 'HUF'\n",
            " 'HKD' 'AED' 'BGN' 'DKK' 'JPY' 'XPF' 'MXN' 'KRW' 'NIO' 'EGP' 'NOK' 'UAH'\n",
            " 'NGN' 'AFN' 'MNT' 'CLP' 'MYR' 'DOP' 'BDT' 'CVE' 'RSD' 'COP' 'GTQ' 'TWD'\n",
            " 'YER' 'SGD' 'IDR' 'NPR' 'KES' 'BYN' 'LBP' 'RON' 'KWD' 'MDL' 'DZD' 'BAM'\n",
            " 'SYP' 'THB' 'MAD' 'XAF' 'BND' 'MKD' 'JOD' 'TTD' 'ALL' 'AZN' 'LKR' 'GHS'\n",
            " 'PYG' 'PEN' 'CRC' 'UGX' 'RWF' 'KZT' 'TND' 'HNL' 'MUR' 'UYU' 'GEL' 'TMT'\n",
            " 'AMD' 'TZS' 'KGS' 'ANG' 'LYD' 'GNF' 'ETB' 'CUP' 'AOA' 'ISK' 'SAR' 'XOF'\n",
            " 'BOB' 'ZMW' 'BHD' 'BZD' 'JMD' 'MMK' 'DJF' 'WST' 'IQD' 'SDG' 'BBD' 'LSL'\n",
            " 'SZL' 'QAR' 'TJS' 'VES' 'MGA' 'GGP' 'FJD' 'OMR' 'BIF' 'UZS' 'MVR' 'IMP'\n",
            " 'HTG' 'MZN' 'XCD' 'LAK' 'MWK' 'BMD' 'SRD' 'KYD' 'BSD' 'CDF']\n"
          ],
          "name": "stdout"
        },
        {
          "output_type": "execute_result",
          "data": {
            "text/plain": [
              "'\\nHobbyist: onehotencode   ///tested: not significant\\nOpenSourcer: onehotencoding   ///tested: significant\\nEmployment: onehotencoding   ///assumed significant\\nCountry: onehotencoding   ///assumed significant\\nStudent: onehotencoding   ///assumed significant\\nEdLevel: onehotencoding   ///see FAQ @readme\\nUndergradMajor: onehotencoding   ///see FAQ @readme\\nEduOther: multilabelencoder   ///see FAQ @readme\\nOrgSize: onehotencoding   ///\\nDevType: multilabelencoder   ///assumed significant\\nYearsCode: numerical   ///\\nYearsCodePro: numerical   ///\\nJobSeek: onehotencoding   ///\\nLastHireDate: onehotencoding   ///\\nFizzBuzz: onehotencode   ///tested: significant\\nCompTotal : y\\nLanguages: multilabel   ///test through reg\\nDatabase: multilabel   ///test through reg\\nPlatform: multilabel   ///test through reg\\nWebframes: multilabel   ///test through reg\\nMiscTech: multilabel   ///test through reg\\n'"
            ]
          },
          "metadata": {
            "tags": []
          },
          "execution_count": 37
        }
      ]
    },
    {
      "cell_type": "code",
      "metadata": {
        "id": "-yE3NeN_6JZM",
        "colab_type": "code",
        "colab": {}
      },
      "source": [
        "#hob = encode(data[\"Hobbyist\"])\n",
        "#ope = encode(data[\"OpenSourcer\"])\n",
        "\n",
        "data_eu_model = pd.concat([encode(data[\"Hobbyist\"]),\n",
        "                           encode(data[\"OpenSourcer\"]),\n",
        "                           encodem(data[\"DevType\"])], axis = 1)\n",
        "#encodem(data[\"DevType\"])"
      ],
      "execution_count": 0,
      "outputs": []
    },
    {
      "cell_type": "markdown",
      "metadata": {
        "id": "7fqJb-WXvklX",
        "colab_type": "text"
      },
      "source": [
        "## 3.1. t-Test for Statistical Significance of Hobbyist"
      ]
    },
    {
      "cell_type": "code",
      "metadata": {
        "id": "AbyUpcXpvo0w",
        "colab_type": "code",
        "outputId": "57485706-16a7-4e68-9383-6eeeb61bbe38",
        "colab": {
          "base_uri": "https://localhost:8080/",
          "height": 85
        }
      },
      "source": [
        "bucket_yes = pd.DataFrame(receive(\"Yes\", \"Hobbyist\", data_eu))\n",
        "bucket_no = pd.DataFrame(receive(\"No\", \"Hobbyist\", data_eu))\n",
        "\n",
        "bucket_yes = bucket_yes[\"CompTotal\"].sample(1400)\n",
        "bucket_no = bucket_no[\"CompTotal\"].sample(1400)\n",
        "\n",
        "# t-Test on FizzBuzz\n",
        "from scipy.stats import ttest_ind\n",
        "\n",
        "print('Yes : mean = %.3f, stdv = %.3f' % (np.mean(bucket_yes), np.std(bucket_yes)))\n",
        "print('No : mean = %.3f, stdv = %.3f' % (np.mean(bucket_no), np.std(bucket_no)))\n",
        "\n",
        "# Fail to reject H0: Sample distributions are equal.\n",
        "# Reject H0: Sample distributions are not equal.\n",
        "\n",
        "stat, p = ttest_ind(bucket_yes, bucket_no)\n",
        "print('Statistics = %.3f, p = %.3f' % (stat, p))\n",
        "\n",
        "alpha = 0.05\n",
        "if p > alpha:\n",
        "\tprint('Same distributions (fail to reject H0)')\n",
        "else:\n",
        "\tprint('Different distributions (reject H0)')"
      ],
      "execution_count": 17,
      "outputs": [
        {
          "output_type": "stream",
          "text": [
            "Yes : mean = 66367.944, stdv = 46477.625\n",
            "No : mean = 66989.416, stdv = 51120.748\n",
            "Statistics = -0.336, p = 0.737\n",
            "Same distributions (fail to reject H0)\n"
          ],
          "name": "stdout"
        }
      ]
    },
    {
      "cell_type": "markdown",
      "metadata": {
        "id": "IS9EM6w6w16r",
        "colab_type": "text"
      },
      "source": [
        "## 3.2. Significance of OpenSourcer"
      ]
    },
    {
      "cell_type": "code",
      "metadata": {
        "id": "d4Gh5E-oxffT",
        "colab_type": "code",
        "outputId": "cc7d5286-6363-4a6b-8126-7945e146531f",
        "colab": {
          "base_uri": "https://localhost:8080/",
          "height": 241
        }
      },
      "source": [
        "opensourcer_salary = average_salary_column(\"OpenSourcer\", data_eu).sort_values(0)\n",
        "\n",
        "print(\"Never: \" + str(len(data_eu[data_eu[\"OpenSourcer\"] == \"Never\"]))\n",
        "     + \"\\n<1/year: \" + str(len(data_eu[data_eu[\"OpenSourcer\"] == \"Less than once per year\"]))\n",
        "      +\"\\n<1/month: \" + str(len(data_eu[data_eu[\"OpenSourcer\"] == \"Less than once a month but more than once per year\"]))\n",
        "      +\"\\n>=1/month: \" + str(len(data_eu[data_eu[\"OpenSourcer\"] == \"Once a month or more often\"])))\n",
        "\n",
        "opensourcer_salary"
      ],
      "execution_count": 18,
      "outputs": [
        {
          "output_type": "stream",
          "text": [
            "Never: 2515\n",
            "<1/year: 2612\n",
            "<1/month: 2369\n",
            ">=1/month: 1133\n"
          ],
          "name": "stdout"
        },
        {
          "output_type": "execute_result",
          "data": {
            "text/html": [
              "<div>\n",
              "<style scoped>\n",
              "    .dataframe tbody tr th:only-of-type {\n",
              "        vertical-align: middle;\n",
              "    }\n",
              "\n",
              "    .dataframe tbody tr th {\n",
              "        vertical-align: top;\n",
              "    }\n",
              "\n",
              "    .dataframe thead th {\n",
              "        text-align: right;\n",
              "    }\n",
              "</style>\n",
              "<table border=\"1\" class=\"dataframe\">\n",
              "  <thead>\n",
              "    <tr style=\"text-align: right;\">\n",
              "      <th></th>\n",
              "      <th>0</th>\n",
              "    </tr>\n",
              "  </thead>\n",
              "  <tbody>\n",
              "    <tr>\n",
              "      <th>Never</th>\n",
              "      <td>62722.573042</td>\n",
              "    </tr>\n",
              "    <tr>\n",
              "      <th>Less than once per year</th>\n",
              "      <td>65057.164587</td>\n",
              "    </tr>\n",
              "    <tr>\n",
              "      <th>Less than once a month but more than once per year</th>\n",
              "      <td>67282.168852</td>\n",
              "    </tr>\n",
              "    <tr>\n",
              "      <th>Once a month or more often</th>\n",
              "      <td>73081.324325</td>\n",
              "    </tr>\n",
              "  </tbody>\n",
              "</table>\n",
              "</div>"
            ],
            "text/plain": [
              "                                                              0\n",
              "Never                                              62722.573042\n",
              "Less than once per year                            65057.164587\n",
              "Less than once a month but more than once per year 67282.168852\n",
              "Once a month or more often                         73081.324325"
            ]
          },
          "metadata": {
            "tags": []
          },
          "execution_count": 18
        }
      ]
    },
    {
      "cell_type": "code",
      "metadata": {
        "id": "Iopl3PXAw79X",
        "colab_type": "code",
        "outputId": "0fe3f889-5ad1-4f28-dc91-bff2d4ff3868",
        "colab": {
          "base_uri": "https://localhost:8080/",
          "height": 580
        }
      },
      "source": [
        "plt.rcParams['figure.figsize'] = [7, 5]\n",
        "opensourcer_salary.plot(kind = \"bar\")\n",
        "plt.show()\n",
        "\n",
        "# We can clearly see an upward trend.\n",
        "# Salary tends to increase with involvement of opensource contribution."
      ],
      "execution_count": 19,
      "outputs": [
        {
          "output_type": "display_data",
          "data": {
            "image/png": "[encoded data removed]",
            "text/plain": [
              "<Figure size 504x360 with 1 Axes>"
            ]
          },
          "metadata": {
            "tags": []
          }
        }
      ]
    },
    {
      "cell_type": "markdown",
      "metadata": {
        "id": "1xwqtdMnzCbv",
        "colab_type": "text"
      },
      "source": [
        "## 3.3. Significance of Employment"
      ]
    },
    {
      "cell_type": "code",
      "metadata": {
        "id": "pfYDWrY2zFDy",
        "colab_type": "code",
        "outputId": "4fd1ae3e-f29e-4e61-ab85-002ed865ec25",
        "colab": {
          "base_uri": "https://localhost:8080/",
          "height": 173
        }
      },
      "source": [
        "employment_salary = average_salary_column(\"Employment\", data_eu).sort_values(0)\n",
        "\n",
        "employment_salary\n",
        "\n",
        "# I don't think I need to say anything here. Results are common sense.\n",
        "# We will exclude nan and contractor from model building/training."
      ],
      "execution_count": 20,
      "outputs": [
        {
          "output_type": "execute_result",
          "data": {
            "text/html": [
              "<div>\n",
              "<style scoped>\n",
              "    .dataframe tbody tr th:only-of-type {\n",
              "        vertical-align: middle;\n",
              "    }\n",
              "\n",
              "    .dataframe tbody tr th {\n",
              "        vertical-align: top;\n",
              "    }\n",
              "\n",
              "    .dataframe thead th {\n",
              "        text-align: right;\n",
              "    }\n",
              "</style>\n",
              "<table border=\"1\" class=\"dataframe\">\n",
              "  <thead>\n",
              "    <tr style=\"text-align: right;\">\n",
              "      <th></th>\n",
              "      <th>0</th>\n",
              "    </tr>\n",
              "  </thead>\n",
              "  <tbody>\n",
              "    <tr>\n",
              "      <th>Employed part-time</th>\n",
              "      <td>46924.330228</td>\n",
              "    </tr>\n",
              "    <tr>\n",
              "      <th>Employed full-time</th>\n",
              "      <td>64097.025426</td>\n",
              "    </tr>\n",
              "    <tr>\n",
              "      <th>nan</th>\n",
              "      <td>67180.000000</td>\n",
              "    </tr>\n",
              "    <tr>\n",
              "      <th>Independent contractor, freelancer, or self-employed</th>\n",
              "      <td>100588.814431</td>\n",
              "    </tr>\n",
              "  </tbody>\n",
              "</table>\n",
              "</div>"
            ],
            "text/plain": [
              "                                                               0\n",
              "Employed part-time                                  46924.330228\n",
              "Employed full-time                                  64097.025426\n",
              "nan                                                 67180.000000\n",
              "Independent contractor, freelancer, or self-emp... 100588.814431"
            ]
          },
          "metadata": {
            "tags": []
          },
          "execution_count": 20
        }
      ]
    },
    {
      "cell_type": "markdown",
      "metadata": {
        "id": "cvrcLGp32Y4I",
        "colab_type": "text"
      },
      "source": [
        "## 3.4. Significance of Country"
      ]
    },
    {
      "cell_type": "code",
      "metadata": {
        "id": "y3WIW1PB2bDz",
        "colab_type": "code",
        "outputId": "ea2985d2-3e4c-480d-dd4d-a1b6685cc364",
        "colab": {
          "base_uri": "https://localhost:8080/",
          "height": 374
        }
      },
      "source": [
        "country_salary = average_salary_column(\"Country\", data_eu).sort_values(0).plot(kind = \"bar\")\n",
        "\n",
        "# We can very clearly see that there is a significance in country.\n",
        "# Further information can be found at Harnham's salary guide 2019.\n",
        "# link: https://www.harnham.com/salary-guide"
      ],
      "execution_count": 21,
      "outputs": [
        {
          "output_type": "display_data",
          "data": {
            "image/png": "[encoded data removed]",
            "text/plain": [
              "<Figure size 504x360 with 1 Axes>"
            ]
          },
          "metadata": {
            "tags": []
          }
        }
      ]
    },
    {
      "cell_type": "code",
      "metadata": {
        "id": "QBEqDDqE27t7",
        "colab_type": "code",
        "outputId": "79904ab0-7616-4ae0-fa12-2d03e052a6ee",
        "colab": {
          "base_uri": "https://localhost:8080/",
          "height": 381
        }
      },
      "source": [
        "country_salary = average_salary_column(\"Country\", data_na).sort_values(0).plot(kind = \"bar\")"
      ],
      "execution_count": 22,
      "outputs": [
        {
          "output_type": "display_data",
          "data": {
            "image/png": "[encoded data removed]",
            "text/plain": [
              "<Figure size 504x360 with 1 Axes>"
            ]
          },
          "metadata": {
            "tags": []
          }
        }
      ]
    },
    {
      "cell_type": "markdown",
      "metadata": {
        "id": "diy6JXWy4LoV",
        "colab_type": "text"
      },
      "source": [
        "## 3.5. Does it matter if you study while working?"
      ]
    },
    {
      "cell_type": "code",
      "metadata": {
        "id": "K6pVptQ04XtE",
        "colab_type": "code",
        "cellView": "code",
        "outputId": "aad998f0-3a42-4b9e-f3b0-4d9e3443195b",
        "colab": {
          "base_uri": "https://localhost:8080/",
          "height": 383
        }
      },
      "source": [
        "students_salary = average_salary_column(\"Student\", data_eu).sort_values(0).plot(kind = \"bar\")\n",
        "\n",
        "# We can see that it definitely matters whether you study (full-time or part-time) or not.\n",
        "# However, we need to ask ourselves whether it's because those studying are working\n",
        "# full- or part-time as well, which might impact the salary."
      ],
      "execution_count": 23,
      "outputs": [
        {
          "output_type": "display_data",
          "data": {
            "image/png": "[encoded data removed]",
            "text/plain": [
              "<Figure size 504x360 with 1 Axes>"
            ]
          },
          "metadata": {
            "tags": []
          }
        }
      ]
    },
    {
      "cell_type": "code",
      "metadata": {
        "id": "cfBFyZqW4o1c",
        "colab_type": "code",
        "outputId": "c0546681-6509-481f-f34f-ddf5a68d13b5",
        "colab": {
          "base_uri": "https://localhost:8080/",
          "height": 51
        }
      },
      "source": [
        "print(data_eu[\"Student\"].isna().sum())\n",
        "\n",
        "print(len(data_eu[\"Student\"]))\n",
        "\n",
        "# The number of nan is so insignificantly small that we can either assume\n",
        "# that they are people who didn't bother answering \"No\", or just remove\n",
        "# those rows when training our model. We might try both, and check val results."
      ],
      "execution_count": 0,
      "outputs": [
        {
          "output_type": "stream",
          "text": [
            "37\n",
            "8629\n"
          ],
          "name": "stdout"
        }
      ]
    },
    {
      "cell_type": "markdown",
      "metadata": {
        "id": "T5GFTeDw6rAz",
        "colab_type": "text"
      },
      "source": [
        "## 3.6. Does it matter what you studied?"
      ]
    },
    {
      "cell_type": "code",
      "metadata": {
        "id": "2K3GwZXQ6txN",
        "colab_type": "code",
        "colab": {}
      },
      "source": [
        "ed_salary = average_salary_column(\"EdLevel\", data_eu).sort_values(0)\n",
        "ed_salary.plot(kind = \"bar\")\n",
        "\n",
        "# We can see that there are definitely differences but it's not necessarily\n",
        "# in an intuitive order, as we can see PhD earning less than BSc and MSc,\n",
        "# and those who didn't complete formal education earn more than those with MSc.\n",
        "\n",
        "# However, we will still include EdLevel and measure through our validation\n",
        "# results of the model on whether they contribute or not to increased accuracy."
      ],
      "execution_count": 0,
      "outputs": []
    },
    {
      "cell_type": "code",
      "metadata": {
        "id": "xU2Vg46E7Q8J",
        "colab_type": "code",
        "outputId": "89de23b3-b090-48dc-c7a5-d2742eedc6e9",
        "colab": {
          "base_uri": "https://localhost:8080/",
          "height": 359
        }
      },
      "source": [
        "ed_salary"
      ],
      "execution_count": 0,
      "outputs": [
        {
          "output_type": "execute_result",
          "data": {
            "text/html": [
              "<div>\n",
              "<style scoped>\n",
              "    .dataframe tbody tr th:only-of-type {\n",
              "        vertical-align: middle;\n",
              "    }\n",
              "\n",
              "    .dataframe tbody tr th {\n",
              "        vertical-align: top;\n",
              "    }\n",
              "\n",
              "    .dataframe thead th {\n",
              "        text-align: right;\n",
              "    }\n",
              "</style>\n",
              "<table border=\"1\" class=\"dataframe\">\n",
              "  <thead>\n",
              "    <tr style=\"text-align: right;\">\n",
              "      <th></th>\n",
              "      <th>0</th>\n",
              "    </tr>\n",
              "  </thead>\n",
              "  <tbody>\n",
              "    <tr>\n",
              "      <th>Secondary school (e.g. American high school, German Realschule or Gymnasium, etc.)</th>\n",
              "      <td>58859.865276</td>\n",
              "    </tr>\n",
              "    <tr>\n",
              "      <th>nan</th>\n",
              "      <td>59040.686294</td>\n",
              "    </tr>\n",
              "    <tr>\n",
              "      <th>Associate degree</th>\n",
              "      <td>59131.154487</td>\n",
              "    </tr>\n",
              "    <tr>\n",
              "      <th>Professional degree (JD, MD, etc.)</th>\n",
              "      <td>60094.771200</td>\n",
              "    </tr>\n",
              "    <tr>\n",
              "      <th>Some college/university study without earning a degree</th>\n",
              "      <td>60958.882334</td>\n",
              "    </tr>\n",
              "    <tr>\n",
              "      <th>Bachelor’s degree (BA, BS, B.Eng., etc.)</th>\n",
              "      <td>65681.247921</td>\n",
              "    </tr>\n",
              "    <tr>\n",
              "      <th>Master’s degree (MA, MS, M.Eng., MBA, etc.)</th>\n",
              "      <td>68873.508624</td>\n",
              "    </tr>\n",
              "    <tr>\n",
              "      <th>I never completed any formal education</th>\n",
              "      <td>70525.412500</td>\n",
              "    </tr>\n",
              "    <tr>\n",
              "      <th>Primary/elementary school</th>\n",
              "      <td>72268.832432</td>\n",
              "    </tr>\n",
              "    <tr>\n",
              "      <th>Other doctoral degree (Ph.D, Ed.D., etc.)</th>\n",
              "      <td>81371.727907</td>\n",
              "    </tr>\n",
              "  </tbody>\n",
              "</table>\n",
              "</div>"
            ],
            "text/plain": [
              "                                                              0\n",
              "Secondary school (e.g. American high school, Ge... 58859.865276\n",
              "nan                                                59040.686294\n",
              "Associate degree                                   59131.154487\n",
              "Professional degree (JD, MD, etc.)                 60094.771200\n",
              "Some college/university study without earning a... 60958.882334\n",
              "Bachelor’s degree (BA, BS, B.Eng., etc.)           65681.247921\n",
              "Master’s degree (MA, MS, M.Eng., MBA, etc.)        68873.508624\n",
              "I never completed any formal education             70525.412500\n",
              "Primary/elementary school                          72268.832432\n",
              "Other doctoral degree (Ph.D, Ed.D., etc.)          81371.727907"
            ]
          },
          "metadata": {
            "tags": []
          },
          "execution_count": 297
        }
      ]
    },
    {
      "cell_type": "markdown",
      "metadata": {
        "id": "U04-lhwu8ZoK",
        "colab_type": "text"
      },
      "source": [
        "## 3.7. What about other non-formal education?"
      ]
    },
    {
      "cell_type": "code",
      "metadata": {
        "id": "RdzY5Uxb-d_m",
        "colab_type": "code",
        "outputId": "20e603f2-be9f-4f7f-92d9-454ea13e95d6",
        "colab": {
          "base_uri": "https://localhost:8080/",
          "height": 747
        }
      },
      "source": [
        "data_eu_test = data_eu[data_eu[\"CompTotal\"] < 90000]\n",
        "data_eu_test = data_eu[data_eu[\"CompTotal\"] > 15000]\n",
        "\n",
        "data_test = pd.concat([encodem(data_eu_test[\"EduOther\"]),\n",
        "                       data_eu_test[\"CompTotal\"]], axis = 1)\n",
        "\n",
        "data_test.CompTotal = (data_test.CompTotal - min(data_test.CompTotal)) / (max(data_test.CompTotal) - min(data_test.CompTotal))\n",
        "\n",
        "sns.heatmap(data_test.corr())\n",
        "\n",
        "# We can see that there's a significant correlation, even if it isn't very visible.\n",
        "# Let us take a look at the actual numbers."
      ],
      "execution_count": 0,
      "outputs": [
        {
          "output_type": "execute_result",
          "data": {
            "text/plain": [
              "<matplotlib.axes._subplots.AxesSubplot at 0x7f237d628a58>"
            ]
          },
          "metadata": {
            "tags": []
          },
          "execution_count": 326
        },
        {
          "output_type": "display_data",
          "data": {
            "image/png": "[encoded data removed]",
            "text/plain": [
              "<Figure size 504x360 with 2 Axes>"
            ]
          },
          "metadata": {
            "tags": []
          }
        }
      ]
    },
    {
      "cell_type": "code",
      "metadata": {
        "id": "M-m7hhi3CuTP",
        "colab_type": "code",
        "outputId": "1b52a11a-9ac3-426b-b41c-e27dfb54dd65",
        "colab": {
          "base_uri": "https://localhost:8080/",
          "height": 204
        }
      },
      "source": [
        "data_test.corr().sort_values(\"CompTotal\").CompTotal\n",
        "# Yes, we can see that there's as much as 8% correlation with increased salary,\n",
        "# which is definitely significant as far as salaries go."
      ],
      "execution_count": 0,
      "outputs": [
        {
          "output_type": "execute_result",
          "data": {
            "text/plain": [
              "Participated in online coding competitions (e.g. HackerRank, CodeChef, TopCoder)    0.007894\n",
              "Taken an online course in programming or software development (e.g. a MOOC)         0.008089\n",
              "Taught yourself a new language, framework, or tool without taking a formal course   0.023928\n",
              "Received on-the-job training in software development                                0.027758\n",
              "Participated in a full-time developer training program or bootcamp                  0.042248\n",
              "Taken a part-time in-person course in programming or software development           0.047842\n",
              "Participated in a hackathon                                                         0.059957\n",
              "Completed an industry certification program (e.g. MCPD)                             0.077395\n",
              "Contributed to open source software                                                 0.080192\n",
              "CompTotal                                                                           1.000000\n",
              "Name: CompTotal, dtype: float64"
            ]
          },
          "metadata": {
            "tags": []
          },
          "execution_count": 331
        }
      ]
    },
    {
      "cell_type": "code",
      "metadata": {
        "id": "OoRDCyzo8kN0",
        "colab_type": "code",
        "outputId": "49e71961-d3bd-4a89-b506-e00475405bd9",
        "colab": {
          "base_uri": "https://localhost:8080/",
          "height": 746
        }
      },
      "source": [
        "oed_salary = average_salary_column(\"EduOther\", data_eu).sort_values(0)\n",
        "oed_salary.plot(kind = \"bar\")"
      ],
      "execution_count": 30,
      "outputs": [
        {
          "output_type": "execute_result",
          "data": {
            "text/plain": [
              "<matplotlib.axes._subplots.AxesSubplot at 0x7f2c5ae3cac8>"
            ]
          },
          "metadata": {
            "tags": []
          },
          "execution_count": 30
        },
        {
          "output_type": "display_data",
          "data": {
            "image/png": "[encoded data removed]",
            "text/plain": [
              "<Figure size 504x360 with 1 Axes>"
            ]
          },
          "metadata": {
            "tags": []
          }
        }
      ]
    },
    {
      "cell_type": "markdown",
      "metadata": {
        "id": "C1CroWB9yXeY",
        "colab_type": "text"
      },
      "source": [
        "## 3.8. How does organizational size impact salary?"
      ]
    },
    {
      "cell_type": "code",
      "metadata": {
        "id": "OBg6PDmmyY0w",
        "colab_type": "code",
        "colab": {
          "base_uri": "https://localhost:8080/",
          "height": 359
        },
        "outputId": "b597f362-4c95-4a5a-ad7d-1b186fdc9051"
      },
      "source": [
        "org_salary = average_salary_column(\"OrgSize\", data_eu).sort_values(0)\n",
        "org_salary\n",
        "\n",
        "# We can see that there's a significant climb, even if we disregard\n",
        "# the sole proprietors/freelancers."
      ],
      "execution_count": 39,
      "outputs": [
        {
          "output_type": "execute_result",
          "data": {
            "text/html": [
              "<div>\n",
              "<style scoped>\n",
              "    .dataframe tbody tr th:only-of-type {\n",
              "        vertical-align: middle;\n",
              "    }\n",
              "\n",
              "    .dataframe tbody tr th {\n",
              "        vertical-align: top;\n",
              "    }\n",
              "\n",
              "    .dataframe thead th {\n",
              "        text-align: right;\n",
              "    }\n",
              "</style>\n",
              "<table border=\"1\" class=\"dataframe\">\n",
              "  <thead>\n",
              "    <tr style=\"text-align: right;\">\n",
              "      <th></th>\n",
              "      <th>0</th>\n",
              "    </tr>\n",
              "  </thead>\n",
              "  <tbody>\n",
              "    <tr>\n",
              "      <th>nan</th>\n",
              "      <td>55889.805556</td>\n",
              "    </tr>\n",
              "    <tr>\n",
              "      <th>10 to 19 employees</th>\n",
              "      <td>58872.732735</td>\n",
              "    </tr>\n",
              "    <tr>\n",
              "      <th>2-9 employees</th>\n",
              "      <td>60808.717832</td>\n",
              "    </tr>\n",
              "    <tr>\n",
              "      <th>20 to 99 employees</th>\n",
              "      <td>61672.755349</td>\n",
              "    </tr>\n",
              "    <tr>\n",
              "      <th>100 to 499 employees</th>\n",
              "      <td>64440.230954</td>\n",
              "    </tr>\n",
              "    <tr>\n",
              "      <th>1,000 to 4,999 employees</th>\n",
              "      <td>65139.949760</td>\n",
              "    </tr>\n",
              "    <tr>\n",
              "      <th>500 to 999 employees</th>\n",
              "      <td>66992.048423</td>\n",
              "    </tr>\n",
              "    <tr>\n",
              "      <th>5,000 to 9,999 employees</th>\n",
              "      <td>69750.472474</td>\n",
              "    </tr>\n",
              "    <tr>\n",
              "      <th>10,000 or more employees</th>\n",
              "      <td>76807.673506</td>\n",
              "    </tr>\n",
              "    <tr>\n",
              "      <th>Just me - I am a freelancer, sole proprietor, etc.</th>\n",
              "      <td>99432.160401</td>\n",
              "    </tr>\n",
              "  </tbody>\n",
              "</table>\n",
              "</div>"
            ],
            "text/plain": [
              "                                                              0\n",
              "nan                                                55889.805556\n",
              "10 to 19 employees                                 58872.732735\n",
              "2-9 employees                                      60808.717832\n",
              "20 to 99 employees                                 61672.755349\n",
              "100 to 499 employees                               64440.230954\n",
              "1,000 to 4,999 employees                           65139.949760\n",
              "500 to 999 employees                               66992.048423\n",
              "5,000 to 9,999 employees                           69750.472474\n",
              "10,000 or more employees                           76807.673506\n",
              "Just me - I am a freelancer, sole proprietor, etc. 99432.160401"
            ]
          },
          "metadata": {
            "tags": []
          },
          "execution_count": 39
        }
      ]
    },
    {
      "cell_type": "code",
      "metadata": {
        "id": "4z_qkRHX3xzs",
        "colab_type": "code",
        "colab": {
          "base_uri": "https://localhost:8080/",
          "height": 187
        },
        "outputId": "505aac5f-cc41-4a78-952f-f72e43f4fb2a"
      },
      "source": [
        "print(\"1: \" + str(len(data_eu[data_eu[\"OrgSize\"] == \"Just me - I am a freelancer, sole proprietor, etc.\"]))\n",
        "     +\"\\n2-9: \" + str(len(data_eu[data_eu[\"OrgSize\"] == \"2-9 employees\"]))\n",
        "     +\"\\n10-19: \" + str(len(data_eu[data_eu[\"OrgSize\"] == \"10 to 19 employees\"]))\n",
        "     +\"\\n20-99: \" + str(len(data_eu[data_eu[\"OrgSize\"] == \"20 to 99 employees\"]))\n",
        "     +\"\\n100-499: \" + str(len(data_eu[data_eu[\"OrgSize\"] == \"100 to 499 employees\"]))\n",
        "     +\"\\n500-999: \" + str(len(data_eu[data_eu[\"OrgSize\"] == \"500 to 999 employees\"]))\n",
        "     +\"\\n1000-4999: \" + str(len(data_eu[data_eu[\"OrgSize\"] == \"1,000 to 4,999 employees\"]))\n",
        "     +\"\\n5000-9999: \" + str(len(data_eu[data_eu[\"OrgSize\"] == \"5,000 to 9,999 employees\"]))\n",
        "     +\"\\n10000+: \" + str(len(data_eu[data_eu[\"OrgSize\"] == \"10,000 or more employees\"])))\n",
        "\n",
        "print(\"nan :\" + str(data_eu[\"OrgSize\"].isna().sum()))"
      ],
      "execution_count": 42,
      "outputs": [
        {
          "output_type": "stream",
          "text": [
            "1: 399\n",
            "2-9: 867\n",
            "10-19: 947\n",
            "20-99: 2176\n",
            "100-499: 1583\n",
            "500-999: 539\n",
            "1000-4999: 835\n",
            "5000-9999: 287\n",
            "10000+: 924\n",
            "nan :72\n"
          ],
          "name": "stdout"
        }
      ]
    },
    {
      "cell_type": "code",
      "metadata": {
        "id": "MQj0jD8F3tD_",
        "colab_type": "code",
        "colab": {
          "base_uri": "https://localhost:8080/",
          "height": 567
        },
        "outputId": "8674d825-d7ad-4b18-c586-f606be82310f"
      },
      "source": [
        "org_salary.plot(kind = \"bar\")"
      ],
      "execution_count": 40,
      "outputs": [
        {
          "output_type": "execute_result",
          "data": {
            "text/plain": [
              "<matplotlib.axes._subplots.AxesSubplot at 0x7f2c5ac32c18>"
            ]
          },
          "metadata": {
            "tags": []
          },
          "execution_count": 40
        },
        {
          "output_type": "display_data",
          "data": {
            "image/png": "[encoded data removed]",
            "text/plain": [
              "<Figure size 720x360 with 1 Axes>"
            ]
          },
          "metadata": {
            "tags": []
          }
        }
      ]
    },
    {
      "cell_type": "markdown",
      "metadata": {
        "id": "y-7D0dX-0Rv4",
        "colab_type": "text"
      },
      "source": [
        "## 3.9. Relationship between professional code experience and salary"
      ]
    },
    {
      "cell_type": "code",
      "metadata": {
        "id": "ftDLZCj70Sib",
        "colab_type": "code",
        "colab": {
          "base_uri": "https://localhost:8080/",
          "height": 427
        },
        "outputId": "d5a3f6c7-d655-4cf9-9b59-9820affa554c"
      },
      "source": [
        "exp_salary = average_salary_column(\"YearsCodePro\", data_eu).sort_values(0)\n",
        "exp_salary.plot(kind = \"bar\")\n",
        "\n",
        "# Nothing unexpected apart from the extreme outlier with \"41\"."
      ],
      "execution_count": 46,
      "outputs": [
        {
          "output_type": "stream",
          "text": [
            "41 size: 1\n"
          ],
          "name": "stdout"
        },
        {
          "output_type": "display_data",
          "data": {
            "image/png": "[encoded data removed]",
            "text/plain": [
              "<Figure size 720x360 with 1 Axes>"
            ]
          },
          "metadata": {
            "tags": []
          }
        }
      ]
    },
    {
      "cell_type": "code",
      "metadata": {
        "id": "MDLpc9rY6rDW",
        "colab_type": "code",
        "colab": {
          "base_uri": "https://localhost:8080/",
          "height": 34
        },
        "outputId": "881b2ece-9f38-4c41-d12b-84d406a9cc99"
      },
      "source": [
        "print(\"41 sample size: \" + str(len(data_eu[data_eu[\"YearsCodePro\"] == \"41\"])))\n",
        "\n",
        "# Because we only have one sample of it. That's why.\n",
        "# We will disregard it during training, as it doesn't fit well between 40 and 50."
      ],
      "execution_count": 53,
      "outputs": [
        {
          "output_type": "stream",
          "text": [
            "41 sample size: 1\n"
          ],
          "name": "stdout"
        }
      ]
    },
    {
      "cell_type": "markdown",
      "metadata": {
        "id": "fkCPiEyU0eFF",
        "colab_type": "text"
      },
      "source": [
        "## 3.10. Are those actively seeking a job receiving a greater salary?"
      ]
    },
    {
      "cell_type": "code",
      "metadata": {
        "id": "TfC1l8y90dvR",
        "colab_type": "code",
        "colab": {}
      },
      "source": [
        "JobSeek: onehotencoding   ///\n",
        "LastHireDate: onehotencoding   ///"
      ],
      "execution_count": 0,
      "outputs": []
    },
    {
      "cell_type": "code",
      "metadata": {
        "id": "7eAFz5s_Od2N",
        "colab_type": "code",
        "outputId": "76bfbd8a-5581-4682-f9f7-ffd13f88759d",
        "colab": {
          "base_uri": "https://localhost:8080/",
          "height": 221
        }
      },
      "source": [
        "data_eu.DevType.iloc[5]\n",
        "\n",
        "data_eu.CompTotal.iloc[5]\n",
        "\n",
        "data_eu.Country.iloc[5]\n",
        "\n",
        "parse(data_eu.DevType.iloc[5])"
      ],
      "execution_count": 0,
      "outputs": [
        {
          "output_type": "execute_result",
          "data": {
            "text/plain": [
              "['Data or business analyst',\n",
              " 'Data scientist or machine learning specialist',\n",
              " 'Database administrator',\n",
              " 'Designer',\n",
              " 'Developer, back-end',\n",
              " 'Developer, desktop or enterprise applications',\n",
              " 'Developer, front-end',\n",
              " 'Developer, full-stack',\n",
              " 'Educator',\n",
              " 'Marketing or sales professional',\n",
              " 'Student',\n",
              " 'System administrator']"
            ]
          },
          "metadata": {
            "tags": []
          },
          "execution_count": 70
        }
      ]
    },
    {
      "cell_type": "code",
      "metadata": {
        "id": "1ejewxBVQT8l",
        "colab_type": "code",
        "outputId": "8b1dd8c6-542d-4505-e3a8-8d9f835e3199",
        "colab": {
          "base_uri": "https://localhost:8080/",
          "height": 580
        }
      },
      "source": [
        "plt.rcParams['figure.figsize'] = [10, 5]\n",
        "average_salary_column(\"OpenSourcer\", data_eu).sort_values(0).plot(kind = \"bar\")\n",
        "#plot_average_salary_column(\"DevType\", data_eu[data_eu[\"Country\"].isin([\"Sweden\"])])\n",
        "\n",
        "#n, bins, patches = plt.hist(data_na.CompTotal, 100, density = 1, facecolor = \"blue\", alpha = 0.5)\n",
        "plt.show()\n",
        "\n",
        "#check_average_salary_column(\"LanguageWorkedWith\", data_eu[data_eu[\"Country\"].isin([\"Sweden\"])])\n",
        "\n",
        "#check_average_salary(\"Data scientist or machine learning specialist\", \"DevType\", data_eu)"
      ],
      "execution_count": 36,
      "outputs": [
        {
          "output_type": "display_data",
          "data": {
            "image/png": "[encoded data removed]",
            "text/plain": [
              "<Figure size 720x360 with 1 Axes>"
            ]
          },
          "metadata": {
            "tags": []
          }
        }
      ]
    },
    {
      "cell_type": "markdown",
      "metadata": {
        "id": "wPeCftBUu_rH",
        "colab_type": "text"
      },
      "source": [
        "## 3.11. t-Test for Statistical Significance of FizzBuzz"
      ]
    },
    {
      "cell_type": "code",
      "metadata": {
        "id": "yexo5OoNm_kR",
        "colab_type": "code",
        "outputId": "f8cd9c5f-a6cd-4c41-a6a9-f135abceebfc",
        "colab": {
          "base_uri": "https://localhost:8080/",
          "height": 85
        }
      },
      "source": [
        "bucket_yes = pd.DataFrame(receive(\"Yes\", \"FizzBuzz\", data_eu))\n",
        "bucket_no = pd.DataFrame(receive(\"No\", \"FizzBuzz\", data_eu))\n",
        "\n",
        "bucket_yes = bucket_yes[\"CompTotal\"].sample(800)\n",
        "bucket_no = bucket_no[\"CompTotal\"].sample(800)\n",
        "\n",
        "# t-Test on FizzBuzz\n",
        "from scipy.stats import ttest_ind\n",
        "\n",
        "print('Yes : mean = %.3f, stdv = %.3f' % (np.mean(bucket_yes), np.std(bucket_yes)))\n",
        "print('No : mean = %.3f, stdv = %.3f' % (np.mean(bucket_no), np.std(bucket_no)))\n",
        "\n",
        "# Fail to reject H0: Sample distributions are equal.\n",
        "# Reject H0: Sample distributions are not equal.\n",
        "\n",
        "stat, p = ttest_ind(bucket_yes, bucket_no)\n",
        "print('Statistics = %.3f, p = %.3f' % (stat, p))\n",
        "\n",
        "alpha = 0.05\n",
        "if p > alpha:\n",
        "\tprint('Same distributions (fail to reject H0)')\n",
        "else:\n",
        "\tprint('Different distributions (reject H0)')"
      ],
      "execution_count": 0,
      "outputs": [
        {
          "output_type": "stream",
          "text": [
            "Yes : mean = 71119.653, stdv = 48212.439\n",
            "No : mean = 64090.088, stdv = 43321.897\n",
            "Statistics = 3.066, p = 0.002\n",
            "Different distributions (reject H0)\n"
          ],
          "name": "stdout"
        }
      ]
    },
    {
      "cell_type": "code",
      "metadata": {
        "id": "BCC_0MW1sgjp",
        "colab_type": "code",
        "outputId": "d8e1e32a-75aa-4e36-85ed-e3c75fb87d53",
        "colab": {
          "base_uri": "https://localhost:8080/",
          "height": 51
        }
      },
      "source": [
        "# Above test is subject to chance due to sampling randomness.\n",
        "# By taking the average of many tests, we eliminate some randomness\n",
        "\n",
        "results = []\n",
        "bucket_yes = pd.DataFrame(receive(\"Yes\", \"FizzBuzz\", data_eu))\n",
        "bucket_no = pd.DataFrame(receive(\"No\", \"FizzBuzz\", data_eu))\n",
        "\n",
        "for i in range(10000):\n",
        "    data1 = bucket_yes[\"CompTotal\"].sample(800)\n",
        "    data2 = bucket_no[\"CompTotal\"].sample(800)\n",
        "    stat, p = ttest_ind(data1, data2)\n",
        "    \n",
        "    results.append(p)\n",
        "    \n",
        "p = sum(results)/len(results)\n",
        "\n",
        "print(\"p : \" + str(p))\n",
        "\n",
        "alpha = 0.05\n",
        "if p > alpha:\n",
        "\tprint('Same distributions (fail to reject H0)')\n",
        "else:\n",
        "\tprint('Different distributions (reject H0)')\n",
        "    "
      ],
      "execution_count": 0,
      "outputs": [
        {
          "output_type": "stream",
          "text": [
            "p : 0.03913977262707516\n",
            "Different distributions (reject H0)\n"
          ],
          "name": "stdout"
        }
      ]
    },
    {
      "cell_type": "markdown",
      "metadata": {
        "id": "wZlKnPBJFD0q",
        "colab_type": "text"
      },
      "source": [
        "# 4. Model Data"
      ]
    },
    {
      "cell_type": "code",
      "metadata": {
        "id": "mI8C2xhjIo4N",
        "colab_type": "code",
        "colab": {}
      },
      "source": [
        ""
      ],
      "execution_count": 0,
      "outputs": []
    },
    {
      "cell_type": "markdown",
      "metadata": {
        "id": "SCEJvJoaFNh1",
        "colab_type": "text"
      },
      "source": [
        "# 5. Results"
      ]
    },
    {
      "cell_type": "code",
      "metadata": {
        "id": "3GuHHmcjFSMt",
        "colab_type": "code",
        "colab": {}
      },
      "source": [
        ""
      ],
      "execution_count": 0,
      "outputs": []
    }
  ]
}